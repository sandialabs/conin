{
 "cells": [
  {
   "cell_type": "code",
   "execution_count": 1,
   "id": "76353080-0eb8-4b9b-b16c-347a06ff395f",
   "metadata": {},
   "outputs": [],
   "source": [
    "import numpy as np\n",
    "import torch\n",
    "import json\n",
    "from munch import Munch\n",
    "import itertools\n",
    "from collections import defaultdict\n",
    "import random\n",
    "import copy\n",
    "import pickle\n",
    "import matplotlib.pyplot as plt\n",
    "\n",
    "import apt_helper as ahlp\n",
    "import apt_cst_aggregate as cagg\n",
    "import mv_Viterbi as mv"
   ]
  },
  {
   "cell_type": "code",
   "execution_count": 2,
   "id": "cab3826f-baa6-4d36-96ec-baa23745d8fb",
   "metadata": {},
   "outputs": [
    {
     "data": {
      "text/plain": [
       "<module 'apt_helper' from '/home/fyqiu/Projects/conin/conin/mediation_variables/apt_helper.py'>"
      ]
     },
     "execution_count": 2,
     "metadata": {},
     "output_type": "execute_result"
    }
   ],
   "source": [
    "import importlib\n",
    "importlib.reload(ahlp)"
   ]
  },
  {
   "cell_type": "code",
   "execution_count": 3,
   "id": "2d6901ae-d7e7-4556-897b-9287335f881f",
   "metadata": {},
   "outputs": [],
   "source": [
    "names = ['apt','bob','sally']\n",
    "mu_list = [.8,.9,.9]\n",
    "apt_hmm, bob_hmm, sally_hmm = ahlp.process_load(names, delay = mu_list)\n",
    "user_list = [bob_hmm, sally_hmm]"
   ]
  },
  {
   "cell_type": "code",
   "execution_count": 4,
   "id": "5510decc-476a-4743-8616-1c91dcc94ede",
   "metadata": {},
   "outputs": [],
   "source": [
    "cst_names = ['know_sally_exists','have_sally_credential', 'learn_where_data_stored', 'have_data_on_ds', 'have_data_on_hi', 'have_data_on_he']\n",
    "\n",
    "cst_list=  []\n",
    "for name in cst_names:\n",
    "    module = importlib.import_module(name)\n",
    "    \n",
    "    curr_cst =  Munch(name = module.name, \\\n",
    "                      aux_size = module.aug_size, \\\n",
    "                      update_fun = module.update_fun, \\\n",
    "                      init_fun = module.init_fun, \\\n",
    "                      forbidden_emissions = module.forbidden_emissions, \\\n",
    "                      forbidden_transitions = module.forbidden_transitions, \\\n",
    "                      knowledge_state = module.knowledge_state, \\\n",
    "                      cst_fun = module.cst_fun)\n",
    "    if hasattr(module, 'dependency'):\n",
    "        curr_cst.dependency = module.dependency\n",
    "    cst_list.append(curr_cst)\n",
    "\n",
    "cst_list = cst_list\n",
    "sat = len(cst_list) * (True,)"
   ]
  },
  {
   "cell_type": "code",
   "execution_count": 5,
   "id": "18f7981d-c8c3-484c-88ee-0b122c440925",
   "metadata": {},
   "outputs": [
    {
     "name": "stdout",
     "output_type": "stream",
     "text": [
      "initprob:1.0  tprob: [1. 1. 1. 1. 1. 1. 1. 1. 1. 1.]  eprob: [1. 1. 1. 1. 1. 1. 1. 1. 1. 1.]\n",
      "initprob:1.0  tprob: [1. 1. 1. 1. 1. 1. 1. 1. 1. 1. 1. 1.]  eprob: [1. 1. 1. 1. 1. 1. 1. 1. 1. 1. 1. 1.]\n"
     ]
    }
   ],
   "source": [
    "#Check if correctly loaded. probabilities should sum to 1.\n",
    "for usr in user_list:\n",
    "    usr_params = ahlp.hmm2numpy(usr)\n",
    "    print(f'initprob:{usr_params[0].sum()}  tprob: {usr_params[1].sum(axis = 1)}  eprob: {usr_params[2].sum(axis = 1)}')"
   ]
  },
  {
   "cell_type": "code",
   "execution_count": 6,
   "id": "ae7c4e77-0c85-46b9-abcc-593081b12f08",
   "metadata": {},
   "outputs": [
    {
     "name": "stdout",
     "output_type": "stream",
     "text": [
      "initprob:1.0  tprob: [1. 1. 1. 1. 1. 1. 1. 1. 1. 1. 1. 1. 1. 1.]  eprob: [1. 1. 1. 1. 1. 1. 1. 1. 1. 1. 1. 1. 1. 1.]\n"
     ]
    }
   ],
   "source": [
    "apt_params, ix_list = ahlp.hmm2numpy(apt_hmm, return_ix = True)\n",
    "print(f'initprob:{apt_params[0].sum()}  tprob: {apt_params[1].sum(axis = 1)}  eprob: {apt_params[2].sum(axis = 1)}')"
   ]
  },
  {
   "cell_type": "markdown",
   "id": "528b19e3-7a1a-4c4e-9757-1e19555fe9e5",
   "metadata": {},
   "source": [
    "# Sanity Check that base Viterbi works. Pure Emissions"
   ]
  },
  {
   "cell_type": "code",
   "execution_count": 7,
   "id": "b2cbce90-46db-4966-b099-64983bc8663b",
   "metadata": {},
   "outputs": [],
   "source": [
    "pure_hidden, pure_emission = ahlp.simulation_apt(apt_hmm, ix_list = None, emit_inhom = False)"
   ]
  },
  {
   "cell_type": "code",
   "execution_count": 8,
   "id": "e791a2ec-80a5-4e44-9180-006083ce8ed5",
   "metadata": {},
   "outputs": [
    {
     "name": "stdout",
     "output_type": "stream",
     "text": [
      "mismatch at time 65 out of 65\n"
     ]
    }
   ],
   "source": [
    "opt_state =  mv.mv_Viterbi(obs = pure_emission, hmm = apt_hmm)\n",
    "for t in range(len(opt_state)):\n",
    "    if opt_state[t] != pure_hidden[t]:\n",
    "        print(f'mismatch at time {t} out of {len(opt_state) -1}') #no rule enforcing that that must end on POST"
   ]
  },
  {
   "cell_type": "markdown",
   "id": "17ac5ab5-8780-4336-a8d6-5e25c2d12ddc",
   "metadata": {},
   "source": [
    "### Check that Numpy Implementation Gives Same Answer"
   ]
  },
  {
   "cell_type": "code",
   "execution_count": 9,
   "id": "dd2852bb-e7ec-4114-8c3d-010309ac5972",
   "metadata": {},
   "outputs": [
    {
     "data": {
      "text/plain": [
       "(14, 14)"
      ]
     },
     "execution_count": 9,
     "metadata": {},
     "output_type": "execute_result"
    }
   ],
   "source": [
    "apt_params[1].shape"
   ]
  },
  {
   "cell_type": "code",
   "execution_count": 10,
   "id": "ca406f65-f588-40c3-ace9-a3331e979aa5",
   "metadata": {},
   "outputs": [],
   "source": [
    "emit_weights = ahlp.compute_emitweights(pure_emission,apt_hmm, time_hom = True)\n",
    "hmm_params = [apt_params[1], apt_params[0]]\n",
    "opt_list = mv.Viterbi_numpy(hmm_params, emit_weights)\n",
    "state_ix, _ = ix_list\n",
    "state_ix = {v:k for k,v in state_ix.items()}\n",
    "numpy_list = [state_ix[i] for i in opt_list]"
   ]
  },
  {
   "cell_type": "code",
   "execution_count": 11,
   "id": "11db78bc-7250-4015-8dc2-75af6f7049ff",
   "metadata": {},
   "outputs": [
    {
     "name": "stdout",
     "output_type": "stream",
     "text": [
      "proportion correct: 1.0\n"
     ]
    }
   ],
   "source": [
    "num_correct = 0\n",
    "for t in range(len(numpy_list)):\n",
    "    if numpy_list[t] == opt_state[t]:\n",
    "        num_correct += 1\n",
    "print(f'proportion correct: {num_correct/len(numpy_list)}')"
   ]
  },
  {
   "cell_type": "markdown",
   "id": "0eeedfd5-fe33-45d1-9a2e-982d349f6c9a",
   "metadata": {},
   "source": [
    "## Check Numpy with Dummy Constraint Gives Same Answer"
   ]
  },
  {
   "cell_type": "code",
   "execution_count": 12,
   "id": "98e4fef2-f5b9-4704-bc47-f15ea3db1fdc",
   "metadata": {},
   "outputs": [
    {
     "data": {
      "text/plain": [
       "<module 'mv_Viterbi' from '/home/fyqiu/Projects/conin/conin/mediation_variables/mv_Viterbi.py'>"
      ]
     },
     "execution_count": 12,
     "metadata": {},
     "output_type": "execute_result"
    }
   ],
   "source": [
    "importlib.reload(mv)"
   ]
  },
  {
   "cell_type": "code",
   "execution_count": 13,
   "id": "91e2e0df-387d-4085-809d-7a3664e2b12e",
   "metadata": {},
   "outputs": [],
   "source": [
    "cst_names = ['dummy_constraints']\n",
    "cst_list=  []\n",
    "for name in cst_names:\n",
    "    module = importlib.import_module(name)\n",
    "    \n",
    "    curr_cst =  Munch(name = module.name, \\\n",
    "                      aux_size = module.aug_size, \\\n",
    "                      update_fun = module.update_fun, \\\n",
    "                      init_fun = module.init_fun, \\\n",
    "                      forbidden_emissions = module.forbidden_emissions, \\\n",
    "                      forbidden_transitions = module.forbidden_transitions, \\\n",
    "                      knowledge_state = module.knowledge_state, \\\n",
    "                      cst_fun = module.cst_fun)\n",
    "    if hasattr(module, 'dependency'):\n",
    "        curr_cst.dependency = module.dependency\n",
    "    cst_list.append(curr_cst)\n",
    "\n",
    "# cst_list = cst_list\n",
    "sat = len(cst_list) * (True,)\n",
    "\n",
    "apt_params, cst_params = ahlp.arrayConvert(apt_hmm, cst_list[0], sat = (True,))\n",
    "opt_cst_list = mv.mv_Viterbi_numpy(apt_params, emit_weights, cst_params)\n",
    "numpy_cst_list = [state_ix[state[0]] for state in opt_cst_list]"
   ]
  },
  {
   "cell_type": "code",
   "execution_count": 14,
   "id": "11251cc6-a6d3-45c9-86b3-f2f34dd08bf3",
   "metadata": {},
   "outputs": [
    {
     "name": "stdout",
     "output_type": "stream",
     "text": [
      "proportion correct: 1.0\n"
     ]
    }
   ],
   "source": [
    "num_correct = 0\n",
    "for t in range(len(numpy_list)):\n",
    "    if numpy_list[t] == numpy_cst_list[t]:\n",
    "        num_correct += 1\n",
    "print(f'proportion correct: {num_correct/len(numpy_list)}')"
   ]
  },
  {
   "cell_type": "code",
   "execution_count": 15,
   "id": "8a60ae0f-0992-4037-ad95-3a3d3f5bb615",
   "metadata": {},
   "outputs": [
    {
     "data": {
      "text/plain": [
       "<module 'apt_helper' from '/home/fyqiu/Projects/conin/conin/mediation_variables/apt_helper.py'>"
      ]
     },
     "execution_count": 15,
     "metadata": {},
     "output_type": "execute_result"
    }
   ],
   "source": [
    "importlib.reload(ahlp)"
   ]
  },
  {
   "cell_type": "code",
   "execution_count": 16,
   "id": "6f8ee43d-1459-458e-9373-76391ed7525b",
   "metadata": {},
   "outputs": [],
   "source": [
    "opt_augstateix_list = ahlp.Viterbi_torch_list(apt_hmm, cst_list, pure_emission, sat, time_hom = True, device = 'cuda:0')"
   ]
  },
  {
   "cell_type": "code",
   "execution_count": 17,
   "id": "8d5480d2-88fd-497c-b760-3e0b960482d4",
   "metadata": {},
   "outputs": [],
   "source": [
    "obs = pure_emission\n",
    "hmm = apt_hmm\n",
    "time_hom = True\n",
    "device = 'cuda:0'\n",
    "dtype = torch.float32"
   ]
  },
  {
   "cell_type": "code",
   "execution_count": 24,
   "id": "f59b55f2-1826-4c39-956f-b8cf567da9ff",
   "metadata": {},
   "outputs": [],
   "source": [
    "hmm_params, cst_params = ahlp.arrayConvert(hmm,cst_list[0],sat)a"
   ]
  },
  {
   "cell_type": "code",
   "execution_count": 36,
   "id": "9f79d665-509e-4634-b793-5861864b8604",
   "metadata": {},
   "outputs": [
    {
     "data": {
      "text/plain": [
       "np.float64(14.0)"
      ]
     },
     "execution_count": 36,
     "metadata": {},
     "output_type": "execute_result"
    }
   ],
   "source": [
    "hmm_params[0].sum()"
   ]
  },
  {
   "cell_type": "code",
   "execution_count": 31,
   "id": "27abd99e-1a4a-4342-b604-d5cdeb9b6186",
   "metadata": {},
   "outputs": [],
   "source": [
    "hmm_params_torch, cst_params_list_torch = ahlp.convertTensor_list(hmm,cst_list, sat, dtype = torch.float32, device = device)   \n"
   ]
  },
  {
   "cell_type": "code",
   "execution_count": 37,
   "id": "f19c9f0d-5344-4a0f-93b6-e4677f7e9105",
   "metadata": {},
   "outputs": [
    {
     "name": "stdout",
     "output_type": "stream",
     "text": [
      "4.5585133775756554e-08\n",
      "0.0\n"
     ]
    }
   ],
   "source": [
    "for t in range(len(hmm_params)):\n",
    "    torch_param = hmm_params_torch[t].cpu().numpy()\n",
    "    numpy_param = hmm_params[t]\n",
    "    print(np.linalg.norm(torch_param - numpy_param))"
   ]
  },
  {
   "cell_type": "code",
   "execution_count": 18,
   "id": "577312a2-6930-4c43-8b16-693489b976c7",
   "metadata": {},
   "outputs": [],
   "source": [
    "    emit_weights = ahlp.compute_emitweights(obs, hmm, time_hom)\n",
    "\n",
    "    #Generate hmm,cst params:\n",
    "    hmm_params, cst_params_list = ahlp.convertTensor_list(hmm,cst_list, sat, dtype = dtype, device = device)   \n",
    "    tmat, init_prob = hmm_params\n",
    "    dims_list, init_ind_list,final_ind_list,ind_list = cst_params_list\n",
    "    T = emit_weights.shape[0]\n",
    "    K = tmat.shape[0]\n",
    "    C = len(dims_list)\n",
    "    \n",
    "    val = torch.empty((T,K) + tuple(dims_list), device = 'cpu')\n",
    "    ix_tracker = torch.empty((T,K) + tuple(dims_list), device = 'cpu') #will store flattened indices\n",
    "    \n",
    "    kr_indices = list(range(C+1))\n",
    "    kr_shape = (K,) + tuple(dims_list)\n"
   ]
  },
  {
   "cell_type": "code",
   "execution_count": 117,
   "id": "bc013dc7-9691-42a1-afcb-ae944d182fa1",
   "metadata": {},
   "outputs": [],
   "source": [
    "V = torch.einsum(emit_weights[0], [0], init_prob, [0], *init_ind_list, kr_indices)\n",
    "V2 = torch.einsum('k,k -> k',emit_weights[0],init_prob).unsqueeze(-1).repeat(1,2)\n",
    "\n",
    "V = V/V.max() #normalize for numerical stability\n",
    "val[0] = V.cpu()\n"
   ]
  },
  {
   "cell_type": "code",
   "execution_count": 163,
   "id": "3196f0bd-de4a-4fd2-92c0-e52d39c8610a",
   "metadata": {},
   "outputs": [
    {
     "name": "stdout",
     "output_type": "stream",
     "text": [
      "tensor(5.7143, device='cuda:0')\n"
     ]
    }
   ],
   "source": [
    "t= 1\n",
    "V = torch.einsum(val[t-1].to(device), kr_indices, tmat, [0,C+1], *ind_list, list(range(2*C + 2)))\n",
    "V = V.reshape(kr_shape + (-1,))\n",
    "V = V/V.max()\n",
    "print(V.sum())\n",
    "max_ix = torch.argmax(V, axis = -1, keepdims = True)\n",
    "ix_tracker[t-1] = max_ix.squeeze()\n",
    "V = torch.take_along_dim(V, max_ix, axis=-1).squeeze()\n"
   ]
  },
  {
   "cell_type": "code",
   "execution_count": null,
   "id": "2bd58d61-4bcd-461a-b919-ac6a290ef19a",
   "metadata": {},
   "outputs": [],
   "source": []
  },
  {
   "cell_type": "code",
   "execution_count": 165,
   "id": "88943371-fc13-4a48-a15a-4cf2ab7261ec",
   "metadata": {},
   "outputs": [
    {
     "data": {
      "text/plain": [
       "tensor(2., device='cuda:0')"
      ]
     },
     "execution_count": 165,
     "metadata": {},
     "output_type": "execute_result"
    }
   ],
   "source": [
    "V.sum()"
   ]
  },
  {
   "cell_type": "markdown",
   "id": "003c805a-708b-487b-b25f-93ca2fc80d7f",
   "metadata": {},
   "source": [
    "# Numpy"
   ]
  },
  {
   "cell_type": "code",
   "execution_count": null,
   "id": "cfc3eb42-9463-45dd-ae96-85698f831711",
   "metadata": {},
   "outputs": [],
   "source": [
    "    opt_augstateix_list = []\n",
    "    \n",
    "    tmat, init_prob = hmm_params\n",
    "    init_ind,final_ind,ind = cst_params\n",
    "    \n",
    "    T = emit_weights.shape[0]\n",
    "    K, M = init_ind.shape\n",
    "\n",
    "    val = np.empty((T,K,M))\n",
    "    ix_tracker = np.empty((T,K,M)) #will store flattened indices\n",
    "\n",
    "    #Forward pass\n",
    "    V = np.einsum('k,k,kr -> kr', init_prob, emit_weights[0], init_ind)\n",
    "    val[0] = V\n",
    "    for t in range(1,T):\n",
    "        V = np.einsum('js,jk,krjs -> krjs',val[t-1],tmat,ind)\n",
    "        V = V.reshape((K,M,-1))\n",
    "        max_ix = np.argmax(V, axis = -1, keepdims = True)\n",
    "        ix_tracker[t-1] = max_ix.squeeze()\n",
    "        V = np.take_along_axis(V, max_ix, axis=-1).squeeze()\n",
    "        if t == T:\n",
    "            val[t] = np.einsum('k,kr,kr -> kr',emit_weights[t],final_ind,V)\n",
    "        else:\n",
    "            val[t] = np.einsum('k,kr -> kr', emit_weights[t],V)\n"
   ]
  },
  {
   "cell_type": "code",
   "execution_count": null,
   "id": "2b19460a-41fa-49f5-98b2-0abee217cb62",
   "metadata": {},
   "outputs": [],
   "source": [
    "def mv_Viterbi_numpy(hmm_params, emit_weights, cst_params = None):\n",
    "    '''\n",
    "    numpy version. hmm_params, cst_params are list of numpy arrays\n",
    "    '''\n",
    "    if cst_params is None:\n",
    "        return Viterbi_numpy(hmm_params, emit_weights)\n",
    "    \n",
    "    opt_augstateix_list = []\n",
    "    \n",
    "    tmat, init_prob = hmm_params\n",
    "    init_ind,final_ind,ind = cst_params\n",
    "    \n",
    "    T = emit_weights.shape[0]\n",
    "    K, M = init_ind.shape\n",
    "\n",
    "    val = np.empty((T,K,M))\n",
    "    ix_tracker = np.empty((T,K,M)) #will store flattened indices\n",
    "\n",
    "    #Forward pass\n",
    "    V = np.einsum('k,k,kr -> kr', init_prob, emit_weights[0], init_ind)\n",
    "    val[0] = V\n",
    "    for t in range(1,T):\n",
    "        V = np.einsum('js,jk,krjs -> krjs',val[t-1],tmat,ind)\n",
    "        V = V.reshape((K,M,-1))\n",
    "        max_ix = np.argmax(V, axis = -1, keepdims = True)\n",
    "        ix_tracker[t-1] = max_ix.squeeze()\n",
    "        V = np.take_along_axis(V, max_ix, axis=-1).squeeze()\n",
    "        if t == T:\n",
    "            val[t] = np.einsum('k,kr,kr -> kr',emit_weights[t],final_ind,V)\n",
    "        else:\n",
    "            val[t] = np.einsum('k,kr -> kr', emit_weights[t],V)\n",
    "        \n",
    "\n",
    "    #Backward pass\n",
    "\n",
    "    #Initialize the last index\n",
    "    max_ix = int(np.argmax(val[T-1]).item())\n",
    "    max_k, max_r =divmod(max_ix, M)\n",
    "    opt_augstateix_list = [(max_k,max_r)] + opt_augstateix_list\n",
    "\n",
    "    ix_tracker = ix_tracker.reshape(T,-1) #flatten again for easier indexing    \n",
    "    \n",
    "    for t in range(T-1):\n",
    "        max_ix =  int(ix_tracker[T-2-t,max_ix].item())\n",
    "        max_k, max_r = divmod(max_ix, M)\n",
    "        opt_augstateix_list = [(max_k,max_r)] + opt_augstateix_list\n",
    "\n",
    "    return opt_augstateix_list\n"
   ]
  },
  {
   "cell_type": "code",
   "execution_count": null,
   "id": "0a4c1ab3-5879-4ec3-a129-98b40ca9901e",
   "metadata": {},
   "outputs": [],
   "source": [
    "def Viterbi_torch_list(hmm, cst_list, obs, sat,  time_hom = True, dtype = torch.float16,  device = 'cpu'):\n",
    "    '''\n",
    "    \n",
    "    '''\n",
    "    #Generate emit_weights:\n",
    "    emit_weights = compute_emitweights(obs, hmm, time_hom)\n",
    "    emit_weights = torch.from_numpy(emit_weights).type(torch.float16).to(device)\n",
    "\n",
    "    #Generate hmm,cst params:\n",
    "    hmm_params, cst_params_list = convertTensor_list(hmm,cst_list, sat, dtype = dtype, device = device)   \n",
    "    tmat, init_prob = hmm_params\n",
    "    dims_list, init_ind_list,final_ind_list,ind_list = cst_params_list\n",
    "\n",
    "    \n",
    "    #Viterbi\n",
    "    T = emit_weights.shape[0]\n",
    "    K = tmat.shape[0]\n",
    "    C = len(dims_list)\n",
    "    \n",
    "    val = torch.empty((T,K) + tuple(dims_list), device = 'cpu')\n",
    "    ix_tracker = torch.empty((T,K) + tuple(dims_list), device = 'cpu') #will store flattened indices\n",
    "    \n",
    "    kr_indices = list(range(C+1))\n",
    "    kr_shape = (K,) + tuple(dims_list)\n",
    "    #Forward pass\n",
    "    # V = torch.einsum('k,k,kr -> kr', init_prob, emit_weights[0], init_ind)\n",
    "    V = torch.einsum(emit_weights[0], [0], init_prob, [0], *init_ind_list, kr_indices)\n",
    "    V = V/V.max() #normalize for numerical stability\n",
    "    val[0] = V.cpu()\n",
    "    for t in range(1,T):\n",
    "        # V = torch.einsum('js,jk,krjs -> krjs',val[t-1],tmat,ind)\n",
    "        V = torch.einsum(val[t-1].to(device), kr_indices, tmat, [0,C+1], *ind_list, list(range(2*C + 2)))\n",
    "        V = V.reshape((K,) + tuple(dims_list) + (-1,))\n",
    "        V = V/V.max()\n",
    "        max_ix = torch.argmax(V, axis = -1, keepdims = True)\n",
    "        ix_tracker[t-1] = max_ix.squeeze()\n",
    "        V = torch.take_along_dim(V, max_ix, axis=-1).squeeze()\n",
    "        if t == T:\n",
    "            # val[t] = torch.einsum('k,kr,kr -> kr',emit_weights[t],final_ind,V)\n",
    "            val[t] = torch.einsum(emit_weights[t],[0], V, kr_indices,*final_ind_list, kr_indices).cpu()\n",
    "        else:\n",
    "            # val[t] = torch.einsum('k,kr -> kr', emit_weights[t],V)\n",
    "            val[t] = torch.einsum(emit_weights[t],[0], V, kr_indices, kr_indices).cpu()\n",
    "        \n",
    "\n",
    "    #Backward pass\n",
    "    opt_augstateix_list = []\n",
    "    max_ix = int(torch.argmax(val[T-1]).item())\n",
    "    unravel_max_ix = np.unravel_index(max_ix, kr_shape)\n",
    "    opt_augstateix_list =  [np.array(unravel_max_ix).tolist()] + opt_augstateix_list\n",
    "    \n",
    "    ix_tracker = ix_tracker.reshape(T,-1) #flatten again for easier indexing    \n",
    "    \n",
    "    for t in range(T-1):\n",
    "        max_ix =  int(ix_tracker[T-2-t,max_ix].item())\n",
    "        unravel_max_ix = np.unravel_index(max_ix, kr_shape)\n",
    "        opt_augstateix_list =  [np.array(unravel_max_ix).tolist()] + opt_augstateix_list\n",
    "\n",
    "    return opt_augstateix_list\n"
   ]
  },
  {
   "cell_type": "markdown",
   "id": "06e3c94e-f34e-416a-8e36-cf85a584f849",
   "metadata": {},
   "source": [
    "# Sanity Check. Noiseless Tiered APT Equivalent to Original"
   ]
  },
  {
   "cell_type": "code",
   "execution_count": 28,
   "id": "35f8d77e-efd9-4e07-b912-071ee517ba7a",
   "metadata": {},
   "outputs": [
    {
     "name": "stdout",
     "output_type": "stream",
     "text": [
      "initprob:1.0  tprob: [1. 1. 1. 1. 1. 1. 1. 1. 1. 1. 1. 1. 1. 1. 1. 1. 1. 1. 1. 1. 1. 1. 1. 1.\n",
      " 1. 1. 1. 1. 1. 1. 1. 1. 1. 1. 1. 1. 1. 1. 1. 1. 1. 1. 1. 1. 1. 1. 1. 1.\n",
      " 1. 1. 1. 1. 1. 1. 1. 1. 1. 1. 1. 1. 1. 1. 1. 1. 1. 1. 1. 1. 1. 1. 1. 1.\n",
      " 1. 1. 1. 1. 1. 1. 1. 1. 1. 1. 1. 1. 1. 1. 1. 1. 1. 1. 1. 1. 1. 1. 1. 1.\n",
      " 1. 1. 1. 1. 1. 1. 1. 1. 1. 1. 1. 1. 1. 1. 1. 1. 1. 1. 1. 1. 1. 1. 1. 1.\n",
      " 1. 1. 1. 1. 1. 1. 1. 1.]  eprob: [1. 1. 1. 1. 1. 1. 1. 1. 1. 1. 1. 1. 1. 1. 1. 1. 1. 1. 1. 1. 1. 1. 1. 1.\n",
      " 1. 1. 1. 1. 1. 1. 1. 1. 1. 1. 1. 1. 1. 1. 1. 1. 1. 1. 1. 1. 1. 1. 1. 1.\n",
      " 1. 1. 1. 1. 1. 1. 1. 1. 1. 1. 1. 1. 1. 1. 1. 1. 1. 1. 1. 1. 1. 1. 1. 1.\n",
      " 1. 1. 1. 1. 1. 1. 1. 1. 1. 1. 1. 1. 1. 1. 1. 1. 1. 1. 1. 1. 1. 1. 1. 1.\n",
      " 1. 1. 1. 1. 1. 1. 1. 1. 1. 1. 1. 1. 1. 1. 1. 1. 1. 1. 1. 1. 1. 1. 1. 1.\n",
      " 1. 1. 1. 1. 1. 1. 1. 1.]\n"
     ]
    }
   ],
   "source": [
    "tier_apt = ahlp.create_tiered_apt(apt_hmm)\n",
    "apt_params = ahlp.hmm2numpy(tier_apt)\n",
    "print(f'initprob:{apt_params[0].sum()}  tprob: {apt_params[1].sum(axis = 1)}  eprob: {apt_params[2].sum(axis = 1)}')"
   ]
  },
  {
   "cell_type": "code",
   "execution_count": 29,
   "id": "50601625-b3b8-4613-85fd-b2404391cccd",
   "metadata": {},
   "outputs": [
    {
     "name": "stdout",
     "output_type": "stream",
     "text": [
      "1.0\n"
     ]
    }
   ],
   "source": [
    "opt_state_tier =  mv.mv_Viterbi(obs = pure_emission, hmm = tier_apt)\n",
    "num_correct = 0\n",
    "for t in range(len(opt_state)):\n",
    "    # if opt_state[t] != opt_state_tier[t][0]:\n",
    "    #     print(f'mismatch at time {t} out of {len(opt_state) -1}') #no rule enforcing that that must end on POST\n",
    "    if opt_state[t] == opt_state_tier[t][0]:\n",
    "        num_correct += 1 \n",
    "print(num_correct/len(opt_state))"
   ]
  },
  {
   "cell_type": "markdown",
   "id": "91582b3e-ab1e-4bc2-96b1-230fd5eb1634",
   "metadata": {},
   "source": [
    "# Noisy Simulations"
   ]
  },
  {
   "cell_type": "code",
   "execution_count": 79,
   "id": "09d29dbc-11c3-4a8c-93fe-7fe1ba9ad29c",
   "metadata": {},
   "outputs": [],
   "source": [
    "apt_truth, combined_emits = ahlp.combined_simulation(apt_hmm, user_list)\n",
    "apt_truth_states, apt_truth_emits = apt_truth"
   ]
  },
  {
   "cell_type": "code",
   "execution_count": 80,
   "id": "7cce50a6-9b4f-46ca-878f-5c64b7a75630",
   "metadata": {},
   "outputs": [
    {
     "name": "stdout",
     "output_type": "stream",
     "text": [
      "0.5\n"
     ]
    }
   ],
   "source": [
    "opt_state =  mv.mv_Viterbi(obs = combined_emits, hmm = apt_hmm)\n",
    "num_correct = 0\n",
    "for t in range(len(opt_state)):\n",
    "    if opt_state[t] == apt_truth_states[t]:\n",
    "        num_correct += 1 #no rule enforcing that that must end on POST\n",
    "print(num_correct/len(opt_state))"
   ]
  },
  {
   "cell_type": "code",
   "execution_count": 25,
   "id": "4adbb8bf-4215-422f-b0e4-402426c01b78",
   "metadata": {},
   "outputs": [
    {
     "name": "stdout",
     "output_type": "stream",
     "text": [
      "0\n",
      "50\n",
      "100\n",
      "150\n",
      "200\n",
      "250\n",
      "300\n",
      "350\n",
      "400\n",
      "450\n",
      "500\n",
      "550\n",
      "600\n",
      "650\n",
      "700\n",
      "750\n",
      "800\n",
      "850\n",
      "900\n",
      "950\n",
      "average proportion correct is 0.4515789464311288\n"
     ]
    }
   ],
   "source": [
    "B = 1000\n",
    "accuracy_list = []\n",
    "for b in range(B):\n",
    "    apt_truth, combined_emits = ahlp.combined_simulation(apt_hmm, user_list)\n",
    "    apt_truth_states, apt_truth_emits = apt_truth\n",
    "    opt_state =  mv.mv_Viterbi(obs = combined_emits, hmm = apt_hmm)\n",
    "    num_correct = 0\n",
    "    for t in range(len(opt_state)):\n",
    "        if opt_state[t] == apt_truth_states[t]:\n",
    "            num_correct += 1 #no rule enforcing that that must end on POST\n",
    "    if b % 100 == 0:\n",
    "        print(b)\n",
    "    accuracy_list.append(num_correct/len(opt_state))\n",
    "print(f'average proportion correct is {sum(accuracy_list)/len(accuracy_list)}')"
   ]
  },
  {
   "cell_type": "markdown",
   "id": "9703b331-cd25-4b2a-8df7-0d7268309df0",
   "metadata": {},
   "source": [
    "# Noisy Simulations with Constraints"
   ]
  },
  {
   "cell_type": "code",
   "execution_count": 91,
   "id": "38bd3572-1b84-421d-9f76-1eaca6117518",
   "metadata": {},
   "outputs": [
    {
     "data": {
      "text/plain": [
       "<module 'apt_helper' from '/home/fyqiu/Projects/conin/conin/mediation_variables/apt_helper.py'>"
      ]
     },
     "execution_count": 91,
     "metadata": {},
     "output_type": "execute_result"
    }
   ],
   "source": [
    "importlib.reload(ahlp)"
   ]
  },
  {
   "cell_type": "code",
   "execution_count": 92,
   "id": "24c3ba05-1db8-4270-a8df-6c557074fc38",
   "metadata": {},
   "outputs": [
    {
     "name": "stdout",
     "output_type": "stream",
     "text": [
      "0\n",
      "100\n",
      "200\n",
      "300\n",
      "400\n",
      "500\n",
      "600\n",
      "700\n",
      "800\n",
      "900\n",
      "average proportion correct is 0.3373810406888345\n"
     ]
    }
   ],
   "source": [
    "B = 1000\n",
    "accuracy_list = []\n",
    "for b in range(B):\n",
    "    apt_truth, combined_emits = ahlp.combined_simulation(apt_hmm, user_list, cst_list)\n",
    "    apt_truth_states, apt_truth_emits = apt_truth\n",
    "    opt_state =  mv.mv_Viterbi(obs = combined_emits, hmm = apt_hmm)\n",
    "    num_correct = 0\n",
    "    for t in range(len(opt_state)):\n",
    "        if opt_state[t] == apt_truth_states[t]:\n",
    "            num_correct += 1 #no rule enforcing that that must end on POST\n",
    "    if b % 100 == 0:\n",
    "        print(b)\n",
    "    accuracy_list.append(num_correct/len(opt_state))\n",
    "print(f'average proportion correct is {sum(accuracy_list)/len(accuracy_list)}')"
   ]
  },
  {
   "cell_type": "code",
   "execution_count": 94,
   "id": "6b5ebd1c-9ccb-42c4-928d-1bb7cc00d8a5",
   "metadata": {},
   "outputs": [
    {
     "data": {
      "text/plain": [
       "<module 'apt_helper' from '/home/fyqiu/Projects/conin/conin/mediation_variables/apt_helper.py'>"
      ]
     },
     "execution_count": 94,
     "metadata": {},
     "output_type": "execute_result"
    }
   ],
   "source": [
    "importlib.reload(ahlp)"
   ]
  },
  {
   "cell_type": "markdown",
   "id": "e332364e-0935-4f31-90b4-97ae7bb28475",
   "metadata": {},
   "source": [
    "# Check if Noisy APT Is Better (Simulation with Constraints)"
   ]
  },
  {
   "cell_type": "code",
   "execution_count": 100,
   "id": "14ee3494-d9df-4a63-9524-dcca72ef8009",
   "metadata": {},
   "outputs": [
    {
     "name": "stdout",
     "output_type": "stream",
     "text": [
      "initprob:1.0  tprob: [1. 1. 1. 1. 1. 1. 1. 1. 1. 1. 1. 1. 1. 1. 1. 1. 1. 1. 1. 1. 1. 1. 1. 1.\n",
      " 1. 1. 1. 1. 1. 1. 1. 1. 1. 1. 1. 1. 1. 1. 1. 1. 1. 1. 1. 1. 1. 1. 1. 1.\n",
      " 1. 1. 1. 1. 1. 1. 1. 1. 1. 1. 1. 1. 1. 1. 1. 1. 1. 1. 1. 1. 1. 1. 1. 1.\n",
      " 1. 1. 1. 1. 1. 1. 1. 1. 1. 1. 1. 1. 1. 1. 1. 1. 1. 1. 1. 1. 1. 1. 1. 1.\n",
      " 1. 1. 1. 1. 1. 1.]  eprob: [1. 1. 1. 1. 1. 1. 1. 1. 1. 1. 1. 1. 1. 1. 1. 1. 1. 1. 1. 1. 1. 1. 1. 1.\n",
      " 1. 1. 1. 1. 1. 1. 1. 1. 1. 1. 1. 1. 1. 1. 1. 1. 1. 1. 1. 1. 1. 1. 1. 1.\n",
      " 1. 1. 1. 1. 1. 1. 1. 1. 1. 1. 1. 1. 1. 1. 1. 1. 1. 1. 1. 1. 1. 1. 1. 1.\n",
      " 1. 1. 1. 1. 1. 1. 1. 1. 1. 1. 1. 1. 1. 1. 1. 1. 1. 1. 1. 1. 1. 1. 1. 1.\n",
      " 1. 1. 1. 1. 1. 1.]\n"
     ]
    }
   ],
   "source": [
    "noisy_apt = ahlp.create_noisy_apt(apt_hmm, 1/3)\n",
    "apt_params = ahlp.hmm2numpy(noisy_tier_apt)\n",
    "print(f'initprob:{apt_params[0].sum()}  tprob: {apt_params[1].sum(axis = 1)}  eprob: {apt_params[2].sum(axis = 1)}')"
   ]
  },
  {
   "cell_type": "code",
   "execution_count": 108,
   "id": "f9b15f12-f9be-42f0-a300-222f9e1382ac",
   "metadata": {
    "scrolled": true
   },
   "outputs": [
    {
     "name": "stdout",
     "output_type": "stream",
     "text": [
      "0\n",
      "100\n",
      "200\n",
      "300\n",
      "400\n",
      "500\n",
      "600\n",
      "700\n",
      "800\n",
      "900\n",
      "average proportion correct is 0.07559917904947176\n"
     ]
    }
   ],
   "source": [
    "B = 1000\n",
    "accuracy_list = []\n",
    "for b in range(B):\n",
    "    apt_truth, combined_emits = ahlp.combined_simulation(apt_hmm, user_list, cst_list)\n",
    "    apt_truth_states, apt_truth_emits = apt_truth\n",
    "    opt_state =  mv.mv_Viterbi(obs = combined_emits, hmm = noisy_apt)\n",
    "    num_correct = 0\n",
    "    for t in range(len(opt_state)):\n",
    "        if opt_state[t] == apt_truth_states[t]:\n",
    "            num_correct += 1 #no rule enforcing that that must end on POST\n",
    "    if b % 100 == 0:\n",
    "        print(b)\n",
    "    accuracy_list.append(num_correct/len(opt_state))\n",
    "print(f'average proportion correct is {sum(accuracy_list)/len(accuracy_list)}')"
   ]
  },
  {
   "cell_type": "code",
   "execution_count": 203,
   "id": "543df740-96d9-46f2-bb7d-6caac401dfc2",
   "metadata": {},
   "outputs": [],
   "source": [
    "agg_cst, zip_list, cst_ix = cagg.apt_cst_aggregate(cst_list, debug = True)"
   ]
  },
  {
   "cell_type": "code",
   "execution_count": 214,
   "id": "4ef70c6b-7c60-4eec-b968-4a495fd0542a",
   "metadata": {},
   "outputs": [],
   "source": [
    "tier_apt_mix, ix_list = ahlp.lapt_mixture(tier_apt, user_list, len(combined_emits), mix_weights = None, return_ix = True)"
   ]
  },
  {
   "cell_type": "code",
   "execution_count": 215,
   "id": "5ec8e082-9ffe-4964-8bf8-a943a028c438",
   "metadata": {},
   "outputs": [],
   "source": [
    "noisy_tier_apt = ahlp.create_noisy_apt(tier_apt, 1/3)"
   ]
  },
  {
   "cell_type": "code",
   "execution_count": 216,
   "id": "ef74e728-368c-4c6f-9abd-e2cbb9c85831",
   "metadata": {},
   "outputs": [
    {
     "name": "stdout",
     "output_type": "stream",
     "text": [
      "initprob:1.0  tprob: [1. 1. 1. 1. 1. 1. 1. 1. 1. 1. 1. 1. 1. 1. 1. 1. 1. 1. 1. 1. 1. 1. 1. 1.\n",
      " 1.]  eprob: [1. 1. 1. 1. 1. 1. 1. 1. 1. 1. 1. 1. 1. 1. 1. 1. 1. 1. 1. 1. 1. 1. 1. 1.\n",
      " 1.]\n"
     ]
    }
   ],
   "source": [
    "apt_params = ahlp.hmm2numpy(noisy_tier_apt)\n",
    "print(f'initprob:{apt_params[0].sum()}  tprob: {apt_params[1].sum(axis = 1)}  eprob: {apt_params[2].sum(axis = 1)}')"
   ]
  },
  {
   "cell_type": "code",
   "execution_count": 218,
   "id": "e405d691-05db-461d-bc8a-572c06f1e96e",
   "metadata": {},
   "outputs": [],
   "source": [
    "#Vanilla Viterbi is no constraint is included\n",
    "opt_state =  mv.mv_Viterbi(obs = combined_emits, hmm = noisy_tier_apt)"
   ]
  },
  {
   "cell_type": "code",
   "execution_count": 129,
   "id": "67296356-0e13-4054-b0d0-66b90562ba3d",
   "metadata": {},
   "outputs": [],
   "source": [
    "def create_noisy_apt(apt_hmm, mix_param, tol = 1e-7):\n",
    "    '''\n",
    "    Original APT: X -> Y\n",
    "\n",
    "    Tiered APT: (X,Y) -> hat{Y}\n",
    "\n",
    "    \n",
    "    '''\n",
    "    apt = copy.deepcopy(apt_hmm) #deepcopy since there's still some funkiness going on.\n",
    "    M = len(apt.emits) #number of hidden states\n",
    "    \n",
    "    #Creat noisy emissions matrix\n",
    "    eprob = defaultdict(int)\n",
    "    #For now, create a noiseless emission, where the emission of the APT is the observed emission\n",
    "    for k in apt.states:\n",
    "        for e in apt.emits:\n",
    "            eprob[k,e] = mix_param*apt.eprob[k,e] + (1- mix_param)/M \n",
    "        \n",
    "    new_apt = Munch(name = apt.name, states = apt.states, emits = apt.emits, tprob = apt.tprob, \\\n",
    "                       eprob = eprob, initprob = apt.initprob)\n",
    "    \n",
    "    if apt.mu:\n",
    "        new_apt.mu = apt.mu\n",
    "\n",
    "    return new_apt\n"
   ]
  },
  {
   "cell_type": "code",
   "execution_count": 95,
   "id": "90469a7f-46cd-4a6f-aed6-070eacff429e",
   "metadata": {},
   "outputs": [
    {
     "data": {
      "text/plain": [
       "[None,\n",
       " ('V', 'access/bob'),\n",
       " None,\n",
       " None,\n",
       " None,\n",
       " ('S', 'postfix/local'),\n",
       " ('HE', 'img/post'),\n",
       " None,\n",
       " ('DS', 'syslog/ls'),\n",
       " None]"
      ]
     },
     "execution_count": 95,
     "metadata": {},
     "output_type": "execute_result"
    }
   ],
   "source": [
    "combined_emits[:10]"
   ]
  },
  {
   "cell_type": "code",
   "execution_count": 96,
   "id": "22d550d8-4ba2-4a82-8412-ad5be289b64b",
   "metadata": {},
   "outputs": [
    {
     "data": {
      "text/plain": [
       "0"
      ]
     },
     "execution_count": 96,
     "metadata": {},
     "output_type": "execute_result"
    }
   ],
   "source": [
    "apt_hmm.initprob['CA']"
   ]
  },
  {
   "cell_type": "code",
   "execution_count": 98,
   "id": "cb9c01dc-91aa-44ac-87f1-50f9b9f8e4fe",
   "metadata": {},
   "outputs": [],
   "source": [
    "hmm = apt_hmm\n",
    "obs = combined_emits[:10]"
   ]
  },
  {
   "cell_type": "code",
   "execution_count": null,
   "id": "b311ec8f-c830-4385-b967-3bf3fb81fc2a",
   "metadata": {},
   "outputs": [],
   "source": [
    "    val = {} #initialize value dictionary\n",
    "\n",
    "    for k in hmm.states:\n",
    "            val[0,k] = hmm.initprob[k]*hmm.eprob[k,obs[0]]\n",
    "            \n",
    "    ix_tracker = {} #this is used in the backwards step to identify the optimal sequence\n",
    "    \n",
    "    #Forward: compute value function and generate index\n",
    "    for t in range(1,len(obs)):\n",
    "        for k in hmm.states:\n",
    "            max_val = -1 # set to dummy variable. will do brute-force search for max\n",
    "            argmax = None #initialize argmax for ix_tracker\n",
    "            for j in hmm.states:\n",
    "                curr_val = val[t-1,j]*hmm.tprob[j,k]\n",
    "                if curr_val > max_val:\n",
    "                    max_val = curr_val\n",
    "                    argmax = j\n",
    "                    print(j)\n",
    "            val[t,k] = max_val*hmm.eprob[k,obs[t]]\n",
    "            ix_tracker[t-1,k] = argmax\n"
   ]
  },
  {
   "cell_type": "code",
   "execution_count": 100,
   "id": "6da426af-6e90-41fe-a8c0-2bc8e7fd947b",
   "metadata": {},
   "outputs": [
    {
     "ename": "KeyError",
     "evalue": "(0, 'Pre')",
     "output_type": "error",
     "traceback": [
      "\u001b[31m---------------------------------------------------------------------------\u001b[39m",
      "\u001b[31mKeyError\u001b[39m                                  Traceback (most recent call last)",
      "\u001b[36mCell\u001b[39m\u001b[36m \u001b[39m\u001b[32mIn[100]\u001b[39m\u001b[32m, line 1\u001b[39m\n\u001b[32m----> \u001b[39m\u001b[32m1\u001b[39m \u001b[43mval\u001b[49m\u001b[43m[\u001b[49m\u001b[32;43m0\u001b[39;49m\u001b[43m,\u001b[49m\u001b[33;43m'\u001b[39;49m\u001b[33;43mPre\u001b[39;49m\u001b[33;43m'\u001b[39;49m\u001b[43m]\u001b[49m\n",
      "\u001b[31mKeyError\u001b[39m: (0, 'Pre')"
     ]
    }
   ],
   "source": [
    "val[0,'Pre']"
   ]
  },
  {
   "cell_type": "code",
   "execution_count": null,
   "id": "9e5f2261-56bc-47d2-b4d1-d82c3e6d48bb",
   "metadata": {},
   "outputs": [],
   "source": [
    "    val = {} #initialize value dictionary\n",
    "\n",
    "    for k in hmm.states:\n",
    "            val[0,k] = hmm.initprob[k]*hmm.eprob[k,obs[0]]\n",
    "            \n",
    "    ix_tracker = {} #this is used in the backwards step to identify the optimal sequence\n",
    "    \n",
    "    #Forward: compute value function and generate index\n",
    "    for t in range(1,len(obs)):\n",
    "        for k in hmm.states:\n",
    "            max_val = -1 # set to dummy variable. will do brute-force search for max\n",
    "            argmax = None #initialize argmax for ix_tracker\n",
    "            for j in hmm.states:\n",
    "                curr_val = val[t-1,j]*hmm.tprob[j,k]\n",
    "                if curr_val > max_val:\n",
    "                    max_val = curr_val\n",
    "                    argmax = j\n",
    "            val[t,k] = max_val*hmm.eprob[k,obs[t]]\n",
    "            ix_tracker[t-1,k] = argmax\n",
    "    \n",
    "    #Backward: compute the values of the optimal sequence\n",
    "    max_val = -1\n",
    "    best_state = None\n",
    "    for k in hmm.states:\n",
    "        curr_val = val[len(obs) - 1,k]\n",
    "        if curr_val > max_val:\n",
    "            max_val = curr_val\n",
    "            best_state = k\n",
    "    opt_state = [best_state]\n",
    "    \n",
    "    for t in range(len(obs) -1):\n",
    "        best_state = ix_tracker[len(obs) - 2 -t,best_state]\n",
    "        opt_state = [best_state] + opt_state\n",
    "\n",
    "    return opt_state\n"
   ]
  },
  {
   "cell_type": "code",
   "execution_count": null,
   "id": "54b59b64-8fd1-4a3a-b04e-f3794d562dee",
   "metadata": {},
   "outputs": [],
   "source": [
    "apt_hmm_mix.eprob"
   ]
  },
  {
   "cell_type": "code",
   "execution_count": 81,
   "id": "99e21399-0022-4118-864f-0faf73de32e9",
   "metadata": {},
   "outputs": [
    {
     "data": {
      "text/plain": [
       "['PRE',\n",
       " 'PRE',\n",
       " 'PRE',\n",
       " 'PRE',\n",
       " 'PRE',\n",
       " 'IA',\n",
       " 'EX',\n",
       " 'WAIT_EX',\n",
       " 'DI',\n",
       " 'WAIT_DI',\n",
       " 'WAIT_DI',\n",
       " 'WAIT_DI',\n",
       " 'WAIT_DI',\n",
       " 'WAIT_DI',\n",
       " 'WAIT_DI',\n",
       " 'DI',\n",
       " 'WAIT_DI',\n",
       " 'WAIT_DI',\n",
       " 'WAIT_DI',\n",
       " 'COL',\n",
       " 'WAIT_COL',\n",
       " 'WAIT_COL',\n",
       " 'WAIT_COL',\n",
       " 'WAIT_COL',\n",
       " 'WAIT_COL',\n",
       " 'WAIT_COL',\n",
       " 'WAIT_COL',\n",
       " 'WAIT_COL',\n",
       " 'WAIT_COL',\n",
       " 'WAIT_COL',\n",
       " 'WAIT_COL',\n",
       " 'WAIT_COL',\n",
       " 'WAIT_COL',\n",
       " 'WAIT_COL',\n",
       " 'COL',\n",
       " 'WAIT_COL',\n",
       " 'WAIT_COL',\n",
       " 'WAIT_COL',\n",
       " 'WAIT_COL',\n",
       " 'WAIT_COL',\n",
       " 'WAIT_COL',\n",
       " 'WAIT_COL',\n",
       " 'WAIT_COL',\n",
       " 'COL',\n",
       " 'WAIT_COL',\n",
       " 'COL',\n",
       " 'COL',\n",
       " 'WAIT_COL',\n",
       " 'WAIT_COL',\n",
       " 'WAIT_COL',\n",
       " 'WAIT_COL',\n",
       " 'WAIT_COL',\n",
       " 'WAIT_COL',\n",
       " 'WAIT_COL',\n",
       " 'WAIT_COL',\n",
       " 'WAIT_COL',\n",
       " 'WAIT_COL',\n",
       " 'WAIT_COL',\n",
       " 'WAIT_COL',\n",
       " 'WAIT_COL',\n",
       " 'COL',\n",
       " 'WAIT_COL',\n",
       " 'COL',\n",
       " 'WAIT_COL',\n",
       " 'WAIT_COL',\n",
       " 'COL',\n",
       " 'WAIT_COL',\n",
       " 'WAIT_COL',\n",
       " 'WAIT_COL',\n",
       " 'WAIT_COL',\n",
       " 'WAIT_COL',\n",
       " 'WAIT_COL',\n",
       " 'COL',\n",
       " 'WAIT_COL',\n",
       " 'WAIT_COL',\n",
       " 'WAIT_COL',\n",
       " 'WAIT_COL',\n",
       " 'WAIT_COL',\n",
       " 'WAIT_COL',\n",
       " 'WAIT_COL',\n",
       " 'WAIT_COL',\n",
       " 'WAIT_COL',\n",
       " 'EXF',\n",
       " 'WAIT_EXF',\n",
       " 'WAIT_EXF',\n",
       " 'WAIT_EXF',\n",
       " 'WAIT_EXF',\n",
       " 'WAIT_EXF',\n",
       " 'WAIT_EXF',\n",
       " 'WAIT_EXF',\n",
       " 'WAIT_EXF',\n",
       " 'WAIT_EXF',\n",
       " 'WAIT_EXF',\n",
       " 'WAIT_EXF',\n",
       " 'WAIT_EXF',\n",
       " 'WAIT_EXF',\n",
       " 'WAIT_EXF',\n",
       " 'WAIT_EXF',\n",
       " 'WAIT_EXF',\n",
       " 'WAIT_EXF',\n",
       " 'WAIT_EXF',\n",
       " 'WAIT_EXF',\n",
       " 'POST']"
      ]
     },
     "execution_count": 81,
     "metadata": {},
     "output_type": "execute_result"
    }
   ],
   "source": [
    "apt_truth[0]"
   ]
  },
  {
   "cell_type": "code",
   "execution_count": 80,
   "id": "a8cd5345-a532-4a2b-95f7-b7b467d387ff",
   "metadata": {},
   "outputs": [
    {
     "data": {
      "text/plain": [
       "[('PRE', None),\n",
       " ('IA', ('S', 'postfix/local')),\n",
       " ('EX', ('S', 'postfix/local')),\n",
       " ('DI', ('DS', 'syslog/ls')),\n",
       " ('COL', ('HE', 'img/post')),\n",
       " ('EXF', ('HE', 'img/query')),\n",
       " ('POST', None),\n",
       " ('POST', None),\n",
       " ('POST', None),\n",
       " ('POST', None),\n",
       " ('POST', None),\n",
       " ('POST', None),\n",
       " ('POST', None),\n",
       " ('POST', None),\n",
       " ('POST', None),\n",
       " ('POST', None),\n",
       " ('POST', None),\n",
       " ('POST', None),\n",
       " ('POST', None),\n",
       " ('POST', None),\n",
       " ('POST', None),\n",
       " ('POST', None),\n",
       " ('POST', None),\n",
       " ('POST', None),\n",
       " ('POST', None),\n",
       " ('POST', None),\n",
       " ('POST', None),\n",
       " ('POST', None),\n",
       " ('POST', None),\n",
       " ('POST', None),\n",
       " ('POST', None),\n",
       " ('POST', None),\n",
       " ('POST', None),\n",
       " ('POST', None),\n",
       " ('POST', None),\n",
       " ('POST', None),\n",
       " ('POST', None),\n",
       " ('POST', None),\n",
       " ('POST', None),\n",
       " ('POST', None),\n",
       " ('POST', None),\n",
       " ('POST', None),\n",
       " ('POST', None),\n",
       " ('POST', None),\n",
       " ('POST', None),\n",
       " ('POST', None),\n",
       " ('POST', None),\n",
       " ('POST', None),\n",
       " ('POST', None),\n",
       " ('POST', None),\n",
       " ('POST', None),\n",
       " ('POST', None),\n",
       " ('POST', None),\n",
       " ('POST', None),\n",
       " ('POST', None),\n",
       " ('POST', None),\n",
       " ('POST', None),\n",
       " ('POST', None),\n",
       " ('POST', None),\n",
       " ('POST', None),\n",
       " ('POST', None),\n",
       " ('POST', None),\n",
       " ('POST', None),\n",
       " ('POST', None),\n",
       " ('POST', None),\n",
       " ('POST', None),\n",
       " ('POST', None),\n",
       " ('POST', None),\n",
       " ('POST', None),\n",
       " ('POST', None),\n",
       " ('POST', None),\n",
       " ('POST', None),\n",
       " ('POST', None),\n",
       " ('POST', None),\n",
       " ('POST', None),\n",
       " ('POST', None),\n",
       " ('POST', None),\n",
       " ('POST', None),\n",
       " ('POST', None),\n",
       " ('POST', None),\n",
       " ('POST', None),\n",
       " ('POST', None),\n",
       " ('POST', None),\n",
       " ('POST', None),\n",
       " ('POST', None),\n",
       " ('POST', None),\n",
       " ('POST', None),\n",
       " ('POST', None),\n",
       " ('POST', None),\n",
       " ('POST', None),\n",
       " ('POST', None),\n",
       " ('POST', None),\n",
       " ('POST', None),\n",
       " ('POST', None),\n",
       " ('POST', None),\n",
       " ('POST', None),\n",
       " ('POST', None),\n",
       " ('POST', None),\n",
       " ('POST', None),\n",
       " ('POST', None),\n",
       " ('POST', None),\n",
       " ('POST', None),\n",
       " ('POST', None)]"
      ]
     },
     "execution_count": 80,
     "metadata": {},
     "output_type": "execute_result"
    }
   ],
   "source": [
    "opt_state"
   ]
  },
  {
   "cell_type": "code",
   "execution_count": null,
   "id": "a24fab38-3257-40a9-b308-a51c92faf4bb",
   "metadata": {},
   "outputs": [],
   "source": [
    "len(tier_apt.hmm)"
   ]
  },
  {
   "cell_type": "code",
   "execution_count": 122,
   "id": "32a81a99-e5db-4ea4-ac09-2402fc45908c",
   "metadata": {},
   "outputs": [
    {
     "name": "stdout",
     "output_type": "stream",
     "text": [
      "1\n",
      "2\n",
      "3\n"
     ]
    },
    {
     "ename": "KeyboardInterrupt",
     "evalue": "",
     "output_type": "error",
     "traceback": [
      "\u001b[31m---------------------------------------------------------------------------\u001b[39m",
      "\u001b[31mKeyboardInterrupt\u001b[39m                         Traceback (most recent call last)",
      "\u001b[36mCell\u001b[39m\u001b[36m \u001b[39m\u001b[32mIn[122]\u001b[39m\u001b[32m, line 2\u001b[39m\n\u001b[32m      1\u001b[39m sat = (\u001b[38;5;28;01mTrue\u001b[39;00m,) * \u001b[32m3\u001b[39m\n\u001b[32m----> \u001b[39m\u001b[32m2\u001b[39m opt_aug, opt_state =  \u001b[43mmv\u001b[49m\u001b[43m.\u001b[49m\u001b[43mmv_Viterbi_v2\u001b[49m\u001b[43m(\u001b[49m\u001b[43mobs\u001b[49m\u001b[43m \u001b[49m\u001b[43m=\u001b[49m\u001b[43m \u001b[49m\u001b[43mcombined_emits\u001b[49m\u001b[43m,\u001b[49m\u001b[43m \u001b[49m\u001b[43mhmm\u001b[49m\u001b[43m \u001b[49m\u001b[43m=\u001b[49m\u001b[43m \u001b[49m\u001b[43mtier_apt\u001b[49m\u001b[43m,\u001b[49m\u001b[43m \u001b[49m\u001b[43mcst\u001b[49m\u001b[43m=\u001b[49m\u001b[43m \u001b[49m\u001b[43magg_cst\u001b[49m\u001b[43m,\u001b[49m\u001b[43msat\u001b[49m\u001b[43m \u001b[49m\u001b[43m=\u001b[49m\u001b[43m \u001b[49m\u001b[43msat\u001b[49m\u001b[43m)\u001b[49m\n",
      "\u001b[36mFile \u001b[39m\u001b[32m~/Projects/conin/conin/mediation_variables/mv_Viterbi.py:139\u001b[39m, in \u001b[36mmv_Viterbi_v2\u001b[39m\u001b[34m(obs, hmm, cst, sat)\u001b[39m\n\u001b[32m    137\u001b[39m \u001b[38;5;28;01mfor\u001b[39;00m j \u001b[38;5;129;01min\u001b[39;00m hmm.states:\n\u001b[32m    138\u001b[39m     \u001b[38;5;28;01mfor\u001b[39;00m s \u001b[38;5;129;01min\u001b[39;00m aux_space:\n\u001b[32m--> \u001b[39m\u001b[32m139\u001b[39m         curr_val = val[t-\u001b[32m1\u001b[39m,j,s]*hmm.tprob[j,k]*\u001b[43mcst\u001b[49m\u001b[43m.\u001b[49m\u001b[43mupdate_fun\u001b[49m\u001b[43m(\u001b[49m\u001b[43mk\u001b[49m\u001b[43m,\u001b[49m\u001b[43mr\u001b[49m\u001b[43m,\u001b[49m\u001b[43mj\u001b[49m\u001b[43m,\u001b[49m\u001b[43ms\u001b[49m\u001b[43m)\u001b[49m\n\u001b[32m    140\u001b[39m         \u001b[38;5;28;01mif\u001b[39;00m curr_val > max_val:\n\u001b[32m    141\u001b[39m             max_val = curr_val\n",
      "\u001b[36mFile \u001b[39m\u001b[32m~/Projects/conin/conin/mediation_variables/apt_cst_aggregate.py:7\u001b[39m, in \u001b[36mcreate_updatefun.<locals>.update_fun_agg\u001b[39m\u001b[34m(k, r, k_past, r_past)\u001b[39m\n\u001b[32m      5\u001b[39m val = \u001b[32m1\u001b[39m\n\u001b[32m      6\u001b[39m \u001b[38;5;28;01mfor\u001b[39;00m cst, ix, depend \u001b[38;5;129;01min\u001b[39;00m zip_list:\n\u001b[32m----> \u001b[39m\u001b[32m7\u001b[39m     val *= cst.update_fun(k,\u001b[38;5;28;43mtuple\u001b[39;49m\u001b[43m(\u001b[49m\u001b[43mr\u001b[49m\u001b[43m[\u001b[49m\u001b[43mix\u001b[49m\u001b[43m[\u001b[49m\u001b[32;43m0\u001b[39;49m\u001b[43m]\u001b[49m\u001b[43m:\u001b[49m\u001b[43mix\u001b[49m\u001b[43m[\u001b[49m\u001b[32;43m1\u001b[39;49m\u001b[43m]\u001b[49m\u001b[43m]\u001b[49m\u001b[43m)\u001b[49m,k_past,\u001b[38;5;28mtuple\u001b[39m(r_past[ix[\u001b[32m0\u001b[39m]:ix[\u001b[32m1\u001b[39m]]))\n\u001b[32m      8\u001b[39m     \u001b[38;5;28;01mif\u001b[39;00m depend:\n\u001b[32m      9\u001b[39m         val *= \u001b[38;5;28mint\u001b[39m(r[cst_ix[depend]] \u001b[38;5;129;01mor\u001b[39;00m (\u001b[38;5;129;01mnot\u001b[39;00m r[cst_ix[cst.name]])) \u001b[38;5;66;03m#either the dependcy is satisifed or the current knowledge hasn't been attained.\u001b[39;00m\n",
      "\u001b[31mKeyboardInterrupt\u001b[39m: "
     ]
    }
   ],
   "source": [
    "sat = (True,) * 3\n",
    "opt_aug, opt_state =  mv.mv_Viterbi_v2(obs = combined_emits, hmm = tier_apt, cst= agg_cst,sat = sat)"
   ]
  },
  {
   "cell_type": "code",
   "execution_count": null,
   "id": "aabfdcf6-8c2a-4d64-b255-45018c25375e",
   "metadata": {},
   "outputs": [],
   "source": [
    "mv_Viterbi(obs, hmm, combined_cst, sat = (True,True))"
   ]
  },
  {
   "cell_type": "code",
   "execution_count": null,
   "id": "0bc1a7e5-1955-4acb-ae02-5e50309d28ae",
   "metadata": {},
   "outputs": [],
   "source": []
  }
 ],
 "metadata": {
  "kernelspec": {
   "display_name": "Python 3 (ipykernel)",
   "language": "python",
   "name": "python3"
  },
  "language_info": {
   "codemirror_mode": {
    "name": "ipython",
    "version": 3
   },
   "file_extension": ".py",
   "mimetype": "text/x-python",
   "name": "python",
   "nbconvert_exporter": "python",
   "pygments_lexer": "ipython3",
   "version": "3.12.5"
  }
 },
 "nbformat": 4,
 "nbformat_minor": 5
}
