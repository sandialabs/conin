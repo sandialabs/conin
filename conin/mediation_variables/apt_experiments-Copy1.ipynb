{
 "cells": [
  {
   "cell_type": "code",
   "execution_count": 155,
   "id": "76353080-0eb8-4b9b-b16c-347a06ff395f",
   "metadata": {},
   "outputs": [],
   "source": [
    "import numpy as np\n",
    "import json\n",
    "from munch import Munch\n",
    "import itertools\n",
    "from collections import defaultdict\n",
    "import random\n",
    "import copy\n",
    "\n",
    "import apt_helper as ahlp\n",
    "from mv_Viterbi import mv_Viterbi"
   ]
  },
  {
   "cell_type": "code",
   "execution_count": 171,
   "id": "cab3826f-baa6-4d36-96ec-baa23745d8fb",
   "metadata": {},
   "outputs": [
    {
     "data": {
      "text/plain": [
       "<module 'apt_helper' from '/home/fyqiu/Projects/conin/conin/mediation_variables/apt_helper.py'>"
      ]
     },
     "execution_count": 171,
     "metadata": {},
     "output_type": "execute_result"
    }
   ],
   "source": [
    "import importlib\n",
    "importlib.reload(ahlp)"
   ]
  },
  {
   "cell_type": "code",
   "execution_count": 172,
   "id": "2d6901ae-d7e7-4556-897b-9287335f881f",
   "metadata": {},
   "outputs": [],
   "source": [
    "names = ['apt','bob','sally']\n",
    "mu_list = [.3,.3,.3]\n",
    "apt_hmm, bob_hmm, sally_hmm = ahlp.process_load(names, delay = mu_list)\n",
    "user_list = [bob_hmm, sally_hmm]"
   ]
  },
  {
   "cell_type": "code",
   "execution_count": 173,
   "id": "d0a1957c-c5b9-42b2-9100-e67efacef7cd",
   "metadata": {},
   "outputs": [],
   "source": [
    "new_apt = ahlp.create_tiered_apt(apt_hmm)"
   ]
  },
  {
   "cell_type": "code",
   "execution_count": 174,
   "id": "4ef70c6b-7c60-4eec-b968-4a495fd0542a",
   "metadata": {},
   "outputs": [],
   "source": [
    "apt_hmm_mix, ix_list = ahlp.lapt_mixture(new_apt, user_list, 100, mix_weights = None, return_ix = True)"
   ]
  },
  {
   "cell_type": "code",
   "execution_count": 175,
   "id": "09d29dbc-11c3-4a8c-93fe-7fe1ba9ad29c",
   "metadata": {},
   "outputs": [],
   "source": [
    "apt_truth, combined_emits = ahlp.combined_simulation(apt_hmm, user_list, 100)"
   ]
  },
  {
   "cell_type": "code",
   "execution_count": 178,
   "id": "669146ec-f6b7-476d-bb10-308b7fb52dfa",
   "metadata": {},
   "outputs": [
    {
     "data": {
      "text/plain": [
       "['PRE',\n",
       " 'PRE',\n",
       " 'PRE',\n",
       " 'IA',\n",
       " 'WAIT_IA',\n",
       " 'EX',\n",
       " 'DI',\n",
       " 'COL',\n",
       " 'EXF',\n",
       " 'WAIT_EXF',\n",
       " 'POST',\n",
       " 'POST',\n",
       " 'POST',\n",
       " 'POST',\n",
       " 'POST',\n",
       " 'POST',\n",
       " 'POST',\n",
       " 'POST',\n",
       " 'POST',\n",
       " 'POST',\n",
       " 'POST',\n",
       " 'POST',\n",
       " 'POST',\n",
       " 'POST',\n",
       " 'POST',\n",
       " 'POST',\n",
       " 'POST',\n",
       " 'POST',\n",
       " 'POST',\n",
       " 'POST',\n",
       " 'POST',\n",
       " 'POST',\n",
       " 'POST',\n",
       " 'POST',\n",
       " 'POST',\n",
       " 'POST',\n",
       " 'POST',\n",
       " 'POST',\n",
       " 'POST',\n",
       " 'POST',\n",
       " 'POST',\n",
       " 'POST',\n",
       " 'POST',\n",
       " 'POST',\n",
       " 'POST',\n",
       " 'POST',\n",
       " 'POST',\n",
       " 'POST',\n",
       " 'POST',\n",
       " 'POST',\n",
       " 'POST',\n",
       " 'POST',\n",
       " 'POST',\n",
       " 'POST',\n",
       " 'POST',\n",
       " 'POST',\n",
       " 'POST',\n",
       " 'POST',\n",
       " 'POST',\n",
       " 'POST',\n",
       " 'POST',\n",
       " 'POST',\n",
       " 'POST',\n",
       " 'POST',\n",
       " 'POST',\n",
       " 'POST',\n",
       " 'POST',\n",
       " 'POST',\n",
       " 'POST',\n",
       " 'POST',\n",
       " 'POST',\n",
       " 'POST',\n",
       " 'POST',\n",
       " 'POST',\n",
       " 'POST',\n",
       " 'POST',\n",
       " 'POST',\n",
       " 'POST',\n",
       " 'POST',\n",
       " 'POST',\n",
       " 'POST',\n",
       " 'POST',\n",
       " 'POST',\n",
       " 'POST',\n",
       " 'POST',\n",
       " 'POST',\n",
       " 'POST',\n",
       " 'POST',\n",
       " 'POST',\n",
       " 'POST',\n",
       " 'POST',\n",
       " 'POST',\n",
       " 'POST',\n",
       " 'POST',\n",
       " 'POST',\n",
       " 'POST',\n",
       " 'POST',\n",
       " 'POST',\n",
       " 'POST',\n",
       " 'POST']"
      ]
     },
     "execution_count": 178,
     "metadata": {},
     "output_type": "execute_result"
    }
   ],
   "source": [
    "apt_truth[0]"
   ]
  },
  {
   "cell_type": "code",
   "execution_count": null,
   "id": "43eeb7a3-33a8-4b11-b2e3-a5db5a351f40",
   "metadata": {},
   "outputs": [],
   "source": []
  }
 ],
 "metadata": {
  "kernelspec": {
   "display_name": "Python 3 (ipykernel)",
   "language": "python",
   "name": "python3"
  },
  "language_info": {
   "codemirror_mode": {
    "name": "ipython",
    "version": 3
   },
   "file_extension": ".py",
   "mimetype": "text/x-python",
   "name": "python",
   "nbconvert_exporter": "python",
   "pygments_lexer": "ipython3",
   "version": "3.12.5"
  }
 },
 "nbformat": 4,
 "nbformat_minor": 5
}
