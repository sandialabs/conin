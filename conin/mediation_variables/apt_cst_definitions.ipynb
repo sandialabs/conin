{
 "cells": [
  {
   "cell_type": "code",
   "execution_count": 5,
   "id": "76353080-0eb8-4b9b-b16c-347a06ff395f",
   "metadata": {},
   "outputs": [],
   "source": [
    "import numpy as np\n",
    "import json\n",
    "from munch import Munch\n",
    "import itertools\n",
    "from collections import defaultdict\n",
    "import random\n",
    "import copy\n",
    "import pickle\n",
    "import importlib\n",
    "\n",
    "import apt_helper as ahlp\n",
    "from mv_Viterbi import mv_Viterbi"
   ]
  },
  {
   "cell_type": "code",
   "execution_count": 9,
   "id": "86052e9e-bbed-4896-96f9-5b246ab815cc",
   "metadata": {},
   "outputs": [],
   "source": [
    "cst_names = ['know_sally_exists','have_sally_credential', 'learn_where_data_stored', 'have_data_on_ds', 'have_data_on_hi', 'have_data_on_he']"
   ]
  },
  {
   "cell_type": "code",
   "execution_count": 10,
   "id": "e1e0133e-aa9c-4b87-9a98-6b05f59aa521",
   "metadata": {},
   "outputs": [],
   "source": [
    "\n",
    "cst_list=  []\n",
    "for name in cst_names:\n",
    "    module = importlib.import_module(name)\n",
    "    curr_cst =  Munch(name = module.name, \\\n",
    "                      aux_size = module.aug_size, \\\n",
    "                      update_fun = module.update_fun, \\\n",
    "                      init_fun = module.init_fun, \\\n",
    "                      cst_fun = module.cst_fun)\n",
    "    if hasattr(module, 'dependency'):\n",
    "        curr_cst.dependency = module.dependency\n",
    "    cst_list.append(curr_cst)\n",
    "    \n",
    "\n",
    "    \n"
   ]
  },
  {
   "cell_type": "markdown",
   "id": "1f998c2f-e89f-4240-8c3d-707b42133697",
   "metadata": {},
   "source": [
    "# Know Sally Exists"
   ]
  },
  {
   "cell_type": "code",
   "execution_count": 30,
   "id": "43eeb7a3-33a8-4b11-b2e3-a5db5a351f40",
   "metadata": {},
   "outputs": [],
   "source": [
    "def update_fun(k,r ,k_past, r_past):\n",
    "    '''\n",
    "    r^t = (m_1^t, m_2^t)\n",
    "    m1^t = tau^t. the hitting time of (DI, (HI, usr/query))\n",
    "    m2^t = [1- (1 - tau^t_a) AND c)] AND m2^{t-1} = [tau^t_a or (1 - c)] AND m2^{t-1} #tracks if the arrival time of a is before c\n",
    "    '''\n",
    "    m1 = (k == ('DI',('HI','usr/query'))) or r_past[0] #tracks if knowledge state has occured yet\n",
    "    forbidden_transitions = (k_past[0] == 'EX' and k[0] == 'CA') or (k_past[0] == 'DI' and k[0] == 'CA')\n",
    "    forbidden_emissions = (k == ('CA',('HI','usr/query')))\n",
    "    m2 = (m1 or (not (forbidden_transitions and forbidden_emissions))) and r_past[1] \n",
    "          \n",
    "    #at the time of first hit, all forbidden transitions/emissions are impossible. current logical formulation ok.\n",
    "\n",
    "    return int(r == (m1,m2))\n",
    "\n",
    "def init_fun(k, r):\n",
    "    '''\n",
    "    initial \"prob\" of r = (m1,m2) from k. is just indicator\n",
    "    '''\n",
    "    m1 = k == ('DI',('HI','usr/query'))\n",
    "    m2 = not (k == ('CA',('HI','usr/query'))) #at first time, can only violate the emission constraint.\n",
    "\n",
    "\n",
    "    return int(r == (m1,m2))\n",
    "    \n",
    "def cst_fun(k,r, sat):\n",
    "    '''\n",
    "    Constraint is a boolean emissions of the final auxillary state. In this case, is just m1^T: ie. tau_a >= tau_b for all time.\n",
    "    '''\n",
    "    return int(r[1] == sat) "
   ]
  },
  {
   "cell_type": "code",
   "execution_count": 31,
   "id": "99b57fb3-d902-4c40-86e6-377079f1e38b",
   "metadata": {},
   "outputs": [],
   "source": [
    "know_sally_exists = Munch(name = 'know_sally_exists',aux_size = 2, update_fun = update_fun, init_fun = init_fun, cst_fun = cst_fun)\n",
    "apt_cst_list.append(know_sally_exists)"
   ]
  },
  {
   "cell_type": "code",
   "execution_count": 32,
   "id": "b560f842-66c8-460c-904f-df16871baf19",
   "metadata": {},
   "outputs": [],
   "source": [
    "with open('know_sally_exists.pkl', 'wb') as f:\n",
    "    pickle.dump(know_sally_exists, f)\n"
   ]
  },
  {
   "cell_type": "markdown",
   "id": "cbb77271-3c16-49c1-9655-bc56f2bac1c3",
   "metadata": {},
   "source": [
    "# Have sally credential"
   ]
  },
  {
   "cell_type": "code",
   "execution_count": 33,
   "id": "7ef646bb-03c6-44b2-9375-074e7f3fb773",
   "metadata": {},
   "outputs": [],
   "source": [
    "def update_fun(k, r, k_past, r_past):\n",
    "    '''\n",
    "    r^t = (m_1^t, m_2^t)\n",
    "    m1^t = (k == ('CA', ('HI', 'usr/query'))) or r_past[0]  # tracks if the credential state has occurred yet\n",
    "    forbidden_emissions = (k == ('EX', ('V', 'access/sally'))) or (k == ('EX', ('DS', 'syslog/nano'))) or (k == ('DI', ('DS', 'syslog/ls')))\n",
    "    m2 = (m1 or not forbidden_emissions) and r_past[1]\n",
    "    '''\n",
    "    m1 = (k == ('CA', ('HI', 'usr/query'))) or r_past[0]  # tracks if the credential state has occurred yet\n",
    "    forbidden_emissions = (k == ('EX', ('V', 'access/sally'))) or (k == ('EX', ('DS', 'syslog/nano'))) or (k == ('DI', ('DS', 'syslog/ls')))\n",
    "    m2 = (m1 or not forbidden_emissions) and r_past[1]\n",
    "\n",
    "    return int(r == (m1, m2))\n",
    "\n",
    "def init_fun(k, r):\n",
    "    '''\n",
    "    Initial \"prob\" of r = (m1, m2) from k. Is just indicator\n",
    "    '''\n",
    "    m1 = k == ('CA', ('HI', 'usr/query'))\n",
    "    m2 = not ((k == ('EX', ('V', 'access/sally'))) or (k == ('EX', ('DS', 'syslog/nano'))) or (k == ('DI', ('DS', 'syslog/ls'))))  # at first time, can only violate the emission constraint.\n",
    "\n",
    "    return int(r == (m1, m2))\n",
    "\n",
    "def cst_fun(k, r, sat):\n",
    "    '''\n",
    "    Constraint is a boolean emissions of the final auxiliary state. In this case, is just m1^T: ie. tau_a >= tau_b for all time.\n",
    "    '''\n",
    "    return int(r[1] == sat)\n"
   ]
  },
  {
   "cell_type": "code",
   "execution_count": 34,
   "id": "465f5cde-e927-4c67-8bea-af368739a5b5",
   "metadata": {},
   "outputs": [],
   "source": [
    "have_sally_credential = Munch(name = 'have_sally_credential',aux_size = 2, update_fun = update_fun, init_fun = init_fun, cst_fun = cst_fun, dependency = 'know_sally_exists')\n",
    "apt_cst_list.append(have_sally_credential)"
   ]
  },
  {
   "cell_type": "code",
   "execution_count": 35,
   "id": "b5a38dc6-519e-458c-b1a8-e7611989da68",
   "metadata": {},
   "outputs": [],
   "source": [
    "with open('have_sally_credential.pkl', 'wb') as f:\n",
    "    pickle.dump(have_sally_credential, f)\n"
   ]
  },
  {
   "cell_type": "markdown",
   "id": "47c04f81-fe8a-4369-8695-1711c8a664fb",
   "metadata": {},
   "source": [
    "# Learn where data is stored"
   ]
  },
  {
   "cell_type": "code",
   "execution_count": 36,
   "id": "47cb7c92-ef70-4fc1-8011-bae94eeec81b",
   "metadata": {},
   "outputs": [],
   "source": [
    "def update_fun(k, r, k_past, r_past):\n",
    "    '''\n",
    "    r^t = (m_1^t, m_2^t)\n",
    "    m1^t = (k == ('DI', ('DS', 'syslog/ls'))) or r_past[0]  # tracks if the data storage state has occurred yet\n",
    "    forbidden_transitions = (k_past[0] == 'DI' and k[0] == 'COL')\n",
    "    forbidden_emissions = (k == ('COL', ('DS', 'syslog/nano')))\n",
    "    m2 = (m1 or (not (forbidden_transitions and forbidden_emissions))) and r_past[1]\n",
    "    '''\n",
    "    m1 = (k == ('DI', ('DS', 'syslog/ls'))) or r_past[0]  # tracks if the data storage state has occurred yet\n",
    "    forbidden_transitions = (k_past[0] == 'DI' and k[0] == 'COL')\n",
    "    forbidden_emissions = (k == ('COL', ('DS', 'syslog/nano')))\n",
    "    m2 = (m1 or (not (forbidden_transitions and forbidden_emissions))) and r_past[1]\n",
    "\n",
    "    return int(r == (m1, m2))\n",
    "\n",
    "def init_fun(k, r):\n",
    "    '''\n",
    "    Initial \"prob\" of r = (m1, m2) from k. Is just indicator\n",
    "    '''\n",
    "    m1 = k == ('DI', ('DS', 'syslog/ls'))\n",
    "    m2 = not (k == ('COL', ('DS', 'syslog/nano')))  # at first time, can only violate the emission constraint.\n",
    "\n",
    "    return int(r == (m1, m2))\n",
    "\n",
    "def cst_fun(k, r, sat):\n",
    "    '''\n",
    "    Constraint is a boolean emissions of the final auxiliary state. In this case, is just m1^T: ie. tau_a >= tau_b for all time.\n",
    "    '''\n",
    "    return int(r[1] == sat)\n"
   ]
  },
  {
   "cell_type": "code",
   "execution_count": 37,
   "id": "a10d566e-b9ac-435e-a8ef-d22691620611",
   "metadata": {},
   "outputs": [],
   "source": [
    "learn_where_data_stored = Munch(name = 'learn_where_data_stored',aux_size = 2, update_fun = update_fun, init_fun = init_fun, cst_fun = cst_fun, dependency = 'have_sally_credential')\n",
    "apt_cst_list.append(learn_where_data_stored)"
   ]
  },
  {
   "cell_type": "code",
   "execution_count": 38,
   "id": "7a57a59f-ebda-4c7d-bb2b-237f7c599e2d",
   "metadata": {},
   "outputs": [],
   "source": [
    "with open('learn_where_data_stored.pkl', 'wb') as f:\n",
    "    pickle.dump(learn_where_data_stored, f)\n"
   ]
  },
  {
   "cell_type": "markdown",
   "id": "8201b903-e36d-42c4-a513-3af64942beab",
   "metadata": {},
   "source": [
    "# Have data on ds"
   ]
  },
  {
   "cell_type": "code",
   "execution_count": 39,
   "id": "17408a7d-2001-4199-8997-fb935f4fae88",
   "metadata": {},
   "outputs": [],
   "source": [
    "def update_fun(k, r, k_past, r_past):\n",
    "    '''\n",
    "    r^t = (m_1^t, m_2^t)\n",
    "    m1^t = (k == ('COL', ('DS', 'syslog/nano'))) or r_past[0]  # tracks if the data state has occurred yet\n",
    "    forbidden_emissions = (k == ('COL', ('HI', 'img/post')))\n",
    "    m2 = (m1 or not forbidden_emissions) and r_past[1]\n",
    "    '''\n",
    "    m1 = (k == ('COL', ('DS', 'syslog/nano'))) or r_past[0]  # tracks if the data state has occurred yet\n",
    "    forbidden_emissions = (k == ('COL', ('HI', 'img/post')))\n",
    "    m2 = (m1 or not forbidden_emissions) and r_past[1]\n",
    "\n",
    "    return int(r == (m1, m2))\n",
    "\n",
    "def init_fun(k, r):\n",
    "    '''\n",
    "    Initial \"prob\" of r = (m1, m2) from k. Is just indicator\n",
    "    '''\n",
    "    m1 = k == ('COL', ('DS', 'syslog/nano'))\n",
    "    m2 = not (k == ('COL', ('HI', 'img/post')))  # at first time, can only violate the emission constraint.\n",
    "\n",
    "    return int(r == (m1, m2))\n",
    "\n",
    "def cst_fun(k, r, sat):\n",
    "    '''\n",
    "    Constraint is a boolean emissions of the final auxiliary state. In this case, is just m1^T: ie. tau_a >= tau_b for all time.\n",
    "    '''\n",
    "    return int(r[1] == sat)\n"
   ]
  },
  {
   "cell_type": "code",
   "execution_count": 40,
   "id": "3e99437f-c211-40aa-bbdb-a247ecbf851e",
   "metadata": {},
   "outputs": [],
   "source": [
    "have_data_on_ds = Munch(name = 'have_data_on_ds',aux_size = 2, update_fun = update_fun, init_fun = init_fun, cst_fun = cst_fun, dependency = 'learn_where_data_stored')\n",
    "apt_cst_list.append(have_data_on_ds)"
   ]
  },
  {
   "cell_type": "code",
   "execution_count": 41,
   "id": "4e85550e-9d2a-42b4-ba9a-5d10b4c5f9dd",
   "metadata": {},
   "outputs": [],
   "source": [
    "with open('have_data_on_ds.pkl', 'wb') as f:\n",
    "    pickle.dump(have_data_on_ds, f)\n"
   ]
  },
  {
   "cell_type": "markdown",
   "id": "34873c50-cf33-4aae-9cd7-cddb52735276",
   "metadata": {},
   "source": [
    "# Have data on hi"
   ]
  },
  {
   "cell_type": "code",
   "execution_count": 42,
   "id": "aaa3d043-9a70-4388-b6d9-dac355fca589",
   "metadata": {},
   "outputs": [],
   "source": [
    "def update_fun(k, r, k_past, r_past):\n",
    "    '''\n",
    "    r^t = (m_1^t, m_2^t)\n",
    "    m1^t = (k == ('COL', ('HI', 'img/post'))) or r_past[0]  # tracks if the data state has occurred yet\n",
    "    forbidden_emissions = (k == ('COL', ('HE', 'img/post')))\n",
    "    m2 = (m1 or not forbidden_emissions) and r_past[1]\n",
    "    '''\n",
    "    m1 = (k == ('COL', ('HI', 'img/post'))) or r_past[0]  # tracks if the data state has occurred yet\n",
    "    forbidden_emissions = (k == ('COL', ('HE', 'img/post')))\n",
    "    m2 = (m1 or not forbidden_emissions) and r_past[1]\n",
    "\n",
    "    return int(r == (m1, m2))\n",
    "\n",
    "def init_fun(k, r):\n",
    "    '''\n",
    "    Initial \"prob\" of r = (m1, m2) from k. Is just indicator\n",
    "    '''\n",
    "    m1 = k == ('COL', ('HI', 'img/post'))\n",
    "    m2 = not (k == ('COL', ('HE', 'img/post')))  # at first time, can only violate the emission constraint.\n",
    "\n",
    "    return int(r == (m1, m2))\n",
    "\n",
    "def cst_fun(k, r, sat):\n",
    "    '''\n",
    "    Constraint is a boolean emissions of the final auxiliary state. In this case, is just m1^T: ie. tau_a >= tau_b for all time.\n",
    "    '''\n",
    "    return int(r[1] == sat)\n"
   ]
  },
  {
   "cell_type": "code",
   "execution_count": 43,
   "id": "f50841d5-3040-4ff3-90de-fb153e9c993b",
   "metadata": {},
   "outputs": [],
   "source": [
    "have_data_on_hi = Munch(name = 'have_data_on_hi',aux_size = 2, update_fun = update_fun, init_fun = init_fun, cst_fun = cst_fun, dependency = 'have_data_on_ds')\n",
    "apt_cst_list.append(have_data_on_hi)"
   ]
  },
  {
   "cell_type": "code",
   "execution_count": 44,
   "id": "7aa0a1fe-0edc-4bbf-8d65-55e0a0ab83ca",
   "metadata": {},
   "outputs": [],
   "source": [
    "with open('have_data_on_hi.pkl', 'wb') as f:\n",
    "    pickle.dump(have_data_on_hi, f)\n"
   ]
  },
  {
   "cell_type": "markdown",
   "id": "e9256963-8571-4a4a-ad74-92ee16480744",
   "metadata": {},
   "source": [
    "# Have data on he"
   ]
  },
  {
   "cell_type": "code",
   "execution_count": 45,
   "id": "a8d772cd-1d63-4677-b1ae-b96ffc39e401",
   "metadata": {},
   "outputs": [],
   "source": [
    "def update_fun(k, r, k_past, r_past):\n",
    "    '''\n",
    "    r^t = (m_1^t, m_2^t)\n",
    "    m1^t = (k == ('COL', ('HE', 'img/post'))) or r_past[0]  # tracks if the data state has occurred yet\n",
    "    forbidden_transitions = (k_past[0] == 'COL' and k[0] == 'EXF')\n",
    "    forbidden_emissions = (k == ('EXF', ('HE', 'img/query')))\n",
    "    m2 = (m1 or (not (forbidden_transitions and forbidden_emissions))) and r_past[1]\n",
    "    '''\n",
    "    m1 = (k == ('COL', ('HE', 'img/post'))) or r_past[0]  # tracks if the data state has occurred yet\n",
    "    forbidden_transitions = (k_past[0] == 'COL' and k[0] == 'EXF')\n",
    "    forbidden_emissions = (k == ('EXF', ('HE', 'img/query')))\n",
    "    m2 = (m1 or (not (forbidden_transitions and forbidden_emissions))) and r_past[1]\n",
    "\n",
    "    return int(r == (m1, m2))\n",
    "\n",
    "def init_fun(k, r):\n",
    "    '''\n",
    "    Initial \"prob\" of r = (m1, m2) from k. Is just indicator\n",
    "    '''\n",
    "    m1 = k == ('COL', ('HE', 'img/post'))\n",
    "    m2 = not (k == ('EXF', ('HE', 'img/query')))  # at first time, can only violate the emission constraint.\n",
    "\n",
    "    return int(r == (m1, m2))\n",
    "\n",
    "def cst_fun(k, r, sat):\n",
    "    '''\n",
    "    Constraint is a boolean emissions of the final auxiliary state. In this case, is just m1^T: ie. tau_a >= tau_b for all time.\n",
    "    '''\n",
    "    return int(r[1] == sat)\n"
   ]
  },
  {
   "cell_type": "code",
   "execution_count": 46,
   "id": "ad4df649-53f5-4e84-ba4c-19d2e2d6baa2",
   "metadata": {},
   "outputs": [],
   "source": [
    "have_data_on_he = Munch(name = 'have_data_on_he',aux_size = 2, update_fun = update_fun, init_fun = init_fun, cst_fun = cst_fun, dependency = 'have_data_on_hi')\n",
    "apt_cst_list.append(have_data_on_he)"
   ]
  },
  {
   "cell_type": "code",
   "execution_count": 47,
   "id": "b253aa9c-5036-4bfd-82cd-9a7a4b6c2b49",
   "metadata": {},
   "outputs": [],
   "source": [
    "with open('have_data_on_he.pkl', 'wb') as f:\n",
    "    pickle.dump(have_data_on_he, f)\n"
   ]
  },
  {
   "cell_type": "code",
   "execution_count": null,
   "id": "f52bfabf-51b0-41d6-b01f-ff14c97a7bf0",
   "metadata": {},
   "outputs": [],
   "source": [
    "from munch import Munch\n",
    "\n",
    "def create_updatefun(zip_list):\n",
    "    def update_fun_agg(r,k,r_past):\n",
    "        val = 1\n",
    "        for cst, ix in zip_list:\n",
    "            val *= cst.update_fun(tuple(r[ix[0]:ix[1]]),k,tuple(r_past[ix[0]:ix[1]]))\n",
    "        return val\n",
    "    return update_fun_agg\n",
    "\n",
    "def create_initfun(zip_list):\n",
    "    def init_fun_agg(k,r):\n",
    "        val = 1\n",
    "        for cst,ix in zip_list:\n",
    "            val *= cst.init_fun(k,tuple(r[ix[0]:ix[1]]))\n",
    "        return val\n",
    "    return init_fun_agg\n",
    "\n",
    "def create_cstfun(zip_list):\n",
    "    def cst_fun_agg(r,sat):\n",
    "        val = 1\n",
    "        it = 0\n",
    "        for cst,ix in zip_list:\n",
    "            val*= cst.cst_fun(tuple(r[ix[0]:ix[1]]),sat[it])\n",
    "            it += 1\n",
    "        return val\n",
    "    return cst_fun_agg\n",
    "\n",
    "def apt_cst_aggregate(cst_list):\n",
    "    names_list = [cst.names for cst in cst_list]\n",
    "    ix_list = []\n",
    "    name_list = []\n",
    "    for cst in cst_list:\n",
    "        r_ix = l_ix + cst.aux_size\n",
    "        ix_list.append((l_ix,r_ix)) #tuple of indices of the aux stats that correspond to each state\n",
    "        l_ix = r_ix\n",
    "        name_list.append(cst.name)\n",
    "    zip_list = list(zip(cst_list,ix_list))\n",
    "\n",
    "    cst_combined = Munch(name = name_list, aux_size = r_ix, update_fun = create_updatefun(zip_list), \\\n",
    "                         init_fun = create_initfun(zip_list), cst_fun = create_cstfun(zip_list))\n",
    "    \n",
    "    return cst_combined"
   ]
  },
  {
   "cell_type": "code",
   "execution_count": null,
   "id": "5401451f-ffd0-4e97-b7f4-2d911bfa88a9",
   "metadata": {},
   "outputs": [],
   "source": [
    "\n",
    "def create_updatefun(zip_list, cst_ix):\n",
    "    def update_fun_agg(k,r,k_past,r_past):\n",
    "        val = 1\n",
    "        for cst, ix in zip_list:\n",
    "            val *= cst.update_fun(tuple(k,r[ix[0]:ix[1]]),k_past,tuple(r_past[ix[0]:ix[1]]))\n",
    "            if cst.dependency:\n",
    "                val *= int(r[cst.dependency] or (not r[cst.name])) #either the dependcy is satisifed or the current knowledge hasn't been attained.\n",
    "        return val\n",
    "    return update_fun_agg\n",
    "\n",
    "def create_initfun(zip_list, cst_ix):\n",
    "    def init_fun_agg(k,r):\n",
    "        val = 1\n",
    "        for cst,ix in zip_list:\n",
    "            val *= cst.init_fun(k,tuple(r[ix[0]:ix[1]]))\n",
    "        return val\n",
    "    return init_fun_agg\n",
    "\n",
    "def create_cstfun(zip_list, cst_ix):\n",
    "    def cst_fun_agg(k,r,sat):\n",
    "        val = 1\n",
    "        it = 0\n",
    "        for cst,ix in zip_list:\n",
    "            val*= cst.cst_fun(k,tuple(r[ix[0]:ix[1]]),sat[it])\n",
    "            it += 1\n",
    "        return val\n",
    "    return cst_fun_agg\n",
    "\n",
    "def apt_cst_aggregate(cst_list):\n",
    "    '''\n",
    "    Assumes that the first Boolean of a constraint tracks whether the knowledge state has been hit.\n",
    "    '''\n",
    "    l_ix = 0\n",
    "    r_ix = 0\n",
    "    ix_list = []\n",
    "    name_list = []\n",
    "    cst_ix = {}\n",
    "    for cst in cst_list:\n",
    "        cst_ix[cst.name] = l_ix\n",
    "        r_ix = l_ix + cst.aux_size\n",
    "        ix_list.append((l_ix,r_ix)) #tuple of indices of the aux stats that correspond to each state\n",
    "        l_ix = r_ix\n",
    "    zip_list = list(zip(cst_list,ix_list))\n",
    "\n",
    "    cst_combined = Munch(name = name_list, aux_size = r_ix, update_fun = create_updatefun(zip_list, cst_list), \\\n",
    "                         init_fun = create_initfun(zip_list, cst_list), cst_fun = create_cstfun(zip_list, cst_list))\n",
    "    \n",
    "    return cst_combined"
   ]
  }
 ],
 "metadata": {
  "kernelspec": {
   "display_name": "Python 3 (ipykernel)",
   "language": "python",
   "name": "python3"
  },
  "language_info": {
   "codemirror_mode": {
    "name": "ipython",
    "version": 3
   },
   "file_extension": ".py",
   "mimetype": "text/x-python",
   "name": "python",
   "nbconvert_exporter": "python",
   "pygments_lexer": "ipython3",
   "version": "3.12.5"
  }
 },
 "nbformat": 4,
 "nbformat_minor": 5
}
