{
 "cells": [
  {
   "cell_type": "code",
   "execution_count": 1,
   "id": "c5a243af-db56-44e7-af89-1782eec95667",
   "metadata": {},
   "outputs": [],
   "source": [
    "import numpy as np\n",
    "import warnings\n",
    "from munch import Munch\n",
    "import itertools\n",
    "from mv_Viterbi import mv_Viterbi"
   ]
  },
  {
   "cell_type": "markdown",
   "id": "f58c62bd-0976-4c29-b411-0d77ffc33073",
   "metadata": {},
   "source": [
    "# Split Version of Mediation Variables\n",
    "\n",
    "The original formulation where we split a constraint across time added some complexity and, imporntantly, made it very hard to condition on the constraint being unsatsifies $C = 0$, since in the original $C=1$ was equivalent to setting every $C_t = 1$. In this version, we sidestep this issue by not splitting up $C$. For more info, refer to the notes on Overleaf.\n",
    "\n",
    "### The Model\n",
    "\n",
    "Same as the other notebook, the HMM here is designed specifically to demonstrate the effects of constraints. We have a three state HMM $a,b,c$ with binary emissions $A,C$. As the names would suggest, $a$ and $c$ are very likely to emit $A$ and $C$ respecively, while $b$ emits both with equal probability. The intial distribution is also uniform over all 3 states.\n",
    "\n",
    "### The precedence constraint\n",
    "\n",
    "We'll be handling a precendence constraint: $a$ must happen before $c$. The mediatory variable is a 2-dimensional binary vector $r_t = (m_1^t, m_2^t)$. $m_1^t$ tracks whether state $a$ has been visited yet. $m_2^t$ then tracks if, at any time up to $t$, state $c$ has occured before $a$ was visited. \n",
    "\n",
    "# Inference: Unconstrained vs. Unconstrained\n",
    "\n",
    "In the unconstrained case, given an observation sequence of $A,A,C,\\cdots[]$ the MAP will simply be the corresponding hidden sequence $a,a,c,\\cdots$. $b$ will never be encountered in the unconstrained MAP.\n",
    "\n",
    "However, in the constrained case, say the we know the constraint is satisfied. Then if we encounter a few initial $C$'s, our constrain forces us to choose $b$ which is allowed and more likely to emite $C$ than $a$. For example, $C,C,A,A,\\cdots$ would give rise to  $b,b,a,a,\\cdots$, since we cannot have $c$ happen before $a$. Note that if the intial sequence of $C$'s is longer than 3, then we'll be incentivized to eat the cost of starting at $a$ so we can unlock $c$ for the subsequent states.\n",
    "\n",
    "On the other hand, saya we know the constraint is NOT satisfied, equivalent to knowing that $c$ happens before $a$. Then the situation is symmetric, except now we would infer $b$'s if we encounter a small intiial sequence of $a$'s.\n",
    "\n",
    "# Interesting Points\n",
    "\n",
    "Already, we demonstrated that with intermediate variables, we're able to run the Viterbi algorithm on the augmented model with small additional overhead. If you look at the code and/or the equations, we needed to track the states of a binary 2D vector, expanding the number of values tracked in Viterbi by a factor of 4. However, we notably did not need to blow up the transition matrix, and the \"transitions\"/\"emissions\" of these auxillary variables were incorporates as 0-1 weights.\n",
    "\n",
    "Also, note that now it's trivial to do constrained inference in the case where we know the constrain is NOT satisfied. This amounts to merely setting the constraint emission to 0 and runnign Vitberi, as demonstrated in an example later on."
   ]
  },
  {
   "cell_type": "markdown",
   "id": "314f0207-d5af-4d20-81d3-777fb5f0557e",
   "metadata": {},
   "source": [
    "### Create the HMM"
   ]
  },
  {
   "cell_type": "code",
   "execution_count": 2,
   "id": "9c49caa1-f703-4878-9114-fc57cb03ab53",
   "metadata": {},
   "outputs": [],
   "source": [
    "hidden_states = ['a','b','c']\n",
    "emit_states = ['A','C']\n",
    "hmm_transition = {}\n",
    "for i in hidden_states:\n",
    "    for j in hidden_states:\n",
    "        hmm_transition[i,j] = 1/3\n",
    "\n",
    "emit_mat = np.array([\n",
    "    [.8,.2],\n",
    "    [.5,.5],\n",
    "    [.2,.8]\n",
    "])\n",
    "hmm_emit = {}\n",
    "for i in range(3):\n",
    "    for j in range(2):\n",
    "        hmm_emit[hidden_states[i],emit_states[j]] = emit_mat[i,j].item()\n",
    "        \n",
    "hmm_startprob = {}\n",
    "for i in hidden_states:\n",
    "    hmm_startprob[i] = 1/3\n",
    "\n",
    "hmm = Munch(states = hidden_states, emits = emit_states, tprob = hmm_transition, eprob = hmm_emit, initprob = hmm_startprob)"
   ]
  },
  {
   "cell_type": "markdown",
   "id": "63112492-5421-4a05-8c8c-2c6ff6ac5e63",
   "metadata": {},
   "source": [
    "### Create the Constraint"
   ]
  },
  {
   "cell_type": "code",
   "execution_count": 3,
   "id": "cefac4ef-bb55-41a3-bb1d-748192162043",
   "metadata": {},
   "outputs": [],
   "source": [
    "def update_fun(r,k , r_past):\n",
    "    '''\n",
    "    m1^t = tau^t_a = a OR tau^{t-1}_a #tracks if state a has happend yet \n",
    "    m2^t = [1- (1 - tau^t_a) AND c)] AND m2^{t-1} = [tau^t_a or (1 - c)] AND m2^{t-1} #tracks if the arrival time of a is before c\n",
    "    k is the current state\n",
    "    r is the auxillary state. a 2-tuple. r = (m1,m2)\n",
    "    '''\n",
    "    m1 = (k == 'a') or r_past[0]\n",
    "    m2 = (m1 or (not k == 'c')) and r_past[1]\n",
    "\n",
    "    return int(r == (m1,m2))\n",
    "\n",
    "def init_fun(k, r):\n",
    "    '''\n",
    "    initial \"prob\" of r = (m1,m2) from k. is just indicator\n",
    "    '''\n",
    "    m1 = k == 'a'\n",
    "    m2 = not k == 'c'\n",
    "\n",
    "    return int(r == (m1,m2))\n",
    "    \n",
    "def cst_fun(r, sat):\n",
    "    '''\n",
    "    Constraint is a boolean emissions of the final auxillary state. In this case, is just m1^T: ie. tau_a >= tau_b for all time.\n",
    "    '''\n",
    "    return int(r[1] == sat) "
   ]
  },
  {
   "cell_type": "code",
   "execution_count": 4,
   "id": "182cffcc-729b-4c0d-babe-5050c249622a",
   "metadata": {},
   "outputs": [],
   "source": [
    "cst = Munch(aux_size = 2, update_fun = update_fun, init_fun = init_fun, cst_fun = cst_fun)"
   ]
  },
  {
   "cell_type": "markdown",
   "id": "365da95a-c61a-4368-b6f3-10d558bd0e89",
   "metadata": {},
   "source": [
    "### Inference when the Constraint is Satisfied\n",
    "\n",
    "Here, we constrain $C=1$: $a$ must happen before $c$. As predicted, when encountering an initial sequence of $C$'s, our model choose $b$ since $c$ is not allowed and $b$ has a higher chance of emitting $C$. Provided the initial number of $C$'s is at most 2, we'll see this behavior. We can increase the admissable length of $b$'s by decreasing the emission probabilities $a,A$ and $c,C$ if "
   ]
  },
  {
   "cell_type": "code",
   "execution_count": 11,
   "id": "538fb16b-9480-47f3-a9a8-3b41238063ea",
   "metadata": {},
   "outputs": [],
   "source": [
    "obs = ['C','C','A','C','A','C']"
   ]
  },
  {
   "cell_type": "code",
   "execution_count": 12,
   "id": "1c833975-3d43-4d05-954e-68683594ca69",
   "metadata": {},
   "outputs": [],
   "source": [
    "opt_aug, opt_state = mv_Viterbi(obs, hmm, cst, sat = True)"
   ]
  },
  {
   "cell_type": "code",
   "execution_count": 13,
   "id": "09697322-d13c-486b-a8b8-918b6c397d8f",
   "metadata": {},
   "outputs": [
    {
     "data": {
      "text/plain": [
       "['b', 'b', 'a', 'c', 'a', 'c']"
      ]
     },
     "execution_count": 13,
     "metadata": {},
     "output_type": "execute_result"
    }
   ],
   "source": [
    "opt_state"
   ]
  },
  {
   "cell_type": "code",
   "execution_count": 8,
   "id": "520adc93-6bb5-4539-8544-b898d42a82a9",
   "metadata": {},
   "outputs": [],
   "source": [
    "obs = ['A','A','C','A','C','A','C']"
   ]
  },
  {
   "cell_type": "code",
   "execution_count": 9,
   "id": "2dc4716b-e43d-43c4-984e-c81ed6aea3f0",
   "metadata": {},
   "outputs": [],
   "source": [
    "opt_aug, opt_state = mv_Viterbi(obs, hmm, cst, sat = False)"
   ]
  },
  {
   "cell_type": "code",
   "execution_count": 10,
   "id": "23d70283-173c-4f77-8a54-d16ab4171f71",
   "metadata": {},
   "outputs": [
    {
     "data": {
      "text/plain": [
       "['b', 'b', 'c', 'a', 'c', 'a', 'c']"
      ]
     },
     "execution_count": 10,
     "metadata": {},
     "output_type": "execute_result"
    }
   ],
   "source": [
    "opt_state"
   ]
  },
  {
   "cell_type": "code",
   "execution_count": null,
   "id": "0b2abc97-363a-43c2-b037-32a301125650",
   "metadata": {},
   "outputs": [],
   "source": []
  }
 ],
 "metadata": {
  "kernelspec": {
   "display_name": "conin",
   "language": "python",
   "name": "conin"
  },
  "language_info": {
   "codemirror_mode": {
    "name": "ipython",
    "version": 3
   },
   "file_extension": ".py",
   "mimetype": "text/x-python",
   "name": "python",
   "nbconvert_exporter": "python",
   "pygments_lexer": "ipython3",
   "version": "3.10.15"
  }
 },
 "nbformat": 4,
 "nbformat_minor": 5
}
