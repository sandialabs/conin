{
 "cells": [
  {
   "cell_type": "code",
   "execution_count": 1,
   "id": "27788bc4-79b7-48e6-989d-2fb4965b71fd",
   "metadata": {},
   "outputs": [],
   "source": [
    "import numpy as np\n",
    "import warnings\n",
    "import torch"
   ]
  },
  {
   "cell_type": "code",
   "execution_count": 2,
   "id": "39bebd16-e300-4896-83c5-7a1dd523d321",
   "metadata": {},
   "outputs": [],
   "source": [
    "class HMM:\n",
    "    \"\"\"\n",
    "    Creates augmented HMM adapted to this tutorial for proof of concept.\n",
    "    Single precendence constraint and two auxillary variables to be updated. This is for precedence.\n",
    "    \"\"\"\n",
    "\n",
    "    def __init__(self, tmat, init_dist, emit):\n",
    "        \"\"\"\n",
    "        all three objects should be np arrays\n",
    "        If n is # hidden states, m # observation states, then:\n",
    "        tmat: (n,n)\n",
    "        init_dist: (n,)\n",
    "        emit: (n,m)\n",
    "        updater: list of updaters\n",
    "        constraint: constraint function\n",
    "        \"\"\"\n",
    "        if tmat.shape[0] != init_dist.shape[0]:\n",
    "            warnings.warn(\n",
    "                \"transition and initial distribution have different state space sizes\",\n",
    "                UserWarning,\n",
    "            )\n",
    "        self.tmat = tmat\n",
    "        self.init_dist = init_dist\n",
    "        self.emit = emit\n",
    "\n",
    "    def random_draw(self, p):\n",
    "        \"\"\"\n",
    "        p is a 1D np array.\n",
    "        single random draw from p and encode as 1-hot.\n",
    "        \"\"\"\n",
    "        n = len(p)\n",
    "        draw = np.random.choice(n, p=p)\n",
    "        one_hot = np.zeros(n, dtype=int)\n",
    "        one_hot[draw] = 1\n",
    "        return one_hot\n",
    "\n",
    "    def simulation(self, time):\n",
    "        \"\"\"\n",
    "        generates a full run for specified time.\n",
    "        \"\"\"\n",
    "\n",
    "        # Generate (X1,Y1)\n",
    "        x_prev = self.random_draw(self.init_dist)\n",
    "        x_list = [x_prev]\n",
    "        y_list = [self.random_draw(x_prev @ self.emit)]\n",
    "\n",
    "        # Generate rest\n",
    "        for t in range(time - 1):\n",
    "            x_curr = self.random_draw(x_prev @ self.tmat)\n",
    "            y_curr = self.random_draw(x_curr @ self.emit)\n",
    "            x_list.append(x_curr)\n",
    "            y_list.append(y_curr)\n",
    "            x_prev = x_curr\n",
    "\n",
    "        return x_list, y_list\n",
    "\n",
    "    # def viterbi(self,):"
   ]
  },
  {
   "cell_type": "code",
   "execution_count": 3,
   "id": "1973cab3-95a4-4c1d-a102-8311660683a9",
   "metadata": {},
   "outputs": [],
   "source": [
    "def softmax(x):\n",
    "    c = np.exp(x)\n",
    "    z = c.sum()\n",
    "    return c / z"
   ]
  },
  {
   "cell_type": "code",
   "execution_count": 4,
   "id": "cf160d61-906d-4ea6-8f93-c82847fc14b9",
   "metadata": {},
   "outputs": [
    {
     "data": {
      "text/plain": [
       "array([1., 1., 1.])"
      ]
     },
     "execution_count": 4,
     "metadata": {},
     "output_type": "execute_result"
    }
   ],
   "source": [
    "tmat = np.random.randn(3, 3)\n",
    "emit = np.random.randn(3, 2)\n",
    "\n",
    "# tmat1 = torch.from_numpy(tmat)\n",
    "tmat = np.apply_along_axis(softmax, 1, tmat)\n",
    "emit = np.apply_along_axis(softmax, 1, emit)\n",
    "\n",
    "tmat.sum(axis=1)"
   ]
  },
  {
   "cell_type": "code",
   "execution_count": 5,
   "id": "3046aa9d-682e-4bb1-84c0-b1a40cb7aec9",
   "metadata": {
    "scrolled": true
   },
   "outputs": [],
   "source": [
    "init_prob = tmat[0, :]"
   ]
  },
  {
   "cell_type": "code",
   "execution_count": 6,
   "id": "23b68451-50a9-4d64-8816-a69fe3653129",
   "metadata": {},
   "outputs": [],
   "source": [
    "def update_counter(z, x, i):\n",
    "    ret_val = z\n",
    "    if x[i] == 1:\n",
    "        ret_val = ret_val + 1\n",
    "    return max(ret_val, 1)\n",
    "\n",
    "\n",
    "def time_constraint(z1, z2):\n",
    "    return z1 >= z2\n",
    "\n",
    "\n",
    "def constraint_checker(x, i, j):\n",
    "    truth_val = True\n",
    "    cA = 0\n",
    "    cB = 0\n",
    "    for t in range(len(x)):\n",
    "        cA = update_counter(cA, x[t], 0)\n",
    "        cB = update_counter(cA, x[t], 1)\n",
    "        truth_val = time_constraint(cA, cB) and truth_val\n",
    "    return truth_val"
   ]
  },
  {
   "cell_type": "code",
   "execution_count": 35,
   "id": "1ba6de3b-a58c-41b2-988c-dd75e1bb01e6",
   "metadata": {},
   "outputs": [],
   "source": [
    "hmm1 = HMM(tmat, init_prob, emit)"
   ]
  },
  {
   "cell_type": "markdown",
   "id": "3bde1a46-d1f6-4943-b96e-7ced2219e090",
   "metadata": {},
   "source": [
    "Simple HMM.\n",
    "\n",
    "We're going with a 3-state HMM with:\n",
    "\n",
    "1. Uniform transition matrix\n",
    "2. Binary emissions with emission matrix: $\\begin{bmatrix} .8 & .2\\\\ .2 & .8\\\\ .5 & .5 \\end{bmatrix}$\n",
    "\n",
    "We're going to additionally impose the constraint that state $0$ must happen before state $1$. To make things compact, we're going use just a single mediator $Y$ that tracks if state $0$ has happened yet. Then, if $Z_t = 1$ but $Y_t = 0$ (so $1$ happens before $0$) the constraint is violated.\n",
    "\n",
    "Our augmented state space has 6 states corresponding to $(Z,Y)$, and our modified emissions matrix will be a $6 \\times 4$ matrix: 6 hiddens states and $(X,C)$ emissions - 4 in total."
   ]
  },
  {
   "cell_type": "markdown",
   "id": "2ce02687-5fb3-440d-ab59-a557ac15691d",
   "metadata": {},
   "source": [
    "row/cols are indexed in dictionary order: $(0,0), (1,0),\\cdots, (2,1)$. The first index is the orginal hidden state, the second is the tracker for if state $0$ has happened yet. Note the state $(0,0)$ is impossible and we set it as an absorbing state. Similarly, the rows of the emission matrix are indexed as $(0,0),(1,0),\\cdots,(1,1)$ where the first index is the origina emission and the second the truth value of the constraints."
   ]
  },
  {
   "cell_type": "code",
   "execution_count": 2,
   "id": "5be8b070-08f5-4b82-b4f7-2882606a506f",
   "metadata": {},
   "outputs": [],
   "source": [
    "def viterbi(A, C, B, O):\n",
    "    \"\"\"Viterbi algorithm for solving the uncovering problem\n",
    "\n",
    "    Notebook: C5/C5S3_Viterbi.ipynb\n",
    "\n",
    "    Args:\n",
    "        A (np.ndarray): State transition probability matrix of dimension I x I\n",
    "        C (np.ndarray): Initial state distribution  of dimension I\n",
    "        B (np.ndarray): Output probability matrix of dimension I x K\n",
    "        O (np.ndarray): Observation sequence of length N\n",
    "\n",
    "    Returns:\n",
    "        S_opt (np.ndarray): Optimal state sequence of length N\n",
    "        D (np.ndarray): Accumulated probability matrix\n",
    "        E (np.ndarray): Backtracking matrix\n",
    "    \"\"\"\n",
    "    I = A.shape[0]  # Number of states\n",
    "    N = len(O)  # Length of observation sequence\n",
    "\n",
    "    # Initialize D and E matrices\n",
    "    D = np.zeros((I, N))\n",
    "    E = np.zeros((I, N - 1)).astype(np.int32)\n",
    "    D[:, 0] = np.multiply(C, B[:, O[0]])\n",
    "\n",
    "    # Compute D and E in a nested loop\n",
    "    for n in range(1, N):\n",
    "        for i in range(I):\n",
    "            temp_product = np.multiply(A[:, i], D[:, n - 1])\n",
    "            D[i, n] = np.max(temp_product) * B[i, O[n]]\n",
    "            E[i, n - 1] = np.argmax(temp_product)\n",
    "\n",
    "    # Backtracking\n",
    "    S_opt = np.zeros(N).astype(np.int32)\n",
    "    S_opt[-1] = np.argmax(D[:, -1])\n",
    "    for n in range(N - 2, -1, -1):\n",
    "        S_opt[n] = E[int(S_opt[n + 1]), n]\n",
    "\n",
    "    return S_opt, D, E"
   ]
  },
  {
   "cell_type": "code",
   "execution_count": 5,
   "id": "2abec368-b7eb-40c3-93ab-fda406e030c4",
   "metadata": {},
   "outputs": [
    {
     "data": {
      "text/plain": [
       "array([[0. , 0. , 0.8, 0.2],\n",
       "       [0.2, 0.8, 0. , 0. ],\n",
       "       [0. , 0. , 0.5, 0.5],\n",
       "       [0. , 0. , 0.8, 0.2],\n",
       "       [0. , 0. , 0.2, 0.8],\n",
       "       [0. , 0. , 0.5, 0.5]])"
      ]
     },
     "execution_count": 5,
     "metadata": {},
     "output_type": "execute_result"
    }
   ],
   "source": [
    "tmat = np.array(\n",
    "    [\n",
    "        [1, 0, 0, 0, 0, 0],\n",
    "        [0, 1 / 3, 1 / 3, 1 / 3, 0, 0],\n",
    "        [0, 1 / 3, 1 / 3, 1 / 3, 0, 0],\n",
    "        [0, 0, 0, 1 / 3, 1 / 3, 1 / 3],\n",
    "        [0, 0, 0, 1 / 3, 1 / 3, 1 / 3],\n",
    "        [0, 0, 0, 1 / 3, 1 / 3, 1 / 3],\n",
    "    ]\n",
    ")\n",
    "# row/cols are indexed in dictionary order: (0,0), (1,0),...(2,1)\n",
    "#\n",
    "\n",
    "emit = np.array(\n",
    "    [\n",
    "        [0, 0, 0.8, 0.2],\n",
    "        [0.2, 0.8, 0, 0],\n",
    "        [0, 0, 0.5, 0.5],\n",
    "        [0, 0, 0.8, 0.2],\n",
    "        [0, 0, 0.2, 0.8],\n",
    "        [0, 0, 0.5, 0.5],\n",
    "    ]\n",
    ")\n",
    "emit"
   ]
  },
  {
   "cell_type": "markdown",
   "id": "04793cd0-0619-46f3-ac14-ed19b3a97f73",
   "metadata": {},
   "source": [
    "Intialize with uniform distribution over all original hidden states. Note that if we initialize to $0$, then we also initialize to $Y = 1$."
   ]
  },
  {
   "cell_type": "code",
   "execution_count": 6,
   "id": "ddd6b01c-1814-4101-bf62-f5ab06d85c8e",
   "metadata": {},
   "outputs": [
    {
     "data": {
      "text/plain": [
       "array([0.        , 0.33333333, 0.33333333, 0.33333333, 0.        ,\n",
       "       0.        ])"
      ]
     },
     "execution_count": 6,
     "metadata": {},
     "output_type": "execute_result"
    }
   ],
   "source": [
    "init_prob = np.array([0, 1 / 3, 1 / 3, 1 / 3, 0, 0])\n",
    "init_prob"
   ]
  },
  {
   "cell_type": "markdown",
   "id": "6b8e6f66-c0f7-4ec3-abbe-3db28ee5952f",
   "metadata": {},
   "source": [
    "We observe the original sequence below. Since we also condition on the constraints being true, we shfit by two ie. $i \\rightarrow (i,1)$"
   ]
  },
  {
   "cell_type": "code",
   "execution_count": 7,
   "id": "58ea57eb-cc50-459b-8761-0e2f386cd205",
   "metadata": {},
   "outputs": [
    {
     "data": {
      "text/plain": [
       "array([0.        , 0.33333333, 0.33333333, 0.33333333, 0.        ,\n",
       "       0.        ])"
      ]
     },
     "execution_count": 7,
     "metadata": {},
     "output_type": "execute_result"
    }
   ],
   "source": [
    "init_prob"
   ]
  },
  {
   "cell_type": "code",
   "execution_count": 8,
   "id": "ba581dfa-cc77-4e7a-8b4c-15e41cb1e253",
   "metadata": {},
   "outputs": [
    {
     "data": {
      "text/plain": [
       "array([3, 3, 2, 3, 3, 2, 3])"
      ]
     },
     "execution_count": 8,
     "metadata": {},
     "output_type": "execute_result"
    }
   ],
   "source": [
    "og_obs = [1, 1, 0, 1, 1, 0, 1]\n",
    "shift_obs = np.array(og_obs) + 2\n",
    "shift_obs"
   ]
  },
  {
   "cell_type": "code",
   "execution_count": 18,
   "id": "aa0871f5-3017-46b3-b16b-e5947643e8dd",
   "metadata": {},
   "outputs": [
    {
     "name": "stdout",
     "output_type": "stream",
     "text": [
      "Observation sequence:   O =  [3 3 2 3 3 2 3]\n",
      "Optimal Augmented Hidden State: S_aug =  [2 2 3 4 4 3 4]\n",
      "Optimal Original Hidden State: S =  [2 2 0 1 1 0 1]\n"
     ]
    }
   ],
   "source": [
    "# Define model parameters\n",
    "A = tmat\n",
    "C = init_prob\n",
    "B = emit\n",
    "O = shift_obs\n",
    "\n",
    "# O = np.array([1]).astype(np.int32)\n",
    "# O = np.array([1, 2, 0, 2, 2, 1]).astype(np.int32)\n",
    "\n",
    "# Apply Viterbi algorithm\n",
    "S_opt, D, E = viterbi(A, C, B, O)\n",
    "\n",
    "# Now convert expanded states into original states\n",
    "\n",
    "S_convert = S_opt % 3\n",
    "\n",
    "\n",
    "print(\"Observation sequence:   O = \", O)\n",
    "print(\"Optimal Augmented Hidden State: S_aug = \", S_opt)\n",
    "print(\"Optimal Original Hidden State: S = \", S_convert)"
   ]
  },
  {
   "cell_type": "code",
   "execution_count": 115,
   "id": "2c0a609c-03ff-4a98-ab59-a836618aba74",
   "metadata": {},
   "outputs": [],
   "source": [
    "X, Y = np.meshgrid([0, 1, 2], [0, 1])"
   ]
  },
  {
   "cell_type": "code",
   "execution_count": 12,
   "id": "572b64c1-8d88-4f36-a2ba-b2b11cd30415",
   "metadata": {},
   "outputs": [],
   "source": [
    "def f(x, y):\n",
    "    return x + y"
   ]
  },
  {
   "cell_type": "code",
   "execution_count": 17,
   "id": "747f6174-4035-4ea7-b051-e650253af9d3",
   "metadata": {},
   "outputs": [
    {
     "data": {
      "text/plain": [
       "3"
      ]
     },
     "execution_count": 17,
     "metadata": {},
     "output_type": "execute_result"
    }
   ],
   "source": [
    "f(X, Y).max().item()"
   ]
  },
  {
   "cell_type": "code",
   "execution_count": 36,
   "id": "a11936b7-12cc-4d50-a6b8-02d464c3ff74",
   "metadata": {},
   "outputs": [],
   "source": [
    "def viterbi(tmat, init_prob, emit, y_fun, c_fun, obs):\n",
    "    \"\"\"\n",
    "    tmat and emit are the transition and emission matrices respectively.\n",
    "    init_prob is the starting prob, a 1D array.\n",
    "    y_fun is the function p(y_t|z_t,y_{t-1}): 3 arguments\n",
    "    c_fun is a function that checkes if z_t, y_t is consistent with c_t = 1: 2 arguments\n",
    "\n",
    "    obs is a list of integers\n",
    "    \"\"\"\n",
    "    T = len(obs)\n",
    "    n_s, n_e = tmat.shape[1], emit.shape[1]\n",
    "    V = np.zeros((T, n_s, 2))\n",
    "    E = np.zeros((T - 1, n_s, 2))\n",
    "    x = obs\n",
    "\n",
    "    Z, Y = np.meshgrid(list(range(n_s)), list(range(2)))\n",
    "\n",
    "    for k in range(n_s):\n",
    "        for r in range(2):\n",
    "            V[0, k, r] = init_prob[k] * emit[k, x[0]] * c_fun(k, r)\n",
    "\n",
    "    for t in range(1, T):\n",
    "        for k in range(n_s):\n",
    "            for r in range(2):\n",
    "                val_fun = (\n",
    "                    lambda z, y: tmat[z, k]\n",
    "                    * V[t - 1, z, y]\n",
    "                    * emit[k, x[t]]\n",
    "                    * y_fun(r, z, y)\n",
    "                    * c_fun(k, r)\n",
    "                )\n",
    "                V[t, k, r] = val_fun(Z, Y).max().item()\n",
    "                e_fun = (\n",
    "                    lambda z, y: tmat[z, k] * V[t - 1, z, y] * y_fun(r, z, y)\n",
    "                )\n",
    "                E_val = e_fun(Z, Y)\n",
    "                E[t - 1, k, r] = np.unravel_index(\n",
    "                    np.argmax(E_val), E_val.shape\n",
    "                )"
   ]
  },
  {
   "cell_type": "code",
   "execution_count": 77,
   "id": "b952a51d-75bd-4011-91a8-406f79176264",
   "metadata": {},
   "outputs": [],
   "source": [
    "def maximize(f, n_s, n_y, ret_val=True):\n",
    "    \"\"\"\n",
    "    brute-force maximizer since numpy dones't play well with grids and logical functions\n",
    "    we only need to keep track of the original states\n",
    "    \"\"\"\n",
    "    arg_max = None\n",
    "    val_max = -999\n",
    "    for i in range(n_s):\n",
    "        for j in range(n_y):\n",
    "            val = f(i, j)\n",
    "            if val > val_max:\n",
    "                val_max = val\n",
    "                arg_max = (i, j)\n",
    "    if ret_val:\n",
    "        return val_max\n",
    "    else:\n",
    "        return arg_max"
   ]
  },
  {
   "cell_type": "code",
   "execution_count": 78,
   "id": "b1b768aa-1be9-49ec-a2b3-7adcd6eea089",
   "metadata": {},
   "outputs": [],
   "source": [
    "def y_fun(y1, z, y0):\n",
    "    \"\"\"\n",
    "    Checks assignment y_1 is consistent with z,y0.\n",
    "    \"\"\"\n",
    "    target = int(max(y0, int(z == 0)))\n",
    "    return int(y1 == target)\n",
    "\n",
    "\n",
    "def c_fun(z, y):\n",
    "    violate = (z == 1) and (y == 0)\n",
    "    return int(not violate)"
   ]
  },
  {
   "cell_type": "code",
   "execution_count": 79,
   "id": "3722a547-2946-42db-bfd5-eb5763298554",
   "metadata": {},
   "outputs": [],
   "source": [
    "# def y_fun(y1, z, y0):\n",
    "#     '''\n",
    "#     Checks assignment y_1 is consistent with z,y0.\n",
    "#     '''\n",
    "#     target = (np.max(y0, int(z == 0))).astype(int)\n",
    "#     return (y1 == target).astype(int)\n",
    "\n",
    "# def c_fun(z,y):\n",
    "#     violate = ((z == 1) and (y == 0))\n",
    "#     return int(not violate)"
   ]
  },
  {
   "cell_type": "code",
   "execution_count": 53,
   "id": "c1b5a537-0c1c-4e9a-9942-ef414712f130",
   "metadata": {},
   "outputs": [],
   "source": [
    "init_prob = np.array([1 / 3, 1 / 3, 1 / 3])\n",
    "tmat = np.tile(init_prob, (3, 1)).T\n",
    "emit = np.array([[0.8, 0.2], [0.2, 0.8], [0.5, 0.5]])\n",
    "obs = [0, 1, 1]"
   ]
  },
  {
   "cell_type": "code",
   "execution_count": 81,
   "id": "d7502573-5f5c-41dd-84fe-d0cecf9d7acd",
   "metadata": {},
   "outputs": [
    {
     "ename": "SyntaxError",
     "evalue": "invalid syntax (1401959093.py, line 19)",
     "output_type": "error",
     "traceback": [
      "\u001b[0;36m  Cell \u001b[0;32mIn[81], line 19\u001b[0;36m\u001b[0m\n\u001b[0;31m    for\u001b[0m\n\u001b[0m        ^\u001b[0m\n\u001b[0;31mSyntaxError\u001b[0m\u001b[0;31m:\u001b[0m invalid syntax\n"
     ]
    }
   ],
   "source": [
    "T = len(obs)\n",
    "n_s, n_e = tmat.shape[1], emit.shape[1]\n",
    "V = np.zeros((T, n_s, 2))\n",
    "E = np.zeros((T - 1, n_s, 2))\n",
    "x = obs\n",
    "\n",
    "for k in range(n_s):\n",
    "    for r in range(2):\n",
    "        V[0, k, r] = init_prob[k] * emit[k, x[0]] * c_fun(k, r)\n",
    "\n",
    "    for t in range(1, T):\n",
    "        for k in range(n_s):\n",
    "            for r in range(2):\n",
    "                val_fun = (\n",
    "                    lambda z, y: tmat[z, k]\n",
    "                    * V[t - 1, z, y]\n",
    "                    * emit[k, x[t]]\n",
    "                    * y_fun(r, z, y)\n",
    "                    * c_fun(k, r)\n",
    "                )\n",
    "                V[t, k, r] = maximize(val_fun, n_s, 2, ret_val=True)\n",
    "                e_fun = (\n",
    "                    lambda z, y: tmat[z, k] * V[t - 1, z, y] * y_fun(r, z, y)\n",
    "                )\n",
    "                E[t - 1, k, r] = maximize(e_fun, n_s, 2, ret_val=False)\n",
    "\n",
    "max_prob = V[T - 1, :, :].max().item()"
   ]
  },
  {
   "cell_type": "code",
   "execution_count": 74,
   "id": "ffc2ffc8-9189-4897-b8da-55ab09ca6d5c",
   "metadata": {},
   "outputs": [
    {
     "data": {
      "text/plain": [
       "0.018962962962962963"
      ]
     },
     "execution_count": 74,
     "metadata": {},
     "output_type": "execute_result"
    }
   ],
   "source": [
    "max_val"
   ]
  },
  {
   "cell_type": "code",
   "execution_count": 71,
   "id": "ed38da2a-fbbc-46ae-80fe-100fc1a517f4",
   "metadata": {},
   "outputs": [
    {
     "data": {
      "text/plain": [
       "(3, 3, 2)"
      ]
     },
     "execution_count": 71,
     "metadata": {},
     "output_type": "execute_result"
    }
   ],
   "source": [
    "V.shape"
   ]
  },
  {
   "cell_type": "code",
   "execution_count": 70,
   "id": "39987431-eb25-4a95-a2c2-92a33640b9c7",
   "metadata": {},
   "outputs": [
    {
     "data": {
      "text/plain": [
       "array([[[2., 0.],\n",
       "        [2., 0.],\n",
       "        [2., 0.]],\n",
       "\n",
       "       [[2., 1.],\n",
       "        [2., 1.],\n",
       "        [2., 1.]]])"
      ]
     },
     "execution_count": 70,
     "metadata": {},
     "output_type": "execute_result"
    }
   ],
   "source": [
    "E"
   ]
  },
  {
   "cell_type": "code",
   "execution_count": 28,
   "id": "bb3b07a5-7c27-4c90-8cec-1cc4fb5ff6e6",
   "metadata": {},
   "outputs": [
    {
     "data": {
      "text/plain": [
       "1"
      ]
     },
     "execution_count": 28,
     "metadata": {},
     "output_type": "execute_result"
    }
   ],
   "source": [
    "max(0, int(1 == 1))"
   ]
  },
  {
   "cell_type": "code",
   "execution_count": 37,
   "id": "e6f3c1c2-9885-443f-904f-62b9ba24eddd",
   "metadata": {},
   "outputs": [
    {
     "data": {
      "text/plain": [
       "True"
      ]
     },
     "execution_count": 37,
     "metadata": {},
     "output_type": "execute_result"
    }
   ],
   "source": [
    "constraint_checker(x_test, 0, 1)"
   ]
  },
  {
   "cell_type": "code",
   "execution_count": 38,
   "id": "d03d9169-e218-4feb-a500-1924cdb278f3",
   "metadata": {},
   "outputs": [
    {
     "data": {
      "text/plain": [
       "[array([1, 0, 0]), array([0, 0, 1])]"
      ]
     },
     "execution_count": 38,
     "metadata": {},
     "output_type": "execute_result"
    }
   ],
   "source": [
    "x_test"
   ]
  },
  {
   "cell_type": "code",
   "execution_count": 39,
   "id": "0934b482-f7cb-4d5a-8c04-ba15e4046200",
   "metadata": {},
   "outputs": [],
   "source": [
    "x_list, y_list = hmm1.simulation(10)"
   ]
  },
  {
   "cell_type": "code",
   "execution_count": 40,
   "id": "f6fb9525-74d4-4b2e-884a-3000039b40fc",
   "metadata": {},
   "outputs": [
    {
     "data": {
      "text/plain": [
       "False"
      ]
     },
     "execution_count": 40,
     "metadata": {},
     "output_type": "execute_result"
    }
   ],
   "source": [
    "constraint_checker(x_list, 0, 1)"
   ]
  },
  {
   "cell_type": "code",
   "execution_count": 41,
   "id": "d79cebec-4f55-4e41-b4d2-fbec933d6f84",
   "metadata": {},
   "outputs": [
    {
     "data": {
      "text/plain": [
       "[array([0, 0, 1]),\n",
       " array([0, 1, 0]),\n",
       " array([0, 1, 0]),\n",
       " array([0, 1, 0]),\n",
       " array([0, 0, 1]),\n",
       " array([0, 0, 1]),\n",
       " array([0, 1, 0]),\n",
       " array([0, 0, 1]),\n",
       " array([0, 1, 0]),\n",
       " array([0, 1, 0])]"
      ]
     },
     "execution_count": 41,
     "metadata": {},
     "output_type": "execute_result"
    }
   ],
   "source": [
    "x_list"
   ]
  },
  {
   "cell_type": "code",
   "execution_count": 70,
   "id": "5df6c82f-31cb-406b-a2d6-bc5d8c3f0250",
   "metadata": {},
   "outputs": [],
   "source": [
    "A_updater = lambda z, x: update_counter(z, x, 0)\n",
    "B_updater = lambda z, x: update_counter(z, x, 1)"
   ]
  },
  {
   "cell_type": "code",
   "execution_count": 110,
   "id": "5e3b6847-cb98-425d-9a06-109f5ff17a97",
   "metadata": {},
   "outputs": [],
   "source": [
    "x_list, y_list = hmm1.simulation(10)"
   ]
  },
  {
   "cell_type": "code",
   "execution_count": null,
   "id": "bc7db082-dea1-4bc5-acad-90f388f0022c",
   "metadata": {},
   "outputs": [],
   "source": []
  }
 ],
 "metadata": {
  "kernelspec": {
   "display_name": "conin",
   "language": "python",
   "name": "conin"
  },
  "language_info": {
   "codemirror_mode": {
    "name": "ipython",
    "version": 3
   },
   "file_extension": ".py",
   "mimetype": "text/x-python",
   "name": "python",
   "nbconvert_exporter": "python",
   "pygments_lexer": "ipython3",
   "version": "3.10.15"
  }
 },
 "nbformat": 4,
 "nbformat_minor": 5
}
