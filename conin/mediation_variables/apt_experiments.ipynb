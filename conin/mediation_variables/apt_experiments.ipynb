{
 "cells": [
  {
   "cell_type": "code",
   "execution_count": 115,
   "id": "76353080-0eb8-4b9b-b16c-347a06ff395f",
   "metadata": {},
   "outputs": [],
   "source": [
    "import numpy as np\n",
    "import json\n",
    "from munch import Munch\n",
    "import itertools\n",
    "from collections import defaultdict\n",
    "import random\n",
    "import copy\n",
    "import pickle\n",
    "\n",
    "\n",
    "import apt_helper as ahlp\n",
    "import apt_cst_aggregate as cagg\n",
    "import mv_Viterbi as mv"
   ]
  },
  {
   "cell_type": "code",
   "execution_count": 116,
   "id": "cab3826f-baa6-4d36-96ec-baa23745d8fb",
   "metadata": {},
   "outputs": [
    {
     "data": {
      "text/plain": [
       "<module 'apt_helper' from '/home/fyqiu/Projects/conin/conin/mediation_variables/apt_helper.py'>"
      ]
     },
     "execution_count": 116,
     "metadata": {},
     "output_type": "execute_result"
    }
   ],
   "source": [
    "import importlib\n",
    "importlib.reload(ahlp)"
   ]
  },
  {
   "cell_type": "code",
   "execution_count": 117,
   "id": "2d6901ae-d7e7-4556-897b-9287335f881f",
   "metadata": {},
   "outputs": [],
   "source": [
    "names = ['apt','bob','sally']\n",
    "mu_list = [.3,.3,.3]\n",
    "apt_hmm, bob_hmm, sally_hmm = ahlp.process_load(names, delay = mu_list)\n",
    "user_list = [bob_hmm, sally_hmm]"
   ]
  },
  {
   "cell_type": "code",
   "execution_count": 118,
   "id": "18f7981d-c8c3-484c-88ee-0b122c440925",
   "metadata": {},
   "outputs": [
    {
     "name": "stdout",
     "output_type": "stream",
     "text": [
      "initprob:1.0  tprob: [1. 1. 1. 1. 1. 1. 1. 1. 1. 1.]  eprob: [1. 1. 1. 1. 1. 1. 1. 1. 1. 1.]\n",
      "initprob:1.0  tprob: [1. 1. 1. 1. 1. 1. 1. 1. 1. 1. 1. 1.]  eprob: [1. 1. 1. 1. 1. 1. 1. 1. 1. 1. 1. 1.]\n"
     ]
    }
   ],
   "source": [
    "#Check if correctly loaded. probabilities should sum to 1.\n",
    "for usr in user_list:\n",
    "    usr_params = ahlp.hmm2numpy(usr)\n",
    "    print(f'initprob:{usr_params[0].sum()}  tprob: {usr_params[1].sum(axis = 1)}  eprob: {usr_params[2].sum(axis = 1)}')"
   ]
  },
  {
   "cell_type": "code",
   "execution_count": 119,
   "id": "ae7c4e77-0c85-46b9-abcc-593081b12f08",
   "metadata": {},
   "outputs": [
    {
     "name": "stdout",
     "output_type": "stream",
     "text": [
      "initprob:1.0  tprob: [1. 1. 1. 1. 1. 1. 1. 1. 1. 1. 1. 1. 1. 1.]  eprob: [1. 1. 1. 1. 1. 1. 1. 1. 1. 1. 1. 1. 1. 1.]\n"
     ]
    }
   ],
   "source": [
    "apt_params = ahlp.hmm2numpy(apt_hmm)\n",
    "print(f'initprob:{apt_params[0].sum()}  tprob: {apt_params[1].sum(axis = 1)}  eprob: {apt_params[2].sum(axis = 1)}')"
   ]
  },
  {
   "cell_type": "code",
   "execution_count": 120,
   "id": "183d25d7-a257-4e1f-939e-9b28a08b6070",
   "metadata": {},
   "outputs": [
    {
     "data": {
      "text/plain": [
       "<module 'apt_cst_aggregate' from '/home/fyqiu/Projects/conin/conin/mediation_variables/apt_cst_aggregate.py'>"
      ]
     },
     "execution_count": 120,
     "metadata": {},
     "output_type": "execute_result"
    }
   ],
   "source": [
    "importlib.reload(cagg)"
   ]
  },
  {
   "cell_type": "code",
   "execution_count": 121,
   "id": "5510decc-476a-4743-8616-1c91dcc94ede",
   "metadata": {},
   "outputs": [],
   "source": [
    "cst_names = ['know_sally_exists','have_sally_credential', 'learn_where_data_stored', 'have_data_on_ds', 'have_data_on_hi', 'have_data_on_he']\n",
    "\n",
    "cst_list=  []\n",
    "for name in cst_names:\n",
    "    module = importlib.import_module(name)\n",
    "    curr_cst =  Munch(name = module.name, \\\n",
    "                      aux_size = module.aug_size, \\\n",
    "                      update_fun = module.update_fun, \\\n",
    "                      init_fun = module.init_fun, \\\n",
    "                      cst_fun = module.cst_fun)\n",
    "    if hasattr(module, 'dependency'):\n",
    "        curr_cst.dependency = module.dependency\n",
    "    cst_list.append(curr_cst)\n",
    "\n",
    "cst_list = cst_list[:2]"
   ]
  },
  {
   "cell_type": "code",
   "execution_count": 122,
   "id": "543df740-96d9-46f2-bb7d-6caac401dfc2",
   "metadata": {},
   "outputs": [],
   "source": [
    "agg_cst, zip_list, cst_ix = cagg.apt_cst_aggregate(cst_list, debug = True)"
   ]
  },
  {
   "cell_type": "code",
   "execution_count": 123,
   "id": "d0a1957c-c5b9-42b2-9100-e67efacef7cd",
   "metadata": {},
   "outputs": [],
   "source": [
    "tier_apt = ahlp.create_tiered_apt(apt_hmm)"
   ]
  },
  {
   "cell_type": "code",
   "execution_count": 124,
   "id": "35f8d77e-efd9-4e07-b912-071ee517ba7a",
   "metadata": {},
   "outputs": [
    {
     "name": "stdout",
     "output_type": "stream",
     "text": [
      "initprob:1.0  tprob: [1. 1. 1. 1. 1. 1. 1. 1. 1. 1. 1. 1. 1. 1. 1. 1. 1. 1. 1. 1. 1. 1. 1. 1.\n",
      " 1.]  eprob: [1. 1. 1. 1. 1. 1. 1. 1. 1. 1. 1. 1. 1. 1. 1. 1. 1. 1. 1. 1. 1. 1. 1. 1.\n",
      " 1.]\n"
     ]
    }
   ],
   "source": [
    "apt_params = ahlp.hmm2numpy(tier_apt)\n",
    "print(f'initprob:{apt_params[0].sum()}  tprob: {apt_params[1].sum(axis = 1)}  eprob: {apt_params[2].sum(axis = 1)}')"
   ]
  },
  {
   "cell_type": "code",
   "execution_count": 125,
   "id": "4ef70c6b-7c60-4eec-b968-4a495fd0542a",
   "metadata": {},
   "outputs": [],
   "source": [
    "apt_hmm_mix, ix_list = ahlp.lapt_mixture(apt_hmm, user_list, 50, mix_weights = None, return_ix = True)"
   ]
  },
  {
   "cell_type": "code",
   "execution_count": 132,
   "id": "09d29dbc-11c3-4a8c-93fe-7fe1ba9ad29c",
   "metadata": {},
   "outputs": [],
   "source": [
    "apt_truth, combined_emits = ahlp.combined_simulation(apt_hmm, user_list, 50)"
   ]
  },
  {
   "cell_type": "code",
   "execution_count": 133,
   "id": "e405d691-05db-461d-bc8a-572c06f1e96e",
   "metadata": {},
   "outputs": [],
   "source": [
    "#Vanilla Viterbi is no constraint is included\n",
    "opt_state =  mv.mv_Viterbi_v2(obs = combined_emits, hmm = tier_apt)"
   ]
  },
  {
   "cell_type": "code",
   "execution_count": 134,
   "id": "7aee8125-5083-44b0-b85a-30ade2a7f121",
   "metadata": {},
   "outputs": [],
   "source": [
    "test_r = (True,) *agg_cst.aux_size\n",
    "test_r_past =  (False,) *agg_cst.aux_size\n",
    "test_k = tier_apt.states[0]\n",
    "test_k_past = tier_apt.states[1]"
   ]
  },
  {
   "cell_type": "code",
   "execution_count": 135,
   "id": "f7742682-ec74-41df-b1b0-6ab1c1291859",
   "metadata": {},
   "outputs": [
    {
     "data": {
      "text/plain": [
       "Munch({'name': 'know_sally_exists', 'aux_size': 2, 'update_fun': <function update_fun at 0x7f241c542340>, 'init_fun': <function init_fun at 0x7f24043eac00>, 'cst_fun': <function cst_fun at 0x7f24043ea520>})"
      ]
     },
     "execution_count": 135,
     "metadata": {},
     "output_type": "execute_result"
    }
   ],
   "source": [
    "cst_list[0]"
   ]
  },
  {
   "cell_type": "code",
   "execution_count": 136,
   "id": "bfd793a6-eba0-4a10-82e5-28236f7ef118",
   "metadata": {},
   "outputs": [
    {
     "data": {
      "text/plain": [
       "<module 'mv_Viterbi' from '/home/fyqiu/Projects/conin/conin/mediation_variables/mv_Viterbi.py'>"
      ]
     },
     "execution_count": 136,
     "metadata": {},
     "output_type": "execute_result"
    }
   ],
   "source": [
    "importlib.reload(mv)"
   ]
  },
  {
   "cell_type": "code",
   "execution_count": 137,
   "id": "32a81a99-e5db-4ea4-ac09-2402fc45908c",
   "metadata": {},
   "outputs": [
    {
     "name": "stdout",
     "output_type": "stream",
     "text": [
      "1\n",
      "2\n",
      "3\n",
      "4\n",
      "5\n",
      "6\n",
      "7\n",
      "8\n",
      "9\n",
      "10\n",
      "11\n",
      "12\n",
      "13\n",
      "14\n",
      "15\n",
      "16\n",
      "17\n",
      "18\n",
      "19\n",
      "20\n",
      "21\n",
      "22\n",
      "23\n",
      "24\n",
      "25\n",
      "26\n",
      "27\n",
      "28\n",
      "29\n",
      "30\n",
      "31\n",
      "32\n",
      "33\n",
      "34\n",
      "35\n",
      "36\n",
      "37\n",
      "38\n",
      "39\n",
      "40\n",
      "41\n",
      "42\n",
      "43\n",
      "44\n",
      "45\n",
      "46\n",
      "47\n",
      "48\n",
      "49\n"
     ]
    },
    {
     "ename": "TypeError",
     "evalue": "'bool' object is not subscriptable",
     "output_type": "error",
     "traceback": [
      "\u001b[31m---------------------------------------------------------------------------\u001b[39m",
      "\u001b[31mTypeError\u001b[39m                                 Traceback (most recent call last)",
      "\u001b[36mCell\u001b[39m\u001b[36m \u001b[39m\u001b[32mIn[137]\u001b[39m\u001b[32m, line 2\u001b[39m\n\u001b[32m      1\u001b[39m sat = (\u001b[38;5;28;01mTrue\u001b[39;00m,) * \u001b[32m2\u001b[39m\n\u001b[32m----> \u001b[39m\u001b[32m2\u001b[39m opt_aug, opt_state =  \u001b[43mmv\u001b[49m\u001b[43m.\u001b[49m\u001b[43mmv_Viterbi_v2\u001b[49m\u001b[43m(\u001b[49m\u001b[43mobs\u001b[49m\u001b[43m \u001b[49m\u001b[43m=\u001b[49m\u001b[43m \u001b[49m\u001b[43mcombined_emits\u001b[49m\u001b[43m,\u001b[49m\u001b[43m \u001b[49m\u001b[43mhmm\u001b[49m\u001b[43m \u001b[49m\u001b[43m=\u001b[49m\u001b[43m \u001b[49m\u001b[43mtier_apt\u001b[49m\u001b[43m,\u001b[49m\u001b[43m \u001b[49m\u001b[43mcst\u001b[49m\u001b[43m=\u001b[49m\u001b[43m \u001b[49m\u001b[43magg_cst\u001b[49m\u001b[43m,\u001b[49m\u001b[43msat\u001b[49m\u001b[43m \u001b[49m\u001b[43m=\u001b[49m\u001b[43m \u001b[49m\u001b[38;5;28;43;01mTrue\u001b[39;49;00m\u001b[43m)\u001b[49m\n",
      "\u001b[36mFile \u001b[39m\u001b[32m~/Projects/conin/conin/mediation_variables/mv_Viterbi.py:144\u001b[39m, in \u001b[36mmv_Viterbi_v2\u001b[39m\u001b[34m(obs, hmm, cst, sat)\u001b[39m\n\u001b[32m    142\u001b[39m             argmax = (j,s)\n\u001b[32m    143\u001b[39m \u001b[38;5;28;01mif\u001b[39;00m t == (\u001b[38;5;28mlen\u001b[39m(obs)-\u001b[32m1\u001b[39m): \u001b[38;5;66;03m#ie. at the last time we add in the constraint\u001b[39;00m\n\u001b[32m--> \u001b[39m\u001b[32m144\u001b[39m     val[t,k,r] = max_val*hmm.eprob[k,obs[t]]*\u001b[43mcst\u001b[49m\u001b[43m.\u001b[49m\u001b[43mcst_fun\u001b[49m\u001b[43m(\u001b[49m\u001b[43mk\u001b[49m\u001b[43m,\u001b[49m\u001b[43mr\u001b[49m\u001b[43m,\u001b[49m\u001b[43msat\u001b[49m\u001b[43m)\u001b[49m\n\u001b[32m    145\u001b[39m \u001b[38;5;28;01melse\u001b[39;00m:\n\u001b[32m    146\u001b[39m     val[t,k,r] = max_val*hmm.eprob[k,obs[t]]\n",
      "\u001b[36mFile \u001b[39m\u001b[32m~/Projects/conin/conin/mediation_variables/apt_cst_aggregate.py:26\u001b[39m, in \u001b[36mcreate_cstfun.<locals>.cst_fun_agg\u001b[39m\u001b[34m(k, r, sat)\u001b[39m\n\u001b[32m     24\u001b[39m it = \u001b[32m0\u001b[39m\n\u001b[32m     25\u001b[39m \u001b[38;5;28;01mfor\u001b[39;00m cst,ix, depend \u001b[38;5;129;01min\u001b[39;00m zip_list:\n\u001b[32m---> \u001b[39m\u001b[32m26\u001b[39m     val*= cst.cst_fun(k,\u001b[38;5;28mtuple\u001b[39m(r[ix[\u001b[32m0\u001b[39m]:ix[\u001b[32m1\u001b[39m]]),\u001b[43msat\u001b[49m\u001b[43m[\u001b[49m\u001b[43mit\u001b[49m\u001b[43m]\u001b[49m)\n\u001b[32m     27\u001b[39m     it += \u001b[32m1\u001b[39m\n\u001b[32m     28\u001b[39m \u001b[38;5;28;01mreturn\u001b[39;00m val\n",
      "\u001b[31mTypeError\u001b[39m: 'bool' object is not subscriptable"
     ]
    }
   ],
   "source": [
    "sat = (True,) * 2\n",
    "opt_aug, opt_state =  mv.mv_Viterbi_v2(obs = combined_emits, hmm = tier_apt, cst= agg_cst,sat = sat)"
   ]
  },
  {
   "cell_type": "code",
   "execution_count": null,
   "id": "aabfdcf6-8c2a-4d64-b255-45018c25375e",
   "metadata": {},
   "outputs": [],
   "source": [
    "mv_Viterbi(obs, hmm, combined_cst, sat = (True,True))"
   ]
  },
  {
   "cell_type": "code",
   "execution_count": null,
   "id": "0bc1a7e5-1955-4acb-ae02-5e50309d28ae",
   "metadata": {},
   "outputs": [],
   "source": []
  }
 ],
 "metadata": {
  "kernelspec": {
   "display_name": "Python 3 (ipykernel)",
   "language": "python",
   "name": "python3"
  },
  "language_info": {
   "codemirror_mode": {
    "name": "ipython",
    "version": 3
   },
   "file_extension": ".py",
   "mimetype": "text/x-python",
   "name": "python",
   "nbconvert_exporter": "python",
   "pygments_lexer": "ipython3",
   "version": "3.12.5"
  }
 },
 "nbformat": 4,
 "nbformat_minor": 5
}
