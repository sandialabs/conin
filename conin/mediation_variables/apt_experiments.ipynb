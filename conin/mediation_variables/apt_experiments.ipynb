{
 "cells": [
  {
   "cell_type": "code",
   "execution_count": 78,
   "id": "76353080-0eb8-4b9b-b16c-347a06ff395f",
   "metadata": {},
   "outputs": [],
   "source": [
    "import numpy as np\n",
    "import torch\n",
    "import json\n",
    "from munch import Munch\n",
    "import itertools\n",
    "from collections import defaultdict\n",
    "import random\n",
    "import copy\n",
    "import pickle\n",
    "import matplotlib.pyplot as plt\n",
    "import importlib\n",
    "\n",
    "import apt_helper as ahlp\n",
    "import apt_cst_aggregate as cagg\n",
    "import mv_Viterbi as mv"
   ]
  },
  {
   "cell_type": "code",
   "execution_count": 229,
   "id": "cab3826f-baa6-4d36-96ec-baa23745d8fb",
   "metadata": {},
   "outputs": [
    {
     "data": {
      "text/plain": [
       "<module 'apt_helper' from '/home/fyqiu/Projects/conin/conin/mediation_variables/apt_helper.py'>"
      ]
     },
     "execution_count": 229,
     "metadata": {},
     "output_type": "execute_result"
    }
   ],
   "source": [
    "import importlib\n",
    "importlib.reload(ahlp)"
   ]
  },
  {
   "cell_type": "code",
   "execution_count": 230,
   "id": "2d6901ae-d7e7-4556-897b-9287335f881f",
   "metadata": {},
   "outputs": [],
   "source": [
    "names = ['apt','bob','sally']\n",
    "mu_list = [.8,.9,.9]\n",
    "apt_hmm, bob_hmm, sally_hmm = ahlp.process_load(names, delay = mu_list)\n",
    "user_list = [bob_hmm, sally_hmm]"
   ]
  },
  {
   "cell_type": "code",
   "execution_count": 231,
   "id": "5510decc-476a-4743-8616-1c91dcc94ede",
   "metadata": {},
   "outputs": [],
   "source": [
    "cst_names = ['know_sally_exists','have_sally_credential', 'learn_where_data_stored', 'have_data_on_ds', 'have_data_on_hi', 'have_data_on_he']\n",
    "\n",
    "cst_list=  []\n",
    "for name in cst_names:\n",
    "    module = importlib.import_module(name)\n",
    "    \n",
    "    curr_cst =  Munch(name = module.name, \\\n",
    "                      aux_size = module.aug_size, \\\n",
    "                      update_fun = module.update_fun, \\\n",
    "                      init_fun = module.init_fun, \\\n",
    "                      forbidden_emissions = module.forbidden_emissions, \\\n",
    "                      forbidden_transitions = module.forbidden_transitions, \\\n",
    "                      knowledge_state = module.knowledge_state, \\\n",
    "                      cst_fun = module.cst_fun)\n",
    "    if hasattr(module, 'dependency'):\n",
    "        curr_cst.dependency = module.dependency\n",
    "    cst_list.append(curr_cst)\n",
    "\n",
    "cst_list = cst_list\n",
    "sat = len(cst_list) * (True,)"
   ]
  },
  {
   "cell_type": "code",
   "execution_count": 232,
   "id": "18f7981d-c8c3-484c-88ee-0b122c440925",
   "metadata": {},
   "outputs": [
    {
     "name": "stdout",
     "output_type": "stream",
     "text": [
      "initprob:1.0  tprob: [1. 1. 1. 1. 1. 1. 1. 1. 1. 1.]  eprob: [1. 1. 1. 1. 1. 1. 1. 1. 1. 1.]\n",
      "initprob:1.0  tprob: [1. 1. 1. 1. 1. 1. 1. 1. 1. 1. 1. 1.]  eprob: [1. 1. 1. 1. 1. 1. 1. 1. 1. 1. 1. 1.]\n"
     ]
    }
   ],
   "source": [
    "#Check if correctly loaded. probabilities should sum to 1.\n",
    "for usr in user_list:\n",
    "    usr_params = ahlp.hmm2numpy(usr)\n",
    "    print(f'initprob:{usr_params[0].sum()}  tprob: {usr_params[1].sum(axis = 1)}  eprob: {usr_params[2].sum(axis = 1)}')"
   ]
  },
  {
   "cell_type": "code",
   "execution_count": 233,
   "id": "ae7c4e77-0c85-46b9-abcc-593081b12f08",
   "metadata": {},
   "outputs": [
    {
     "name": "stdout",
     "output_type": "stream",
     "text": [
      "initprob:1.0  tprob: [1. 1. 1. 1. 1. 1. 1. 1. 1. 1. 1. 1. 1. 1.]  eprob: [1. 1. 1. 1. 1. 1. 1. 1. 1. 1. 1. 1. 1. 1.]\n"
     ]
    }
   ],
   "source": [
    "apt_params, ix_list = ahlp.hmm2numpy(apt_hmm, return_ix = True)\n",
    "print(f'initprob:{apt_params[0].sum()}  tprob: {apt_params[1].sum(axis = 1)}  eprob: {apt_params[2].sum(axis = 1)}')"
   ]
  },
  {
   "cell_type": "markdown",
   "id": "528b19e3-7a1a-4c4e-9757-1e19555fe9e5",
   "metadata": {},
   "source": [
    "# Sanity Check that base Viterbi works. Pure Emissions"
   ]
  },
  {
   "cell_type": "code",
   "execution_count": 234,
   "id": "267b405f-c0ec-456f-8174-278ea70bd3f6",
   "metadata": {},
   "outputs": [
    {
     "data": {
      "text/plain": [
       "25"
      ]
     },
     "execution_count": 234,
     "metadata": {},
     "output_type": "execute_result"
    }
   ],
   "source": [
    "len(apt_hmm.eprob.keys())"
   ]
  },
  {
   "cell_type": "code",
   "execution_count": 235,
   "id": "b2cbce90-46db-4966-b099-64983bc8663b",
   "metadata": {},
   "outputs": [],
   "source": [
    "pure_hidden, pure_emission = ahlp.simulation_apt(apt_hmm, ix_list = None, emit_inhom = False)"
   ]
  },
  {
   "cell_type": "code",
   "execution_count": 236,
   "id": "b4c89c69-ae1c-4de8-b3ed-e65b51fbafc2",
   "metadata": {},
   "outputs": [
    {
     "data": {
      "text/plain": [
       "25"
      ]
     },
     "execution_count": 236,
     "metadata": {},
     "output_type": "execute_result"
    }
   ],
   "source": [
    "len(apt_hmm.eprob.keys())"
   ]
  },
  {
   "cell_type": "code",
   "execution_count": 237,
   "id": "e791a2ec-80a5-4e44-9180-006083ce8ed5",
   "metadata": {},
   "outputs": [
    {
     "name": "stdout",
     "output_type": "stream",
     "text": [
      "mismatch at time 114 out of 138\n",
      "mismatch at time 115 out of 138\n",
      "mismatch at time 116 out of 138\n",
      "mismatch at time 117 out of 138\n",
      "mismatch at time 118 out of 138\n",
      "mismatch at time 119 out of 138\n",
      "mismatch at time 120 out of 138\n",
      "mismatch at time 121 out of 138\n",
      "mismatch at time 122 out of 138\n",
      "mismatch at time 123 out of 138\n",
      "mismatch at time 124 out of 138\n",
      "mismatch at time 125 out of 138\n",
      "mismatch at time 126 out of 138\n",
      "mismatch at time 127 out of 138\n",
      "mismatch at time 128 out of 138\n",
      "mismatch at time 129 out of 138\n",
      "mismatch at time 130 out of 138\n",
      "mismatch at time 131 out of 138\n",
      "mismatch at time 132 out of 138\n",
      "mismatch at time 133 out of 138\n",
      "mismatch at time 134 out of 138\n",
      "mismatch at time 135 out of 138\n",
      "mismatch at time 136 out of 138\n",
      "mismatch at time 137 out of 138\n"
     ]
    }
   ],
   "source": [
    "opt_state =  mv.mv_Viterbi(obs = pure_emission, hmm = apt_hmm)\n",
    "for t in range(len(opt_state)):\n",
    "    if opt_state[t] != pure_hidden[t]:\n",
    "        print(f'mismatch at time {t} out of {len(opt_state) -1}') #no rule enforcing that that must end on POST"
   ]
  },
  {
   "cell_type": "code",
   "execution_count": 238,
   "id": "99e2a2af-6de4-4b26-9f6d-eaf8eabd6c0c",
   "metadata": {},
   "outputs": [
    {
     "data": {
      "text/plain": [
       "25"
      ]
     },
     "execution_count": 238,
     "metadata": {},
     "output_type": "execute_result"
    }
   ],
   "source": [
    "len(apt_hmm.eprob.keys())"
   ]
  },
  {
   "cell_type": "markdown",
   "id": "17ac5ab5-8780-4336-a8d6-5e25c2d12ddc",
   "metadata": {},
   "source": [
    "### Check that Numpy Implementation Gives Same Answer"
   ]
  },
  {
   "cell_type": "code",
   "execution_count": 239,
   "id": "c8227a01-abc3-46b1-b54d-458932eb9bb5",
   "metadata": {},
   "outputs": [
    {
     "data": {
      "text/plain": [
       "<module 'apt_helper' from '/home/fyqiu/Projects/conin/conin/mediation_variables/apt_helper.py'>"
      ]
     },
     "execution_count": 239,
     "metadata": {},
     "output_type": "execute_result"
    }
   ],
   "source": [
    "importlib.reload(ahlp)"
   ]
  },
  {
   "cell_type": "code",
   "execution_count": 240,
   "id": "ca406f65-f588-40c3-ace9-a3331e979aa5",
   "metadata": {},
   "outputs": [],
   "source": [
    "emit_weights = ahlp.compute_emitweights(pure_emission,apt_hmm, time_hom = True)\n",
    "hmm_params = [apt_params[1], apt_params[0]]\n",
    "opt_list = mv.Viterbi_numpy(hmm_params, emit_weights)\n",
    "state_ix, _ = ix_list\n",
    "state_ix = {v:k for k,v in state_ix.items()}\n",
    "numpy_list = [state_ix[i] for i in opt_list]"
   ]
  },
  {
   "cell_type": "code",
   "execution_count": 241,
   "id": "11db78bc-7250-4015-8dc2-75af6f7049ff",
   "metadata": {},
   "outputs": [
    {
     "name": "stdout",
     "output_type": "stream",
     "text": [
      "proportion correct: 1.0\n"
     ]
    }
   ],
   "source": [
    "num_correct = 0\n",
    "for t in range(len(numpy_list)):\n",
    "    if numpy_list[t] == opt_state[t]:\n",
    "        num_correct += 1\n",
    "print(f'proportion correct: {num_correct/len(numpy_list)}')"
   ]
  },
  {
   "cell_type": "code",
   "execution_count": 242,
   "id": "3e0c5ce8-70f7-438d-acb6-0c68a4f4ef7b",
   "metadata": {},
   "outputs": [
    {
     "data": {
      "text/plain": [
       "25"
      ]
     },
     "execution_count": 242,
     "metadata": {},
     "output_type": "execute_result"
    }
   ],
   "source": [
    "len(apt_hmm.eprob.keys())"
   ]
  },
  {
   "cell_type": "code",
   "execution_count": 243,
   "id": "db68ff21-cfae-4e6f-9888-d8ed6aa73ac9",
   "metadata": {},
   "outputs": [
    {
     "data": {
      "text/plain": [
       "['PRE',\n",
       " 'PRE',\n",
       " 'IA',\n",
       " 'WAIT_IA',\n",
       " 'EX',\n",
       " 'WAIT_EX',\n",
       " 'WAIT_EX',\n",
       " 'WAIT_EX',\n",
       " 'WAIT_EX',\n",
       " 'EX']"
      ]
     },
     "execution_count": 243,
     "metadata": {},
     "output_type": "execute_result"
    }
   ],
   "source": [
    "numpy_list[:10]"
   ]
  },
  {
   "cell_type": "markdown",
   "id": "0eeedfd5-fe33-45d1-9a2e-982d349f6c9a",
   "metadata": {},
   "source": [
    "## Check Numpy with Dummy Constraint Gives Same Answer"
   ]
  },
  {
   "cell_type": "code",
   "execution_count": 244,
   "id": "91e2e0df-387d-4085-809d-7a3664e2b12e",
   "metadata": {},
   "outputs": [],
   "source": [
    "cst_names = ['dummy_constraint']\n",
    "dummy_cst_list =  []\n",
    "for name in cst_names:\n",
    "    module = importlib.import_module(name)\n",
    "    \n",
    "    curr_cst =  Munch(name = module.name, \\\n",
    "                      aux_size = module.aug_size, \\\n",
    "                      update_fun = module.update_fun, \\\n",
    "                      init_fun = module.init_fun, \\\n",
    "                      forbidden_emissions = module.forbidden_emissions, \\\n",
    "                      forbidden_transitions = module.forbidden_transitions, \\\n",
    "                      knowledge_state = module.knowledge_state, \\\n",
    "                      cst_fun = module.cst_fun)\n",
    "    if hasattr(module, 'dependency'):\n",
    "        curr_cst.dependency = module.dependency\n",
    "    dummy_cst_list.append(curr_cst)\n",
    "\n",
    "# cst_list = cst_list\n",
    "dummy_sat = len(dummy_cst_list) * (True,)\n",
    "\n",
    "apt_params, cst_params = ahlp.arrayConvert(apt_hmm, dummy_cst_list[0], sat = (True,))\n",
    "opt_cst_list = mv.mv_Viterbi_numpy(apt_params, emit_weights, cst_params)\n",
    "numpy_cst_list = [state_ix[state[0]] for state in opt_cst_list]"
   ]
  },
  {
   "cell_type": "code",
   "execution_count": 245,
   "id": "11251cc6-a6d3-45c9-86b3-f2f34dd08bf3",
   "metadata": {},
   "outputs": [
    {
     "name": "stdout",
     "output_type": "stream",
     "text": [
      "proportion correct: 1.0\n"
     ]
    }
   ],
   "source": [
    "num_correct = 0\n",
    "for t in range(len(numpy_list)):\n",
    "    if numpy_list[t] == numpy_cst_list[t]:\n",
    "        num_correct += 1\n",
    "print(f'proportion correct: {num_correct/len(numpy_list)}')"
   ]
  },
  {
   "cell_type": "code",
   "execution_count": 246,
   "id": "ba0eeff3-67de-4353-8643-6bbd46d9f5ee",
   "metadata": {},
   "outputs": [
    {
     "data": {
      "text/plain": [
       "25"
      ]
     },
     "execution_count": 246,
     "metadata": {},
     "output_type": "execute_result"
    }
   ],
   "source": [
    "len(apt_hmm.eprob.keys())"
   ]
  },
  {
   "cell_type": "markdown",
   "id": "c3a12609-790b-4f7b-b0ad-3fbc662440cd",
   "metadata": {},
   "source": [
    "# Sanity Check. Torch Version with DUmmy Constraint also Gives Same Answer"
   ]
  },
  {
   "cell_type": "code",
   "execution_count": 247,
   "id": "61d63360-684e-422f-a0b7-b67c602913f3",
   "metadata": {},
   "outputs": [
    {
     "name": "stdout",
     "output_type": "stream",
     "text": [
      "proportion correct: 1.0\n"
     ]
    }
   ],
   "source": [
    "opt_torch_list, _ = ahlp.Viterbi_torch_list(apt_hmm, dummy_cst_list, pure_emission, dummy_sat, time_hom = True, device = 'cuda:0')\n",
    "num_correct = [torch == numpy for torch, numpy in zip(opt_torch_list,numpy_cst_list)]\n",
    "print(f'proportion correct: {len(num_correct)/len(num_correct)}')"
   ]
  },
  {
   "cell_type": "markdown",
   "id": "06e3c94e-f34e-416a-8e36-cf85a584f849",
   "metadata": {},
   "source": [
    "# Sanity Check. Noiseless Tiered APT Equivalent to Original"
   ]
  },
  {
   "cell_type": "code",
   "execution_count": 248,
   "id": "35f8d77e-efd9-4e07-b912-071ee517ba7a",
   "metadata": {},
   "outputs": [
    {
     "name": "stdout",
     "output_type": "stream",
     "text": [
      "initprob:1.0  tprob: [1. 1. 1. 1. 1. 1. 1. 1. 1. 1. 1. 1. 1. 1. 1. 1. 1. 1. 1. 1. 1. 1. 1. 1.\n",
      " 1.]  eprob: [1. 1. 1. 1. 1. 1. 1. 1. 1. 1. 1. 1. 1. 1. 1. 1. 1. 1. 1. 1. 1. 1. 1. 1.\n",
      " 1.]\n"
     ]
    }
   ],
   "source": [
    "tier_apt = ahlp.create_tiered_apt(apt_hmm)\n",
    "apt_params = ahlp.hmm2numpy(tier_apt)\n",
    "print(f'initprob:{apt_params[0].sum()}  tprob: {apt_params[1].sum(axis = 1)}  eprob: {apt_params[2].sum(axis = 1)}')"
   ]
  },
  {
   "cell_type": "code",
   "execution_count": 249,
   "id": "50601625-b3b8-4613-85fd-b2404391cccd",
   "metadata": {},
   "outputs": [
    {
     "name": "stdout",
     "output_type": "stream",
     "text": [
      "1.0\n"
     ]
    }
   ],
   "source": [
    "opt_state_tier =  mv.mv_Viterbi(obs = pure_emission, hmm = tier_apt)\n",
    "num_correct = 0\n",
    "for t in range(len(opt_state)):\n",
    "    # if opt_state[t] != opt_state_tier[t][0]:\n",
    "    #     print(f'mismatch at time {t} out of {len(opt_state) -1}') #no rule enforcing that that must end on POST\n",
    "    if opt_state[t] == opt_state_tier[t][0]:\n",
    "        num_correct += 1 \n",
    "print(num_correct/len(opt_state))"
   ]
  },
  {
   "cell_type": "code",
   "execution_count": 250,
   "id": "f4ef7c02-1884-4417-b9b3-1469ddb1b9d0",
   "metadata": {},
   "outputs": [
    {
     "data": {
      "text/plain": [
       "25"
      ]
     },
     "execution_count": 250,
     "metadata": {},
     "output_type": "execute_result"
    }
   ],
   "source": [
    "len(apt_hmm.eprob.keys())"
   ]
  },
  {
   "cell_type": "markdown",
   "id": "91582b3e-ab1e-4bc2-96b1-230fd5eb1634",
   "metadata": {},
   "source": [
    "# Noisy Simulations"
   ]
  },
  {
   "cell_type": "code",
   "execution_count": 251,
   "id": "09d29dbc-11c3-4a8c-93fe-7fe1ba9ad29c",
   "metadata": {},
   "outputs": [],
   "source": [
    "apt_truth, combined_emits = ahlp.combined_simulation(apt_hmm, user_list)\n",
    "apt_truth_states, apt_truth_emits = apt_truth"
   ]
  },
  {
   "cell_type": "code",
   "execution_count": 252,
   "id": "7cce50a6-9b4f-46ca-878f-5c64b7a75630",
   "metadata": {},
   "outputs": [
    {
     "name": "stdout",
     "output_type": "stream",
     "text": [
      "0.7741935483870968\n"
     ]
    }
   ],
   "source": [
    "opt_state =  mv.mv_Viterbi(obs = combined_emits, hmm = apt_hmm)\n",
    "num_correct = 0\n",
    "for t in range(len(opt_state)):\n",
    "    if opt_state[t] == apt_truth_states[t]:\n",
    "        num_correct += 1 #no rule enforcing that that must end on POST\n",
    "print(num_correct/len(opt_state))"
   ]
  },
  {
   "cell_type": "code",
   "execution_count": 33,
   "id": "4adbb8bf-4215-422f-b0e4-402426c01b78",
   "metadata": {},
   "outputs": [
    {
     "name": "stdout",
     "output_type": "stream",
     "text": [
      "0\n",
      "100\n"
     ]
    },
    {
     "ename": "KeyboardInterrupt",
     "evalue": "",
     "output_type": "error",
     "traceback": [
      "\u001b[31m---------------------------------------------------------------------------\u001b[39m",
      "\u001b[31mKeyboardInterrupt\u001b[39m                         Traceback (most recent call last)",
      "\u001b[36mCell\u001b[39m\u001b[36m \u001b[39m\u001b[32mIn[33]\u001b[39m\u001b[32m, line 4\u001b[39m\n\u001b[32m      2\u001b[39m accuracy_list = []\n\u001b[32m      3\u001b[39m \u001b[38;5;28;01mfor\u001b[39;00m b \u001b[38;5;129;01min\u001b[39;00m \u001b[38;5;28mrange\u001b[39m(B):\n\u001b[32m----> \u001b[39m\u001b[32m4\u001b[39m     apt_truth, combined_emits = \u001b[43mahlp\u001b[49m\u001b[43m.\u001b[49m\u001b[43mcombined_simulation\u001b[49m\u001b[43m(\u001b[49m\u001b[43mapt_hmm\u001b[49m\u001b[43m,\u001b[49m\u001b[43m \u001b[49m\u001b[43muser_list\u001b[49m\u001b[43m)\u001b[49m\n\u001b[32m      5\u001b[39m     apt_truth_states, apt_truth_emits = apt_truth\n\u001b[32m      6\u001b[39m     opt_state =  mv.mv_Viterbi(obs = combined_emits, hmm = apt_hmm)\n",
      "\u001b[36mFile \u001b[39m\u001b[32m~/Projects/conin/conin/mediation_variables/apt_helper.py:389\u001b[39m, in \u001b[36mcombined_simulation\u001b[39m\u001b[34m(apt_hmm, user_list, cst_list)\u001b[39m\n\u001b[32m    387\u001b[39m total_emits = [apt_emit]\n\u001b[32m    388\u001b[39m \u001b[38;5;28;01mfor\u001b[39;00m user \u001b[38;5;129;01min\u001b[39;00m user_list:\n\u001b[32m--> \u001b[39m\u001b[32m389\u001b[39m     total_emits.append(\u001b[43msimulation\u001b[49m\u001b[43m(\u001b[49m\u001b[43muser\u001b[49m\u001b[43m,\u001b[49m\u001b[43m \u001b[49m\u001b[43mT\u001b[49m\u001b[43m)\u001b[49m[\u001b[32m1\u001b[39m]) \u001b[38;5;66;03m#only record the emission of each user \u001b[39;00m\n\u001b[32m    391\u001b[39m combined_emits = []\n\u001b[32m    392\u001b[39m \u001b[38;5;28;01mfor\u001b[39;00m t \u001b[38;5;129;01min\u001b[39;00m \u001b[38;5;28mrange\u001b[39m(T):\n",
      "\u001b[36mFile \u001b[39m\u001b[32m~/Projects/conin/conin/mediation_variables/apt_helper.py:269\u001b[39m, in \u001b[36msimulation\u001b[39m\u001b[34m(hmm, time, ix_list, emit_inhom)\u001b[39m\n\u001b[32m    267\u001b[39m     y_curr = random_draw(x_curr @ emat[t])\n\u001b[32m    268\u001b[39m \u001b[38;5;28;01melse\u001b[39;00m:\n\u001b[32m--> \u001b[39m\u001b[32m269\u001b[39m     y_curr = \u001b[43mrandom_draw\u001b[49m\u001b[43m(\u001b[49m\u001b[43mx_curr\u001b[49m\u001b[43m \u001b[49m\u001b[43m@\u001b[49m\u001b[43m \u001b[49m\u001b[43memat\u001b[49m\u001b[43m)\u001b[49m\n\u001b[32m    270\u001b[39m x_list.append(state_ix[np.argmax(x_curr)])\n\u001b[32m    271\u001b[39m y_list.append(emit_ix[np.argmax(y_curr)])\n",
      "\u001b[36mFile \u001b[39m\u001b[32m~/Projects/conin/conin/mediation_variables/apt_helper.py:232\u001b[39m, in \u001b[36mrandom_draw\u001b[39m\u001b[34m(p)\u001b[39m\n\u001b[32m    230\u001b[39m n = \u001b[38;5;28mlen\u001b[39m(p)\n\u001b[32m    231\u001b[39m p = p/p.sum()\n\u001b[32m--> \u001b[39m\u001b[32m232\u001b[39m draw = \u001b[43mnp\u001b[49m\u001b[43m.\u001b[49m\u001b[43mrandom\u001b[49m\u001b[43m.\u001b[49m\u001b[43mchoice\u001b[49m\u001b[43m(\u001b[49m\u001b[43mn\u001b[49m\u001b[43m,\u001b[49m\u001b[43mp\u001b[49m\u001b[43m=\u001b[49m\u001b[43mp\u001b[49m\u001b[43m)\u001b[49m\n\u001b[32m    233\u001b[39m one_hot = np.zeros(n, dtype = \u001b[38;5;28mint\u001b[39m)\n\u001b[32m    234\u001b[39m one_hot[draw] = \u001b[32m1\u001b[39m\n",
      "\u001b[31mKeyboardInterrupt\u001b[39m: "
     ]
    }
   ],
   "source": [
    "B = 1000\n",
    "accuracy_list = []\n",
    "for b in range(B):\n",
    "    apt_truth, combined_emits = ahlp.combined_simulation(apt_hmm, user_list)\n",
    "    apt_truth_states, apt_truth_emits = apt_truth\n",
    "    opt_state =  mv.mv_Viterbi(obs = combined_emits, hmm = apt_hmm)\n",
    "    num_correct = [opt == truth for opt,truth in zip(opt_state,apt_truth_states)]\n",
    "    if b % 100 == 0:\n",
    "        print(b)\n",
    "    accuracy_list.append(sum(num_correct)/len(num_correct))\n",
    "print(f'average proportion correct is {sum(accuracy_list)/len(accuracy_list)}')"
   ]
  },
  {
   "cell_type": "code",
   "execution_count": 253,
   "id": "369d7b34-32da-4a8f-9223-11c6bdd61887",
   "metadata": {},
   "outputs": [
    {
     "data": {
      "text/plain": [
       "25"
      ]
     },
     "execution_count": 253,
     "metadata": {},
     "output_type": "execute_result"
    }
   ],
   "source": [
    "len(apt_hmm.eprob.keys())"
   ]
  },
  {
   "cell_type": "markdown",
   "id": "9703b331-cd25-4b2a-8df7-0d7268309df0",
   "metadata": {},
   "source": [
    "# Noisy Constrained Simulations "
   ]
  },
  {
   "cell_type": "code",
   "execution_count": 32,
   "id": "24c3ba05-1db8-4270-a8df-6c557074fc38",
   "metadata": {},
   "outputs": [
    {
     "name": "stdout",
     "output_type": "stream",
     "text": [
      "0\n",
      "100\n"
     ]
    },
    {
     "ename": "KeyboardInterrupt",
     "evalue": "",
     "output_type": "error",
     "traceback": [
      "\u001b[31m---------------------------------------------------------------------------\u001b[39m",
      "\u001b[31mKeyboardInterrupt\u001b[39m                         Traceback (most recent call last)",
      "\u001b[36mCell\u001b[39m\u001b[36m \u001b[39m\u001b[32mIn[32]\u001b[39m\u001b[32m, line 4\u001b[39m\n\u001b[32m      2\u001b[39m accuracy_list = []\n\u001b[32m      3\u001b[39m \u001b[38;5;28;01mfor\u001b[39;00m b \u001b[38;5;129;01min\u001b[39;00m \u001b[38;5;28mrange\u001b[39m(B):\n\u001b[32m----> \u001b[39m\u001b[32m4\u001b[39m     apt_truth, combined_emits = \u001b[43mahlp\u001b[49m\u001b[43m.\u001b[49m\u001b[43mcombined_simulation\u001b[49m\u001b[43m(\u001b[49m\u001b[43mapt_hmm\u001b[49m\u001b[43m,\u001b[49m\u001b[43m \u001b[49m\u001b[43muser_list\u001b[49m\u001b[43m,\u001b[49m\u001b[43m \u001b[49m\u001b[43mcst_list\u001b[49m\u001b[43m)\u001b[49m\n\u001b[32m      5\u001b[39m     apt_truth_states, apt_truth_emits = apt_truth\n\u001b[32m      6\u001b[39m     opt_state =  mv.mv_Viterbi(obs = combined_emits, hmm = apt_hmm)\n",
      "\u001b[36mFile \u001b[39m\u001b[32m~/Projects/conin/conin/mediation_variables/apt_helper.py:383\u001b[39m, in \u001b[36mcombined_simulation\u001b[39m\u001b[34m(apt_hmm, user_list, cst_list)\u001b[39m\n\u001b[32m    379\u001b[39m \u001b[38;5;250m\u001b[39m\u001b[33;03m'''\u001b[39;00m\n\u001b[32m    380\u001b[39m \u001b[33;03massume all processes are time homogenous\u001b[39;00m\n\u001b[32m    381\u001b[39m \u001b[33;03m'''\u001b[39;00m\n\u001b[32m    382\u001b[39m \u001b[38;5;28;01mif\u001b[39;00m cst_list:\n\u001b[32m--> \u001b[39m\u001b[32m383\u001b[39m     apt_hidden, apt_emit = \u001b[43msimulation_knowledge\u001b[49m\u001b[43m(\u001b[49m\u001b[43mapt_hmm\u001b[49m\u001b[43m,\u001b[49m\u001b[43mcst_list\u001b[49m\u001b[43m)\u001b[49m\n\u001b[32m    384\u001b[39m \u001b[38;5;28;01melse\u001b[39;00m:\n\u001b[32m    385\u001b[39m     apt_hidden, apt_emit = simulation_apt(apt_hmm)\n",
      "\u001b[36mFile \u001b[39m\u001b[32m~/Projects/conin/conin/mediation_variables/apt_helper.py:324\u001b[39m, in \u001b[36msimulation_knowledge\u001b[39m\u001b[34m(hmm, cst_list, ix_list, emit_inhom)\u001b[39m\n\u001b[32m    322\u001b[39m     y_curr = random_draw(x_curr @ emat_curr[t])\n\u001b[32m    323\u001b[39m \u001b[38;5;28;01melse\u001b[39;00m:\n\u001b[32m--> \u001b[39m\u001b[32m324\u001b[39m     y_curr = \u001b[43mrandom_draw\u001b[49m\u001b[43m(\u001b[49m\u001b[43mx_curr\u001b[49m\u001b[43m \u001b[49m\u001b[43m@\u001b[49m\u001b[43m \u001b[49m\u001b[43memat_curr\u001b[49m\u001b[43m)\u001b[49m\n\u001b[32m    325\u001b[39m x_state = state_ix[np.argmax(x_curr)]\n\u001b[32m    326\u001b[39m y_state = emit_ix[np.argmax(y_curr)]\n",
      "\u001b[36mFile \u001b[39m\u001b[32m~/Projects/conin/conin/mediation_variables/apt_helper.py:232\u001b[39m, in \u001b[36mrandom_draw\u001b[39m\u001b[34m(p)\u001b[39m\n\u001b[32m    230\u001b[39m n = \u001b[38;5;28mlen\u001b[39m(p)\n\u001b[32m    231\u001b[39m p = p/p.sum()\n\u001b[32m--> \u001b[39m\u001b[32m232\u001b[39m draw = \u001b[43mnp\u001b[49m\u001b[43m.\u001b[49m\u001b[43mrandom\u001b[49m\u001b[43m.\u001b[49m\u001b[43mchoice\u001b[49m\u001b[43m(\u001b[49m\u001b[43mn\u001b[49m\u001b[43m,\u001b[49m\u001b[43mp\u001b[49m\u001b[43m=\u001b[49m\u001b[43mp\u001b[49m\u001b[43m)\u001b[49m\n\u001b[32m    233\u001b[39m one_hot = np.zeros(n, dtype = \u001b[38;5;28mint\u001b[39m)\n\u001b[32m    234\u001b[39m one_hot[draw] = \u001b[32m1\u001b[39m\n",
      "\u001b[31mKeyboardInterrupt\u001b[39m: "
     ]
    }
   ],
   "source": [
    "B = 1000\n",
    "accuracy_list = []\n",
    "for b in range(B):\n",
    "    apt_truth, combined_emits = ahlp.combined_simulation(apt_hmm, user_list, cst_list)\n",
    "    apt_truth_states, apt_truth_emits = apt_truth\n",
    "    opt_state =  mv.mv_Viterbi(obs = combined_emits, hmm = apt_hmm)\n",
    "    if not ahlp.check_valid(*apt_truth, cst_list):\n",
    "        print('Invalid sequence')\n",
    "    num_correct = [opt == truth for opt,truth in zip(opt_state,apt_truth_states)]\n",
    "    if b % 100 == 0:\n",
    "        print(b)\n",
    "    accuracy_list.append(sum(num_correct)/len(num_correct))\n",
    "print(f'average proportion correct is {sum(accuracy_list)/len(accuracy_list)}')"
   ]
  },
  {
   "cell_type": "markdown",
   "id": "e332364e-0935-4f31-90b4-97ae7bb28475",
   "metadata": {},
   "source": [
    "# Check if Noisy APT Is Better (Simulation with Constraints)"
   ]
  },
  {
   "cell_type": "code",
   "execution_count": 254,
   "id": "14ee3494-d9df-4a63-9524-dcca72ef8009",
   "metadata": {},
   "outputs": [
    {
     "name": "stdout",
     "output_type": "stream",
     "text": [
      "initprob:1.0  tprob: [1. 1. 1. 1. 1. 1. 1. 1. 1. 1. 1. 1. 1. 1.]  eprob: [1. 1. 1. 1. 1. 1. 1. 1. 1. 1. 1. 1. 1. 1.]\n"
     ]
    }
   ],
   "source": [
    "noisy_apt = ahlp.create_noisy_apt(apt_hmm, 1/3)\n",
    "apt_params = ahlp.hmm2numpy(noisy_apt)\n",
    "print(f'initprob:{apt_params[0].sum()}  tprob: {apt_params[1].sum(axis = 1)}  eprob: {apt_params[2].sum(axis = 1)}')"
   ]
  },
  {
   "cell_type": "code",
   "execution_count": 255,
   "id": "caf4b800-2c55-4b9e-88b5-0b6f7da09919",
   "metadata": {},
   "outputs": [
    {
     "data": {
      "text/plain": [
       "25"
      ]
     },
     "execution_count": 255,
     "metadata": {},
     "output_type": "execute_result"
    }
   ],
   "source": [
    "len(apt_hmm.eprob.keys())"
   ]
  },
  {
   "cell_type": "code",
   "execution_count": 221,
   "id": "f9b15f12-f9be-42f0-a300-222f9e1382ac",
   "metadata": {
    "scrolled": true
   },
   "outputs": [
    {
     "name": "stdout",
     "output_type": "stream",
     "text": [
      "0\n"
     ]
    },
    {
     "ename": "KeyboardInterrupt",
     "evalue": "",
     "output_type": "error",
     "traceback": [
      "\u001b[31m---------------------------------------------------------------------------\u001b[39m",
      "\u001b[31mKeyboardInterrupt\u001b[39m                         Traceback (most recent call last)",
      "\u001b[36mCell\u001b[39m\u001b[36m \u001b[39m\u001b[32mIn[221]\u001b[39m\u001b[32m, line 4\u001b[39m\n\u001b[32m      2\u001b[39m accuracy_list = []\n\u001b[32m      3\u001b[39m \u001b[38;5;28;01mfor\u001b[39;00m b \u001b[38;5;129;01min\u001b[39;00m \u001b[38;5;28mrange\u001b[39m(B):\n\u001b[32m----> \u001b[39m\u001b[32m4\u001b[39m     apt_truth, combined_emits = \u001b[43mahlp\u001b[49m\u001b[43m.\u001b[49m\u001b[43mcombined_simulation\u001b[49m\u001b[43m(\u001b[49m\u001b[43mapt_hmm\u001b[49m\u001b[43m,\u001b[49m\u001b[43m \u001b[49m\u001b[43muser_list\u001b[49m\u001b[43m,\u001b[49m\u001b[43m \u001b[49m\u001b[43mcst_list\u001b[49m\u001b[43m)\u001b[49m\n\u001b[32m      5\u001b[39m     apt_truth_states, apt_truth_emits = apt_truth\n\u001b[32m      6\u001b[39m     opt_state =  mv.mv_Viterbi(obs = combined_emits, hmm = noisy_apt)\n",
      "\u001b[36mFile \u001b[39m\u001b[32m~/Projects/conin/conin/mediation_variables/apt_helper.py:389\u001b[39m, in \u001b[36mcombined_simulation\u001b[39m\u001b[34m(apt_hmm, user_list, cst_list)\u001b[39m\n\u001b[32m    387\u001b[39m total_emits = [apt_emit]\n\u001b[32m    388\u001b[39m \u001b[38;5;28;01mfor\u001b[39;00m user \u001b[38;5;129;01min\u001b[39;00m user_list:\n\u001b[32m--> \u001b[39m\u001b[32m389\u001b[39m     total_emits.append(\u001b[43msimulation\u001b[49m\u001b[43m(\u001b[49m\u001b[43muser\u001b[49m\u001b[43m,\u001b[49m\u001b[43m \u001b[49m\u001b[43mT\u001b[49m\u001b[43m)\u001b[49m[\u001b[32m1\u001b[39m]) \u001b[38;5;66;03m#only record the emission of each user \u001b[39;00m\n\u001b[32m    391\u001b[39m combined_emits = []\n\u001b[32m    392\u001b[39m \u001b[38;5;28;01mfor\u001b[39;00m t \u001b[38;5;129;01min\u001b[39;00m \u001b[38;5;28mrange\u001b[39m(T):\n",
      "\u001b[36mFile \u001b[39m\u001b[32m~/Projects/conin/conin/mediation_variables/apt_helper.py:265\u001b[39m, in \u001b[36msimulation\u001b[39m\u001b[34m(hmm, time, ix_list, emit_inhom)\u001b[39m\n\u001b[32m    263\u001b[39m \u001b[38;5;66;03m#Generate rest\u001b[39;00m\n\u001b[32m    264\u001b[39m \u001b[38;5;28;01mfor\u001b[39;00m t \u001b[38;5;129;01min\u001b[39;00m \u001b[38;5;28mrange\u001b[39m(\u001b[32m1\u001b[39m,time):\n\u001b[32m--> \u001b[39m\u001b[32m265\u001b[39m     x_curr = \u001b[43mrandom_draw\u001b[49m\u001b[43m(\u001b[49m\u001b[43mx_prev\u001b[49m\u001b[43m \u001b[49m\u001b[43m@\u001b[49m\u001b[43m \u001b[49m\u001b[43mtmat\u001b[49m\u001b[43m)\u001b[49m\n\u001b[32m    266\u001b[39m     \u001b[38;5;28;01mif\u001b[39;00m emit_inhom:\n\u001b[32m    267\u001b[39m         y_curr = random_draw(x_curr @ emat[t])\n",
      "\u001b[36mFile \u001b[39m\u001b[32m~/Projects/conin/conin/mediation_variables/apt_helper.py:231\u001b[39m, in \u001b[36mrandom_draw\u001b[39m\u001b[34m(p)\u001b[39m\n\u001b[32m    226\u001b[39m \u001b[38;5;250m\u001b[39m\u001b[33;03m'''\u001b[39;00m\n\u001b[32m    227\u001b[39m \u001b[33;03mp is a 1D np array. \u001b[39;00m\n\u001b[32m    228\u001b[39m \u001b[33;03msingle random draw from probability vector p and encode as 1-hot.\u001b[39;00m\n\u001b[32m    229\u001b[39m \u001b[33;03m'''\u001b[39;00m\n\u001b[32m    230\u001b[39m n = \u001b[38;5;28mlen\u001b[39m(p)\n\u001b[32m--> \u001b[39m\u001b[32m231\u001b[39m p = p/\u001b[43mp\u001b[49m\u001b[43m.\u001b[49m\u001b[43msum\u001b[49m\u001b[43m(\u001b[49m\u001b[43m)\u001b[49m\n\u001b[32m    232\u001b[39m draw = np.random.choice(n,p=p)\n\u001b[32m    233\u001b[39m one_hot = np.zeros(n, dtype = \u001b[38;5;28mint\u001b[39m)\n",
      "\u001b[36mFile \u001b[39m\u001b[32m/opt/spack/rhel9_x86/stack-2025-03/venvs/venv-jupyter-250402/lib/python3.12/site-packages/numpy/_core/_methods.py:53\u001b[39m, in \u001b[36m_sum\u001b[39m\u001b[34m(a, axis, dtype, out, keepdims, initial, where)\u001b[39m\n\u001b[32m     51\u001b[39m \u001b[38;5;28;01mdef\u001b[39;00m\u001b[38;5;250m \u001b[39m\u001b[34m_sum\u001b[39m(a, axis=\u001b[38;5;28;01mNone\u001b[39;00m, dtype=\u001b[38;5;28;01mNone\u001b[39;00m, out=\u001b[38;5;28;01mNone\u001b[39;00m, keepdims=\u001b[38;5;28;01mFalse\u001b[39;00m,\n\u001b[32m     52\u001b[39m          initial=_NoValue, where=\u001b[38;5;28;01mTrue\u001b[39;00m):\n\u001b[32m---> \u001b[39m\u001b[32m53\u001b[39m     \u001b[38;5;28;01mreturn\u001b[39;00m \u001b[43mumr_sum\u001b[49m\u001b[43m(\u001b[49m\u001b[43ma\u001b[49m\u001b[43m,\u001b[49m\u001b[43m \u001b[49m\u001b[43maxis\u001b[49m\u001b[43m,\u001b[49m\u001b[43m \u001b[49m\u001b[43mdtype\u001b[49m\u001b[43m,\u001b[49m\u001b[43m \u001b[49m\u001b[43mout\u001b[49m\u001b[43m,\u001b[49m\u001b[43m \u001b[49m\u001b[43mkeepdims\u001b[49m\u001b[43m,\u001b[49m\u001b[43m \u001b[49m\u001b[43minitial\u001b[49m\u001b[43m,\u001b[49m\u001b[43m \u001b[49m\u001b[43mwhere\u001b[49m\u001b[43m)\u001b[49m\n",
      "\u001b[31mKeyboardInterrupt\u001b[39m: "
     ]
    }
   ],
   "source": [
    "B = 1000\n",
    "accuracy_list = []\n",
    "for b in range(B):\n",
    "    apt_truth, combined_emits = ahlp.combined_simulation(apt_hmm, user_list, cst_list)\n",
    "    apt_truth_states, apt_truth_emits = apt_truth\n",
    "    opt_state =  mv.mv_Viterbi(obs = combined_emits, hmm = noisy_apt)\n",
    "    num_correct = [opt == truth for opt,truth in zip(opt_state,apt_truth_states)]\n",
    "    if b % 100 == 0:\n",
    "        print(b)\n",
    "    accuracy_list.append(sum(num_correct)/len(num_correct))\n",
    "print(f'average proportion correct is {sum(accuracy_list)/len(accuracy_list)}')"
   ]
  },
  {
   "cell_type": "code",
   "execution_count": 256,
   "id": "ffec0955-738a-413c-803e-3fb04f736875",
   "metadata": {},
   "outputs": [],
   "source": [
    "cst_names = ['know_sally_exists','have_sally_credential', 'learn_where_data_stored', 'have_data_on_ds', 'have_data_on_hi', 'have_data_on_he']\n",
    "cst_names = [names + '_TRUE' for names in cst_names]\n",
    "cst_list=  []\n",
    "for name in cst_names:\n",
    "    module = importlib.import_module(name)\n",
    "    \n",
    "    curr_cst =  Munch(name = module.name, \\\n",
    "                      aux_size = module.aug_size, \\\n",
    "                      update_fun = module.update_fun, \\\n",
    "                      init_fun = module.init_fun, \\\n",
    "                      forbidden_emissions = module.forbidden_emissions, \\\n",
    "                      forbidden_transitions = module.forbidden_transitions, \\\n",
    "                      knowledge_state = module.knowledge_state, \\\n",
    "                      cst_fun = module.cst_fun)\n",
    "    if hasattr(module, 'dependency'):\n",
    "        curr_cst.dependency = module.dependency\n",
    "    cst_list.append(curr_cst)\n",
    "\n",
    "sat = len(cst_list) * (True,)"
   ]
  },
  {
   "cell_type": "code",
   "execution_count": 268,
   "id": "835343a7-e513-4efa-acc0-63d3104dc0da",
   "metadata": {},
   "outputs": [],
   "source": [
    "apt_truth, combined_emits = ahlp.combined_simulation(apt_hmm, user_list, cst_list)\n",
    "apt_truth_states, apt_truth_emits = apt_truth\n"
   ]
  },
  {
   "cell_type": "code",
   "execution_count": 273,
   "id": "a423617f-13e5-4872-aeb8-b4d085d84f36",
   "metadata": {},
   "outputs": [
    {
     "data": {
      "text/plain": [
       "25"
      ]
     },
     "execution_count": 273,
     "metadata": {},
     "output_type": "execute_result"
    }
   ],
   "source": [
    "len(apt_hmm.eprob.keys())"
   ]
  },
  {
   "cell_type": "code",
   "execution_count": 274,
   "id": "dddfff08-aa18-4ebf-b604-20e811f4cd69",
   "metadata": {},
   "outputs": [
    {
     "data": {
      "text/plain": [
       "<module 'mv_Viterbi' from '/home/fyqiu/Projects/conin/conin/mediation_variables/mv_Viterbi.py'>"
      ]
     },
     "execution_count": 274,
     "metadata": {},
     "output_type": "execute_result"
    }
   ],
   "source": [
    "importlib.reload(mv)"
   ]
  },
  {
   "cell_type": "code",
   "execution_count": 278,
   "id": "3f776797-c1df-46ad-8162-4dd9a218eb6b",
   "metadata": {},
   "outputs": [
    {
     "data": {
      "text/plain": [
       "['PRE',\n",
       " 'IA',\n",
       " 'WAIT_IA',\n",
       " 'WAIT_IA',\n",
       " 'WAIT_IA',\n",
       " 'WAIT_IA',\n",
       " 'WAIT_IA',\n",
       " 'WAIT_IA',\n",
       " 'WAIT_IA',\n",
       " 'WAIT_IA']"
      ]
     },
     "execution_count": 278,
     "metadata": {},
     "output_type": "execute_result"
    }
   ],
   "source": [
    "agg_cst = cagg.apt_cst_aggregate(cst_list[:2])\n",
    "opt_state =  mv.mv_Viterbi_v2(obs = combined_emits, hmm = apt_hmm, cst = agg_cst, sat = sat)\n",
    "opt_state[:10]"
   ]
  },
  {
   "cell_type": "code",
   "execution_count": 279,
   "id": "b353f5c1-cbfc-42e0-911b-376986f49a44",
   "metadata": {},
   "outputs": [],
   "source": [
    "opt_state_unc = mv.mv_Viterbi(obs = combined_emits, hmm = apt_hmm)"
   ]
  },
  {
   "cell_type": "code",
   "execution_count": 280,
   "id": "4e6e2310-4db0-4f54-a39a-e3f4f4bda594",
   "metadata": {},
   "outputs": [
    {
     "name": "stdout",
     "output_type": "stream",
     "text": [
      "1.0\n"
     ]
    }
   ],
   "source": [
    "num_correct = [cst == ucst for cst,ucst in zip(opt_state,opt_state_unc)]\n",
    "print(sum(num_correct)/len(num_correct))"
   ]
  },
  {
   "cell_type": "code",
   "execution_count": 22,
   "id": "543df740-96d9-46f2-bb7d-6caac401dfc2",
   "metadata": {},
   "outputs": [],
   "source": [
    "agg_cst = cagg.apt_cst_aggregate(cst_list)"
   ]
  },
  {
   "cell_type": "code",
   "execution_count": 23,
   "id": "4ef70c6b-7c60-4eec-b968-4a495fd0542a",
   "metadata": {},
   "outputs": [],
   "source": [
    "tier_apt_mix, ix_list = ahlp.lapt_mixture(tier_apt, user_list, len(combined_emits), mix_weights = None, return_ix = True)"
   ]
  },
  {
   "cell_type": "code",
   "execution_count": 24,
   "id": "5ec8e082-9ffe-4964-8bf8-a943a028c438",
   "metadata": {},
   "outputs": [],
   "source": [
    "noisy_tier_apt = ahlp.create_noisy_apt(tier_apt, 1/3)"
   ]
  },
  {
   "cell_type": "code",
   "execution_count": 25,
   "id": "ef74e728-368c-4c6f-9abd-e2cbb9c85831",
   "metadata": {},
   "outputs": [
    {
     "name": "stdout",
     "output_type": "stream",
     "text": [
      "initprob:1.0  tprob: [1. 1. 1. 1. 1. 1. 1. 1. 1. 1. 1. 1. 1. 1. 1. 1. 1. 1. 1. 1. 1. 1. 1. 1.\n",
      " 1. 1. 1. 1. 1. 1. 1. 1. 1. 1. 1. 1. 1. 1. 1. 1. 1. 1. 1. 1. 1. 1. 1. 1.\n",
      " 1. 1. 1. 1. 1. 1. 1. 1. 1. 1. 1. 1. 1. 1. 1. 1. 1. 1. 1. 1. 1. 1. 1. 1.\n",
      " 1. 1. 1. 1. 1. 1. 1. 1. 1. 1. 1. 1. 1. 1. 1. 1. 1. 1.]  eprob: [1. 1. 1. 1. 1. 1. 1. 1. 1. 1. 1. 1. 1. 1. 1. 1. 1. 1. 1. 1. 1. 1. 1. 1.\n",
      " 1. 1. 1. 1. 1. 1. 1. 1. 1. 1. 1. 1. 1. 1. 1. 1. 1. 1. 1. 1. 1. 1. 1. 1.\n",
      " 1. 1. 1. 1. 1. 1. 1. 1. 1. 1. 1. 1. 1. 1. 1. 1. 1. 1. 1. 1. 1. 1. 1. 1.\n",
      " 1. 1. 1. 1. 1. 1. 1. 1. 1. 1. 1. 1. 1. 1. 1. 1. 1. 1.]\n"
     ]
    }
   ],
   "source": [
    "apt_params = ahlp.hmm2numpy(noisy_tier_apt)\n",
    "print(f'initprob:{apt_params[0].sum()}  tprob: {apt_params[1].sum(axis = 1)}  eprob: {apt_params[2].sum(axis = 1)}')"
   ]
  },
  {
   "cell_type": "code",
   "execution_count": 218,
   "id": "e405d691-05db-461d-bc8a-572c06f1e96e",
   "metadata": {},
   "outputs": [],
   "source": [
    "#Vanilla Viterbi is no constraint is included\n",
    "opt_state =  mv.mv_Viterbi(obs = combined_emits, hmm = noisy_tier_apt)"
   ]
  },
  {
   "cell_type": "markdown",
   "id": "ea74d3ce-9ebe-4b53-8d37-ccfac747d127",
   "metadata": {},
   "source": [
    "# Work"
   ]
  },
  {
   "cell_type": "code",
   "execution_count": 102,
   "id": "6ffd0ea1-fbec-4273-9b0f-18f24fb6ae11",
   "metadata": {},
   "outputs": [],
   "source": [
    "    apt_truth, combined_emits = ahlp.combined_simulation(apt_hmm, user_list, cst_list)\n"
   ]
  },
  {
   "cell_type": "code",
   "execution_count": 298,
   "id": "8b852abe-21ec-4031-8426-079fc30470de",
   "metadata": {},
   "outputs": [],
   "source": [
    "cst_names = ['know_sally_exists','have_sally_credential', 'learn_where_data_stored', 'have_data_on_ds', 'have_data_on_hi', 'have_data_on_he']\n",
    "cst_names = [names + '_TRUE' for names in cst_names]\n",
    "cst_list=  []\n",
    "for name in cst_names:\n",
    "    module = importlib.import_module(name)\n",
    "    \n",
    "    curr_cst =  Munch(name = module.name, \\\n",
    "                      aux_size = module.aug_size, \\\n",
    "                      update_fun = module.update_fun, \\\n",
    "                      init_fun = module.init_fun, \\\n",
    "                      forbidden_emissions = module.forbidden_emissions, \\\n",
    "                      forbidden_transitions = module.forbidden_transitions, \\\n",
    "                      knowledge_state = module.knowledge_state, \\\n",
    "                      cst_fun = module.cst_fun)\n",
    "    if hasattr(module, 'dependency'):\n",
    "        curr_cst.dependency = module.dependency\n",
    "    cst_list.append(curr_cst)\n",
    "\n",
    "# cst_list = cst_list[:1]\n",
    "sat = len(cst_list) * (True,)\n",
    "agg_cst = cagg.apt_cst_aggregate(cst_list)"
   ]
  },
  {
   "cell_type": "code",
   "execution_count": 299,
   "id": "8a60ae0f-0992-4037-ad95-3a3d3f5bb615",
   "metadata": {},
   "outputs": [
    {
     "data": {
      "text/plain": [
       "<module 'apt_helper' from '/home/fyqiu/Projects/conin/conin/mediation_variables/apt_helper.py'>"
      ]
     },
     "execution_count": 299,
     "metadata": {},
     "output_type": "execute_result"
    }
   ],
   "source": [
    "importlib.reload(ahlp)"
   ]
  },
  {
   "cell_type": "code",
   "execution_count": 282,
   "id": "e86b9806-e941-4682-98e9-ed2081fc7241",
   "metadata": {},
   "outputs": [],
   "source": [
    "hmm_params, cst_params = ahlp.convertTensor_list(tier_apt, cst_list, sat, dtype = torch.float16, device = 'cpu', return_ix = False)"
   ]
  },
  {
   "cell_type": "code",
   "execution_count": 283,
   "id": "b0925581-a613-4657-beeb-b59e798f555f",
   "metadata": {},
   "outputs": [],
   "source": [
    "dims_list, init_ind_list,final_ind_list,ind_list = cst_params"
   ]
  },
  {
   "cell_type": "code",
   "execution_count": 284,
   "id": "ce42cd95-062c-43c2-ac89-dadb3db1c7ba",
   "metadata": {},
   "outputs": [],
   "source": [
    "hmm_params_np, cst_param1 = ahlp.arrayConvert(tier_apt, cst_list[0], sat[0])"
   ]
  },
  {
   "cell_type": "code",
   "execution_count": 285,
   "id": "f736d50a-43e5-48d1-8b24-788f116fe0f3",
   "metadata": {},
   "outputs": [
    {
     "name": "stdout",
     "output_type": "stream",
     "text": [
      "0.0009636887170864863\n",
      "0.0\n"
     ]
    }
   ],
   "source": [
    "for i in range(2):\n",
    "    err = hmm_params_np[i] - hmm_params[i].cpu().numpy()\n",
    "    print(np.linalg.norm(err))"
   ]
  },
  {
   "cell_type": "code",
   "execution_count": 286,
   "id": "9adb25cf-48c4-4d79-a43d-acc1c1e8deb6",
   "metadata": {},
   "outputs": [
    {
     "name": "stdout",
     "output_type": "stream",
     "text": [
      "init_err: 0.0 final_err 0.0 ind_err 0.0\n",
      "init_err: 0.0 final_err 0.0 ind_err 0.0\n",
      "init_err: 0.0 final_err 0.0 ind_err 0.0\n",
      "init_err: 0.0 final_err 0.0 ind_err 0.0\n",
      "init_err: 0.0 final_err 0.0 ind_err 0.0\n",
      "init_err: 0.0 final_err 0.0 ind_err 0.0\n"
     ]
    }
   ],
   "source": [
    "for i in range(len(cst_list)):\n",
    "    _, cst_param1 = ahlp.arrayConvert(tier_apt, cst_list[i], sat[i])\n",
    "    init_ind,final_ind,ind = cst_param1\n",
    "    init_err = np.linalg.norm(init_ind - init_ind_list[2*i].cpu().numpy()).item()\n",
    "    final_err = np.linalg.norm(final_ind - final_ind_list[2*i].cpu().numpy()).item()\n",
    "    ind_err = np.linalg.norm(ind - ind_list[2*i].cpu().numpy()).item()\n",
    "\n",
    "    print(f'init_err: {init_err} final_err {final_err} ind_err {ind_err}')"
   ]
  },
  {
   "cell_type": "code",
   "execution_count": 368,
   "id": "5243c216-c922-430e-9df6-715e95862c05",
   "metadata": {},
   "outputs": [],
   "source": [
    "apt_truth, combined_emits = ahlp.combined_simulation(apt_hmm, user_list, cst_list)\n",
    "apt_truth_states, apt_truth_emits = apt_truth"
   ]
  },
  {
   "cell_type": "code",
   "execution_count": 372,
   "id": "adf18f93-6cd0-4caa-bb77-e3c9dfae4259",
   "metadata": {},
   "outputs": [],
   "source": [
    "opt_state_list, opt_augstateix_list = ahlp.Viterbi_torch_list(tier_apt, dummy_cst_list, combined_emits, dummy_sat, time_hom = True, dtype = torch.float16, device = 'cuda:0')"
   ]
  },
  {
   "cell_type": "code",
   "execution_count": 373,
   "id": "39214a45-a882-438e-9222-063461fa8d53",
   "metadata": {},
   "outputs": [
    {
     "data": {
      "text/plain": [
       "[('PRE', None),\n",
       " ('PRE', None),\n",
       " ('PRE', None),\n",
       " ('PRE', None),\n",
       " ('PRE', None),\n",
       " ('PRE', None),\n",
       " ('PRE', None),\n",
       " ('PRE', None),\n",
       " ('PRE', None),\n",
       " ('PRE', None)]"
      ]
     },
     "execution_count": 373,
     "metadata": {},
     "output_type": "execute_result"
    }
   ],
   "source": [
    "opt_state_list[:10]"
   ]
  },
  {
   "cell_type": "code",
   "execution_count": 369,
   "id": "6f8ee43d-1459-458e-9373-76391ed7525b",
   "metadata": {},
   "outputs": [],
   "source": [
    "opt_state_list, opt_augstateix_list = ahlp.Viterbi_torch_list(tier_apt, cst_list, apt_truth_emits, sat, time_hom = True, dtype = torch.float16, device = 'cuda:0')"
   ]
  },
  {
   "cell_type": "code",
   "execution_count": 371,
   "id": "88bbfa95-83da-4dba-8963-ea7a47804671",
   "metadata": {},
   "outputs": [
    {
     "data": {
      "text/plain": [
       "[('PRE', None),\n",
       " ('PRE', None),\n",
       " ('PRE', None),\n",
       " ('PRE', None),\n",
       " ('PRE', None),\n",
       " ('PRE', None),\n",
       " ('PRE', None),\n",
       " ('PRE', None),\n",
       " ('PRE', None),\n",
       " ('PRE', None)]"
      ]
     },
     "execution_count": 371,
     "metadata": {},
     "output_type": "execute_result"
    }
   ],
   "source": [
    "opt_state_list[:10]"
   ]
  },
  {
   "cell_type": "code",
   "execution_count": 354,
   "id": "547e2f22-3834-4aee-b881-b1e6812fe8b4",
   "metadata": {},
   "outputs": [
    {
     "data": {
      "text/plain": [
       "[('PRE', None),\n",
       " ('PRE', None),\n",
       " ('IA', ('S', 'postfix/local')),\n",
       " ('WAIT_IA', None),\n",
       " ('EX', ('HE', 'img/post')),\n",
       " ('WAIT_EX', None),\n",
       " ('WAIT_EX', None),\n",
       " ('WAIT_EX', None),\n",
       " ('WAIT_EX', None),\n",
       " ('EX', ('S', 'postfix/local'))]"
      ]
     },
     "execution_count": 354,
     "metadata": {},
     "output_type": "execute_result"
    }
   ],
   "source": [
    "opt_state_list[:10]"
   ]
  },
  {
   "cell_type": "code",
   "execution_count": 351,
   "id": "a508191d-0d3a-4148-b01c-8abdff7684a2",
   "metadata": {},
   "outputs": [
    {
     "data": {
      "text/plain": [
       "[('PRE', None),\n",
       " ('PRE', None),\n",
       " ('PRE', None),\n",
       " ('PRE', None),\n",
       " ('PRE', None),\n",
       " ('PRE', None),\n",
       " ('PRE', None),\n",
       " ('PRE', None),\n",
       " ('PRE', None),\n",
       " ('PRE', None)]"
      ]
     },
     "execution_count": 351,
     "metadata": {},
     "output_type": "execute_result"
    }
   ],
   "source": [
    "opt_state_list[:10]"
   ]
  },
  {
   "cell_type": "code",
   "execution_count": 347,
   "id": "1a84c9dc-73a2-4d13-94fe-a62ff34ae345",
   "metadata": {},
   "outputs": [
    {
     "data": {
      "text/plain": [
       "[('PRE', None),\n",
       " ('PRE', None),\n",
       " ('IA', ('S', 'postfix/local')),\n",
       " ('WAIT_IA', None),\n",
       " ('EX', ('HE', 'img/post')),\n",
       " ('WAIT_EX', None),\n",
       " ('WAIT_EX', None),\n",
       " ('WAIT_EX', None),\n",
       " ('WAIT_EX', None),\n",
       " ('EX', ('S', 'postfix/local')),\n",
       " ('EX', ('HE', 'img/post')),\n",
       " ('WAIT_EX', None),\n",
       " ('WAIT_EX', None),\n",
       " ('WAIT_EX', None),\n",
       " ('WAIT_EX', None)]"
      ]
     },
     "execution_count": 347,
     "metadata": {},
     "output_type": "execute_result"
    }
   ],
   "source": [
    "opt_state_list[:15]"
   ]
  },
  {
   "cell_type": "code",
   "execution_count": 359,
   "id": "d35aaa73-11b9-4915-89dd-79d2bbe0c74d",
   "metadata": {},
   "outputs": [],
   "source": [
    "noisy_apt = ahlp.create_noisy_apt(tier_apt, 1/3)"
   ]
  },
  {
   "cell_type": "code",
   "execution_count": 305,
   "id": "82a06038-475c-4b85-b500-039791c67737",
   "metadata": {},
   "outputs": [],
   "source": [
    "opt_state_list, opt_augstateix_list = ahlp.Viterbi_torch_list(apt_hmm, dummy_cst_list, combined_emits, dummy_sat, time_hom = True, dtype = torch.float16, device = 'cuda:0')"
   ]
  },
  {
   "cell_type": "code",
   "execution_count": 310,
   "id": "c9cbdf3f-0062-418e-9995-7f729fb9a75b",
   "metadata": {},
   "outputs": [
    {
     "data": {
      "text/plain": [
       "<module 'apt_helper' from '/home/fyqiu/Projects/conin/conin/mediation_variables/apt_helper.py'>"
      ]
     },
     "execution_count": 310,
     "metadata": {},
     "output_type": "execute_result"
    }
   ],
   "source": [
    "importlib.reload(ahlp)"
   ]
  },
  {
   "cell_type": "code",
   "execution_count": 313,
   "id": "4db9dbe5-bd1e-4cc8-bd86-55b95a822589",
   "metadata": {},
   "outputs": [],
   "source": [
    "hmm_params, cst_params = ahlp.convertTensor_list(noisy_apt, dummy_cst_list, dummy_sat, dtype = torch.float16, device = 'cpu', return_ix = False)"
   ]
  },
  {
   "cell_type": "code",
   "execution_count": 324,
   "id": "0df643b5-e91a-41f9-bc35-58bd25c256df",
   "metadata": {},
   "outputs": [
    {
     "data": {
      "text/plain": [
       "[0, 1, 2, 3]"
      ]
     },
     "execution_count": 324,
     "metadata": {},
     "output_type": "execute_result"
    }
   ],
   "source": [
    "cst_params[3][1]#.shape"
   ]
  },
  {
   "cell_type": "code",
   "execution_count": 343,
   "id": "61ee1457-9eca-4826-b020-7258621ed956",
   "metadata": {},
   "outputs": [
    {
     "data": {
      "text/plain": [
       "<module 'apt_helper' from '/home/fyqiu/Projects/conin/conin/mediation_variables/apt_helper.py'>"
      ]
     },
     "execution_count": 343,
     "metadata": {},
     "output_type": "execute_result"
    }
   ],
   "source": [
    "importlib.reload(ahlp)"
   ]
  },
  {
   "cell_type": "code",
   "execution_count": 339,
   "id": "8d5480d2-88fd-497c-b760-3e0b960482d4",
   "metadata": {},
   "outputs": [],
   "source": [
    "obs = pure_emission\n",
    "hmm = tier_apt\n",
    "time_hom = True\n",
    "device = 'cuda:0'\n",
    "dtype = torch.float32"
   ]
  },
  {
   "cell_type": "code",
   "execution_count": 340,
   "id": "577312a2-6930-4c43-8b16-693489b976c7",
   "metadata": {},
   "outputs": [],
   "source": [
    "    emit_weights = ahlp.compute_emitweights(obs, hmm, time_hom)\n",
    "    emit_weights = torch.from_numpy(emit_weights).type(torch.float16).to(device)\n",
    "\n",
    "    #Generate hmm,cst params:\n",
    "    hmm_params, cst_params_list, state_ix = ahlp.convertTensor_list(hmm,cst_list, sat, dtype = dtype, \\\n",
    "                                                               device = device, return_ix = True)   \n",
    "    tmat, init_prob = hmm_params\n",
    "    dims_list, init_ind_list,final_ind_list,ind_list = cst_params_list\n",
    "\n",
    "    \n",
    "    #Viterbi\n",
    "    T = emit_weights.shape[0]\n",
    "    K = tmat.shape[0]\n",
    "    C = len(dims_list)\n",
    "    \n",
    "    val = torch.empty((T,K) + tuple(dims_list), device = 'cpu')\n",
    "    ix_tracker = torch.empty((T,K) + tuple(dims_list), device = 'cpu') #will store flattened indices\n",
    "    \n",
    "    kr_indices = list(range(C+1))\n",
    "    kr_shape = (K,) + tuple(dims_list)\n",
    "    js_indices = [k + C + 1 for k in kr_indices]\n"
   ]
  },
  {
   "cell_type": "code",
   "execution_count": 341,
   "id": "bc013dc7-9691-42a1-afcb-ae944d182fa1",
   "metadata": {},
   "outputs": [],
   "source": [
    "    V = torch.einsum(emit_weights[0], [0], init_prob, [0], *init_ind_list, kr_indices)\n",
    "    V = V/V.max() #normalize for numerical stability\n",
    "    val[0] = V.cpu()\n",
    "    for t in range(1,T):\n",
    "        # V = torch.einsum('js,jk,krjs -> krjs',val[t-1],tmat,ind)\n",
    "        V = torch.einsum(val[t-1].to(device), js_indices, tmat, [C+1,0], *ind_list, list(range(2*C + 2)))\n",
    "        V = V.reshape(tuple(kr_shape) + (-1,))\n",
    "        # V = V/V.max()\n",
    "        max_ix = torch.argmax(V, axis = -1, keepdims = True)\n",
    "        ix_tracker[t-1] = max_ix.squeeze()\n",
    "        V = torch.take_along_dim(V, max_ix, axis=-1).squeeze()\n",
    "        if t == T:\n",
    "            # val[t] = torch.einsum('k,kr,kr -> kr',emit_weights[t],final_ind,V)\n",
    "            val[t] = torch.einsum(emit_weights[t],[0], V, kr_indices,*final_ind_list, kr_indices).cpu()\n",
    "        else:\n",
    "            # val[t] = torch.einsum('k,kr -> kr', emit_weights[t],V)\n",
    "            val[t] = torch.einsum(emit_weights[t],[0], V, kr_indices, kr_indices).cpu()\n",
    "        \n",
    "    state_ix = {v:k for k,v in state_ix.items()}\n",
    "    #Backward pass\n",
    "    opt_augstateix_list = []\n",
    "    max_ix = int(torch.argmax(val[T-1]).item())\n",
    "    unravel_max_ix = np.unravel_index(max_ix, kr_shape)\n",
    "    opt_augstateix_list =  [np.array(unravel_max_ix).tolist()] + opt_augstateix_list\n",
    "    \n",
    "    ix_tracker = ix_tracker.reshape(T,-1) #flatten again for easier indexing    \n",
    "    \n",
    "    for t in range(T-1):\n",
    "        max_ix =  int(ix_tracker[T-2-t,max_ix].item())\n",
    "        unravel_max_ix = np.unravel_index(max_ix, kr_shape)\n",
    "        opt_augstateix_list =  [np.array(unravel_max_ix).tolist()] + opt_augstateix_list\n",
    "\n",
    "    opt_state_list = [state_ix[k[0]] for k in opt_augstateix_list]\n"
   ]
  },
  {
   "cell_type": "code",
   "execution_count": 342,
   "id": "57c8ecbc-8ee1-4a24-a57b-e145130ae99c",
   "metadata": {},
   "outputs": [
    {
     "data": {
      "text/plain": [
       "[('PRE', None),\n",
       " ('PRE', None),\n",
       " ('IA', ('S', 'postfix/local')),\n",
       " ('WAIT_IA', None),\n",
       " ('EX', ('HE', 'img/post')),\n",
       " ('WAIT_EX', None),\n",
       " ('WAIT_EX', None),\n",
       " ('WAIT_EX', None),\n",
       " ('WAIT_EX', None),\n",
       " ('EX', ('S', 'postfix/local')),\n",
       " ('EX', ('HE', 'img/post')),\n",
       " ('WAIT_EX', None),\n",
       " ('WAIT_EX', None),\n",
       " ('WAIT_EX', None),\n",
       " ('WAIT_EX', None),\n",
       " ('WAIT_EX', None),\n",
       " ('WAIT_EX', None),\n",
       " ('WAIT_EX', None),\n",
       " ('WAIT_EX', None),\n",
       " ('WAIT_EX', None),\n",
       " ('WAIT_EX', None),\n",
       " ('WAIT_EX', None),\n",
       " ('CA', ('HI', 'usr/query')),\n",
       " ('WAIT_CA', None),\n",
       " ('WAIT_CA', None),\n",
       " ('WAIT_CA', None),\n",
       " ('DI', ('DS', 'syslog/ls')),\n",
       " ('WAIT_DI', None),\n",
       " ('WAIT_DI', None),\n",
       " ('WAIT_DI', None),\n",
       " ('CA', ('HI', 'usr/query')),\n",
       " ('WAIT_CA', None),\n",
       " ('WAIT_CA', None),\n",
       " ('EX', ('DS', 'syslog/nano')),\n",
       " ('WAIT_EX', None),\n",
       " ('WAIT_EX', None),\n",
       " ('WAIT_EX', None),\n",
       " ('WAIT_EX', None),\n",
       " ('CA', ('HI', 'usr/query')),\n",
       " ('WAIT_CA', None),\n",
       " ('WAIT_CA', None),\n",
       " ('WAIT_CA', None),\n",
       " ('WAIT_CA', None),\n",
       " ('WAIT_CA', None),\n",
       " ('WAIT_CA', None),\n",
       " ('WAIT_CA', None),\n",
       " ('WAIT_CA', None),\n",
       " ('WAIT_CA', None),\n",
       " ('WAIT_CA', None),\n",
       " ('DI', ('HI', 'usr/query')),\n",
       " ('WAIT_DI', None),\n",
       " ('WAIT_DI', None),\n",
       " ('EX', ('HE', 'img/post')),\n",
       " ('WAIT_EX', None),\n",
       " ('WAIT_EX', None),\n",
       " ('WAIT_EX', None),\n",
       " ('WAIT_EX', None),\n",
       " ('WAIT_EX', None),\n",
       " ('WAIT_EX', None),\n",
       " ('WAIT_EX', None),\n",
       " ('WAIT_EX', None),\n",
       " ('WAIT_EX', None),\n",
       " ('WAIT_EX', None),\n",
       " ('EX', ('HE', 'img/post')),\n",
       " ('WAIT_EX', None),\n",
       " ('WAIT_EX', None),\n",
       " ('EX', ('HE', 'img/post')),\n",
       " ('WAIT_EX', None),\n",
       " ('WAIT_EX', None),\n",
       " ('EX', ('DS', 'syslog/nano')),\n",
       " ('WAIT_EX', None),\n",
       " ('WAIT_EX', None),\n",
       " ('WAIT_EX', None),\n",
       " ('WAIT_EX', None),\n",
       " ('EX', ('HE', 'img/post')),\n",
       " ('WAIT_EX', None),\n",
       " ('WAIT_EX', None),\n",
       " ('WAIT_EX', None),\n",
       " ('WAIT_EX', None),\n",
       " ('WAIT_EX', None),\n",
       " ('WAIT_EX', None),\n",
       " ('WAIT_EX', None),\n",
       " ('EX', ('HI', 'img/post')),\n",
       " ('WAIT_EX', None),\n",
       " ('WAIT_EX', None),\n",
       " ('WAIT_EX', None),\n",
       " ('WAIT_EX', None),\n",
       " ('WAIT_EX', None),\n",
       " ('WAIT_EX', None),\n",
       " ('EX', ('HE', 'img/post')),\n",
       " ('EX', ('HE', 'img/post')),\n",
       " ('WAIT_EX', None),\n",
       " ('WAIT_EX', None),\n",
       " ('WAIT_EX', None),\n",
       " ('WAIT_EX', None),\n",
       " ('WAIT_EX', None),\n",
       " ('WAIT_EX', None),\n",
       " ('WAIT_EX', None),\n",
       " ('WAIT_EX', None),\n",
       " ('WAIT_EX', None),\n",
       " ('WAIT_EX', None),\n",
       " ('EX', ('HE', 'img/post')),\n",
       " ('WAIT_EX', None),\n",
       " ('WAIT_EX', None),\n",
       " ('WAIT_EX', None),\n",
       " ('WAIT_EX', None),\n",
       " ('WAIT_EX', None),\n",
       " ('WAIT_EX', None),\n",
       " ('WAIT_EX', None),\n",
       " ('WAIT_EX', None),\n",
       " ('WAIT_EX', None),\n",
       " ('WAIT_EX', None),\n",
       " ('WAIT_EX', None),\n",
       " ('DI', ('HE', 'img/query')),\n",
       " ('WAIT_DI', None),\n",
       " ('WAIT_DI', None),\n",
       " ('WAIT_DI', None),\n",
       " ('WAIT_DI', None),\n",
       " ('WAIT_DI', None),\n",
       " ('WAIT_DI', None),\n",
       " ('WAIT_DI', None),\n",
       " ('WAIT_DI', None),\n",
       " ('WAIT_DI', None),\n",
       " ('WAIT_DI', None),\n",
       " ('WAIT_DI', None),\n",
       " ('WAIT_DI', None),\n",
       " ('WAIT_DI', None),\n",
       " ('WAIT_DI', None),\n",
       " ('WAIT_DI', None),\n",
       " ('WAIT_DI', None),\n",
       " ('WAIT_DI', None),\n",
       " ('WAIT_DI', None),\n",
       " ('WAIT_DI', None),\n",
       " ('WAIT_DI', None),\n",
       " ('WAIT_DI', None),\n",
       " ('WAIT_DI', None),\n",
       " ('WAIT_DI', None),\n",
       " ('WAIT_DI', None),\n",
       " ('WAIT_DI', None)]"
      ]
     },
     "execution_count": 342,
     "metadata": {},
     "output_type": "execute_result"
    }
   ],
   "source": [
    "opt_state_list"
   ]
  },
  {
   "cell_type": "code",
   "execution_count": 83,
   "id": "77fc540f-dd2e-4295-93d7-462e9e75a009",
   "metadata": {},
   "outputs": [],
   "source": [
    "t= 1\n",
    "V = torch.einsum(val[t-1].to(device), js_indices, tmat, [C+1,0], *ind_list, list(range(2*C + 2)))\n",
    "V = V.reshape(kr_shape + (-1,))\n",
    "max_ix = torch.argmax(V, axis = -1, keepdims = True)\n",
    "ix_tracker[t-1] = max_ix.squeeze()\n",
    "V_reduce = torch.take_along_dim(V, max_ix, axis=-1).squeeze()\n"
   ]
  },
  {
   "cell_type": "code",
   "execution_count": 187,
   "id": "5eeff0ac-bba1-4205-a620-a983f41cc775",
   "metadata": {},
   "outputs": [],
   "source": [
    "t = 1\n",
    "V2 = torch.einsum('js,jk,krjs -> krjs',val[t-1].to(device),tmat, ind_list[0])"
   ]
  },
  {
   "cell_type": "code",
   "execution_count": 190,
   "id": "ee7154b5-d63c-404e-a451-8fc6ce1c2371",
   "metadata": {},
   "outputs": [
    {
     "data": {
      "text/plain": [
       "[0, 1, 2, 3]"
      ]
     },
     "execution_count": 190,
     "metadata": {},
     "output_type": "execute_result"
    }
   ],
   "source": [
    "ind_list[1]"
   ]
  },
  {
   "cell_type": "code",
   "execution_count": 195,
   "id": "aae9d3a5-42b8-42ce-9411-abbe7133b438",
   "metadata": {},
   "outputs": [
    {
     "data": {
      "text/plain": [
       "(14, 2)"
      ]
     },
     "execution_count": 195,
     "metadata": {},
     "output_type": "execute_result"
    }
   ],
   "source": [
    "kr_shape"
   ]
  },
  {
   "cell_type": "code",
   "execution_count": 198,
   "id": "7d6c6633-a37b-46ba-87e2-192227d35013",
   "metadata": {},
   "outputs": [
    {
     "data": {
      "text/plain": [
       "[2, 3]"
      ]
     },
     "execution_count": 198,
     "metadata": {},
     "output_type": "execute_result"
    }
   ],
   "source": [
    "[k + C + 1 for k in kr_indices]"
   ]
  },
  {
   "cell_type": "code",
   "execution_count": null,
   "id": "669a54ff-68e5-4896-80a1-3c36dd9bfb24",
   "metadata": {},
   "outputs": [],
   "source": [
    "def convertTensor_list(hmm, cst_list, sat, dtype = torch.float16, device = 'cpu'):\n",
    "    '''\n",
    "    cst_list is a list of the individual csts.\n",
    "    '''\n",
    "    #Initialize and convert all quantities  to np.arrays\n",
    "    K = len(hmm.states)\n",
    "    assert len(cst_list) == len(sat)\n",
    "    \n",
    "    state_ix = {s: i for i, s in enumerate(hmm.states)}\n",
    "\n",
    "    #Compute the hmm parameters\n",
    "    tmat = torch.zeros((K,K), dtype=dtype ).to(device)\n",
    "    init_prob = torch.zeros(K, dtype=dtype ).to(device)\n",
    "\n",
    "    for i in hmm.states:\n",
    "        init_prob[state_ix[i]] = hmm.initprob[i]\n",
    "        for j in hmm.states:\n",
    "            tmat[state_ix[i],state_ix[j]] = hmm.tprob[i,j]\n",
    "\n",
    "    hmm_params = [tmat, init_prob]\n",
    "    \n",
    "    #Compute the cst parameters \n",
    "    init_ind_list = []\n",
    "    final_ind_list = []\n",
    "    ind_list = []\n",
    "    dims_list = []\n",
    "    cst_dict = {cst.name,i for i,cst in cst_list}\n",
    "    C = len(cst_list)\n",
    "    cst_ix = 0\n",
    "    for cst in cst_list:\n",
    "        \n",
    "        aux_space = list(itertools.product([True, False], repeat=cst.aux_size))\n",
    "        aux_ix = {s: i for i, s in enumerate(aux_space)}\n",
    "        M = len(aux_space)\n",
    "        ind = torch.zeros((K,M,K,M),dtype=dtype ).to(device)\n",
    "        init_ind = torch.zeros((K,M),dtype=dtype ).to(device)\n",
    "        final_ind = torch.zeros((K,M),dtype=dtype ).to(device)\n",
    "    \n",
    "        for r in aux_space:\n",
    "            for k in hmm.states:\n",
    "                final_ind[state_ix[k], aux_ix[r]] = cst.cst_fun(k,r,sat)\n",
    "                init_ind[state_ix[k],aux_ix[r]] = cst.init_fun(k,r)\n",
    "                for s in aux_space:\n",
    "                    for j in hmm.states:\n",
    "                        ind[state_ix[k],aux_ix[r],state_ix[j],aux_ix[s]] = cst.update_fun(k,r,j,s)\n",
    "\n",
    "        #indices are [0 = k,  (1 dim for each cst r_i = i + 1)  0 <= i <= n - 1 \n",
    "        # init_ind_list.append((init_ind,[0,cst_ix + 1]))\n",
    "        # final_ind_list.append((final_ind, [0, cst_ix + 1]))\n",
    "        # #indices are [0 = k,(1 dim for each cst r_i = i + 1), n + 1 = j, (1 dim for s_i = i+n+2)] \n",
    "        # ind_list.append((ind, [0, cst_ix + 1, C + 1, cst_ix + C + 2]))\n",
    "        # dims_list.append(M)\n",
    "\n",
    "        init_ind_list += [init_ind,[0,cst_ix + 1]]\n",
    "        final_ind_list += [final_ind, [0, cst_ix + 1]]\n",
    "        #indices are [0 = k,(1 dim for each cst r_i = i + 1), n + 1 = j, (1 dim for s_i = i+n+2)] \n",
    "        ind_list += [ind, [0, cst_ix + 1, C + 1, cst_ix + C + 2]]\n",
    "        dims_list.append(M)\n",
    "        cst_ix += 1\n",
    "                \n",
    "    cst_params = [dims_list, init_ind_list,final_ind_list,ind_list]\n",
    "    \n",
    "    return hmm_params, cst_params \n"
   ]
  },
  {
   "cell_type": "code",
   "execution_count": 200,
   "id": "2bd58d61-4bcd-461a-b919-ac6a290ef19a",
   "metadata": {},
   "outputs": [],
   "source": [
    "    for t in range(1,T):\n",
    "        # V = torch.einsum('js,jk,krjs -> krjs',val[t-1],tmat,ind)\n",
    "        V = torch.einsum(val[t-1].to(device), [k + C + 1 for k in kr_indices], tmat, [0,C+1], *ind_list, list(range(2*C + 2)))\n",
    "        V = V.reshape((K,) + tuple(dims_list) + (-1,))\n",
    "        V = V/V.max()\n",
    "        max_ix = torch.argmax(V, axis = -1, keepdims = True)\n",
    "        ix_tracker[t-1] = max_ix.squeeze()\n",
    "        V = torch.take_along_dim(V, max_ix, axis=-1).squeeze()\n",
    "        if t == T:\n",
    "            # val[t] = torch.einsum('k,kr,kr -> kr',emit_weights[t],final_ind,V)\n",
    "            val[t] = torch.einsum(emit_weights[t],[0], V, kr_indices,*final_ind_list, kr_indices).cpu()\n",
    "        else:\n",
    "            # val[t] = torch.einsum('k,kr -> kr', emit_weights[t],V)\n",
    "            val[t] = torch.einsum(emit_weights[t],[0], V, kr_indices, kr_indices).cpu()\n"
   ]
  },
  {
   "cell_type": "code",
   "execution_count": null,
   "id": "0a4c1ab3-5879-4ec3-a129-98b40ca9901e",
   "metadata": {},
   "outputs": [],
   "source": [
    "def Viterbi_torch_list(hmm, cst_list, obs, sat,  time_hom = True, dtype = torch.float16,  device = 'cpu'):\n",
    "    '''\n",
    "    \n",
    "    '''\n",
    "    hmm = copy.deepcopy(hmm) #protect again in place modification\n",
    "    #Generate emit_weights:\n",
    "    emit_weights = compute_emitweights(obs, hmm, time_hom)\n",
    "    emit_weights = torch.from_numpy(emit_weights).type(torch.float16).to(device)\n",
    "\n",
    "    #Generate hmm,cst params:\n",
    "    hmm_params, cst_params_list, state_ix = convertTensor_list(hmm,cst_list, sat, dtype = dtype, \\\n",
    "                                                               device = device, return_ix = True)   \n",
    "    tmat, init_prob = hmm_params\n",
    "    dims_list, init_ind_list,final_ind_list,ind_list = cst_params_list\n",
    "\n",
    "    \n",
    "    #Viterbi\n",
    "    T = emit_weights.shape[0]\n",
    "    K = tmat.shape[0]\n",
    "    C = len(dims_list)\n",
    "    \n",
    "    val = torch.empty((T,K) + tuple(dims_list), device = 'cpu')\n",
    "    ix_tracker = torch.empty((T,K) + tuple(dims_list), device = 'cpu') #will store flattened indices\n",
    "    \n",
    "    kr_indices = list(range(C+1))\n",
    "    kr_shape = (K,) + tuple(dims_list)\n",
    "    js_indices = [k + C + 1 for k in kr_indices]\n",
    "\n",
    "    #Forward pass\n",
    "    # V = torch.einsum('k,k,kr -> kr', init_prob, emit_weights[0], init_ind)\n",
    "    V = torch.einsum(emit_weights[0], [0], init_prob, [0], *init_ind_list, kr_indices)\n",
    "    V = V/V.max() #normalize for numerical stability\n",
    "    val[0] = V.cpu()\n",
    "    for t in range(1,T):\n",
    "        # V = torch.einsum('js,jk,krjs -> krjs',val[t-1],tmat,ind)\n",
    "        V = torch.einsum(val[t-1].to(device), js_indices, tmat, [C+1,0], *ind_list, list(range(2*C + 2)))\n",
    "        V = V.reshape(tuple(kr_shape) + (-1,))\n",
    "        # V = V/V.max()\n",
    "        max_ix = torch.argmax(V, axis = -1, keepdims = True)\n",
    "        ix_tracker[t-1] = max_ix.squeeze()\n",
    "        V = torch.take_along_dim(V, max_ix, axis=-1).squeeze()\n",
    "        if t == T:\n",
    "            # val[t] = torch.einsum('k,kr,kr -> kr',emit_weights[t],final_ind,V)\n",
    "            val[t] = torch.einsum(emit_weights[t],[0], V, kr_indices,*final_ind_list, kr_indices).cpu()\n",
    "        else:\n",
    "            # val[t] = torch.einsum('k,kr -> kr', emit_weights[t],V)\n",
    "            val[t] = torch.einsum(emit_weights[t],[0], V, kr_indices, kr_indices).cpu()\n",
    "        \n",
    "    state_ix = {v:k for k,v in state_ix.items()}\n",
    "    #Backward pass\n",
    "    opt_augstateix_list = []\n",
    "    max_ix = int(torch.argmax(val[T-1]).item())\n",
    "    unravel_max_ix = np.unravel_index(max_ix, kr_shape)\n",
    "    opt_augstateix_list =  [np.array(unravel_max_ix).tolist()] + opt_augstateix_list\n",
    "    \n",
    "    ix_tracker = ix_tracker.reshape(T,-1) #flatten again for easier indexing    \n",
    "    \n",
    "    for t in range(T-1):\n",
    "        max_ix =  int(ix_tracker[T-2-t,max_ix].item())\n",
    "        unravel_max_ix = np.unravel_index(max_ix, kr_shape)\n",
    "        opt_augstateix_list =  [np.array(unravel_max_ix).tolist()] + opt_augstateix_list\n",
    "\n",
    "    opt_state_list = [state_ix[k[0]] for k in opt_augstateix_list]\n",
    "    return opt_state_list, opt_augstateix_list\n"
   ]
  },
  {
   "cell_type": "code",
   "execution_count": null,
   "id": "2b19460a-41fa-49f5-98b2-0abee217cb62",
   "metadata": {},
   "outputs": [],
   "source": [
    "def mv_Viterbi_numpy(hmm_params, emit_weights, cst_params = None):\n",
    "    '''\n",
    "    numpy version. hmm_params, cst_params are list of numpy arrays\n",
    "    '''\n",
    "    if cst_params is None:\n",
    "        return Viterbi_numpy(hmm_params, emit_weights)\n",
    "    \n",
    "    opt_augstateix_list = []\n",
    "    \n",
    "    tmat, init_prob = hmm_params\n",
    "    init_ind,final_ind,ind = cst_params\n",
    "    \n",
    "    T = emit_weights.shape[0]\n",
    "    K, M = init_ind.shape\n",
    "\n",
    "    val = np.empty((T,K,M))\n",
    "    ix_tracker = np.empty((T,K,M)) #will store flattened indices\n",
    "\n",
    "    #Forward pass\n",
    "    V = np.einsum('k,k,kr -> kr', init_prob, emit_weights[0], init_ind)\n",
    "    val[0] = V\n",
    "    for t in range(1,T):\n",
    "        V = np.einsum('js,jk,krjs -> krjs',val[t-1],tmat,ind)\n",
    "        V = V.reshape((K,M,-1))\n",
    "        max_ix = np.argmax(V, axis = -1, keepdims = True)\n",
    "        ix_tracker[t-1] = max_ix.squeeze()\n",
    "        V = np.take_along_axis(V, max_ix, axis=-1).squeeze()\n",
    "        if t == T:\n",
    "            val[t] = np.einsum('k,kr,kr -> kr',emit_weights[t],final_ind,V)\n",
    "        else:\n",
    "            val[t] = np.einsum('k,kr -> kr', emit_weights[t],V)\n",
    "        \n",
    "\n",
    "    #Backward pass\n",
    "\n",
    "    #Initialize the last index\n",
    "    max_ix = int(np.argmax(val[T-1]).item())\n",
    "    max_k, max_r =divmod(max_ix, M)\n",
    "    opt_augstateix_list = [(max_k,max_r)] + opt_augstateix_list\n",
    "\n",
    "    ix_tracker = ix_tracker.reshape(T,-1) #flatten again for easier indexing    \n",
    "    \n",
    "    for t in range(T-1):\n",
    "        max_ix =  int(ix_tracker[T-2-t,max_ix].item())\n",
    "        max_k, max_r = divmod(max_ix, M)\n",
    "        opt_augstateix_list = [(max_k,max_r)] + opt_augstateix_list\n",
    "\n",
    "    return opt_augstateix_list\n"
   ]
  },
  {
   "cell_type": "code",
   "execution_count": 129,
   "id": "67296356-0e13-4054-b0d0-66b90562ba3d",
   "metadata": {},
   "outputs": [],
   "source": [
    "def create_noisy_apt(apt_hmm, mix_param, tol = 1e-7):\n",
    "    '''\n",
    "    Original APT: X -> Y\n",
    "\n",
    "    Tiered APT: (X,Y) -> hat{Y}\n",
    "\n",
    "    \n",
    "    '''\n",
    "    apt = copy.deepcopy(apt_hmm) #deepcopy since there's still some funkiness going on.\n",
    "    M = len(apt.emits) #number of hidden states\n",
    "    \n",
    "    #Creat noisy emissions matrix\n",
    "    eprob = defaultdict(int)\n",
    "    #For now, create a noiseless emission, where the emission of the APT is the observed emission\n",
    "    for k in apt.states:\n",
    "        for e in apt.emits:\n",
    "            eprob[k,e] = mix_param*apt.eprob[k,e] + (1- mix_param)/M \n",
    "        \n",
    "    new_apt = Munch(name = apt.name, states = apt.states, emits = apt.emits, tprob = apt.tprob, \\\n",
    "                       eprob = eprob, initprob = apt.initprob)\n",
    "    \n",
    "    if apt.mu:\n",
    "        new_apt.mu = apt.mu\n",
    "\n",
    "    return new_apt\n"
   ]
  },
  {
   "cell_type": "code",
   "execution_count": 95,
   "id": "90469a7f-46cd-4a6f-aed6-070eacff429e",
   "metadata": {},
   "outputs": [
    {
     "data": {
      "text/plain": [
       "[None,\n",
       " ('V', 'access/bob'),\n",
       " None,\n",
       " None,\n",
       " None,\n",
       " ('S', 'postfix/local'),\n",
       " ('HE', 'img/post'),\n",
       " None,\n",
       " ('DS', 'syslog/ls'),\n",
       " None]"
      ]
     },
     "execution_count": 95,
     "metadata": {},
     "output_type": "execute_result"
    }
   ],
   "source": [
    "combined_emits[:10]"
   ]
  },
  {
   "cell_type": "code",
   "execution_count": 96,
   "id": "22d550d8-4ba2-4a82-8412-ad5be289b64b",
   "metadata": {},
   "outputs": [
    {
     "data": {
      "text/plain": [
       "0"
      ]
     },
     "execution_count": 96,
     "metadata": {},
     "output_type": "execute_result"
    }
   ],
   "source": [
    "apt_hmm.initprob['CA']"
   ]
  },
  {
   "cell_type": "code",
   "execution_count": 98,
   "id": "cb9c01dc-91aa-44ac-87f1-50f9b9f8e4fe",
   "metadata": {},
   "outputs": [],
   "source": [
    "hmm = apt_hmm\n",
    "obs = combined_emits[:10]"
   ]
  },
  {
   "cell_type": "code",
   "execution_count": null,
   "id": "b311ec8f-c830-4385-b967-3bf3fb81fc2a",
   "metadata": {},
   "outputs": [],
   "source": [
    "    val = {} #initialize value dictionary\n",
    "\n",
    "    for k in hmm.states:\n",
    "            val[0,k] = hmm.initprob[k]*hmm.eprob[k,obs[0]]\n",
    "            \n",
    "    ix_tracker = {} #this is used in the backwards step to identify the optimal sequence\n",
    "    \n",
    "    #Forward: compute value function and generate index\n",
    "    for t in range(1,len(obs)):\n",
    "        for k in hmm.states:\n",
    "            max_val = -1 # set to dummy variable. will do brute-force search for max\n",
    "            argmax = None #initialize argmax for ix_tracker\n",
    "            for j in hmm.states:\n",
    "                curr_val = val[t-1,j]*hmm.tprob[j,k]\n",
    "                if curr_val > max_val:\n",
    "                    max_val = curr_val\n",
    "                    argmax = j\n",
    "                    print(j)\n",
    "            val[t,k] = max_val*hmm.eprob[k,obs[t]]\n",
    "            ix_tracker[t-1,k] = argmax\n"
   ]
  },
  {
   "cell_type": "code",
   "execution_count": 100,
   "id": "6da426af-6e90-41fe-a8c0-2bc8e7fd947b",
   "metadata": {},
   "outputs": [
    {
     "ename": "KeyError",
     "evalue": "(0, 'Pre')",
     "output_type": "error",
     "traceback": [
      "\u001b[31m---------------------------------------------------------------------------\u001b[39m",
      "\u001b[31mKeyError\u001b[39m                                  Traceback (most recent call last)",
      "\u001b[36mCell\u001b[39m\u001b[36m \u001b[39m\u001b[32mIn[100]\u001b[39m\u001b[32m, line 1\u001b[39m\n\u001b[32m----> \u001b[39m\u001b[32m1\u001b[39m \u001b[43mval\u001b[49m\u001b[43m[\u001b[49m\u001b[32;43m0\u001b[39;49m\u001b[43m,\u001b[49m\u001b[33;43m'\u001b[39;49m\u001b[33;43mPre\u001b[39;49m\u001b[33;43m'\u001b[39;49m\u001b[43m]\u001b[49m\n",
      "\u001b[31mKeyError\u001b[39m: (0, 'Pre')"
     ]
    }
   ],
   "source": [
    "val[0,'Pre']"
   ]
  },
  {
   "cell_type": "code",
   "execution_count": null,
   "id": "9e5f2261-56bc-47d2-b4d1-d82c3e6d48bb",
   "metadata": {},
   "outputs": [],
   "source": [
    "    val = {} #initialize value dictionary\n",
    "\n",
    "    for k in hmm.states:\n",
    "            val[0,k] = hmm.initprob[k]*hmm.eprob[k,obs[0]]\n",
    "            \n",
    "    ix_tracker = {} #this is used in the backwards step to identify the optimal sequence\n",
    "    \n",
    "    #Forward: compute value function and generate index\n",
    "    for t in range(1,len(obs)):\n",
    "        for k in hmm.states:\n",
    "            max_val = -1 # set to dummy variable. will do brute-force search for max\n",
    "            argmax = None #initialize argmax for ix_tracker\n",
    "            for j in hmm.states:\n",
    "                curr_val = val[t-1,j]*hmm.tprob[j,k]\n",
    "                if curr_val > max_val:\n",
    "                    max_val = curr_val\n",
    "                    argmax = j\n",
    "            val[t,k] = max_val*hmm.eprob[k,obs[t]]\n",
    "            ix_tracker[t-1,k] = argmax\n",
    "    \n",
    "    #Backward: compute the values of the optimal sequence\n",
    "    max_val = -1\n",
    "    best_state = None\n",
    "    for k in hmm.states:\n",
    "        curr_val = val[len(obs) - 1,k]\n",
    "        if curr_val > max_val:\n",
    "            max_val = curr_val\n",
    "            best_state = k\n",
    "    opt_state = [best_state]\n",
    "    \n",
    "    for t in range(len(obs) -1):\n",
    "        best_state = ix_tracker[len(obs) - 2 -t,best_state]\n",
    "        opt_state = [best_state] + opt_state\n",
    "\n",
    "    return opt_state\n"
   ]
  },
  {
   "cell_type": "code",
   "execution_count": null,
   "id": "54b59b64-8fd1-4a3a-b04e-f3794d562dee",
   "metadata": {},
   "outputs": [],
   "source": [
    "apt_hmm_mix.eprob"
   ]
  },
  {
   "cell_type": "code",
   "execution_count": 81,
   "id": "99e21399-0022-4118-864f-0faf73de32e9",
   "metadata": {},
   "outputs": [
    {
     "data": {
      "text/plain": [
       "['PRE',\n",
       " 'PRE',\n",
       " 'PRE',\n",
       " 'PRE',\n",
       " 'PRE',\n",
       " 'IA',\n",
       " 'EX',\n",
       " 'WAIT_EX',\n",
       " 'DI',\n",
       " 'WAIT_DI',\n",
       " 'WAIT_DI',\n",
       " 'WAIT_DI',\n",
       " 'WAIT_DI',\n",
       " 'WAIT_DI',\n",
       " 'WAIT_DI',\n",
       " 'DI',\n",
       " 'WAIT_DI',\n",
       " 'WAIT_DI',\n",
       " 'WAIT_DI',\n",
       " 'COL',\n",
       " 'WAIT_COL',\n",
       " 'WAIT_COL',\n",
       " 'WAIT_COL',\n",
       " 'WAIT_COL',\n",
       " 'WAIT_COL',\n",
       " 'WAIT_COL',\n",
       " 'WAIT_COL',\n",
       " 'WAIT_COL',\n",
       " 'WAIT_COL',\n",
       " 'WAIT_COL',\n",
       " 'WAIT_COL',\n",
       " 'WAIT_COL',\n",
       " 'WAIT_COL',\n",
       " 'WAIT_COL',\n",
       " 'COL',\n",
       " 'WAIT_COL',\n",
       " 'WAIT_COL',\n",
       " 'WAIT_COL',\n",
       " 'WAIT_COL',\n",
       " 'WAIT_COL',\n",
       " 'WAIT_COL',\n",
       " 'WAIT_COL',\n",
       " 'WAIT_COL',\n",
       " 'COL',\n",
       " 'WAIT_COL',\n",
       " 'COL',\n",
       " 'COL',\n",
       " 'WAIT_COL',\n",
       " 'WAIT_COL',\n",
       " 'WAIT_COL',\n",
       " 'WAIT_COL',\n",
       " 'WAIT_COL',\n",
       " 'WAIT_COL',\n",
       " 'WAIT_COL',\n",
       " 'WAIT_COL',\n",
       " 'WAIT_COL',\n",
       " 'WAIT_COL',\n",
       " 'WAIT_COL',\n",
       " 'WAIT_COL',\n",
       " 'WAIT_COL',\n",
       " 'COL',\n",
       " 'WAIT_COL',\n",
       " 'COL',\n",
       " 'WAIT_COL',\n",
       " 'WAIT_COL',\n",
       " 'COL',\n",
       " 'WAIT_COL',\n",
       " 'WAIT_COL',\n",
       " 'WAIT_COL',\n",
       " 'WAIT_COL',\n",
       " 'WAIT_COL',\n",
       " 'WAIT_COL',\n",
       " 'COL',\n",
       " 'WAIT_COL',\n",
       " 'WAIT_COL',\n",
       " 'WAIT_COL',\n",
       " 'WAIT_COL',\n",
       " 'WAIT_COL',\n",
       " 'WAIT_COL',\n",
       " 'WAIT_COL',\n",
       " 'WAIT_COL',\n",
       " 'WAIT_COL',\n",
       " 'EXF',\n",
       " 'WAIT_EXF',\n",
       " 'WAIT_EXF',\n",
       " 'WAIT_EXF',\n",
       " 'WAIT_EXF',\n",
       " 'WAIT_EXF',\n",
       " 'WAIT_EXF',\n",
       " 'WAIT_EXF',\n",
       " 'WAIT_EXF',\n",
       " 'WAIT_EXF',\n",
       " 'WAIT_EXF',\n",
       " 'WAIT_EXF',\n",
       " 'WAIT_EXF',\n",
       " 'WAIT_EXF',\n",
       " 'WAIT_EXF',\n",
       " 'WAIT_EXF',\n",
       " 'WAIT_EXF',\n",
       " 'WAIT_EXF',\n",
       " 'WAIT_EXF',\n",
       " 'WAIT_EXF',\n",
       " 'POST']"
      ]
     },
     "execution_count": 81,
     "metadata": {},
     "output_type": "execute_result"
    }
   ],
   "source": [
    "apt_truth[0]"
   ]
  },
  {
   "cell_type": "code",
   "execution_count": 80,
   "id": "a8cd5345-a532-4a2b-95f7-b7b467d387ff",
   "metadata": {},
   "outputs": [
    {
     "data": {
      "text/plain": [
       "[('PRE', None),\n",
       " ('IA', ('S', 'postfix/local')),\n",
       " ('EX', ('S', 'postfix/local')),\n",
       " ('DI', ('DS', 'syslog/ls')),\n",
       " ('COL', ('HE', 'img/post')),\n",
       " ('EXF', ('HE', 'img/query')),\n",
       " ('POST', None),\n",
       " ('POST', None),\n",
       " ('POST', None),\n",
       " ('POST', None),\n",
       " ('POST', None),\n",
       " ('POST', None),\n",
       " ('POST', None),\n",
       " ('POST', None),\n",
       " ('POST', None),\n",
       " ('POST', None),\n",
       " ('POST', None),\n",
       " ('POST', None),\n",
       " ('POST', None),\n",
       " ('POST', None),\n",
       " ('POST', None),\n",
       " ('POST', None),\n",
       " ('POST', None),\n",
       " ('POST', None),\n",
       " ('POST', None),\n",
       " ('POST', None),\n",
       " ('POST', None),\n",
       " ('POST', None),\n",
       " ('POST', None),\n",
       " ('POST', None),\n",
       " ('POST', None),\n",
       " ('POST', None),\n",
       " ('POST', None),\n",
       " ('POST', None),\n",
       " ('POST', None),\n",
       " ('POST', None),\n",
       " ('POST', None),\n",
       " ('POST', None),\n",
       " ('POST', None),\n",
       " ('POST', None),\n",
       " ('POST', None),\n",
       " ('POST', None),\n",
       " ('POST', None),\n",
       " ('POST', None),\n",
       " ('POST', None),\n",
       " ('POST', None),\n",
       " ('POST', None),\n",
       " ('POST', None),\n",
       " ('POST', None),\n",
       " ('POST', None),\n",
       " ('POST', None),\n",
       " ('POST', None),\n",
       " ('POST', None),\n",
       " ('POST', None),\n",
       " ('POST', None),\n",
       " ('POST', None),\n",
       " ('POST', None),\n",
       " ('POST', None),\n",
       " ('POST', None),\n",
       " ('POST', None),\n",
       " ('POST', None),\n",
       " ('POST', None),\n",
       " ('POST', None),\n",
       " ('POST', None),\n",
       " ('POST', None),\n",
       " ('POST', None),\n",
       " ('POST', None),\n",
       " ('POST', None),\n",
       " ('POST', None),\n",
       " ('POST', None),\n",
       " ('POST', None),\n",
       " ('POST', None),\n",
       " ('POST', None),\n",
       " ('POST', None),\n",
       " ('POST', None),\n",
       " ('POST', None),\n",
       " ('POST', None),\n",
       " ('POST', None),\n",
       " ('POST', None),\n",
       " ('POST', None),\n",
       " ('POST', None),\n",
       " ('POST', None),\n",
       " ('POST', None),\n",
       " ('POST', None),\n",
       " ('POST', None),\n",
       " ('POST', None),\n",
       " ('POST', None),\n",
       " ('POST', None),\n",
       " ('POST', None),\n",
       " ('POST', None),\n",
       " ('POST', None),\n",
       " ('POST', None),\n",
       " ('POST', None),\n",
       " ('POST', None),\n",
       " ('POST', None),\n",
       " ('POST', None),\n",
       " ('POST', None),\n",
       " ('POST', None),\n",
       " ('POST', None),\n",
       " ('POST', None),\n",
       " ('POST', None),\n",
       " ('POST', None),\n",
       " ('POST', None)]"
      ]
     },
     "execution_count": 80,
     "metadata": {},
     "output_type": "execute_result"
    }
   ],
   "source": [
    "opt_state"
   ]
  },
  {
   "cell_type": "code",
   "execution_count": null,
   "id": "a24fab38-3257-40a9-b308-a51c92faf4bb",
   "metadata": {},
   "outputs": [],
   "source": [
    "len(tier_apt.hmm)"
   ]
  },
  {
   "cell_type": "code",
   "execution_count": 122,
   "id": "32a81a99-e5db-4ea4-ac09-2402fc45908c",
   "metadata": {},
   "outputs": [
    {
     "name": "stdout",
     "output_type": "stream",
     "text": [
      "1\n",
      "2\n",
      "3\n"
     ]
    },
    {
     "ename": "KeyboardInterrupt",
     "evalue": "",
     "output_type": "error",
     "traceback": [
      "\u001b[31m---------------------------------------------------------------------------\u001b[39m",
      "\u001b[31mKeyboardInterrupt\u001b[39m                         Traceback (most recent call last)",
      "\u001b[36mCell\u001b[39m\u001b[36m \u001b[39m\u001b[32mIn[122]\u001b[39m\u001b[32m, line 2\u001b[39m\n\u001b[32m      1\u001b[39m sat = (\u001b[38;5;28;01mTrue\u001b[39;00m,) * \u001b[32m3\u001b[39m\n\u001b[32m----> \u001b[39m\u001b[32m2\u001b[39m opt_aug, opt_state =  \u001b[43mmv\u001b[49m\u001b[43m.\u001b[49m\u001b[43mmv_Viterbi_v2\u001b[49m\u001b[43m(\u001b[49m\u001b[43mobs\u001b[49m\u001b[43m \u001b[49m\u001b[43m=\u001b[49m\u001b[43m \u001b[49m\u001b[43mcombined_emits\u001b[49m\u001b[43m,\u001b[49m\u001b[43m \u001b[49m\u001b[43mhmm\u001b[49m\u001b[43m \u001b[49m\u001b[43m=\u001b[49m\u001b[43m \u001b[49m\u001b[43mtier_apt\u001b[49m\u001b[43m,\u001b[49m\u001b[43m \u001b[49m\u001b[43mcst\u001b[49m\u001b[43m=\u001b[49m\u001b[43m \u001b[49m\u001b[43magg_cst\u001b[49m\u001b[43m,\u001b[49m\u001b[43msat\u001b[49m\u001b[43m \u001b[49m\u001b[43m=\u001b[49m\u001b[43m \u001b[49m\u001b[43msat\u001b[49m\u001b[43m)\u001b[49m\n",
      "\u001b[36mFile \u001b[39m\u001b[32m~/Projects/conin/conin/mediation_variables/mv_Viterbi.py:139\u001b[39m, in \u001b[36mmv_Viterbi_v2\u001b[39m\u001b[34m(obs, hmm, cst, sat)\u001b[39m\n\u001b[32m    137\u001b[39m \u001b[38;5;28;01mfor\u001b[39;00m j \u001b[38;5;129;01min\u001b[39;00m hmm.states:\n\u001b[32m    138\u001b[39m     \u001b[38;5;28;01mfor\u001b[39;00m s \u001b[38;5;129;01min\u001b[39;00m aux_space:\n\u001b[32m--> \u001b[39m\u001b[32m139\u001b[39m         curr_val = val[t-\u001b[32m1\u001b[39m,j,s]*hmm.tprob[j,k]*\u001b[43mcst\u001b[49m\u001b[43m.\u001b[49m\u001b[43mupdate_fun\u001b[49m\u001b[43m(\u001b[49m\u001b[43mk\u001b[49m\u001b[43m,\u001b[49m\u001b[43mr\u001b[49m\u001b[43m,\u001b[49m\u001b[43mj\u001b[49m\u001b[43m,\u001b[49m\u001b[43ms\u001b[49m\u001b[43m)\u001b[49m\n\u001b[32m    140\u001b[39m         \u001b[38;5;28;01mif\u001b[39;00m curr_val > max_val:\n\u001b[32m    141\u001b[39m             max_val = curr_val\n",
      "\u001b[36mFile \u001b[39m\u001b[32m~/Projects/conin/conin/mediation_variables/apt_cst_aggregate.py:7\u001b[39m, in \u001b[36mcreate_updatefun.<locals>.update_fun_agg\u001b[39m\u001b[34m(k, r, k_past, r_past)\u001b[39m\n\u001b[32m      5\u001b[39m val = \u001b[32m1\u001b[39m\n\u001b[32m      6\u001b[39m \u001b[38;5;28;01mfor\u001b[39;00m cst, ix, depend \u001b[38;5;129;01min\u001b[39;00m zip_list:\n\u001b[32m----> \u001b[39m\u001b[32m7\u001b[39m     val *= cst.update_fun(k,\u001b[38;5;28;43mtuple\u001b[39;49m\u001b[43m(\u001b[49m\u001b[43mr\u001b[49m\u001b[43m[\u001b[49m\u001b[43mix\u001b[49m\u001b[43m[\u001b[49m\u001b[32;43m0\u001b[39;49m\u001b[43m]\u001b[49m\u001b[43m:\u001b[49m\u001b[43mix\u001b[49m\u001b[43m[\u001b[49m\u001b[32;43m1\u001b[39;49m\u001b[43m]\u001b[49m\u001b[43m]\u001b[49m\u001b[43m)\u001b[49m,k_past,\u001b[38;5;28mtuple\u001b[39m(r_past[ix[\u001b[32m0\u001b[39m]:ix[\u001b[32m1\u001b[39m]]))\n\u001b[32m      8\u001b[39m     \u001b[38;5;28;01mif\u001b[39;00m depend:\n\u001b[32m      9\u001b[39m         val *= \u001b[38;5;28mint\u001b[39m(r[cst_ix[depend]] \u001b[38;5;129;01mor\u001b[39;00m (\u001b[38;5;129;01mnot\u001b[39;00m r[cst_ix[cst.name]])) \u001b[38;5;66;03m#either the dependcy is satisifed or the current knowledge hasn't been attained.\u001b[39;00m\n",
      "\u001b[31mKeyboardInterrupt\u001b[39m: "
     ]
    }
   ],
   "source": [
    "sat = (True,) * 3\n",
    "opt_aug, opt_state =  mv.mv_Viterbi_v2(obs = combined_emits, hmm = tier_apt, cst= agg_cst,sat = sat)"
   ]
  },
  {
   "cell_type": "code",
   "execution_count": null,
   "id": "aabfdcf6-8c2a-4d64-b255-45018c25375e",
   "metadata": {},
   "outputs": [],
   "source": [
    "mv_Viterbi(obs, hmm, combined_cst, sat = (True,True))"
   ]
  },
  {
   "cell_type": "code",
   "execution_count": null,
   "id": "0bc1a7e5-1955-4acb-ae02-5e50309d28ae",
   "metadata": {},
   "outputs": [],
   "source": []
  }
 ],
 "metadata": {
  "kernelspec": {
   "display_name": "Python 3 (ipykernel)",
   "language": "python",
   "name": "python3"
  },
  "language_info": {
   "codemirror_mode": {
    "name": "ipython",
    "version": 3
   },
   "file_extension": ".py",
   "mimetype": "text/x-python",
   "name": "python",
   "nbconvert_exporter": "python",
   "pygments_lexer": "ipython3",
   "version": "3.12.5"
  }
 },
 "nbformat": 4,
 "nbformat_minor": 5
}
