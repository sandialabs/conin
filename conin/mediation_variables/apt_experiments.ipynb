{
 "cells": [
  {
   "cell_type": "code",
   "execution_count": 1,
   "id": "76353080-0eb8-4b9b-b16c-347a06ff395f",
   "metadata": {},
   "outputs": [],
   "source": [
    "import numpy as np\n",
    "import torch\n",
    "import json\n",
    "from munch import Munch\n",
    "import itertools\n",
    "from collections import defaultdict\n",
    "import random\n",
    "import copy\n",
    "import pickle\n",
    "import matplotlib.pyplot as plt\n",
    "import importlib\n",
    "import time\n",
    "\n",
    "import apt_helper as ahlp\n",
    "import apt_cst_aggregate as cagg\n",
    "import mv_Viterbi as mv"
   ]
  },
  {
   "cell_type": "code",
   "execution_count": 2,
   "id": "cab3826f-baa6-4d36-96ec-baa23745d8fb",
   "metadata": {},
   "outputs": [
    {
     "data": {
      "text/plain": [
       "<module 'apt_helper' from '/home/fyqiu/Projects/conin/conin/mediation_variables/apt_helper.py'>"
      ]
     },
     "execution_count": 2,
     "metadata": {},
     "output_type": "execute_result"
    }
   ],
   "source": [
    "import importlib\n",
    "importlib.reload(ahlp)"
   ]
  },
  {
   "cell_type": "code",
   "execution_count": 3,
   "id": "2d6901ae-d7e7-4556-897b-9287335f881f",
   "metadata": {},
   "outputs": [],
   "source": [
    "names = ['apt','bob','sally']\n",
    "mu_list = [.8,.9,.9]\n",
    "apt_hmm, bob_hmm, sally_hmm = ahlp.process_load(names, delay = mu_list)\n",
    "user_list = [bob_hmm, sally_hmm]"
   ]
  },
  {
   "cell_type": "code",
   "execution_count": 4,
   "id": "5510decc-476a-4743-8616-1c91dcc94ede",
   "metadata": {},
   "outputs": [],
   "source": [
    "cst_names = ['know_sally_exists','have_sally_credential', 'learn_where_data_stored', 'have_data_on_ds', 'have_data_on_hi', 'have_data_on_he']\n",
    "cst_names = [names + '_TRUE' for names in cst_names]\n",
    "cst_list=  []\n",
    "for name in cst_names:\n",
    "    module = importlib.import_module(name)\n",
    "    \n",
    "    curr_cst =  Munch(name = module.name, \\\n",
    "                      aux_size = module.aug_size, \\\n",
    "                      update_fun = module.update_fun, \\\n",
    "                      init_fun = module.init_fun, \\\n",
    "                      forbidden_emissions = module.forbidden_emissions, \\\n",
    "                      forbidden_transitions = module.forbidden_transitions, \\\n",
    "                      knowledge_state = module.knowledge_state, \\\n",
    "                      cst_fun = module.cst_fun)\n",
    "    if hasattr(module, 'dependency'):\n",
    "        curr_cst.dependency = module.dependency\n",
    "    cst_list.append(curr_cst)\n",
    "\n",
    "sat = len(cst_list) * (True,)"
   ]
  },
  {
   "cell_type": "code",
   "execution_count": 9,
   "id": "18f7981d-c8c3-484c-88ee-0b122c440925",
   "metadata": {},
   "outputs": [
    {
     "name": "stdout",
     "output_type": "stream",
     "text": [
      "initprob:1.0  tprob: [1. 1. 1. 1. 1. 1. 1. 1. 1. 1.]  eprob: [1. 1. 1. 1. 1. 1. 1. 1. 1. 1.]\n",
      "initprob:1.0  tprob: [1. 1. 1. 1. 1. 1. 1. 1. 1. 1. 1. 1.]  eprob: [1. 1. 1. 1. 1. 1. 1. 1. 1. 1. 1. 1.]\n"
     ]
    }
   ],
   "source": [
    "#Check if correctly loaded. probabilities should sum to 1.\n",
    "for usr in user_list:\n",
    "    usr_params = ahlp.hmm2numpy(usr)\n",
    "    print(f'initprob:{usr_params[0].sum()}  tprob: {usr_params[1].sum(axis = 1)}  eprob: {usr_params[2].sum(axis = 1)}')"
   ]
  },
  {
   "cell_type": "code",
   "execution_count": 10,
   "id": "ae7c4e77-0c85-46b9-abcc-593081b12f08",
   "metadata": {},
   "outputs": [
    {
     "name": "stdout",
     "output_type": "stream",
     "text": [
      "initprob:1.0  tprob: [1. 1. 1. 1. 1. 1. 1. 1. 1. 1. 1. 1. 1. 1.]  eprob: [1. 1. 1. 1. 1. 1. 1. 1. 1. 1. 1. 1. 1. 1.]\n"
     ]
    }
   ],
   "source": [
    "apt_params, ix_list = ahlp.hmm2numpy(apt_hmm, return_ix = True)\n",
    "print(f'initprob:{apt_params[0].sum()}  tprob: {apt_params[1].sum(axis = 1)}  eprob: {apt_params[2].sum(axis = 1)}')"
   ]
  },
  {
   "cell_type": "markdown",
   "id": "528b19e3-7a1a-4c4e-9757-1e19555fe9e5",
   "metadata": {},
   "source": [
    "# Sanity Check that base Viterbi works. Pure Emissions"
   ]
  },
  {
   "cell_type": "code",
   "execution_count": 11,
   "id": "267b405f-c0ec-456f-8174-278ea70bd3f6",
   "metadata": {},
   "outputs": [
    {
     "data": {
      "text/plain": [
       "25"
      ]
     },
     "execution_count": 11,
     "metadata": {},
     "output_type": "execute_result"
    }
   ],
   "source": [
    "len(apt_hmm.eprob.keys())"
   ]
  },
  {
   "cell_type": "code",
   "execution_count": 12,
   "id": "b2cbce90-46db-4966-b099-64983bc8663b",
   "metadata": {},
   "outputs": [],
   "source": [
    "pure_hidden, pure_emission = ahlp.simulation_apt(apt_hmm, ix_list = None, emit_inhom = False)"
   ]
  },
  {
   "cell_type": "code",
   "execution_count": 13,
   "id": "e791a2ec-80a5-4e44-9180-006083ce8ed5",
   "metadata": {},
   "outputs": [
    {
     "name": "stdout",
     "output_type": "stream",
     "text": [
      "mismatch at time 26 out of 26\n"
     ]
    }
   ],
   "source": [
    "opt_state =  mv.mv_Viterbi(obs = pure_emission, hmm = apt_hmm)\n",
    "for t in range(len(opt_state)):\n",
    "    if opt_state[t] != pure_hidden[t]:\n",
    "        print(f'mismatch at time {t} out of {len(opt_state) -1}') #no rule enforcing that that must end on POST"
   ]
  },
  {
   "cell_type": "markdown",
   "id": "17ac5ab5-8780-4336-a8d6-5e25c2d12ddc",
   "metadata": {},
   "source": [
    "### Check that Numpy Implementation Gives Same Answer"
   ]
  },
  {
   "cell_type": "code",
   "execution_count": 14,
   "id": "c8227a01-abc3-46b1-b54d-458932eb9bb5",
   "metadata": {},
   "outputs": [
    {
     "data": {
      "text/plain": [
       "<module 'apt_helper' from '/home/fyqiu/Projects/conin/conin/mediation_variables/apt_helper.py'>"
      ]
     },
     "execution_count": 14,
     "metadata": {},
     "output_type": "execute_result"
    }
   ],
   "source": [
    "importlib.reload(ahlp)"
   ]
  },
  {
   "cell_type": "code",
   "execution_count": 15,
   "id": "ca406f65-f588-40c3-ace9-a3331e979aa5",
   "metadata": {},
   "outputs": [],
   "source": [
    "emit_weights = ahlp.compute_emitweights(pure_emission,apt_hmm, time_hom = True)\n",
    "hmm_params = [apt_params[1], apt_params[0]]\n",
    "opt_list = mv.Viterbi_numpy(hmm_params, emit_weights)\n",
    "state_ix, _ = ix_list\n",
    "state_ix = {v:k for k,v in state_ix.items()}\n",
    "numpy_list = [state_ix[i] for i in opt_list]"
   ]
  },
  {
   "cell_type": "code",
   "execution_count": 16,
   "id": "11db78bc-7250-4015-8dc2-75af6f7049ff",
   "metadata": {},
   "outputs": [
    {
     "name": "stdout",
     "output_type": "stream",
     "text": [
      "proportion correct: 1.0\n"
     ]
    }
   ],
   "source": [
    "num_correct = 0\n",
    "for t in range(len(numpy_list)):\n",
    "    if numpy_list[t] == opt_state[t]:\n",
    "        num_correct += 1\n",
    "print(f'proportion correct: {num_correct/len(numpy_list)}')"
   ]
  },
  {
   "cell_type": "code",
   "execution_count": 17,
   "id": "3e0c5ce8-70f7-438d-acb6-0c68a4f4ef7b",
   "metadata": {},
   "outputs": [
    {
     "data": {
      "text/plain": [
       "25"
      ]
     },
     "execution_count": 17,
     "metadata": {},
     "output_type": "execute_result"
    }
   ],
   "source": [
    "len(apt_hmm.eprob.keys())"
   ]
  },
  {
   "cell_type": "markdown",
   "id": "0eeedfd5-fe33-45d1-9a2e-982d349f6c9a",
   "metadata": {},
   "source": [
    "## Check Numpy with Dummy Constraint Gives Same Answer"
   ]
  },
  {
   "cell_type": "code",
   "execution_count": 18,
   "id": "91e2e0df-387d-4085-809d-7a3664e2b12e",
   "metadata": {},
   "outputs": [],
   "source": [
    "cst_names = ['dummy_constraint']\n",
    "dummy_cst_list =  []\n",
    "for name in cst_names:\n",
    "    module = importlib.import_module(name)\n",
    "    \n",
    "    curr_cst =  Munch(name = module.name, \\\n",
    "                      aux_size = module.aug_size, \\\n",
    "                      update_fun = module.update_fun, \\\n",
    "                      init_fun = module.init_fun, \\\n",
    "                      forbidden_emissions = module.forbidden_emissions, \\\n",
    "                      forbidden_transitions = module.forbidden_transitions, \\\n",
    "                      knowledge_state = module.knowledge_state, \\\n",
    "                      cst_fun = module.cst_fun)\n",
    "    if hasattr(module, 'dependency'):\n",
    "        curr_cst.dependency = module.dependency\n",
    "    dummy_cst_list.append(curr_cst)\n",
    "\n",
    "# cst_list = cst_list\n",
    "dummy_sat = len(dummy_cst_list) * (True,)\n",
    "\n",
    "apt_params, cst_params = ahlp.arrayConvert(apt_hmm, dummy_cst_list[0], sat = (True,))\n",
    "opt_cst_list = mv.mv_Viterbi_numpy(apt_params, emit_weights, cst_params)\n",
    "numpy_cst_list = [state_ix[state[0]] for state in opt_cst_list]"
   ]
  },
  {
   "cell_type": "code",
   "execution_count": 19,
   "id": "11251cc6-a6d3-45c9-86b3-f2f34dd08bf3",
   "metadata": {},
   "outputs": [
    {
     "name": "stdout",
     "output_type": "stream",
     "text": [
      "proportion correct: 1.0\n"
     ]
    }
   ],
   "source": [
    "num_correct = 0\n",
    "for t in range(len(numpy_list)):\n",
    "    if numpy_list[t] == numpy_cst_list[t]:\n",
    "        num_correct += 1\n",
    "print(f'proportion correct: {num_correct/len(numpy_list)}')"
   ]
  },
  {
   "cell_type": "code",
   "execution_count": 20,
   "id": "ba0eeff3-67de-4353-8643-6bbd46d9f5ee",
   "metadata": {},
   "outputs": [
    {
     "data": {
      "text/plain": [
       "25"
      ]
     },
     "execution_count": 20,
     "metadata": {},
     "output_type": "execute_result"
    }
   ],
   "source": [
    "len(apt_hmm.eprob.keys())"
   ]
  },
  {
   "cell_type": "markdown",
   "id": "c3a12609-790b-4f7b-b0ad-3fbc662440cd",
   "metadata": {},
   "source": [
    "# Sanity Check. Torch Version with Dummy Constraint also Gives Same Answer"
   ]
  },
  {
   "cell_type": "code",
   "execution_count": 21,
   "id": "61d63360-684e-422f-a0b7-b67c602913f3",
   "metadata": {},
   "outputs": [
    {
     "name": "stdout",
     "output_type": "stream",
     "text": [
      "proportion correct: 1.0\n"
     ]
    }
   ],
   "source": [
    "opt_torch_list, _ = ahlp.Viterbi_torch_list(apt_hmm, dummy_cst_list, pure_emission, dummy_sat, time_hom = True, device = 'cuda:0')\n",
    "num_correct = [torch == numpy for torch, numpy in zip(opt_torch_list,numpy_cst_list)]\n",
    "print(f'proportion correct: {len(num_correct)/len(num_correct)}')"
   ]
  },
  {
   "cell_type": "markdown",
   "id": "06e3c94e-f34e-416a-8e36-cf85a584f849",
   "metadata": {},
   "source": [
    "# Sanity Check. Noiseless Tiered APT Equivalent to Original"
   ]
  },
  {
   "cell_type": "code",
   "execution_count": 22,
   "id": "35f8d77e-efd9-4e07-b912-071ee517ba7a",
   "metadata": {},
   "outputs": [
    {
     "name": "stdout",
     "output_type": "stream",
     "text": [
      "initprob:1.0  tprob: [1. 1. 1. 1. 1. 1. 1. 1. 1. 1. 1. 1. 1. 1. 1. 1. 1. 1. 1. 1. 1. 1. 1. 1.\n",
      " 1.]  eprob: [1. 1. 1. 1. 1. 1. 1. 1. 1. 1. 1. 1. 1. 1. 1. 1. 1. 1. 1. 1. 1. 1. 1. 1.\n",
      " 1.]\n"
     ]
    }
   ],
   "source": [
    "tier_apt = ahlp.create_tiered_apt(apt_hmm)\n",
    "apt_params = ahlp.hmm2numpy(tier_apt)\n",
    "print(f'initprob:{apt_params[0].sum()}  tprob: {apt_params[1].sum(axis = 1)}  eprob: {apt_params[2].sum(axis = 1)}')"
   ]
  },
  {
   "cell_type": "code",
   "execution_count": 23,
   "id": "74d2c3d6-8a09-4195-bb9f-4b25f494624e",
   "metadata": {},
   "outputs": [
    {
     "data": {
      "text/plain": [
       "[('PRE', None),\n",
       " ('IA', ('S', 'postfix/local')),\n",
       " ('EX', ('V', 'access/bob')),\n",
       " ('EX', ('V', 'access/sally')),\n",
       " ('EX', ('S', 'postfix/local')),\n",
       " ('EX', ('HI', 'img/post')),\n",
       " ('EX', ('HE', 'img/post')),\n",
       " ('EX', ('DS', 'syslog/nano')),\n",
       " ('DI', ('S', 'postfix/local')),\n",
       " ('DI', ('HI', 'usr/query')),\n",
       " ('DI', ('HI', 'img/query')),\n",
       " ('DI', ('HE', 'img/query')),\n",
       " ('DI', ('DS', 'syslog/ls')),\n",
       " ('CA', ('HI', 'usr/query')),\n",
       " ('COL', ('HI', 'img/post')),\n",
       " ('COL', ('HE', 'img/post')),\n",
       " ('COL', ('DS', 'syslog/nano')),\n",
       " ('EXF', ('HE', 'img/query')),\n",
       " ('POST', None),\n",
       " ('WAIT_DI', None),\n",
       " ('WAIT_IA', None),\n",
       " ('WAIT_EXF', None),\n",
       " ('WAIT_EX', None),\n",
       " ('WAIT_CA', None),\n",
       " ('WAIT_COL', None)]"
      ]
     },
     "execution_count": 23,
     "metadata": {},
     "output_type": "execute_result"
    }
   ],
   "source": [
    "tier_apt.states"
   ]
  },
  {
   "cell_type": "code",
   "execution_count": 20,
   "id": "50601625-b3b8-4613-85fd-b2404391cccd",
   "metadata": {},
   "outputs": [
    {
     "name": "stdout",
     "output_type": "stream",
     "text": [
      "1.0\n"
     ]
    }
   ],
   "source": [
    "opt_state_tier =  mv.mv_Viterbi(obs = pure_emission, hmm = tier_apt)\n",
    "num_correct = 0\n",
    "for t in range(len(opt_state)):\n",
    "    # if opt_state[t] != opt_state_tier[t][0]:\n",
    "    #     print(f'mismatch at time {t} out of {len(opt_state) -1}') #no rule enforcing that that must end on POST\n",
    "    if opt_state[t] == opt_state_tier[t][0]:\n",
    "        num_correct += 1 \n",
    "print(num_correct/len(opt_state))"
   ]
  },
  {
   "cell_type": "code",
   "execution_count": 21,
   "id": "f4ef7c02-1884-4417-b9b3-1469ddb1b9d0",
   "metadata": {},
   "outputs": [
    {
     "data": {
      "text/plain": [
       "25"
      ]
     },
     "execution_count": 21,
     "metadata": {},
     "output_type": "execute_result"
    }
   ],
   "source": [
    "len(apt_hmm.eprob.keys())"
   ]
  },
  {
   "cell_type": "markdown",
   "id": "81c6d79b-3a63-4b86-bda1-b3920120ab7b",
   "metadata": {},
   "source": [
    "# Check simulations actually obey constraints of knowledge states"
   ]
  },
  {
   "cell_type": "code",
   "execution_count": 21,
   "id": "a4b709b8-4363-4642-a74b-4005c8733f74",
   "metadata": {},
   "outputs": [
    {
     "name": "stdout",
     "output_type": "stream",
     "text": [
      "0\n",
      "100\n",
      "200\n",
      "300\n",
      "400\n",
      "proportion valid 1.0\n"
     ]
    }
   ],
   "source": [
    "B = 500\n",
    "valid_list = []\n",
    "for b in range(B):\n",
    "    apt_truth, combined_emits = ahlp.combined_simulation(apt_hmm, user_list, cst_list)\n",
    "    apt_truth_states, apt_truth_emits = apt_truth\n",
    "    valid_list.append(ahlp.check_valid(apt_truth_states, apt_truth_emits, cst_list))\n",
    "    if b % 100 == 0:\n",
    "        print(b)\n",
    "print(f'proportion valid {sum(valid_list)/len(valid_list)}')"
   ]
  },
  {
   "cell_type": "markdown",
   "id": "e59617d4-6dda-4489-b640-b41ba1a01845",
   "metadata": {},
   "source": [
    "# Constrained Simulations + Pure APT"
   ]
  },
  {
   "cell_type": "code",
   "execution_count": 22,
   "id": "c7121b1f-8792-4a37-b3ba-9a450fbeb677",
   "metadata": {},
   "outputs": [],
   "source": [
    "cst_names = ['know_sally_exists','have_sally_credential', 'learn_where_data_stored', 'have_data_on_ds', 'have_data_on_hi', 'have_data_on_he']\n",
    "cst_names = [names + '_TRUE' for names in cst_names]\n",
    "cst_list=  []\n",
    "for name in cst_names:\n",
    "    module = importlib.import_module(name)\n",
    "    \n",
    "    curr_cst =  Munch(name = module.name, \\\n",
    "                      aux_size = module.aug_size, \\\n",
    "                      update_fun = module.update_fun, \\\n",
    "                      init_fun = module.init_fun, \\\n",
    "                      forbidden_emissions = module.forbidden_emissions, \\\n",
    "                      forbidden_transitions = module.forbidden_transitions, \\\n",
    "                      knowledge_state = module.knowledge_state, \\\n",
    "                      cst_fun = module.cst_fun)\n",
    "    if hasattr(module, 'dependency'):\n",
    "        curr_cst.dependency = module.dependency\n",
    "    cst_list.append(curr_cst)\n",
    "\n",
    "sat = len(cst_list) * (True,)"
   ]
  },
  {
   "cell_type": "code",
   "execution_count": 37,
   "id": "d55a504c-b9fe-4b01-9faa-cef145412bd8",
   "metadata": {},
   "outputs": [
    {
     "name": "stdout",
     "output_type": "stream",
     "text": [
      "0\n",
      "100\n",
      "200\n",
      "300\n",
      "400\n",
      "average proportion correct is 0.7396542162484594 and median is 0.753452380952381 and proportional valid: 0.19\n"
     ]
    }
   ],
   "source": [
    "B = 500\n",
    "accuracy_list = []\n",
    "time_list = []\n",
    "valid_list = []\n",
    "for b in range(B):\n",
    "    apt_hidden, apt_emits = ahlp.simulation_knowledge(apt_hmm, cst_list, ix_list = None, emit_inhom = False)\n",
    "    opt_state =  mv.mv_Viterbi(obs = apt_emits, hmm = apt_hmm)\n",
    "    num_correct = [opt == truth for opt,truth in zip(opt_state,apt_hidden)]\n",
    "    if b % 100 == 0:\n",
    "        print(b)\n",
    "    valid_list.append(ahlp.check_valid(opt_state, apt_emits, cst_list))\n",
    "    accuracy_list.append(sum(num_correct)/len(num_correct))\n",
    "print(f'average proportion correct is {sum(accuracy_list)/len(accuracy_list)} and median is \\\n",
    "{np.median(np.array(accuracy_list))} and proportional valid: {sum(valid_list)/len(valid_list)}')"
   ]
  },
  {
   "cell_type": "markdown",
   "id": "b83bffef-3ec9-44dd-969e-7ec50d149377",
   "metadata": {},
   "source": [
    "# Constrained Simulations + Constrained APT\n",
    "\n",
    "Adding the numerical constant to important. Goes from 1% accuracy to over 75%"
   ]
  },
  {
   "cell_type": "code",
   "execution_count": 40,
   "id": "6f049ee4-543a-4fb1-8f4c-9da75e27afb5",
   "metadata": {},
   "outputs": [],
   "source": [
    "import time"
   ]
  },
  {
   "cell_type": "code",
   "execution_count": 42,
   "id": "ce8d7fa7-0da1-423c-b425-b70e9a0d7132",
   "metadata": {},
   "outputs": [
    {
     "name": "stdout",
     "output_type": "stream",
     "text": [
      "0\n",
      "10\n",
      "20\n",
      "30\n",
      "40\n",
      "50\n",
      "60\n",
      "70\n",
      "80\n",
      "90\n",
      "average proportion correct is 0.8264998717952323 and median is 0.8599873577749684 and avgtime:0.9231772327423096 and proportion valid: 1.0\n"
     ]
    }
   ],
   "source": [
    "B = 100\n",
    "accuracy_list = []\n",
    "time_list = []\n",
    "valid_list = []\n",
    "for b in range(B):\n",
    "    apt_hidden, apt_emits = ahlp.simulation_knowledge(apt_hmm, cst_list, ix_list = None, emit_inhom = False)\n",
    "    # opt_state_list, _ = ahlp.Viterbi_torch_list(tier_apt, cst_list, apt_emits, sat, time_hom = True, dtype = torch.float16, device = 'cuda:0')\n",
    "    start_time = time.time()\n",
    "    opt_state_list, _ = ahlp.Viterbi_torch_list(tier_apt, cst_list, apt_emits, sat, time_hom = True, dtype = torch.float32, device = 'cuda:0', num_cst = 0)\n",
    "    # opt_state_list, _= ahlp.Viterbi_torch_list(tier_apt, cst_list, combined_emits, sat, time_hom = True, dtype = torch.float32, device = 'cuda:0', num_cst = 0)\n",
    "    running_time = time.time() - start_time\n",
    "    time_list.append(running_time)\n",
    "    num_correct = [est[0]== true for est,true in zip(opt_state_list, apt_hidden)]\n",
    "    opt_hidden, opt_emits = zip(*opt_state_list)\n",
    "    valid_list.append(ahlp.check_valid(opt_hidden, opt_emits, cst_list))\n",
    "    if b % 10 == 0:\n",
    "        print(b)\n",
    "    accuracy_list.append(sum(num_correct)/len(num_correct))\n",
    "print(f'average proportion correct is {sum(accuracy_list)/len(accuracy_list)} and median is \\\n",
    "{np.median(np.array(accuracy_list))} and avgtime:{sum(time_list)/len(time_list)} and proportion valid: {sum(valid_list)/len(valid_list)}')"
   ]
  },
  {
   "cell_type": "markdown",
   "id": "91582b3e-ab1e-4bc2-96b1-230fd5eb1634",
   "metadata": {},
   "source": [
    "# Noisy Simulations + Pure APT"
   ]
  },
  {
   "cell_type": "code",
   "execution_count": 34,
   "id": "b534efab-a5b2-4789-aaad-76e38d3e2d34",
   "metadata": {},
   "outputs": [
    {
     "data": {
      "text/plain": [
       "<module 'apt_helper' from '/home/fyqiu/Projects/conin/conin/mediation_variables/apt_helper.py'>"
      ]
     },
     "execution_count": 34,
     "metadata": {},
     "output_type": "execute_result"
    }
   ],
   "source": [
    "importlib.reload(ahlp)"
   ]
  },
  {
   "cell_type": "code",
   "execution_count": 23,
   "id": "09d29dbc-11c3-4a8c-93fe-7fe1ba9ad29c",
   "metadata": {},
   "outputs": [],
   "source": [
    "apt_truth, combined_emits = ahlp.combined_simulation(apt_hmm, user_list)\n",
    "apt_truth_states, apt_truth_emits = apt_truth"
   ]
  },
  {
   "cell_type": "code",
   "execution_count": 24,
   "id": "7cce50a6-9b4f-46ca-878f-5c64b7a75630",
   "metadata": {},
   "outputs": [
    {
     "name": "stdout",
     "output_type": "stream",
     "text": [
      "0.4444444444444444\n"
     ]
    }
   ],
   "source": [
    "opt_state =  mv.mv_Viterbi(obs = combined_emits, hmm = apt_hmm)\n",
    "num_correct = 0\n",
    "for t in range(len(opt_state)):\n",
    "    if opt_state[t] == apt_truth_states[t]:\n",
    "        num_correct += 1 #no rule enforcing that that must end on POST\n",
    "print(num_correct/len(opt_state))"
   ]
  },
  {
   "cell_type": "code",
   "execution_count": 38,
   "id": "4adbb8bf-4215-422f-b0e4-402426c01b78",
   "metadata": {},
   "outputs": [
    {
     "name": "stdout",
     "output_type": "stream",
     "text": [
      "0\n",
      "100\n",
      "200\n",
      "300\n",
      "400\n",
      "average proportion correct is 0.4645873362630637 and median is 0.4612112112112112\n",
      "Valid proportion:0.02 Knowledge match: 1.466 Type1err:0.334 Type2err:1.492\n"
     ]
    }
   ],
   "source": [
    "B = 500\n",
    "accuracy_list = []\n",
    "valid_list = []\n",
    "type1err_know = []\n",
    "type2err_know = []\n",
    "match_know = []\n",
    "for b in range(B):\n",
    "    apt_truth, combined_emits = ahlp.combined_simulation(apt_hmm, user_list)\n",
    "    apt_truth_states, apt_truth_emits = apt_truth\n",
    "    opt_state =  mv.mv_Viterbi(obs = combined_emits, hmm = apt_hmm)\n",
    "    _, true_knowledge = ahlp.check_valid(apt_truth_states, apt_truth_emits, cst_list, return_knowledge = True)\n",
    "    infer_valid, infer_knowledge = ahlp.check_valid(opt_state, combined_emits, cst_list, return_knowledge = True)\n",
    "    valid_list.append(infer_valid)\n",
    "    type1err_know.append(len(infer_knowledge - true_knowledge))\n",
    "    type2err_know.append(len(true_knowledge - infer_knowledge))\n",
    "    match_know.append(len(true_knowledge.intersection(infer_knowledge)))\n",
    "    num_correct = [opt == truth for opt,truth in zip(opt_state,apt_truth_states)]\n",
    "    if b % 100 == 0:\n",
    "        print(b)\n",
    "    accuracy_list.append(sum(num_correct)/len(num_correct))\n",
    "print(f'average proportion correct is {sum(accuracy_list)/len(accuracy_list)} and median is \\\n",
    "{np.median(np.array(accuracy_list))}')\n",
    "print(f'Valid proportion:{sum(valid_list)/len(valid_list)} Knowledge match: {sum(match_know)/len(match_know)} \\\n",
    "Type1err:{sum(type1err_know)/len(type1err_know)} Type2err:{sum(type2err_know)/len(type2err_know)}')"
   ]
  },
  {
   "cell_type": "code",
   "execution_count": 47,
   "id": "d5f142b5-f7ab-4ecb-9920-2fe3a3d48b3f",
   "metadata": {},
   "outputs": [
    {
     "data": {
      "text/plain": [
       "(array([155.,  59.,  94., 128., 129., 115., 111.,  63.,  45., 101.]),\n",
       " array([0.01265823, 0.110372  , 0.20808577, 0.30579954, 0.4035133 ,\n",
       "        0.50122707, 0.59894084, 0.69665461, 0.79436838, 0.89208215,\n",
       "        0.98979592]),\n",
       " <BarContainer object of 10 artists>)"
      ]
     },
     "execution_count": 47,
     "metadata": {},
     "output_type": "execute_result"
    },
    {
     "data": {
      "image/png": "[encoded data removed]",
      "text/plain": [
       "<Figure size 640x480 with 1 Axes>"
      ]
     },
     "metadata": {},
     "output_type": "display_data"
    }
   ],
   "source": [
    "plt.hist(accuracy_list)"
   ]
  },
  {
   "cell_type": "code",
   "execution_count": 48,
   "id": "369d7b34-32da-4a8f-9223-11c6bdd61887",
   "metadata": {},
   "outputs": [
    {
     "data": {
      "text/plain": [
       "25"
      ]
     },
     "execution_count": 48,
     "metadata": {},
     "output_type": "execute_result"
    }
   ],
   "source": [
    "len(apt_hmm.eprob.keys())"
   ]
  },
  {
   "cell_type": "markdown",
   "id": "9703b331-cd25-4b2a-8df7-0d7268309df0",
   "metadata": {},
   "source": [
    "# Noisy Constrained Simulations + Pure APT"
   ]
  },
  {
   "cell_type": "code",
   "execution_count": 39,
   "id": "5ebed370-b239-4bf5-bf52-96b0caff326e",
   "metadata": {},
   "outputs": [
    {
     "name": "stdout",
     "output_type": "stream",
     "text": [
      "0\n",
      "100\n",
      "200\n",
      "300\n",
      "400\n",
      "average proportion correct is 0.3288409238979773 and median is 0.35285714285714287\n",
      "Valid proportion:0.01 Knowledge match: 2.652 Type1err:0.0 Type2err:3.348\n"
     ]
    }
   ],
   "source": [
    "B = 500\n",
    "accuracy_list = []\n",
    "valid_list = []\n",
    "type1err_know = []\n",
    "type2err_know = []\n",
    "match_know = []\n",
    "for b in range(B):\n",
    "    apt_truth, combined_emits = ahlp.combined_simulation(apt_hmm, user_list, cst_list)\n",
    "    apt_truth_states, apt_truth_emits = apt_truth\n",
    "    opt_state =  mv.mv_Viterbi(obs = combined_emits, hmm = apt_hmm)\n",
    "    true_valid, true_knowledge = ahlp.check_valid(apt_truth_states, apt_truth_emits, cst_list, return_knowledge = True)\n",
    "    infer_valid, infer_knowledge = ahlp.check_valid(opt_state, combined_emits, cst_list, return_knowledge = True)\n",
    "    if not true_valid:\n",
    "        print('Invalid sequence')\n",
    "    valid_list.append(infer_valid)\n",
    "    type1err_know.append(len(infer_knowledge - true_knowledge))\n",
    "    type2err_know.append(len(true_knowledge - infer_knowledge))\n",
    "    match_know.append(len(true_knowledge.intersection(infer_knowledge)))\n",
    "    num_correct = [opt == truth for opt,truth in zip(opt_state,apt_truth_states)]\n",
    "    if b % 100 == 0:\n",
    "        print(b)\n",
    "    accuracy_list.append(sum(num_correct)/len(num_correct))\n",
    "print(f'average proportion correct is {sum(accuracy_list)/len(accuracy_list)} and median is \\\n",
    "{np.median(np.array(accuracy_list))}')\n",
    "print(f'Valid proportion:{sum(valid_list)/len(valid_list)} Knowledge match: {sum(match_know)/len(match_know)} \\\n",
    "Type1err:{sum(type1err_know)/len(type1err_know)} Type2err:{sum(type2err_know)/len(type2err_know)}')"
   ]
  },
  {
   "cell_type": "code",
   "execution_count": 43,
   "id": "24c3ba05-1db8-4270-a8df-6c557074fc38",
   "metadata": {},
   "outputs": [
    {
     "name": "stdout",
     "output_type": "stream",
     "text": [
      "0\n",
      "100\n",
      "200\n",
      "300\n",
      "400\n",
      "500\n",
      "600\n",
      "700\n",
      "800\n",
      "900\n",
      "average proportion correct is 0.3356266712625735 and median is 0.36626016260162597\n"
     ]
    }
   ],
   "source": [
    "# B = 1000\n",
    "# accuracy_list = []\n",
    "# for b in range(B):\n",
    "#     apt_truth, combined_emits = ahlp.combined_simulation(apt_hmm, user_list, cst_list)\n",
    "#     apt_truth_states, apt_truth_emits = apt_truth\n",
    "#     opt_state =  mv.mv_Viterbi(obs = combined_emits, hmm = apt_hmm)\n",
    "#     if not ahlp.check_valid(*apt_truth, cst_list):\n",
    "#         print('Invalid sequence')\n",
    "#     num_correct = [opt == truth for opt,truth in zip(opt_state,apt_truth_states)]\n",
    "#     if b % 100 == 0:\n",
    "#         print(b)\n",
    "#     accuracy_list.append(sum(num_correct)/len(num_correct))\n",
    "# print(f'average proportion correct is {sum(accuracy_list)/len(accuracy_list)} and median is \\\n",
    "# {np.median(np.array(accuracy_list))}')"
   ]
  },
  {
   "cell_type": "code",
   "execution_count": 44,
   "id": "357d731d-8789-46dc-9639-885a0d1b0132",
   "metadata": {},
   "outputs": [
    {
     "data": {
      "text/plain": [
       "(array([144.,  24.,  70., 186., 286., 178.,  75.,  21.,  15.,   1.]),\n",
       " array([0.00280112, 0.08730362, 0.17180611, 0.25630861, 0.34081111,\n",
       "        0.4253136 , 0.5098161 , 0.5943186 , 0.67882109, 0.76332359,\n",
       "        0.84782609]),\n",
       " <BarContainer object of 10 artists>)"
      ]
     },
     "execution_count": 44,
     "metadata": {},
     "output_type": "execute_result"
    },
    {
     "data": {
      "image/png": "[encoded data removed]",
      "text/plain": [
       "<Figure size 640x480 with 1 Axes>"
      ]
     },
     "metadata": {},
     "output_type": "display_data"
    }
   ],
   "source": [
    "plt.hist(accuracy_list)"
   ]
  },
  {
   "cell_type": "markdown",
   "id": "e332364e-0935-4f31-90b4-97ae7bb28475",
   "metadata": {},
   "source": [
    "# Noisy Constrained Simulations + Noisy Base APT"
   ]
  },
  {
   "cell_type": "code",
   "execution_count": 57,
   "id": "14ee3494-d9df-4a63-9524-dcca72ef8009",
   "metadata": {},
   "outputs": [
    {
     "name": "stdout",
     "output_type": "stream",
     "text": [
      "initprob:1.0  tprob: [1. 1. 1. 1. 1. 1. 1. 1. 1. 1. 1. 1. 1. 1.]  eprob: [1. 1. 1. 1. 1. 1. 1. 1. 1. 1. 1. 1. 1. 1.]\n"
     ]
    }
   ],
   "source": [
    "noisy_apt = ahlp.create_noisy_apt(apt_hmm, .81)\n",
    "apt_params = ahlp.hmm2numpy(noisy_apt)\n",
    "print(f'initprob:{apt_params[0].sum()}  tprob: {apt_params[1].sum(axis = 1)}  eprob: {apt_params[2].sum(axis = 1)}')"
   ]
  },
  {
   "cell_type": "code",
   "execution_count": 58,
   "id": "caf4b800-2c55-4b9e-88b5-0b6f7da09919",
   "metadata": {},
   "outputs": [
    {
     "data": {
      "text/plain": [
       "25"
      ]
     },
     "execution_count": 58,
     "metadata": {},
     "output_type": "execute_result"
    }
   ],
   "source": [
    "len(apt_hmm.eprob.keys())"
   ]
  },
  {
   "cell_type": "code",
   "execution_count": 59,
   "id": "4bdad823-3db4-4457-8805-9c956d4397d7",
   "metadata": {},
   "outputs": [
    {
     "name": "stdout",
     "output_type": "stream",
     "text": [
      "0\n",
      "100\n",
      "200\n",
      "300\n",
      "400\n",
      "average proportion correct is 0.13633647584233918 and median is 0.08888069658029632\n",
      "Valid proportion:0.0 Knowledge match: 1.724 Type1err:0.0 Type2err:4.276\n"
     ]
    }
   ],
   "source": [
    "B = 500\n",
    "accuracy_list = []\n",
    "valid_list = []\n",
    "type1err_know = []\n",
    "type2err_know = []\n",
    "match_know = []\n",
    "for b in range(B):\n",
    "    apt_truth, combined_emits = ahlp.combined_simulation(apt_hmm, user_list, cst_list)\n",
    "    apt_truth_states, apt_truth_emits = apt_truth\n",
    "    opt_state =  mv.mv_Viterbi(obs = combined_emits, hmm = noisy_apt)\n",
    "    true_valid, true_knowledge = ahlp.check_valid(apt_truth_states, apt_truth_emits, cst_list, return_knowledge = True)\n",
    "    infer_valid, infer_knowledge = ahlp.check_valid(opt_state, combined_emits, cst_list, return_knowledge = True)\n",
    "    if not true_valid:\n",
    "        print('Invalid sequence')\n",
    "    valid_list.append(infer_valid)\n",
    "    type1err_know.append(len(infer_knowledge - true_knowledge))\n",
    "    type2err_know.append(len(true_knowledge - infer_knowledge))\n",
    "    match_know.append(len(true_knowledge.intersection(infer_knowledge)))\n",
    "    num_correct = [opt == truth for opt,truth in zip(opt_state,apt_truth_states)]\n",
    "    if b % 100 == 0:\n",
    "        print(b)\n",
    "    accuracy_list.append(sum(num_correct)/len(num_correct))\n",
    "print(f'average proportion correct is {sum(accuracy_list)/len(accuracy_list)} and median is \\\n",
    "{np.median(np.array(accuracy_list))}')\n",
    "print(f'Valid proportion:{sum(valid_list)/len(valid_list)} Knowledge match: {sum(match_know)/len(match_know)} \\\n",
    "Type1err:{sum(type1err_know)/len(type1err_know)} Type2err:{sum(type2err_know)/len(type2err_know)}')"
   ]
  },
  {
   "cell_type": "code",
   "execution_count": 51,
   "id": "f9b15f12-f9be-42f0-a300-222f9e1382ac",
   "metadata": {
    "scrolled": true
   },
   "outputs": [
    {
     "name": "stdout",
     "output_type": "stream",
     "text": [
      "0\n",
      "100\n",
      "200\n",
      "300\n",
      "400\n",
      "500\n",
      "600\n",
      "700\n",
      "800\n",
      "900\n",
      "average proportion correct is 0.0719761947733759 and median is 0.054949096117369256\n"
     ]
    }
   ],
   "source": [
    "# B = 1000\n",
    "# accuracy_list = []\n",
    "# for b in range(B):\n",
    "#     apt_truth, combined_emits = ahlp.combined_simulation(apt_hmm, user_list, cst_list)\n",
    "#     apt_truth_states, apt_truth_emits = apt_truth\n",
    "#     opt_state =  mv.mv_Viterbi(obs = combined_emits, hmm = noisy_apt)\n",
    "#     num_correct = [opt == truth for opt,truth in zip(opt_state,apt_truth_states)]\n",
    "#     if b % 100 == 0:\n",
    "#         print(b)\n",
    "#     accuracy_list.append(sum(num_correct)/len(num_correct))\n",
    "# print(f'average proportion correct is {sum(accuracy_list)/len(accuracy_list)} and median is \\\n",
    "# {np.median(np.array(accuracy_list))}')"
   ]
  },
  {
   "cell_type": "code",
   "execution_count": 53,
   "id": "08258ead-e600-446c-beca-a004dc84766e",
   "metadata": {},
   "outputs": [
    {
     "data": {
      "text/plain": [
       "(array([397., 318., 135.,  78.,  35.,  21.,   7.,   6.,   2.,   1.]),\n",
       " array([0.00430108, 0.04487097, 0.08544086, 0.12601075, 0.16658065,\n",
       "        0.20715054, 0.24772043, 0.28829032, 0.32886022, 0.36943011,\n",
       "        0.41      ]),\n",
       " <BarContainer object of 10 artists>)"
      ]
     },
     "execution_count": 53,
     "metadata": {},
     "output_type": "execute_result"
    },
    {
     "data": {
      "image/png": "[encoded data removed]",
      "text/plain": [
       "<Figure size 640x480 with 1 Axes>"
      ]
     },
     "metadata": {},
     "output_type": "display_data"
    }
   ],
   "source": [
    "plt.hist(accuracy_list)"
   ]
  },
  {
   "cell_type": "markdown",
   "id": "56e696a1-6c58-480c-a842-481c07b63539",
   "metadata": {},
   "source": [
    "# Augmented HMM  for Constrained Inference"
   ]
  },
  {
   "cell_type": "markdown",
   "id": "0f2e06c9-d90d-40c3-a487-42d6866d8dfc",
   "metadata": {},
   "source": [
    "# Constrained Simulation + Model (Tiered APT) with no emission prob noise. \n",
    "\n",
    "Noticed there are some runs where it returns a nonsense sequence of just \"PRE\".\n",
    "\n",
    "Looking at the value function, it collapses to 0 at some time. Observations seem to indicate that the issue might be impossible inference (since no noise in emissions) vs. numerical underflow\n"
   ]
  },
  {
   "cell_type": "code",
   "execution_count": 7,
   "id": "355df156-1193-44fb-bb2a-5987b3bead2e",
   "metadata": {},
   "outputs": [],
   "source": [
    "import time"
   ]
  },
  {
   "cell_type": "code",
   "execution_count": 8,
   "id": "2dd805f6-193d-46b7-9d98-43e578321aaf",
   "metadata": {},
   "outputs": [
    {
     "ename": "NameError",
     "evalue": "name 'tier_apt' is not defined",
     "output_type": "error",
     "traceback": [
      "\u001b[31m---------------------------------------------------------------------------\u001b[39m",
      "\u001b[31mNameError\u001b[39m                                 Traceback (most recent call last)",
      "\u001b[36mCell\u001b[39m\u001b[36m \u001b[39m\u001b[32mIn[8]\u001b[39m\u001b[32m, line 1\u001b[39m\n\u001b[32m----> \u001b[39m\u001b[32m1\u001b[39m \u001b[43mtier_apt\u001b[49m.states[:\u001b[32m10\u001b[39m]\n",
      "\u001b[31mNameError\u001b[39m: name 'tier_apt' is not defined"
     ]
    }
   ],
   "source": [
    "tier_apt.states[:10]"
   ]
  },
  {
   "cell_type": "code",
   "execution_count": 79,
   "id": "7c37c1bc-31a6-44cc-bbe7-86a251a32ae0",
   "metadata": {},
   "outputs": [
    {
     "data": {
      "text/plain": [
       "[(('PRE', None), ('PRE', None)),\n",
       " (('PRE', None), ('IA', ('S', 'postfix/local'))),\n",
       " (('IA', ('S', 'postfix/local')), ('EX', ('V', 'access/bob'))),\n",
       " (('IA', ('S', 'postfix/local')), ('EX', ('V', 'access/sally'))),\n",
       " (('IA', ('S', 'postfix/local')), ('EX', ('S', 'postfix/local'))),\n",
       " (('IA', ('S', 'postfix/local')), ('EX', ('HI', 'img/post'))),\n",
       " (('IA', ('S', 'postfix/local')), ('EX', ('HE', 'img/post'))),\n",
       " (('IA', ('S', 'postfix/local')), ('EX', ('DS', 'syslog/nano'))),\n",
       " (('IA', ('S', 'postfix/local')), ('WAIT_IA', None)),\n",
       " (('EX', ('V', 'access/bob')), ('EX', ('V', 'access/bob')))]"
      ]
     },
     "execution_count": 79,
     "metadata": {},
     "output_type": "execute_result"
    }
   ],
   "source": [
    "list(tier_apt.tprob.keys())[:10]"
   ]
  },
  {
   "cell_type": "code",
   "execution_count": 81,
   "id": "b15762cb-b95e-4e09-9ff9-f771d0578683",
   "metadata": {},
   "outputs": [
    {
     "data": {
      "text/plain": [
       "defaultdict(int,\n",
       "            {(('PRE', None), None): 1.0,\n",
       "             (('IA', ('S', 'postfix/local')), ('S', 'postfix/local')): 1.0,\n",
       "             (('EX', ('V', 'access/bob')), ('V', 'access/bob')): 1.0,\n",
       "             (('EX', ('V', 'access/sally')), ('V', 'access/sally')): 1.0,\n",
       "             (('EX', ('S', 'postfix/local')), ('S', 'postfix/local')): 1.0,\n",
       "             (('EX', ('HI', 'img/post')), ('HI', 'img/post')): 1.0,\n",
       "             (('EX', ('HE', 'img/post')), ('HE', 'img/post')): 1.0,\n",
       "             (('EX', ('DS', 'syslog/nano')), ('DS', 'syslog/nano')): 1.0,\n",
       "             (('DI', ('S', 'postfix/local')), ('S', 'postfix/local')): 1.0,\n",
       "             (('DI', ('HI', 'usr/query')), ('HI', 'usr/query')): 1.0,\n",
       "             (('DI', ('HI', 'img/query')), ('HI', 'img/query')): 1.0,\n",
       "             (('DI', ('HE', 'img/query')), ('HE', 'img/query')): 1.0,\n",
       "             (('DI', ('DS', 'syslog/ls')), ('DS', 'syslog/ls')): 1.0,\n",
       "             (('CA', ('HI', 'usr/query')), ('HI', 'usr/query')): 1.0,\n",
       "             (('COL', ('HI', 'img/post')), ('HI', 'img/post')): 1.0,\n",
       "             (('COL', ('HE', 'img/post')), ('HE', 'img/post')): 1.0,\n",
       "             (('COL', ('DS', 'syslog/nano')), ('DS', 'syslog/nano')): 1.0,\n",
       "             (('EXF', ('HE', 'img/query')), ('HE', 'img/query')): 1.0,\n",
       "             (('POST', None), None): 1.0,\n",
       "             (('WAIT_EX', None), None): 1.0,\n",
       "             (('WAIT_CA', None), None): 1.0,\n",
       "             (('WAIT_COL', None), None): 1.0,\n",
       "             (('WAIT_DI', None), None): 1.0,\n",
       "             (('WAIT_EXF', None), None): 1.0,\n",
       "             (('WAIT_IA', None), None): 1.0})"
      ]
     },
     "execution_count": 81,
     "metadata": {},
     "output_type": "execute_result"
    }
   ],
   "source": [
    "tier_apt.eprob"
   ]
  },
  {
   "cell_type": "code",
   "execution_count": 80,
   "id": "907c1cd7-5c90-4b2f-8aa1-c87b525cd78e",
   "metadata": {},
   "outputs": [
    {
     "data": {
      "text/plain": [
       "[(('PRE', None), None),\n",
       " (('IA', ('S', 'postfix/local')), ('S', 'postfix/local')),\n",
       " (('EX', ('V', 'access/bob')), ('V', 'access/bob')),\n",
       " (('EX', ('V', 'access/sally')), ('V', 'access/sally')),\n",
       " (('EX', ('S', 'postfix/local')), ('S', 'postfix/local')),\n",
       " (('EX', ('HI', 'img/post')), ('HI', 'img/post')),\n",
       " (('EX', ('HE', 'img/post')), ('HE', 'img/post')),\n",
       " (('EX', ('DS', 'syslog/nano')), ('DS', 'syslog/nano')),\n",
       " (('DI', ('S', 'postfix/local')), ('S', 'postfix/local')),\n",
       " (('DI', ('HI', 'usr/query')), ('HI', 'usr/query'))]"
      ]
     },
     "execution_count": 80,
     "metadata": {},
     "output_type": "execute_result"
    }
   ],
   "source": [
    "list(tier_apt.eprob.keys())[:10]"
   ]
  },
  {
   "cell_type": "code",
   "execution_count": 41,
   "id": "785df53c-911a-4712-af1e-cd3e7fa76962",
   "metadata": {},
   "outputs": [
    {
     "name": "stdout",
     "output_type": "stream",
     "text": [
      "0\n",
      "10\n",
      "20\n",
      "30\n",
      "40\n",
      "50\n",
      "60\n",
      "70\n",
      "80\n",
      "90\n",
      "average proportion correct is 0.09066303371456412 and median is 0.01829186730872124 and avgtime:0.9463747978210449\n",
      "Valid proportion:1.0 Knowledge match: 0.68 Type1err:0.0 Type2err:5.32\n"
     ]
    }
   ],
   "source": [
    "B = 100\n",
    "accuracy_list = []\n",
    "valid_list = []\n",
    "type1err_know = []\n",
    "type2err_know = []\n",
    "match_know = []\n",
    "time_list = []\n",
    "for b in range(B):\n",
    "    apt_truth, combined_emits = ahlp.combined_simulation(apt_hmm, user_list, cst_list)\n",
    "    apt_truth_states, apt_truth_emits = apt_truth\n",
    "    start_time = time.time()\n",
    "    opt_state_list, _= ahlp.Viterbi_torch_list(tier_apt, cst_list, combined_emits, sat, time_hom = True, dtype = torch.float32, device = 'cuda:0')\n",
    "    running_time = time.time() - start_time\n",
    "    opt_hidden, opt_emits = zip(*opt_state_list)\n",
    "    true_valid, true_knowledge = ahlp.check_valid(apt_truth_states, apt_truth_emits, cst_list, return_knowledge = True)\n",
    "    infer_valid, infer_knowledge = ahlp.check_valid(opt_hidden, opt_emits, cst_list, return_knowledge = True)\n",
    "    time_list.append(running_time)\n",
    "    valid_list.append(infer_valid)\n",
    "    type1err_know.append(len(infer_knowledge - true_knowledge))\n",
    "    type2err_know.append(len(true_knowledge - infer_knowledge))\n",
    "    match_know.append(len(true_knowledge.intersection(infer_knowledge)))\n",
    "    num_correct = [est[0]== true for est,true in zip(opt_state_list, apt_truth_states)]\n",
    "    if b % 10 == 0:\n",
    "        print(b)\n",
    "    accuracy_list.append(sum(num_correct)/len(num_correct))    \n",
    "\n",
    "print(f'average proportion correct is {sum(accuracy_list)/len(accuracy_list)} and median is \\\n",
    "{np.median(np.array(accuracy_list))} and avgtime:{sum(time_list)/len(time_list)}')\n",
    "print(f'Valid proportion:{sum(valid_list)/len(valid_list)} Knowledge match: {sum(match_know)/len(match_know)} \\\n",
    "Type1err:{sum(type1err_know)/len(type1err_know)} Type2err:{sum(type2err_know)/len(type2err_know)}')"
   ]
  },
  {
   "cell_type": "code",
   "execution_count": null,
   "id": "994b7874-7c91-405c-94b8-2dcbad40b55f",
   "metadata": {},
   "outputs": [],
   "source": [
    "plt.hist(accuracy_list)"
   ]
  },
  {
   "cell_type": "markdown",
   "id": "6274228a-9093-41f5-be4f-c714e8efc434",
   "metadata": {},
   "source": [
    "## Code for Checking Cause of Junk Inference.\n",
    "\n",
    "Look at value function. It collapses at some time."
   ]
  },
  {
   "cell_type": "code",
   "execution_count": 26,
   "id": "88896711-81e7-4261-b159-d00c0acccc5c",
   "metadata": {},
   "outputs": [],
   "source": [
    "apt_truth, combined_emits = ahlp.combined_simulation(apt_hmm, user_list, cst_list)\n",
    "apt_truth_states, apt_truth_emits = apt_truth\n",
    "opt_state_list, _, val, ix_tracker = ahlp.Viterbi_torch_list(tier_apt, cst_list, combined_emits, sat, time_hom = True, dtype = torch.float16, device = 'cuda:0', debug = True)"
   ]
  },
  {
   "cell_type": "code",
   "execution_count": 27,
   "id": "d696ceaf-65e1-447f-bf9e-8c728f44d50f",
   "metadata": {},
   "outputs": [
    {
     "data": {
      "text/plain": [
       "[('PRE', None),\n",
       " ('PRE', None),\n",
       " ('IA', ('S', 'postfix/local')),\n",
       " ('WAIT_IA', None),\n",
       " ('WAIT_IA', None),\n",
       " ('WAIT_IA', None),\n",
       " ('WAIT_IA', None),\n",
       " ('WAIT_IA', None),\n",
       " ('WAIT_IA', None),\n",
       " ('EX', ('S', 'postfix/local'))]"
      ]
     },
     "execution_count": 27,
     "metadata": {},
     "output_type": "execute_result"
    }
   ],
   "source": [
    "opt_state_list[:10]"
   ]
  },
  {
   "cell_type": "code",
   "execution_count": 28,
   "id": "aa76076c-ef85-4b5e-8f09-0e8243572991",
   "metadata": {},
   "outputs": [],
   "source": [
    "for t in range(val.shape[0]):\n",
    "    # if torch.isnan(val[t].max()):\n",
    "    #     print(t)\n",
    "    if val[t].max().item() <= 0:\n",
    "        print(f'value function collapses at time {t}')\n",
    "        break"
   ]
  },
  {
   "cell_type": "code",
   "execution_count": 29,
   "id": "191a0320-b8a9-4802-ac5b-9cfd14acf88b",
   "metadata": {},
   "outputs": [
    {
     "data": {
      "text/plain": [
       "True"
      ]
     },
     "execution_count": 29,
     "metadata": {},
     "output_type": "execute_result"
    }
   ],
   "source": [
    "opt_hidden, opt_emits = zip(*opt_state_list)\n",
    "ahlp.check_valid(opt_hidden,opt_emits,cst_list)"
   ]
  },
  {
   "cell_type": "code",
   "execution_count": 57,
   "id": "f201246d-d41b-4f1f-a91a-9a75723ab082",
   "metadata": {},
   "outputs": [],
   "source": [
    "# np.histogram(val[1].flatten().numpy(), bins=10)"
   ]
  },
  {
   "cell_type": "markdown",
   "id": "70f9c977-0eca-4359-8315-00e074d6a09b",
   "metadata": {},
   "source": [
    "# Tiered APT with Noisy Emissions and Const\n",
    "\n",
    "Doesn't seem to give sequneces of \"PRE\"s like APT with no noise in the emissions."
   ]
  },
  {
   "cell_type": "markdown",
   "id": "9ddd2438-7d35-48bd-9613-b608579ba32a",
   "metadata": {},
   "source": [
    "# Mixture with Uniform: 1/3"
   ]
  },
  {
   "cell_type": "code",
   "execution_count": 45,
   "id": "e8842dd3-84da-45d4-9179-2b9566aa2de2",
   "metadata": {},
   "outputs": [],
   "source": [
    "noisy_tier_apt = ahlp.create_noisy_apt(tier_apt, 1/3)"
   ]
  },
  {
   "cell_type": "code",
   "execution_count": 46,
   "id": "5223e734-a007-48d7-b3d4-3dfae07c4054",
   "metadata": {},
   "outputs": [
    {
     "data": {
      "text/plain": [
       "<module 'apt_helper' from '/home/fyqiu/Projects/conin/conin/mediation_variables/apt_helper.py'>"
      ]
     },
     "execution_count": 46,
     "metadata": {},
     "output_type": "execute_result"
    }
   ],
   "source": [
    "importlib.reload(ahlp)"
   ]
  },
  {
   "cell_type": "code",
   "execution_count": 47,
   "id": "10bd4ebf-ff37-49a5-92db-9685955427f3",
   "metadata": {},
   "outputs": [
    {
     "name": "stdout",
     "output_type": "stream",
     "text": [
      "0\n",
      "10\n",
      "20\n",
      "30\n",
      "40\n",
      "50\n",
      "60\n",
      "70\n",
      "80\n",
      "90\n",
      "average proportion correct is 0.07196702784400281 and median is 0.056330128205128206 and avgtime:0.9756428575515748\n",
      "Valid proportion:1.0 Knowledge match: 4.2 Type1err:0.0 Type2err:1.8\n"
     ]
    }
   ],
   "source": [
    "B = 100\n",
    "accuracy_list = []\n",
    "valid_list = []\n",
    "type1err_know = []\n",
    "type2err_know = []\n",
    "match_know = []\n",
    "time_list = []\n",
    "for b in range(B):\n",
    "    apt_truth, combined_emits = ahlp.combined_simulation(apt_hmm, user_list, cst_list)\n",
    "    apt_truth_states, apt_truth_emits = apt_truth\n",
    "    start_time = time.time()\n",
    "    opt_state_list, _= ahlp.Viterbi_torch_list(noisy_tier_apt, cst_list, combined_emits, sat, time_hom = True, dtype = torch.float32, device = 'cuda:0', num_cst = 0)\n",
    "    running_time = time.time() - start_time\n",
    "    opt_hidden, opt_emits = zip(*opt_state_list)\n",
    "    true_valid, true_knowledge = ahlp.check_valid(apt_truth_states, apt_truth_emits, cst_list, return_knowledge = True)\n",
    "    infer_valid, infer_knowledge = ahlp.check_valid(opt_hidden, opt_emits, cst_list, return_knowledge = True)\n",
    "    time_list.append(running_time)\n",
    "    valid_list.append(infer_valid)\n",
    "    type1err_know.append(len(infer_knowledge - true_knowledge))\n",
    "    type2err_know.append(len(true_knowledge - infer_knowledge))\n",
    "    match_know.append(len(true_knowledge.intersection(infer_knowledge)))\n",
    "    num_correct = [est[0]== true for est,true in zip(opt_state_list, apt_truth_states)]\n",
    "    if b % 10 == 0:\n",
    "        print(b)\n",
    "    accuracy_list.append(sum(num_correct)/len(num_correct))    \n",
    "\n",
    "print(f'average proportion correct is {sum(accuracy_list)/len(accuracy_list)} and median is \\\n",
    "{np.median(np.array(accuracy_list))} and avgtime:{sum(time_list)/len(time_list)}')\n",
    "print(f'Valid proportion:{sum(valid_list)/len(valid_list)} Knowledge match: {sum(match_know)/len(match_know)} \\\n",
    "Type1err:{sum(type1err_know)/len(type1err_know)} Type2err:{sum(type2err_know)/len(type2err_know)}')"
   ]
  },
  {
   "cell_type": "code",
   "execution_count": 105,
   "id": "f67028af-5c29-41e7-9348-342fc249dfc5",
   "metadata": {},
   "outputs": [
    {
     "name": "stdout",
     "output_type": "stream",
     "text": [
      "0\n",
      "10\n",
      "20\n",
      "30\n",
      "40\n",
      "average proportion correct is 0.07905176791083657 and median is 0.05974338412189254 and avgtime:1.01936954498291 and proportion valid: 1.0\n"
     ]
    }
   ],
   "source": [
    "# B = 50\n",
    "# accuracy_list = []\n",
    "# time_list = []\n",
    "# valid_list = []\n",
    "\n",
    "# for b in range(B):\n",
    "#     apt_truth, combined_emits = ahlp.combined_simulation(apt_hmm, user_list, cst_list)\n",
    "#     apt_truth_states, apt_truth_emits = apt_truth\n",
    "#     start_time = time.time()\n",
    "#     opt_state_list, _= ahlp.Viterbi_torch_list(noisy_tier_apt, cst_list, combined_emits, sat, time_hom = True, dtype = torch.float32, device = 'cuda:0', num_cst = 0)\n",
    "#     running_time = time.time() - start_time\n",
    "#     time_list.append(running_time)\n",
    "#     opt_hidden, opt_emits = zip(*opt_state_list)\n",
    "#     valid_list.append(ahlp.check_valid(opt_hidden, opt_emits, cst_list))\n",
    "#     num_correct = [est[0]== true for est,true in zip(opt_state_list, apt_truth_states)]\n",
    "#     if b % 10 == 0:\n",
    "#         print(b)\n",
    "#     accuracy_list.append(sum(num_correct)/len(num_correct))\n",
    "# print(f'average proportion correct is {sum(accuracy_list)/len(accuracy_list)} and median is \\\n",
    "# {np.median(np.array(accuracy_list))} and avgtime:{sum(time_list)/len(time_list)} \\\n",
    "# and proportion valid: {sum(valid_list)/len(valid_list)}')"
   ]
  },
  {
   "cell_type": "code",
   "execution_count": 106,
   "id": "35583d21-8c11-44b7-bf2e-b8a70f5e81c8",
   "metadata": {},
   "outputs": [
    {
     "data": {
      "text/plain": [
       "(array([2., 5., 4., 7., 7., 3., 4., 3., 1., 0., 4., 1., 3., 1., 2., 0., 1.,\n",
       "        0., 1., 1.]),\n",
       " array([0.00506329, 0.01613088, 0.02719847, 0.03826606, 0.04933365,\n",
       "        0.06040124, 0.07146883, 0.08253642, 0.09360401, 0.1046716 ,\n",
       "        0.11573919, 0.12680678, 0.13787437, 0.14894196, 0.16000955,\n",
       "        0.17107714, 0.18214473, 0.19321232, 0.20427991, 0.2153475 ,\n",
       "        0.22641509]),\n",
       " <BarContainer object of 20 artists>)"
      ]
     },
     "execution_count": 106,
     "metadata": {},
     "output_type": "execute_result"
    },
    {
     "data": {
      "image/png": "[encoded data removed]",
      "text/plain": [
       "<Figure size 640x480 with 1 Axes>"
      ]
     },
     "metadata": {},
     "output_type": "display_data"
    }
   ],
   "source": [
    "plt.hist(accuracy_list, bins = 20)"
   ]
  },
  {
   "cell_type": "markdown",
   "id": "da6c2678-7358-4775-97cf-f57fa613acae",
   "metadata": {},
   "source": [
    "# Mixture with Uniform: 2/3"
   ]
  },
  {
   "cell_type": "code",
   "execution_count": 51,
   "id": "7fc7a662-7b1c-43c5-aeb1-ea1cb7636efb",
   "metadata": {},
   "outputs": [],
   "source": [
    "less_noisy_tier_apt = ahlp.create_noisy_apt(tier_apt, 2/3)"
   ]
  },
  {
   "cell_type": "code",
   "execution_count": 52,
   "id": "86513af7-4b29-4688-a516-53751774f7f8",
   "metadata": {},
   "outputs": [
    {
     "name": "stdout",
     "output_type": "stream",
     "text": [
      "0\n",
      "10\n",
      "20\n",
      "30\n",
      "40\n",
      "50\n",
      "60\n",
      "70\n",
      "80\n",
      "90\n",
      "average proportion correct is 0.1227670640121261 and median is 0.08393445710518882 and avgtime:1.0003076410293579\n",
      "Valid proportion:1.0 Knowledge match: 5.52 Type1err:0.0 Type2err:0.48\n"
     ]
    }
   ],
   "source": [
    "B = 100\n",
    "accuracy_list = []\n",
    "valid_list = []\n",
    "type1err_know = []\n",
    "type2err_know = []\n",
    "match_know = []\n",
    "time_list = []\n",
    "for b in range(B):\n",
    "    apt_truth, combined_emits = ahlp.combined_simulation(apt_hmm, user_list, cst_list)\n",
    "    apt_truth_states, apt_truth_emits = apt_truth\n",
    "    start_time = time.time()\n",
    "    opt_state_list, _= ahlp.Viterbi_torch_list(less_noisy_tier_apt, cst_list, combined_emits, sat, time_hom = True, dtype = torch.float32, device = 'cuda:0', num_cst = 0)\n",
    "    running_time = time.time() - start_time\n",
    "    opt_hidden, opt_emits = zip(*opt_state_list)\n",
    "    true_valid, true_knowledge = ahlp.check_valid(apt_truth_states, apt_truth_emits, cst_list, return_knowledge = True)\n",
    "    infer_valid, infer_knowledge = ahlp.check_valid(opt_hidden, opt_emits, cst_list, return_knowledge = True)\n",
    "    time_list.append(running_time)\n",
    "    valid_list.append(infer_valid)\n",
    "    type1err_know.append(len(infer_knowledge - true_knowledge))\n",
    "    type2err_know.append(len(true_knowledge - infer_knowledge))\n",
    "    match_know.append(len(true_knowledge.intersection(infer_knowledge)))\n",
    "    num_correct = [est[0]== true for est,true in zip(opt_state_list, apt_truth_states)]\n",
    "    if b % 10 == 0:\n",
    "        print(b)\n",
    "    accuracy_list.append(sum(num_correct)/len(num_correct))    \n",
    "\n",
    "print(f'average proportion correct is {sum(accuracy_list)/len(accuracy_list)} and median is \\\n",
    "{np.median(np.array(accuracy_list))} and avgtime:{sum(time_list)/len(time_list)}')\n",
    "print(f'Valid proportion:{sum(valid_list)/len(valid_list)} Knowledge match: {sum(match_know)/len(match_know)} \\\n",
    "Type1err:{sum(type1err_know)/len(type1err_know)} Type2err:{sum(type2err_know)/len(type2err_know)}')"
   ]
  },
  {
   "cell_type": "code",
   "execution_count": 108,
   "id": "7823b7e9-d97e-4816-824b-ac946de802aa",
   "metadata": {},
   "outputs": [
    {
     "name": "stdout",
     "output_type": "stream",
     "text": [
      "0\n",
      "10\n",
      "20\n",
      "30\n",
      "40\n",
      "average proportion correct is 0.12892538912018398 and median is 0.08498796630565583 and avgtime:0.9917890310287476 and proportion valid: 1.0\n"
     ]
    }
   ],
   "source": [
    "# B = 50\n",
    "# accuracy_list = []\n",
    "# time_list = []\n",
    "# valid_list = []\n",
    "\n",
    "# for b in range(B):\n",
    "#     apt_truth, combined_emits = ahlp.combined_simulation(apt_hmm, user_list, cst_list)\n",
    "#     apt_truth_states, apt_truth_emits = apt_truth\n",
    "#     start_time = time.time()\n",
    "#     opt_state_list, _= ahlp.Viterbi_torch_list(less_noisy_tier_apt, cst_list, combined_emits, sat, time_hom = True, dtype = torch.float32, device = 'cuda:0', num_cst = 0)\n",
    "#     running_time = time.time() - start_time\n",
    "#     time_list.append(running_time)\n",
    "#     opt_hidden, opt_emits = zip(*opt_state_list)\n",
    "#     valid_list.append(ahlp.check_valid(opt_hidden, opt_emits, cst_list))\n",
    "#     num_correct = [est[0]== true for est,true in zip(opt_state_list, apt_truth_states)]\n",
    "#     if b % 10 == 0:\n",
    "#         print(b)\n",
    "#     accuracy_list.append(sum(num_correct)/len(num_correct))\n",
    "# print(f'average proportion correct is {sum(accuracy_list)/len(accuracy_list)} and median is \\\n",
    "# {np.median(np.array(accuracy_list))} and avgtime:{sum(time_list)/len(time_list)} \\\n",
    "# and proportion valid: {sum(valid_list)/len(valid_list)}')"
   ]
  },
  {
   "cell_type": "code",
   "execution_count": null,
   "id": "92147ddb-95c0-447a-adf9-a08e74a12b16",
   "metadata": {},
   "outputs": [],
   "source": [
    "mix_tier_apt = tier_mixture(tier_apt, user_list, length, mix_weights = None, return_ix = False):\n"
   ]
  },
  {
   "cell_type": "code",
   "execution_count": 109,
   "id": "8b56bdde-35cb-4a61-a616-767ec5d41603",
   "metadata": {},
   "outputs": [
    {
     "data": {
      "text/plain": [
       "(array([13., 14.,  6.,  5.,  4.,  3.,  1.,  1.,  2.,  1.]),\n",
       " array([0.00443459, 0.05021755, 0.0960005 , 0.14178346, 0.18756641,\n",
       "        0.23334937, 0.27913233, 0.32491528, 0.37069824, 0.41648119,\n",
       "        0.46226415]),\n",
       " <BarContainer object of 10 artists>)"
      ]
     },
     "execution_count": 109,
     "metadata": {},
     "output_type": "execute_result"
    },
    {
     "data": {
      "image/png": "[encoded data removed]",
      "text/plain": [
       "<Figure size 640x480 with 1 Axes>"
      ]
     },
     "metadata": {},
     "output_type": "display_data"
    }
   ],
   "source": [
    "plt.hist(accuracy_list)"
   ]
  },
  {
   "cell_type": "markdown",
   "id": "ecf50d66-e8b8-4a77-929c-918a807f71e3",
   "metadata": {},
   "source": [
    "## Code for Checking Cause of Junk Inference.\n",
    "\n",
    "Look at value function. It collapses at some time."
   ]
  },
  {
   "cell_type": "code",
   "execution_count": 90,
   "id": "db6164eb-ff51-43a3-91fb-b2b942e617c0",
   "metadata": {},
   "outputs": [],
   "source": [
    "apt_truth, combined_emits = ahlp.combined_simulation(apt_hmm, user_list, cst_list)\n",
    "apt_truth_states, apt_truth_emits = apt_truth\n",
    "opt_state_list, _, val, ix_tracker = ahlp.Viterbi_torch_list(less_noisy_tier_apt, cst_list, combined_emits, sat, time_hom = True, dtype = torch.float16, device = 'cuda:0', debug = True)"
   ]
  },
  {
   "cell_type": "code",
   "execution_count": 91,
   "id": "a3ff1897-0b3f-4f24-9c17-852d8b764ab6",
   "metadata": {},
   "outputs": [
    {
     "data": {
      "text/plain": [
       "[('WAIT_EX', None),\n",
       " ('WAIT_EX', None),\n",
       " ('WAIT_EX', None),\n",
       " ('WAIT_EX', None),\n",
       " ('WAIT_EX', None),\n",
       " ('WAIT_EX', None),\n",
       " ('WAIT_EX', None),\n",
       " ('WAIT_EX', None),\n",
       " ('WAIT_EX', None),\n",
       " ('WAIT_EX', None)]"
      ]
     },
     "execution_count": 91,
     "metadata": {},
     "output_type": "execute_result"
    }
   ],
   "source": [
    "opt_state_list[20:30]"
   ]
  },
  {
   "cell_type": "code",
   "execution_count": 92,
   "id": "11cafc93-913d-4abf-b38e-deaeb944a078",
   "metadata": {},
   "outputs": [],
   "source": [
    "for t in range(val.shape[0]):\n",
    "    # if torch.isnan(val[t].max()):\n",
    "    #     print(t)\n",
    "    if val[t].max().item() <= 0:\n",
    "        print(f'value function collapses at time {t}')\n",
    "        break"
   ]
  },
  {
   "cell_type": "code",
   "execution_count": 93,
   "id": "3503ba5b-1b48-4551-ac0e-826cba005128",
   "metadata": {},
   "outputs": [
    {
     "data": {
      "text/plain": [
       "True"
      ]
     },
     "execution_count": 93,
     "metadata": {},
     "output_type": "execute_result"
    }
   ],
   "source": [
    "opt_hidden, opt_emits = zip(*opt_state_list)\n",
    "ahlp.check_valid(opt_hidden,opt_emits,cst_list)"
   ]
  },
  {
   "cell_type": "markdown",
   "id": "1bf5e700-13c1-4b81-9dfe-8bf51432ccfc",
   "metadata": {},
   "source": [
    "# Mixture with Calibration\n",
    "\n",
    "$\\mu_i$ is the probability that each user doesn't have an emission at a given time, so by independence $ 1 - \\prod_i \\mu_i $ is the probability that there is at least one user emission at some time. Use this as our mixing parameter."
   ]
  },
  {
   "cell_type": "code",
   "execution_count": 22,
   "id": "900533cc-b93d-40ef-80b2-2e2cdeacfee0",
   "metadata": {},
   "outputs": [],
   "source": [
    "mix_param = mu_list[1]*mu_list[2]"
   ]
  },
  {
   "cell_type": "code",
   "execution_count": 23,
   "id": "28c4d299-e7da-410a-93e0-c65939392c48",
   "metadata": {},
   "outputs": [],
   "source": [
    "optmix_noisy_tier_apt = ahlp.create_noisy_apt(tier_apt, mix_param)"
   ]
  },
  {
   "cell_type": "code",
   "execution_count": 24,
   "id": "881306ae-9c87-4499-ba3b-12191d4a4d34",
   "metadata": {},
   "outputs": [
    {
     "data": {
      "text/plain": [
       "'know_sally_exists'"
      ]
     },
     "execution_count": 24,
     "metadata": {},
     "output_type": "execute_result"
    }
   ],
   "source": [
    "cst_list[0].name"
   ]
  },
  {
   "cell_type": "code",
   "execution_count": 25,
   "id": "943ca479-bb74-4c28-891f-4a7ec97525e4",
   "metadata": {},
   "outputs": [
    {
     "data": {
      "text/plain": [
       "<module 'apt_helper' from '/home/fyqiu/Projects/conin/conin/mediation_variables/apt_helper.py'>"
      ]
     },
     "execution_count": 25,
     "metadata": {},
     "output_type": "execute_result"
    }
   ],
   "source": [
    "importlib.reload(ahlp)"
   ]
  },
  {
   "cell_type": "code",
   "execution_count": 26,
   "id": "df7667f5-5865-42d8-9f90-0093e57b64ed",
   "metadata": {},
   "outputs": [
    {
     "name": "stdout",
     "output_type": "stream",
     "text": [
      "0\n",
      "100\n",
      "200\n",
      "300\n",
      "400\n",
      "500\n",
      "600\n",
      "700\n",
      "800\n",
      "900\n",
      "average proportion correct is 0.2841993401248104 and median is 0.15866460444912467 and avgtime:0.966603229522705\n",
      "Valid proportion:1.0 Knowledge match: 5.99 Type1err:0.0 Type2err:0.01\n",
      "{'know_sally_exists': 0.529, 'have_sally_credential': 0.278, 'learn_where_data_stored': 0.283, 'have_data_on_ds': 0.255, 'have_data_on_hi': 0.286, 'have_data_on_he': 0.257}\n",
      "Avg number of exact matches:1.638\n"
     ]
    }
   ],
   "source": [
    "B = 1000\n",
    "accuracy_list = []\n",
    "valid_list = []\n",
    "type1err_know = []\n",
    "type2err_know = []\n",
    "match_know = []\n",
    "time_list = []\n",
    "knowledge_times = []\n",
    "time_tol  = 5\n",
    "exact_match_list = []\n",
    "tol_match_list = []\n",
    "for b in range(B):\n",
    "    apt_truth, combined_emits = ahlp.combined_simulation(apt_hmm, user_list, cst_list)\n",
    "    apt_truth_states, apt_truth_emits = apt_truth\n",
    "    start_time = time.time()\n",
    "    opt_state_list, _= ahlp.Viterbi_torch_list(optmix_noisy_tier_apt, cst_list, combined_emits, sat, time_hom = True, dtype = torch.float32, device = 'cuda:0', num_cst = 0)\n",
    "    running_time = time.time() - start_time\n",
    "    opt_hidden, opt_emits = zip(*opt_state_list)\n",
    "    true_valid, true_knowledge, true_times = ahlp.check_valid(apt_truth_states, apt_truth_emits, cst_list, return_knowledge = True)\n",
    "    infer_valid, infer_knowledge, infer_times = ahlp.check_valid(opt_hidden, opt_emits, cst_list, return_knowledge = True)\n",
    "    tol_match = ahlp.check_within_distance(true_times, infer_times, time_tol)\n",
    "    knowledge_times.append(tol_match)\n",
    "    tol_match_list.append(sum(tol_match))\n",
    "    exact_match_list.append(sum([true == infer for true,infer in zip(true_times,infer_times)]))\n",
    "    time_list.append(running_time)\n",
    "    valid_list.append(infer_valid)\n",
    "    type1err_know.append(len(infer_knowledge - true_knowledge))\n",
    "    type2err_know.append(len(true_knowledge - infer_knowledge))\n",
    "    match_know.append(len(true_knowledge.intersection(infer_knowledge)))\n",
    "    num_correct = [est[0]== true for est,true in zip(opt_state_list, apt_truth_states)]\n",
    "    if b % 100 == 0:\n",
    "        print(b)\n",
    "    accuracy_list.append(sum(num_correct)/len(num_correct))    \n",
    "\n",
    "time_match = [sum(times) / len(knowledge_times) for times in zip(*knowledge_times)]\n",
    "final_times = {c.name: time for c,time in zip(cst_list,time_match)}\n",
    "print(f'average proportion correct is {sum(accuracy_list)/len(accuracy_list)} and median is \\\n",
    "{np.median(np.array(accuracy_list))} and avgtime:{sum(time_list)/len(time_list)}')\n",
    "print(f'Valid proportion:{sum(valid_list)/len(valid_list)} Knowledge match: {sum(match_know)/len(match_know)} \\\n",
    "Type1err:{sum(type1err_know)/len(type1err_know)} Type2err:{sum(type2err_know)/len(type2err_know)}')\n",
    "print(final_times)\n",
    "print(f'Avg number of exact matches:{sum(exact_match_list)/len(exact_match_list)}')"
   ]
  },
  {
   "cell_type": "code",
   "execution_count": 33,
   "id": "6cda5c17-801b-4687-bb06-ef1b7e92ce04",
   "metadata": {},
   "outputs": [
    {
     "data": {
      "text/plain": [
       "Text(0.5, 1.0, 'Knowledge Times Exact Match')"
      ]
     },
     "execution_count": 33,
     "metadata": {},
     "output_type": "execute_result"
    },
    {
     "data": {
      "image/png": "[encoded data removed]",
      "text/plain": [
       "<Figure size 640x480 with 1 Axes>"
      ]
     },
     "metadata": {},
     "output_type": "display_data"
    }
   ],
   "source": [
    "# Specify the bin edges\n",
    "bins = [-.5,.5,1.5,2.5,3.5,4.5,5.5,6.5]  # Define the edges of the bins\n",
    "\n",
    "# Create the histogram\n",
    "plt.hist(exact_match_list, bins=bins, edgecolor='black', alpha=0.7)\n",
    "plt.title('Knowledge Times Exact Match')"
   ]
  },
  {
   "cell_type": "code",
   "execution_count": 35,
   "id": "21069578-6af5-4222-a5c8-1bffb071e364",
   "metadata": {},
   "outputs": [
    {
     "data": {
      "text/plain": [
       "Text(0.5, 1.0, 'Knowledge Times within 5 Timesteps')"
      ]
     },
     "execution_count": 35,
     "metadata": {},
     "output_type": "execute_result"
    },
    {
     "data": {
      "image/png": "[encoded data removed]",
      "text/plain": [
       "<Figure size 640x480 with 1 Axes>"
      ]
     },
     "metadata": {},
     "output_type": "display_data"
    }
   ],
   "source": [
    "# Specify the bin edges\n",
    "bins = [-.5,.5,1.5,2.5,3.5,4.5,5.5,6.5]  # Define the edges of the bins\n",
    "\n",
    "# Create the histogram\n",
    "plt.hist(tol_match_list, bins=bins, edgecolor='black', alpha=0.7)\n",
    "plt.title(f'Knowledge Times within {time_tol} Timesteps')"
   ]
  },
  {
   "cell_type": "code",
   "execution_count": 109,
   "id": "48ef7871-ae33-4668-9f47-5326da1b8bfd",
   "metadata": {},
   "outputs": [
    {
     "name": "stdout",
     "output_type": "stream",
     "text": [
      "['know_sally_exists', 'have_sally_credential', 'learn_where_data_stored', 'have_data_on_ds', 'have_data_on_hi', 'have_data_on_he']\n"
     ]
    }
   ],
   "source": [
    "name_list = []\n",
    "for c in cst_list:\n",
    "    name_list.append(c.name)\n",
    "print(name_list)"
   ]
  },
  {
   "cell_type": "code",
   "execution_count": null,
   "id": "92f9c6fc-9fd6-43fb-bb00-b9cabdeb9ce5",
   "metadata": {},
   "outputs": [],
   "source": [
    "['know_sally_exists', 'have_sally_credential', 'learn_where_data_stored', 'have_data_on_ds', 'have_data_on_hi', 'have_data_on_he']\n"
   ]
  },
  {
   "cell_type": "code",
   "execution_count": null,
   "id": "a2841b39-92a2-4a42-a1bc-798c30043585",
   "metadata": {},
   "outputs": [],
   "source": [
    "# Time deviation + num times"
   ]
  },
  {
   "cell_type": "code",
   "execution_count": 33,
   "id": "310ca46a-ab5f-46cb-a0f3-06b894c92e64",
   "metadata": {},
   "outputs": [
    {
     "name": "stdout",
     "output_type": "stream",
     "text": [
      "0\n",
      "10\n",
      "20\n",
      "30\n",
      "40\n",
      "average proportion correct is 0.3123832204811109 and median is 0.15894736842105261 and avgtime:0.9543452692031861 and proportion valid: 1.0\n"
     ]
    }
   ],
   "source": [
    "# B = 50\n",
    "# accuracy_list = []\n",
    "# time_list = []\n",
    "# valid_list = []\n",
    "\n",
    "# for b in range(B):\n",
    "#     apt_truth, combined_emits = ahlp.combined_simulation(apt_hmm, user_list, cst_list)\n",
    "#     apt_truth_states, apt_truth_emits = apt_truth\n",
    "#     start_time = time.time()\n",
    "#     opt_state_list, _= ahlp.Viterbi_torch_list(less_noisy_tier_apt, cst_list, combined_emits, sat, time_hom = True, dtype = torch.float32, device = 'cuda:0', num_cst = 0)\n",
    "#     running_time = time.time() - start_time\n",
    "#     time_list.append(running_time)\n",
    "#     opt_hidden, opt_emits = zip(*opt_state_list)\n",
    "#     valid_list.append(ahlp.check_valid(opt_hidden, opt_emits, cst_list))\n",
    "#     num_correct = [est[0]== true for est,true in zip(opt_state_list, apt_truth_states)]\n",
    "#     if b % 10 == 0:\n",
    "#         print(b)\n",
    "#     accuracy_list.append(sum(num_correct)/len(num_correct))\n",
    "# print(f'average proportion correct is {sum(accuracy_list)/len(accuracy_list)} and median is \\\n",
    "# {np.median(np.array(accuracy_list))} and avgtime:{sum(time_list)/len(time_list)} \\\n",
    "# and proportion valid: {sum(valid_list)/len(valid_list)}')"
   ]
  },
  {
   "cell_type": "code",
   "execution_count": null,
   "id": "b7aa1244-70b7-4cfe-91c8-d3cb8ebe9444",
   "metadata": {},
   "outputs": [],
   "source": [
    "mix_tier_apt = tier_mixture(tier_apt, user_list, length, mix_weights = None, return_ix = False):\n"
   ]
  },
  {
   "cell_type": "code",
   "execution_count": 109,
   "id": "ae76b309-5a4e-4103-b516-b037d7acdf21",
   "metadata": {
    "scrolled": true
   },
   "outputs": [
    {
     "data": {
      "text/plain": [
       "(array([13., 14.,  6.,  5.,  4.,  3.,  1.,  1.,  2.,  1.]),\n",
       " array([0.00443459, 0.05021755, 0.0960005 , 0.14178346, 0.18756641,\n",
       "        0.23334937, 0.27913233, 0.32491528, 0.37069824, 0.41648119,\n",
       "        0.46226415]),\n",
       " <BarContainer object of 10 artists>)"
      ]
     },
     "execution_count": 109,
     "metadata": {},
     "output_type": "execute_result"
    },
    {
     "data": {
      "image/png": "[encoded data removed]",
      "text/plain": [
       "<Figure size 640x480 with 1 Axes>"
      ]
     },
     "metadata": {},
     "output_type": "display_data"
    }
   ],
   "source": [
    "plt.hist(accuracy_list)"
   ]
  },
  {
   "cell_type": "markdown",
   "id": "413a116a-c32d-4116-977f-0768b0ae5dcf",
   "metadata": {},
   "source": [
    "# Mixture of Marginals\n",
    "\n",
    "Now, we adaptively change the emission probabiltiy at time $t$ to be a mixture of margainsl. By default, mixture parameters are uniform over hte distributions in the mixture."
   ]
  },
  {
   "cell_type": "code",
   "execution_count": 47,
   "id": "80af978f-5e95-48de-90e2-718f7769ec3b",
   "metadata": {},
   "outputs": [
    {
     "data": {
      "text/plain": [
       "[(('PRE', None), ('PRE', None)),\n",
       " (('PRE', None), ('IA', ('S', 'postfix/local'))),\n",
       " (('IA', ('S', 'postfix/local')), ('EX', ('V', 'access/bob'))),\n",
       " (('IA', ('S', 'postfix/local')), ('EX', ('V', 'access/sally'))),\n",
       " (('IA', ('S', 'postfix/local')), ('EX', ('S', 'postfix/local'))),\n",
       " (('IA', ('S', 'postfix/local')), ('EX', ('HI', 'img/post'))),\n",
       " (('IA', ('S', 'postfix/local')), ('EX', ('HE', 'img/post'))),\n",
       " (('IA', ('S', 'postfix/local')), ('EX', ('DS', 'syslog/nano'))),\n",
       " (('IA', ('S', 'postfix/local')), ('WAIT_IA', None)),\n",
       " (('EX', ('V', 'access/bob')), ('EX', ('V', 'access/bob')))]"
      ]
     },
     "execution_count": 47,
     "metadata": {},
     "output_type": "execute_result"
    }
   ],
   "source": [
    "list(tier_apt.tprob.keys())[:10]"
   ]
  },
  {
   "cell_type": "markdown",
   "id": "f5c8616b-4438-4875-b5b0-14ecf7df17c6",
   "metadata": {},
   "source": [
    "```mix_param``` is $1-\\prod_i \\mu$ over all users. Therefore, with $N$ useres the mixture is:\n",
    "\n",
    "$$ P(E|H) = (1-\\prod_i \\mu_i)P_{apt}(E|H) + \\frac{\\prod_i \\mu_i}{N} \\sum_i P_i(E|H)$$"
   ]
  },
  {
   "cell_type": "code",
   "execution_count": 69,
   "id": "1119da72-97c8-4922-a0dd-379044cc1ace",
   "metadata": {},
   "outputs": [
    {
     "name": "stdout",
     "output_type": "stream",
     "text": [
      "0\n",
      "10\n",
      "20\n",
      "30\n",
      "40\n",
      "50\n",
      "60\n",
      "70\n",
      "80\n",
      "90\n",
      "average proportion correct is 0.017796218292739075 and median is 0.011738382099827884 and avgtime:2.3562044048309327\n",
      "Valid proportion:1.0 Knowledge match: 0.0 Type1err:0.0 Type2err:6.0\n"
     ]
    }
   ],
   "source": [
    "B = 100\n",
    "# mix_weights = np.array(2*[round((1-mix_param)/2,5)])\n",
    "mix_weights = np.array([.33,.33])\n",
    "accuracy_list = []\n",
    "valid_list = []\n",
    "type1err_know = []\n",
    "type2err_know = []\n",
    "match_know = []\n",
    "time_list = []\n",
    "for b in range(B):\n",
    "    apt_truth, combined_emits = ahlp.combined_simulation(apt_hmm, user_list, cst_list)\n",
    "    apt_truth_states, apt_truth_emits = apt_truth\n",
    "    mix_apt = ahlp.tier_mixture(tier_apt, user_list, len(combined_emits), mix_weights = mix_weights, return_ix = False)\n",
    "    start_time = time.time()\n",
    "    opt_state_list, _= ahlp.Viterbi_torch_list(mix_apt, cst_list, combined_emits, sat, time_hom = False, dtype = torch.float32, device = 'cuda:0', num_cst = 0)\n",
    "    running_time = time.time() - start_time\n",
    "    opt_hidden, opt_emits = zip(*opt_state_list)\n",
    "    true_valid, true_knowledge = ahlp.check_valid(apt_truth_states, apt_truth_emits, cst_list, return_knowledge = True)\n",
    "    infer_valid, infer_knowledge = ahlp.check_valid(opt_hidden, opt_emits, cst_list, return_knowledge = True)\n",
    "    time_list.append(running_time)\n",
    "    valid_list.append(infer_valid)\n",
    "    type1err_know.append(len(infer_knowledge - true_knowledge))\n",
    "    type2err_know.append(len(true_knowledge - infer_knowledge))\n",
    "    match_know.append(len(true_knowledge.intersection(infer_knowledge)))\n",
    "    num_correct = [est[0]== true for est,true in zip(opt_state_list, apt_truth_states)]\n",
    "    if b % 10 == 0:\n",
    "        print(b)\n",
    "    accuracy_list.append(sum(num_correct)/len(num_correct))    \n",
    "\n",
    "print(f'average proportion correct is {sum(accuracy_list)/len(accuracy_list)} and median is \\\n",
    "{np.median(np.array(accuracy_list))} and avgtime:{sum(time_list)/len(time_list)}')\n",
    "print(f'Valid proportion:{sum(valid_list)/len(valid_list)} Knowledge match: {sum(match_know)/len(match_know)} \\\n",
    "Type1err:{sum(type1err_know)/len(type1err_know)} Type2err:{sum(type2err_know)/len(type2err_know)}')"
   ]
  },
  {
   "cell_type": "code",
   "execution_count": 73,
   "id": "8404a553-d34d-4140-9195-a42419afa3b6",
   "metadata": {},
   "outputs": [
    {
     "name": "stdout",
     "output_type": "stream",
     "text": [
      "0\n",
      "10\n",
      "20\n",
      "30\n",
      "40\n",
      "average proportion correct is 0.016726884239644756 and median is 0.013423423423423425 and avgtime:2.0099761486053467 and proportion valid: 1.0\n"
     ]
    }
   ],
   "source": [
    "# B = 50\n",
    "# accuracy_list = []\n",
    "# time_list = []\n",
    "# valid_list = []\n",
    "# mix_weights = np.array(2*[round((1-mix_param)/2,5)])\n",
    "\n",
    "# for b in range(B):\n",
    "#     apt_truth, combined_emits = ahlp.combined_simulation(apt_hmm, user_list, cst_list)\n",
    "#     apt_truth_states, apt_truth_emits = apt_truth\n",
    "#     mix_apt = ahlp.tier_mixture(tier_apt, user_list, len(combined_emits), mix_weights = mix_weights, return_ix = False)\n",
    "#     start_time = time.time()\n",
    "#     opt_state_list, _= ahlp.Viterbi_torch_list(mix_apt, cst_list, combined_emits, sat, time_hom = False, dtype = torch.float32, device = 'cuda:0', num_cst = 0)\n",
    "#     running_time = time.time() - start_time\n",
    "#     time_list.append(running_time)\n",
    "#     opt_hidden, opt_emits = zip(*opt_state_list)\n",
    "#     valid_list.append(ahlp.check_valid(opt_hidden, opt_emits, cst_list))\n",
    "#     num_correct = [est[0]== true for est,true in zip(opt_state_list, apt_truth_states)]\n",
    "#     if b % 10 == 0:\n",
    "#         print(b)\n",
    "#     accuracy_list.append(sum(num_correct)/len(num_correct))\n",
    "# print(f'average proportion correct is {sum(accuracy_list)/len(accuracy_list)} and median is \\\n",
    "# {np.median(np.array(accuracy_list))} and avgtime:{sum(time_list)/len(time_list)} \\\n",
    "# and proportion valid: {sum(valid_list)/len(valid_list)}')"
   ]
  },
  {
   "cell_type": "code",
   "execution_count": 55,
   "id": "66e8710e-479f-43ed-b738-508110dc771a",
   "metadata": {},
   "outputs": [
    {
     "data": {
      "text/plain": [
       "True"
      ]
     },
     "execution_count": 55,
     "metadata": {},
     "output_type": "execute_result"
    }
   ],
   "source": [
    "isinstance(mix_apt.tprob, dict)"
   ]
  },
  {
   "cell_type": "code",
   "execution_count": null,
   "id": "7ad13e70-b31f-46aa-9883-9f892da979a8",
   "metadata": {},
   "outputs": [],
   "source": [
    "mix_tier_apt = tier_mixture(tier_apt, user_list, length, mix_weights = None, return_ix = False):\n"
   ]
  },
  {
   "cell_type": "code",
   "execution_count": 109,
   "id": "a1c73668-4110-455f-a70d-9838a9171fe9",
   "metadata": {
    "scrolled": true
   },
   "outputs": [
    {
     "data": {
      "text/plain": [
       "(array([13., 14.,  6.,  5.,  4.,  3.,  1.,  1.,  2.,  1.]),\n",
       " array([0.00443459, 0.05021755, 0.0960005 , 0.14178346, 0.18756641,\n",
       "        0.23334937, 0.27913233, 0.32491528, 0.37069824, 0.41648119,\n",
       "        0.46226415]),\n",
       " <BarContainer object of 10 artists>)"
      ]
     },
     "execution_count": 109,
     "metadata": {},
     "output_type": "execute_result"
    },
    {
     "data": {
      "image/png": "[encoded data removed]",
      "text/plain": [
       "<Figure size 640x480 with 1 Axes>"
      ]
     },
     "metadata": {},
     "output_type": "display_data"
    }
   ],
   "source": [
    "plt.hist(accuracy_list)"
   ]
  },
  {
   "cell_type": "code",
   "execution_count": null,
   "id": "e7cc85fc-73ae-4c09-a4fc-566d44683ce9",
   "metadata": {},
   "outputs": [],
   "source": []
  },
  {
   "cell_type": "code",
   "execution_count": 229,
   "id": "70b58964-ff06-44d3-8c19-418d63affd57",
   "metadata": {},
   "outputs": [],
   "source": [
    "apt_truth, combined_emits = ahlp.combined_simulation(apt_hmm, user_list, cst_list)\n",
    "apt_truth_states, apt_truth_emits = apt_truth\n",
    "opt_state_list, _, val, ix_tracker = ahlp.Viterbi_torch_list(noisy_tier_apt, cst_list, combined_emits, sat, time_hom = True, dtype = torch.float16, device = 'cuda:0', debug = True)"
   ]
  },
  {
   "cell_type": "code",
   "execution_count": 230,
   "id": "227ce1bc-10d7-4bbc-acf0-30eb94f67612",
   "metadata": {},
   "outputs": [
    {
     "data": {
      "text/plain": [
       "False"
      ]
     },
     "execution_count": 230,
     "metadata": {},
     "output_type": "execute_result"
    }
   ],
   "source": [
    "opt_hidden, opt_emits = zip(*opt_state_list)\n",
    "ahlp.check_valid(opt_hidden,opt_emits,cst_list)"
   ]
  },
  {
   "cell_type": "code",
   "execution_count": 233,
   "id": "80b810ee-cb5f-426d-af1a-80bdd6dc3d15",
   "metadata": {},
   "outputs": [
    {
     "data": {
      "text/plain": [
       "['PRE',\n",
       " 'PRE',\n",
       " 'PRE',\n",
       " 'PRE',\n",
       " 'PRE',\n",
       " 'PRE',\n",
       " 'PRE',\n",
       " 'PRE',\n",
       " 'PRE',\n",
       " 'PRE',\n",
       " 'PRE',\n",
       " 'PRE',\n",
       " 'IA',\n",
       " 'WAIT_IA',\n",
       " 'EX',\n",
       " 'WAIT_EX',\n",
       " 'DI',\n",
       " 'WAIT_DI',\n",
       " 'WAIT_DI',\n",
       " 'WAIT_DI']"
      ]
     },
     "execution_count": 233,
     "metadata": {},
     "output_type": "execute_result"
    }
   ],
   "source": [
    "apt_truth_states[:20]"
   ]
  },
  {
   "cell_type": "code",
   "execution_count": 177,
   "id": "10290ea2-4bbd-4976-aa4b-7ac4798778e3",
   "metadata": {},
   "outputs": [
    {
     "data": {
      "text/plain": [
       "[('PRE', None),\n",
       " ('PRE', None),\n",
       " ('IA', ('S', 'postfix/local')),\n",
       " ('WAIT_IA', None),\n",
       " ('WAIT_IA', None),\n",
       " ('WAIT_IA', None),\n",
       " ('WAIT_IA', None),\n",
       " ('WAIT_IA', None),\n",
       " ('WAIT_IA', None),\n",
       " ('WAIT_IA', None)]"
      ]
     },
     "execution_count": 177,
     "metadata": {},
     "output_type": "execute_result"
    }
   ],
   "source": [
    "opt_state_list[:10]"
   ]
  },
  {
   "cell_type": "markdown",
   "id": "2ca9f082-be05-424c-954f-2a58b66e7830",
   "metadata": {},
   "source": [
    "# WQRK"
   ]
  },
  {
   "cell_type": "code",
   "execution_count": 376,
   "id": "880e75a3-62c2-4293-9e71-8ce618cd7fd2",
   "metadata": {},
   "outputs": [
    {
     "data": {
      "text/plain": [
       "Munch({'name': 'know_sally_exists', 'aux_size': 1, 'update_fun': <function update_fun at 0x7f16a8e19f80>, 'init_fun': <function init_fun at 0x7f165d912840>, 'forbidden_emissions': [('CA', ('HI', 'usr/query'))], 'forbidden_transitions': [('EX', 'CA'), ('WAIT_EX', 'CA'), ('DI', 'CA'), ('WAIT_DI', 'CA')], 'knowledge_state': ('DI', ('HI', 'usr/query')), 'cst_fun': <function cst_fun at 0x7f165d0f1a80>})"
      ]
     },
     "execution_count": 376,
     "metadata": {},
     "output_type": "execute_result"
    }
   ],
   "source": [
    "sally_cst"
   ]
  },
  {
   "cell_type": "code",
   "execution_count": 377,
   "id": "6c34001b-ade3-4a76-b18f-3a42eeaffb95",
   "metadata": {},
   "outputs": [
    {
     "data": {
      "text/plain": [
       "1"
      ]
     },
     "execution_count": 377,
     "metadata": {},
     "output_type": "execute_result"
    }
   ],
   "source": [
    "sally_cst.init_fun( tier_apt.states[9], (True,))"
   ]
  },
  {
   "cell_type": "code",
   "execution_count": 383,
   "id": "95764187-7e76-4ba7-9525-472cb6bbef65",
   "metadata": {},
   "outputs": [
    {
     "data": {
      "text/plain": [
       "[('PRE', None),\n",
       " ('IA', ('S', 'postfix/local')),\n",
       " ('EX', ('V', 'access/bob')),\n",
       " ('EX', ('V', 'access/sally')),\n",
       " ('EX', ('S', 'postfix/local')),\n",
       " ('EX', ('HI', 'img/post')),\n",
       " ('EX', ('HE', 'img/post')),\n",
       " ('EX', ('DS', 'syslog/nano')),\n",
       " ('DI', ('S', 'postfix/local')),\n",
       " ('DI', ('HI', 'usr/query')),\n",
       " ('DI', ('HI', 'img/query')),\n",
       " ('DI', ('HE', 'img/query')),\n",
       " ('DI', ('DS', 'syslog/ls')),\n",
       " ('CA', ('HI', 'usr/query')),\n",
       " ('COL', ('HI', 'img/post')),\n",
       " ('COL', ('HE', 'img/post')),\n",
       " ('COL', ('DS', 'syslog/nano')),\n",
       " ('EXF', ('HE', 'img/query')),\n",
       " ('POST', None),\n",
       " ('WAIT_CA', None),\n",
       " ('WAIT_COL', None),\n",
       " ('WAIT_DI', None),\n",
       " ('WAIT_IA', None),\n",
       " ('WAIT_EXF', None),\n",
       " ('WAIT_EX', None)]"
      ]
     },
     "execution_count": 383,
     "metadata": {},
     "output_type": "execute_result"
    }
   ],
   "source": [
    "tier_apt.states"
   ]
  },
  {
   "cell_type": "code",
   "execution_count": 382,
   "id": "d2b43ff2-2d9d-4614-a549-cebac3eca3a5",
   "metadata": {},
   "outputs": [
    {
     "data": {
      "text/plain": [
       "[('EX', 'CA'), ('WAIT_EX', 'CA'), ('DI', 'CA'), ('WAIT_DI', 'CA')]"
      ]
     },
     "execution_count": 382,
     "metadata": {},
     "output_type": "execute_result"
    }
   ],
   "source": [
    "sally_cst.forbidden_transitions"
   ]
  },
  {
   "cell_type": "code",
   "execution_count": 387,
   "id": "e9cb03ce-c33a-4821-a541-e98663441eb8",
   "metadata": {},
   "outputs": [
    {
     "data": {
      "text/plain": [
       "'know_sally_exists'"
      ]
     },
     "execution_count": 387,
     "metadata": {},
     "output_type": "execute_result"
    }
   ],
   "source": [
    "sally_cst.name"
   ]
  },
  {
   "cell_type": "code",
   "execution_count": 389,
   "id": "51901d9f-be4c-43a1-8b9c-658831f166a4",
   "metadata": {},
   "outputs": [],
   "source": [
    "k,r ,k_past, r_past = ('EX', ('S', 'postfix/local')),(False,),('CA', ('HI', 'usr/query')), (False,)"
   ]
  },
  {
   "cell_type": "code",
   "execution_count": 394,
   "id": "8bd9b394-5b06-4748-94cf-efe9648a8665",
   "metadata": {},
   "outputs": [],
   "source": [
    "    m1 = (k == ('DI',('HI','usr/query'))) or r_past[0] #tracks if knowledge state has occured yet\n",
    "    forbidden_transitions = (k_past[0] == 'EX' and k[0] == 'CA') or (k_past[0] == 'DI' and k[0] == 'CA')\n",
    "    forbidden_emissions = (k == ('CA',('HI','usr/query')))\n",
    "    m2 = (m1 or (not (forbidden_transitions and forbidden_emissions)))\n"
   ]
  },
  {
   "cell_type": "code",
   "execution_count": 395,
   "id": "8a78ad46-fea2-4ed4-9055-ad1ab990f903",
   "metadata": {},
   "outputs": [
    {
     "data": {
      "text/plain": [
       "'CA'"
      ]
     },
     "execution_count": 395,
     "metadata": {},
     "output_type": "execute_result"
    }
   ],
   "source": [
    "k_past[0]"
   ]
  },
  {
   "cell_type": "code",
   "execution_count": 398,
   "id": "f9f215d5-3360-405c-907d-1f5906ec5655",
   "metadata": {},
   "outputs": [
    {
     "data": {
      "text/plain": [
       "1"
      ]
     },
     "execution_count": 398,
     "metadata": {},
     "output_type": "execute_result"
    }
   ],
   "source": [
    "sally_cst.update_fun(('CA', ('HI', 'usr/query')), (True,),('EX', ('S', 'postfix/local')), (True,))"
   ]
  },
  {
   "cell_type": "code",
   "execution_count": 399,
   "id": "4decc03a-788d-47fb-a7db-65ce95c2ca4c",
   "metadata": {},
   "outputs": [
    {
     "name": "stdout",
     "output_type": "stream",
     "text": [
      "('CA', ('HI', 'usr/query')) (True,) ('PRE', None) (True,) 1\n",
      "('CA', ('HI', 'usr/query')) (True,) ('PRE', None) (False,) 0\n",
      "('CA', ('HI', 'usr/query')) (True,) ('IA', ('S', 'postfix/local')) (True,) 1\n",
      "('CA', ('HI', 'usr/query')) (True,) ('IA', ('S', 'postfix/local')) (False,) 0\n",
      "('CA', ('HI', 'usr/query')) (True,) ('EX', ('V', 'access/bob')) (True,) 1\n",
      "('CA', ('HI', 'usr/query')) (True,) ('EX', ('V', 'access/bob')) (False,) 0\n",
      "('CA', ('HI', 'usr/query')) (True,) ('EX', ('V', 'access/sally')) (True,) 1\n",
      "('CA', ('HI', 'usr/query')) (True,) ('EX', ('V', 'access/sally')) (False,) 0\n",
      "('CA', ('HI', 'usr/query')) (True,) ('EX', ('S', 'postfix/local')) (True,) 1\n",
      "('CA', ('HI', 'usr/query')) (True,) ('EX', ('S', 'postfix/local')) (False,) 0\n",
      "('CA', ('HI', 'usr/query')) (True,) ('EX', ('HI', 'img/post')) (True,) 1\n",
      "('CA', ('HI', 'usr/query')) (True,) ('EX', ('HI', 'img/post')) (False,) 0\n",
      "('CA', ('HI', 'usr/query')) (True,) ('EX', ('HE', 'img/post')) (True,) 1\n",
      "('CA', ('HI', 'usr/query')) (True,) ('EX', ('HE', 'img/post')) (False,) 0\n",
      "('CA', ('HI', 'usr/query')) (True,) ('EX', ('DS', 'syslog/nano')) (True,) 1\n",
      "('CA', ('HI', 'usr/query')) (True,) ('EX', ('DS', 'syslog/nano')) (False,) 0\n",
      "('CA', ('HI', 'usr/query')) (True,) ('DI', ('S', 'postfix/local')) (True,) 1\n",
      "('CA', ('HI', 'usr/query')) (True,) ('DI', ('S', 'postfix/local')) (False,) 0\n",
      "('CA', ('HI', 'usr/query')) (True,) ('DI', ('HI', 'usr/query')) (True,) 1\n",
      "('CA', ('HI', 'usr/query')) (True,) ('DI', ('HI', 'usr/query')) (False,) 0\n",
      "('CA', ('HI', 'usr/query')) (True,) ('DI', ('HI', 'img/query')) (True,) 1\n",
      "('CA', ('HI', 'usr/query')) (True,) ('DI', ('HI', 'img/query')) (False,) 0\n",
      "('CA', ('HI', 'usr/query')) (True,) ('DI', ('HE', 'img/query')) (True,) 1\n",
      "('CA', ('HI', 'usr/query')) (True,) ('DI', ('HE', 'img/query')) (False,) 0\n",
      "('CA', ('HI', 'usr/query')) (True,) ('DI', ('DS', 'syslog/ls')) (True,) 1\n",
      "('CA', ('HI', 'usr/query')) (True,) ('DI', ('DS', 'syslog/ls')) (False,) 0\n",
      "('CA', ('HI', 'usr/query')) (True,) ('CA', ('HI', 'usr/query')) (True,) 1\n",
      "('CA', ('HI', 'usr/query')) (True,) ('CA', ('HI', 'usr/query')) (False,) 0\n",
      "('CA', ('HI', 'usr/query')) (True,) ('COL', ('HI', 'img/post')) (True,) 1\n",
      "('CA', ('HI', 'usr/query')) (True,) ('COL', ('HI', 'img/post')) (False,) 0\n",
      "('CA', ('HI', 'usr/query')) (True,) ('COL', ('HE', 'img/post')) (True,) 1\n",
      "('CA', ('HI', 'usr/query')) (True,) ('COL', ('HE', 'img/post')) (False,) 0\n",
      "('CA', ('HI', 'usr/query')) (True,) ('COL', ('DS', 'syslog/nano')) (True,) 1\n",
      "('CA', ('HI', 'usr/query')) (True,) ('COL', ('DS', 'syslog/nano')) (False,) 0\n",
      "('CA', ('HI', 'usr/query')) (True,) ('EXF', ('HE', 'img/query')) (True,) 1\n",
      "('CA', ('HI', 'usr/query')) (True,) ('EXF', ('HE', 'img/query')) (False,) 0\n",
      "('CA', ('HI', 'usr/query')) (True,) ('POST', None) (True,) 1\n",
      "('CA', ('HI', 'usr/query')) (True,) ('POST', None) (False,) 0\n",
      "('CA', ('HI', 'usr/query')) (True,) ('WAIT_CA', None) (True,) 1\n",
      "('CA', ('HI', 'usr/query')) (True,) ('WAIT_CA', None) (False,) 0\n",
      "('CA', ('HI', 'usr/query')) (True,) ('WAIT_COL', None) (True,) 1\n",
      "('CA', ('HI', 'usr/query')) (True,) ('WAIT_COL', None) (False,) 0\n",
      "('CA', ('HI', 'usr/query')) (True,) ('WAIT_DI', None) (True,) 1\n",
      "('CA', ('HI', 'usr/query')) (True,) ('WAIT_DI', None) (False,) 0\n",
      "('CA', ('HI', 'usr/query')) (True,) ('WAIT_IA', None) (True,) 1\n",
      "('CA', ('HI', 'usr/query')) (True,) ('WAIT_IA', None) (False,) 0\n",
      "('CA', ('HI', 'usr/query')) (True,) ('WAIT_EXF', None) (True,) 1\n",
      "('CA', ('HI', 'usr/query')) (True,) ('WAIT_EXF', None) (False,) 0\n",
      "('CA', ('HI', 'usr/query')) (True,) ('WAIT_EX', None) (True,) 1\n",
      "('CA', ('HI', 'usr/query')) (True,) ('WAIT_EX', None) (False,) 0\n",
      "('CA', ('HI', 'usr/query')) (False,) ('PRE', None) (True,) 0\n",
      "('CA', ('HI', 'usr/query')) (False,) ('PRE', None) (False,) 1\n",
      "('CA', ('HI', 'usr/query')) (False,) ('IA', ('S', 'postfix/local')) (True,) 0\n",
      "('CA', ('HI', 'usr/query')) (False,) ('IA', ('S', 'postfix/local')) (False,) 1\n",
      "('CA', ('HI', 'usr/query')) (False,) ('EX', ('V', 'access/bob')) (True,) 0\n",
      "('CA', ('HI', 'usr/query')) (False,) ('EX', ('V', 'access/bob')) (False,) 0\n",
      "('CA', ('HI', 'usr/query')) (False,) ('EX', ('V', 'access/sally')) (True,) 0\n",
      "('CA', ('HI', 'usr/query')) (False,) ('EX', ('V', 'access/sally')) (False,) 0\n",
      "('CA', ('HI', 'usr/query')) (False,) ('EX', ('S', 'postfix/local')) (True,) 0\n",
      "('CA', ('HI', 'usr/query')) (False,) ('EX', ('S', 'postfix/local')) (False,) 0\n",
      "('CA', ('HI', 'usr/query')) (False,) ('EX', ('HI', 'img/post')) (True,) 0\n",
      "('CA', ('HI', 'usr/query')) (False,) ('EX', ('HI', 'img/post')) (False,) 0\n",
      "('CA', ('HI', 'usr/query')) (False,) ('EX', ('HE', 'img/post')) (True,) 0\n",
      "('CA', ('HI', 'usr/query')) (False,) ('EX', ('HE', 'img/post')) (False,) 0\n",
      "('CA', ('HI', 'usr/query')) (False,) ('EX', ('DS', 'syslog/nano')) (True,) 0\n",
      "('CA', ('HI', 'usr/query')) (False,) ('EX', ('DS', 'syslog/nano')) (False,) 0\n",
      "('CA', ('HI', 'usr/query')) (False,) ('DI', ('S', 'postfix/local')) (True,) 0\n",
      "('CA', ('HI', 'usr/query')) (False,) ('DI', ('S', 'postfix/local')) (False,) 0\n",
      "('CA', ('HI', 'usr/query')) (False,) ('DI', ('HI', 'usr/query')) (True,) 0\n",
      "('CA', ('HI', 'usr/query')) (False,) ('DI', ('HI', 'usr/query')) (False,) 0\n",
      "('CA', ('HI', 'usr/query')) (False,) ('DI', ('HI', 'img/query')) (True,) 0\n",
      "('CA', ('HI', 'usr/query')) (False,) ('DI', ('HI', 'img/query')) (False,) 0\n",
      "('CA', ('HI', 'usr/query')) (False,) ('DI', ('HE', 'img/query')) (True,) 0\n",
      "('CA', ('HI', 'usr/query')) (False,) ('DI', ('HE', 'img/query')) (False,) 0\n",
      "('CA', ('HI', 'usr/query')) (False,) ('DI', ('DS', 'syslog/ls')) (True,) 0\n",
      "('CA', ('HI', 'usr/query')) (False,) ('DI', ('DS', 'syslog/ls')) (False,) 0\n",
      "('CA', ('HI', 'usr/query')) (False,) ('CA', ('HI', 'usr/query')) (True,) 0\n",
      "('CA', ('HI', 'usr/query')) (False,) ('CA', ('HI', 'usr/query')) (False,) 1\n",
      "('CA', ('HI', 'usr/query')) (False,) ('COL', ('HI', 'img/post')) (True,) 0\n",
      "('CA', ('HI', 'usr/query')) (False,) ('COL', ('HI', 'img/post')) (False,) 1\n",
      "('CA', ('HI', 'usr/query')) (False,) ('COL', ('HE', 'img/post')) (True,) 0\n",
      "('CA', ('HI', 'usr/query')) (False,) ('COL', ('HE', 'img/post')) (False,) 1\n",
      "('CA', ('HI', 'usr/query')) (False,) ('COL', ('DS', 'syslog/nano')) (True,) 0\n",
      "('CA', ('HI', 'usr/query')) (False,) ('COL', ('DS', 'syslog/nano')) (False,) 1\n",
      "('CA', ('HI', 'usr/query')) (False,) ('EXF', ('HE', 'img/query')) (True,) 0\n",
      "('CA', ('HI', 'usr/query')) (False,) ('EXF', ('HE', 'img/query')) (False,) 1\n",
      "('CA', ('HI', 'usr/query')) (False,) ('POST', None) (True,) 0\n",
      "('CA', ('HI', 'usr/query')) (False,) ('POST', None) (False,) 1\n",
      "('CA', ('HI', 'usr/query')) (False,) ('WAIT_CA', None) (True,) 0\n",
      "('CA', ('HI', 'usr/query')) (False,) ('WAIT_CA', None) (False,) 1\n",
      "('CA', ('HI', 'usr/query')) (False,) ('WAIT_COL', None) (True,) 0\n",
      "('CA', ('HI', 'usr/query')) (False,) ('WAIT_COL', None) (False,) 1\n",
      "('CA', ('HI', 'usr/query')) (False,) ('WAIT_DI', None) (True,) 0\n",
      "('CA', ('HI', 'usr/query')) (False,) ('WAIT_DI', None) (False,) 1\n",
      "('CA', ('HI', 'usr/query')) (False,) ('WAIT_IA', None) (True,) 0\n",
      "('CA', ('HI', 'usr/query')) (False,) ('WAIT_IA', None) (False,) 1\n",
      "('CA', ('HI', 'usr/query')) (False,) ('WAIT_EXF', None) (True,) 0\n",
      "('CA', ('HI', 'usr/query')) (False,) ('WAIT_EXF', None) (False,) 1\n",
      "('CA', ('HI', 'usr/query')) (False,) ('WAIT_EX', None) (True,) 0\n",
      "('CA', ('HI', 'usr/query')) (False,) ('WAIT_EX', None) (False,) 1\n"
     ]
    }
   ],
   "source": [
    "it = 0\n",
    "aux_space = list(itertools.product([True, False], repeat=sally_cst.aux_size))\n",
    "\n",
    "# for k in tier_apt.states:\n",
    "k = ('CA', ('HI', 'usr/query'))\n",
    "for r in aux_space:\n",
    "    for j in tier_apt.states:\n",
    "        for s in aux_space:\n",
    "            if it > 100:\n",
    "                break\n",
    "            print(k,r,j,s,sally_cst.update_fun(k,r,j,s))\n",
    "            it += 1"
   ]
  },
  {
   "cell_type": "code",
   "execution_count": 359,
   "id": "24d76362-641b-48ce-a398-d8c53176a21b",
   "metadata": {},
   "outputs": [
    {
     "data": {
      "text/plain": [
       "('DI', ('HI', 'usr/query'))"
      ]
     },
     "execution_count": 359,
     "metadata": {},
     "output_type": "execute_result"
    }
   ],
   "source": [
    "tier_apt.states[9]"
   ]
  },
  {
   "cell_type": "code",
   "execution_count": 354,
   "id": "1fc524b6-26fe-445b-99b9-3e3ffdb874e7",
   "metadata": {},
   "outputs": [],
   "source": [
    "tier_apt = ahlp.create_tiered_apt(apt_hmm, tol = 1e-7)"
   ]
  },
  {
   "cell_type": "code",
   "execution_count": 357,
   "id": "5e3b69a4-9fc3-4240-9d6b-f1e31bc5d32a",
   "metadata": {},
   "outputs": [
    {
     "data": {
      "text/plain": [
       "252"
      ]
     },
     "execution_count": 357,
     "metadata": {},
     "output_type": "execute_result"
    }
   ],
   "source": [
    "len(tier_apt.tprob)"
   ]
  },
  {
   "cell_type": "code",
   "execution_count": 361,
   "id": "00175115-0112-4717-8674-b8936d0b8fff",
   "metadata": {},
   "outputs": [],
   "source": [
    "apt_params, cst_params = ahlp.convertTensor_list(tier_apt, cst_list, sat, dtype = torch.float16, device = 'cpu', return_ix = False)\n"
   ]
  },
  {
   "cell_type": "code",
   "execution_count": null,
   "id": "81d3f803-6ed5-4d15-a32f-9e40dbfd46fa",
   "metadata": {},
   "outputs": [],
   "source": []
  },
  {
   "cell_type": "code",
   "execution_count": 331,
   "id": "174aeaa8-c7ca-49de-a994-5dd7a947f3f5",
   "metadata": {},
   "outputs": [],
   "source": [
    "def convertTensor_list(hmm, cst_list, sat, dtype = torch.float16, device = 'cpu', return_ix = False):\n",
    "    '''\n",
    "    cst_list is a list of the individual csts.\n",
    "    '''\n",
    "    #Initialize and convert all quantities  to np.arrays\n",
    "    hmm = copy.deepcopy(hmm)\n",
    "    K = len(hmm.states)\n",
    "    assert len(cst_list) == len(sat)\n",
    "    \n",
    "    state_ix = {s: i for i, s in enumerate(hmm.states)}\n",
    "\n",
    "    #Compute the hmm parameters\n",
    "    tmat = torch.zeros((K,K), dtype=dtype ).to(device)\n",
    "    init_prob = torch.zeros(K, dtype=dtype ).to(device)\n",
    "\n",
    "    for i in hmm.states:\n",
    "        init_prob[state_ix[i]] = hmm.initprob[i]\n",
    "        for j in hmm.states:\n",
    "            tmat[state_ix[i],state_ix[j]] = hmm.tprob[i,j]\n",
    "\n",
    "    hmm_params = [tmat, init_prob]\n",
    "    \n",
    "    #Compute the cst parameters \n",
    "    init_ind_list = []\n",
    "    final_ind_list = []\n",
    "    ind_list = []\n",
    "    dims_list = []\n",
    "    cst_ix = 0\n",
    "    C = len(cst_list)\n",
    "    for cst in cst_list:\n",
    "        cst = copy.deepcopy(cst)\n",
    "        aux_space = list(itertools.product([True, False], repeat=cst.aux_size))\n",
    "        aux_ix = {s: i for i, s in enumerate(aux_space)}\n",
    "        M = len(aux_space)\n",
    "        ind = torch.zeros((K,M,K,M),dtype=dtype ).to(device)\n",
    "        init_ind = torch.zeros((K,M),dtype=dtype ).to(device)\n",
    "        final_ind = torch.zeros((K,M),dtype=dtype ).to(device)\n",
    "    \n",
    "        for r in aux_space:\n",
    "            for k in hmm.states:\n",
    "                final_ind[state_ix[k], aux_ix[r]] = cst.cst_fun(k,r,sat)\n",
    "                init_ind[state_ix[k],aux_ix[r]] = cst.init_fun(k,r)\n",
    "                for s in aux_space:\n",
    "                    for j in hmm.states:\n",
    "                        ind[state_ix[k],aux_ix[r],state_ix[j],aux_ix[s]] = cst.update_fun(k,r,j,s)\n",
    "\n",
    "        #indices are [0 = k,  (1 dim for each cst r_i = i + 1)  0 <= i <= n - 1 \n",
    "        # init_ind_list.append((init_ind,[0,cst_ix + 1]))\n",
    "        # final_ind_list.append((final_ind, [0, cst_ix + 1]))\n",
    "        # #indices are [0 = k,(1 dim for each cst r_i = i + 1), n + 1 = j, (1 dim for s_i = i+n+2)] \n",
    "        # ind_list.append((ind, [0, cst_ix + 1, C + 1, cst_ix + C + 2]))\n",
    "        # dims_list.append(M)\n",
    "\n",
    "        init_ind_list += [init_ind,[0,cst_ix + 1]]\n",
    "        final_ind_list += [final_ind, [0, cst_ix + 1]]\n",
    "        #indices are [0 = k,(1 dim for each cst r_i = i + 1), n + 1 = j, (1 dim for s_i = i+n+2)] \n",
    "        ind_list += [ind, [0, cst_ix + 1, C + 1, cst_ix + C + 2]]\n",
    "        dims_list.append(M)\n",
    "        cst_ix += 1\n",
    "                \n",
    "    cst_params = [dims_list, init_ind_list,final_ind_list,ind_list]\n",
    "\n",
    "    if return_ix:\n",
    "        return hmm_params, cst_params, state_ix\n",
    "    return hmm_pa"
   ]
  },
  {
   "cell_type": "code",
   "execution_count": 237,
   "id": "bc53893e-88a3-4657-ac55-0950b2742272",
   "metadata": {},
   "outputs": [],
   "source": [
    "def convertTensor_list(hmm, cst_list, sat, dtype = torch.float16, device = 'cpu', return_ix = False):\n",
    "    '''\n",
    "    cst_list is a list of the individual csts.\n",
    "    '''\n",
    "    #Initialize and convert all quantities  to np.arrays\n",
    "    hmm = copy.deepcopy(hmm)\n",
    "    K = len(hmm.states)\n",
    "    assert len(cst_list) == len(sat)\n",
    "    \n",
    "    state_ix = {s: i for i, s in enumerate(hmm.states)}\n",
    "\n",
    "    #Compute the hmm parameters\n",
    "    tmat = torch.zeros((K,K), dtype=dtype ).to(device)\n",
    "    init_prob = torch.zeros(K, dtype=dtype ).to(device)\n",
    "\n",
    "    for i in hmm.states:\n",
    "        init_prob[state_ix[i]] = hmm.initprob[i]\n",
    "        for j in hmm.states:\n",
    "            tmat[state_ix[i],state_ix[j]] = hmm.tprob[i,j]\n",
    "\n",
    "    hmm_params = [tmat, init_prob]\n",
    "    \n",
    "    #Compute the cst parameters \n",
    "    init_ind_list = []\n",
    "    final_ind_list = []\n",
    "    ind_list = []\n",
    "    dims_list = []\n",
    "    cst_ix = 0\n",
    "    C = len(cst_list)\n",
    "    for cst in cst_list:\n",
    "        cst = copy.deepcopy(cst)\n",
    "        aux_space = list(itertools.product([True, False], repeat=cst.aux_size))\n",
    "        aux_ix = {s: i for i, s in enumerate(aux_space)}\n",
    "        M = len(aux_space)\n",
    "        ind = torch.zeros((K,M,K,M),dtype=dtype ).to(device)\n",
    "        init_ind = torch.zeros((K,M),dtype=dtype ).to(device)\n",
    "        final_ind = torch.zeros((K,M),dtype=dtype ).to(device)\n",
    "    \n",
    "        for r in aux_space:\n",
    "            for k in hmm.states:\n",
    "                final_ind[state_ix[k], aux_ix[r]] = cst.cst_fun(k,r,sat)\n",
    "                init_ind[state_ix[k],aux_ix[r]] = cst.init_fun(k,r)\n",
    "                for s in aux_space:\n",
    "                    for j in hmm.states:\n",
    "                        ind[state_ix[k],aux_ix[r],state_ix[j],aux_ix[s]] = cst.update_fun(k,r,j,s)\n"
   ]
  },
  {
   "cell_type": "code",
   "execution_count": null,
   "id": "9b41d961-acdc-4852-9684-9f7e6fcecba7",
   "metadata": {},
   "outputs": [],
   "source": []
  },
  {
   "cell_type": "code",
   "execution_count": 165,
   "id": "c6583529-390e-4b89-8252-6d2faea2b07b",
   "metadata": {},
   "outputs": [],
   "source": [
    "for t in range(val.shape[0]):\n",
    "    # if torch.isnan(val[t].max()):\n",
    "    #     print(t)\n",
    "    if val[t].max().item() <= 0:\n",
    "        print(f'value function collapses at time {t}')\n",
    "        break"
   ]
  },
  {
   "cell_type": "code",
   "execution_count": 166,
   "id": "a423617f-13e5-4872-aeb8-b4d085d84f36",
   "metadata": {},
   "outputs": [],
   "source": [
    "opt_state_list, _, val, ix_tracker = ahlp.Viterbi_torch_list(tier_apt, cst_list, combined_emits, sat, time_hom = True, dtype = torch.float16, device = 'cuda:0', debug = True)"
   ]
  },
  {
   "cell_type": "code",
   "execution_count": 72,
   "id": "3781ab26-6088-46e6-b855-925c6d9ce9c6",
   "metadata": {},
   "outputs": [
    {
     "name": "stdout",
     "output_type": "stream",
     "text": [
      "0.014492753623188406\n"
     ]
    }
   ],
   "source": [
    "num_correct = [est[0]== true for est,true in zip(opt_state_list, apt_truth_states)]\n",
    "print(sum(num_correct)/len(num_correct))"
   ]
  },
  {
   "cell_type": "code",
   "execution_count": 756,
   "id": "d9b0d278-21cc-467d-b744-f95d32b8c909",
   "metadata": {},
   "outputs": [
    {
     "name": "stdout",
     "output_type": "stream",
     "text": [
      "0.0045045045045045045\n"
     ]
    }
   ],
   "source": [
    "num_correct = [est[0] == true for est,true in zip(opt_state_list, apt_truth_states)]\n",
    "print(sum(num_correct)/len(num_correct))"
   ]
  },
  {
   "cell_type": "code",
   "execution_count": null,
   "id": "adc3e300-5c68-4899-81e7-2d26cce7b713",
   "metadata": {},
   "outputs": [],
   "source": [
    "for t in range(val.shape[0]):\n",
    "    # if torch.isnan(val[t].max()):\n",
    "    #     print(t)\n",
    "    print(val[t].max())"
   ]
  },
  {
   "cell_type": "code",
   "execution_count": 601,
   "id": "e85cd8c3-27b6-4136-befd-99ac4cb8c929",
   "metadata": {},
   "outputs": [],
   "source": [
    "aux_space = list(itertools.product([True, False], repeat=agg_cst.aux_size)) #create list of auxillary state to iterate over\n"
   ]
  },
  {
   "cell_type": "code",
   "execution_count": 611,
   "id": "efbe63eb-2296-4ab9-b77b-7bfe9403e6fd",
   "metadata": {},
   "outputs": [],
   "source": [
    "hmm = copy.deepcopy(apt_hmm)\n",
    "cst = copy.deepcopy(agg_cst)"
   ]
  },
  {
   "cell_type": "code",
   "execution_count": 614,
   "id": "3f9cd839-1d65-4889-b519-e2006489e013",
   "metadata": {},
   "outputs": [],
   "source": [
    "    val = {} #initialize value dictionary\n",
    "\n",
    "    for k in hmm.states:\n",
    "        for r in aux_space:\n",
    "            val[0,k,r] = cst.init_fun(k,r)*hmm.initprob[k]*hmm.eprob[k,obs[0]]\n",
    "            \n",
    "    ix_tracker = {} #this is used in the backwards step to identify the optimal sequence\n"
   ]
  },
  {
   "cell_type": "code",
   "execution_count": 615,
   "id": "34be544f-8ccd-4a3f-8f79-4e938f83ae95",
   "metadata": {},
   "outputs": [],
   "source": [
    "for t in range(1,len(obs)):\n",
    "    for k in hmm.states:\n",
    "        for r in aux_space:\n",
    "            max_val = -1 # set to dummy variable. will do brute-force search for max\n",
    "            argmax = None #initialize argmax for ix_tracker\n",
    "            for j in hmm.states:\n",
    "                for s in aux_space:\n",
    "                    curr_val = val[t-1,j,s]*hmm.tprob[j,k]*cst.update_fun(k,r,j,s)\n",
    "                    if curr_val > max_val:\n",
    "                        max_val = curr_val\n",
    "                        argmax = (j,s)\n",
    "            if t == (len(obs)-1): #ie. at the last time we add in the constraint\n",
    "                val[t,k,r] = max_val*hmm.eprob[k,obs[t]]*cst.cst_fun(k,r,sat)\n",
    "            else:\n",
    "                val[t,k,r] = max_val*hmm.eprob[k,obs[t]]\n",
    "            ix_tracker[t-1,k,r] = argmax\n"
   ]
  },
  {
   "cell_type": "code",
   "execution_count": null,
   "id": "ddf794b9-af7d-4b70-b1e7-24102e51dcf2",
   "metadata": {},
   "outputs": [],
   "source": [
    "agg_cst.uupdate_fun(apt_hmm.states[0],)"
   ]
  },
  {
   "cell_type": "code",
   "execution_count": 598,
   "id": "3f776797-c1df-46ad-8162-4dd9a218eb6b",
   "metadata": {},
   "outputs": [
    {
     "data": {
      "text/plain": [
       "['PRE',\n",
       " 'PRE',\n",
       " 'IA',\n",
       " 'EX',\n",
       " 'WAIT_EX',\n",
       " 'WAIT_EX',\n",
       " 'WAIT_EX',\n",
       " 'WAIT_EX',\n",
       " 'EX',\n",
       " 'EX']"
      ]
     },
     "execution_count": 598,
     "metadata": {},
     "output_type": "execute_result"
    }
   ],
   "source": [
    "agg_cst = cagg.apt_cst_aggregate(cst_list[:2])\n",
    "opt_state =  mv.mv_Viterbi_v2(obs = combined_emits, hmm = apt_hmm, cst = agg_cst, sat = sat)\n",
    "opt_state[:10]"
   ]
  },
  {
   "cell_type": "code",
   "execution_count": 279,
   "id": "b353f5c1-cbfc-42e0-911b-376986f49a44",
   "metadata": {},
   "outputs": [],
   "source": [
    "opt_state_unc = mv.mv_Viterbi(obs = combined_emits, hmm = apt_hmm)"
   ]
  },
  {
   "cell_type": "code",
   "execution_count": 280,
   "id": "4e6e2310-4db0-4f54-a39a-e3f4f4bda594",
   "metadata": {},
   "outputs": [
    {
     "name": "stdout",
     "output_type": "stream",
     "text": [
      "1.0\n"
     ]
    }
   ],
   "source": [
    "num_correct = [cst == ucst for cst,ucst in zip(opt_state,opt_state_unc)]\n",
    "print(sum(num_correct)/len(num_correct))"
   ]
  },
  {
   "cell_type": "code",
   "execution_count": 22,
   "id": "543df740-96d9-46f2-bb7d-6caac401dfc2",
   "metadata": {},
   "outputs": [],
   "source": [
    "agg_cst = cagg.apt_cst_aggregate(cst_list)"
   ]
  },
  {
   "cell_type": "code",
   "execution_count": 23,
   "id": "4ef70c6b-7c60-4eec-b968-4a495fd0542a",
   "metadata": {},
   "outputs": [],
   "source": [
    "tier_apt_mix, ix_list = ahlp.lapt_mixture(tier_apt, user_list, len(combined_emits), mix_weights = None, return_ix = True)"
   ]
  },
  {
   "cell_type": "code",
   "execution_count": 24,
   "id": "5ec8e082-9ffe-4964-8bf8-a943a028c438",
   "metadata": {},
   "outputs": [],
   "source": [
    "noisy_tier_apt = ahlp.create_noisy_apt(tier_apt, 1/3)"
   ]
  },
  {
   "cell_type": "code",
   "execution_count": 25,
   "id": "ef74e728-368c-4c6f-9abd-e2cbb9c85831",
   "metadata": {},
   "outputs": [
    {
     "name": "stdout",
     "output_type": "stream",
     "text": [
      "initprob:1.0  tprob: [1. 1. 1. 1. 1. 1. 1. 1. 1. 1. 1. 1. 1. 1. 1. 1. 1. 1. 1. 1. 1. 1. 1. 1.\n",
      " 1. 1. 1. 1. 1. 1. 1. 1. 1. 1. 1. 1. 1. 1. 1. 1. 1. 1. 1. 1. 1. 1. 1. 1.\n",
      " 1. 1. 1. 1. 1. 1. 1. 1. 1. 1. 1. 1. 1. 1. 1. 1. 1. 1. 1. 1. 1. 1. 1. 1.\n",
      " 1. 1. 1. 1. 1. 1. 1. 1. 1. 1. 1. 1. 1. 1. 1. 1. 1. 1.]  eprob: [1. 1. 1. 1. 1. 1. 1. 1. 1. 1. 1. 1. 1. 1. 1. 1. 1. 1. 1. 1. 1. 1. 1. 1.\n",
      " 1. 1. 1. 1. 1. 1. 1. 1. 1. 1. 1. 1. 1. 1. 1. 1. 1. 1. 1. 1. 1. 1. 1. 1.\n",
      " 1. 1. 1. 1. 1. 1. 1. 1. 1. 1. 1. 1. 1. 1. 1. 1. 1. 1. 1. 1. 1. 1. 1. 1.\n",
      " 1. 1. 1. 1. 1. 1. 1. 1. 1. 1. 1. 1. 1. 1. 1. 1. 1. 1.]\n"
     ]
    }
   ],
   "source": [
    "apt_params = ahlp.hmm2numpy(noisy_tier_apt)\n",
    "print(f'initprob:{apt_params[0].sum()}  tprob: {apt_params[1].sum(axis = 1)}  eprob: {apt_params[2].sum(axis = 1)}')"
   ]
  },
  {
   "cell_type": "code",
   "execution_count": 218,
   "id": "e405d691-05db-461d-bc8a-572c06f1e96e",
   "metadata": {},
   "outputs": [],
   "source": [
    "#Vanilla Viterbi is no constraint is included\n",
    "opt_state =  mv.mv_Viterbi(obs = combined_emits, hmm = noisy_tier_apt)"
   ]
  },
  {
   "cell_type": "markdown",
   "id": "ea74d3ce-9ebe-4b53-8d37-ccfac747d127",
   "metadata": {},
   "source": [
    "# Work"
   ]
  },
  {
   "cell_type": "code",
   "execution_count": 102,
   "id": "6ffd0ea1-fbec-4273-9b0f-18f24fb6ae11",
   "metadata": {},
   "outputs": [],
   "source": [
    "    apt_truth, combined_emits = ahlp.combined_simulation(apt_hmm, user_list, cst_list)\n"
   ]
  },
  {
   "cell_type": "code",
   "execution_count": 298,
   "id": "8b852abe-21ec-4031-8426-079fc30470de",
   "metadata": {},
   "outputs": [],
   "source": [
    "cst_names = ['know_sally_exists','have_sally_credential', 'learn_where_data_stored', 'have_data_on_ds', 'have_data_on_hi', 'have_data_on_he']\n",
    "cst_names = [names + '_TRUE' for names in cst_names]\n",
    "cst_list=  []\n",
    "for name in cst_names:\n",
    "    module = importlib.import_module(name)\n",
    "    \n",
    "    curr_cst =  Munch(name = module.name, \\\n",
    "                      aux_size = module.aug_size, \\\n",
    "                      update_fun = module.update_fun, \\\n",
    "                      init_fun = module.init_fun, \\\n",
    "                      forbidden_emissions = module.forbidden_emissions, \\\n",
    "                      forbidden_transitions = module.forbidden_transitions, \\\n",
    "                      knowledge_state = module.knowledge_state, \\\n",
    "                      cst_fun = module.cst_fun)\n",
    "    if hasattr(module, 'dependency'):\n",
    "        curr_cst.dependency = module.dependency\n",
    "    cst_list.append(curr_cst)\n",
    "\n",
    "# cst_list = cst_list[:1]\n",
    "sat = len(cst_list) * (True,)\n",
    "agg_cst = cagg.apt_cst_aggregate(cst_list)"
   ]
  },
  {
   "cell_type": "code",
   "execution_count": 299,
   "id": "8a60ae0f-0992-4037-ad95-3a3d3f5bb615",
   "metadata": {},
   "outputs": [
    {
     "data": {
      "text/plain": [
       "<module 'apt_helper' from '/home/fyqiu/Projects/conin/conin/mediation_variables/apt_helper.py'>"
      ]
     },
     "execution_count": 299,
     "metadata": {},
     "output_type": "execute_result"
    }
   ],
   "source": [
    "importlib.reload(ahlp)"
   ]
  },
  {
   "cell_type": "code",
   "execution_count": 241,
   "id": "e86b9806-e941-4682-98e9-ed2081fc7241",
   "metadata": {},
   "outputs": [],
   "source": [
    "hmm_params, cst_params = ahlp.convertTensor_list(noisy_tier_apt, cst_list, sat, dtype = torch.float32, device = 'cpu', return_ix = False)"
   ]
  },
  {
   "cell_type": "code",
   "execution_count": 362,
   "id": "b0925581-a613-4657-beeb-b59e798f555f",
   "metadata": {},
   "outputs": [],
   "source": [
    "dims_list, init_ind_list,final_ind_list,ind_list = cst_params"
   ]
  },
  {
   "cell_type": "code",
   "execution_count": 363,
   "id": "ce42cd95-062c-43c2-ac89-dadb3db1c7ba",
   "metadata": {},
   "outputs": [],
   "source": [
    "hmm_params_np, cst_param1 = ahlp.arrayConvert(noisy_tier_apt, cst_list[0], sat[0])"
   ]
  },
  {
   "cell_type": "code",
   "execution_count": 364,
   "id": "f736d50a-43e5-48d1-8b24-788f116fe0f3",
   "metadata": {},
   "outputs": [
    {
     "name": "stdout",
     "output_type": "stream",
     "text": [
      "6.120001864049201e-08\n",
      "0.0\n"
     ]
    }
   ],
   "source": [
    "for i in range(2):\n",
    "    err = hmm_params_np[i] - hmm_params[i].cpu().numpy()\n",
    "    print(np.linalg.norm(err))"
   ]
  },
  {
   "cell_type": "code",
   "execution_count": null,
   "id": "f288f033-8da0-4050-a9f2-bbca95f54a7d",
   "metadata": {},
   "outputs": [],
   "source": []
  },
  {
   "cell_type": "code",
   "execution_count": 374,
   "id": "1628691a-6e7f-409e-98aa-2301fe71c622",
   "metadata": {},
   "outputs": [
    {
     "data": {
      "text/plain": [
       "torch.Size([2500])"
      ]
     },
     "execution_count": 374,
     "metadata": {},
     "output_type": "execute_result"
    }
   ],
   "source": [
    "ind_list[0].flatten().shape"
   ]
  },
  {
   "cell_type": "code",
   "execution_count": 375,
   "id": "e1f2447c-3829-4549-9be7-12f3259f81cd",
   "metadata": {},
   "outputs": [
    {
     "data": {
      "text/plain": [
       "tensor(1247., dtype=torch.float16)"
      ]
     },
     "execution_count": 375,
     "metadata": {},
     "output_type": "execute_result"
    }
   ],
   "source": [
    "ind_list[2*5].sum()"
   ]
  },
  {
   "cell_type": "code",
   "execution_count": 365,
   "id": "9adb25cf-48c4-4d79-a43d-acc1c1e8deb6",
   "metadata": {},
   "outputs": [
    {
     "name": "stdout",
     "output_type": "stream",
     "text": [
      "init_err: 0.0 final_err 0.0 ind_err 0.0\n",
      "init_err: 0.0 final_err 0.0 ind_err 0.0\n",
      "init_err: 0.0 final_err 0.0 ind_err 0.0\n",
      "init_err: 0.0 final_err 0.0 ind_err 0.0\n",
      "init_err: 0.0 final_err 0.0 ind_err 0.0\n",
      "init_err: 0.0 final_err 0.0 ind_err 0.0\n"
     ]
    }
   ],
   "source": [
    "for i in range(len(cst_list)):\n",
    "    _, cst_param1 = ahlp.arrayConvert(tier_apt, cst_list[i], sat[i])\n",
    "    init_ind,final_ind,ind = cst_param1\n",
    "    init_err = np.linalg.norm(init_ind - init_ind_list[2*i].cpu().numpy()).item()\n",
    "    final_err = np.linalg.norm(final_ind - final_ind_list[2*i].cpu().numpy()).item()\n",
    "    ind_err = np.linalg.norm(ind - ind_list[2*i].cpu().numpy()).item()\n",
    "\n",
    "    print(f'init_err: {init_err} final_err {final_err} ind_err {ind_err}')"
   ]
  },
  {
   "cell_type": "code",
   "execution_count": 582,
   "id": "5243c216-c922-430e-9df6-715e95862c05",
   "metadata": {},
   "outputs": [],
   "source": [
    "apt_truth, combined_emits = ahlp.combined_simulation(apt_hmm, user_list, cst_list)\n",
    "apt_truth_states, apt_truth_emits = apt_truth"
   ]
  },
  {
   "cell_type": "code",
   "execution_count": 586,
   "id": "6f8ee43d-1459-458e-9373-76391ed7525b",
   "metadata": {},
   "outputs": [],
   "source": [
    "opt_state_list, opt_augstateix_list = ahlp.Viterbi_torch_list(tier_apt, cst_list, apt_truth_emits, sat, time_hom = True, dtype = torch.float16, device = 'cuda:0')"
   ]
  },
  {
   "cell_type": "code",
   "execution_count": 587,
   "id": "88bbfa95-83da-4dba-8963-ea7a47804671",
   "metadata": {},
   "outputs": [
    {
     "data": {
      "text/plain": [
       "[('PRE', None),\n",
       " ('PRE', None),\n",
       " ('PRE', None),\n",
       " ('PRE', None),\n",
       " ('PRE', None),\n",
       " ('IA', ('S', 'postfix/local')),\n",
       " ('EX', ('S', 'postfix/local')),\n",
       " ('DI', ('HE', 'img/query')),\n",
       " ('WAIT_DI', None),\n",
       " ('WAIT_DI', None),\n",
       " ('WAIT_DI', None),\n",
       " ('WAIT_DI', None),\n",
       " ('WAIT_DI', None),\n",
       " ('WAIT_DI', None),\n",
       " ('WAIT_DI', None),\n",
       " ('WAIT_DI', None),\n",
       " ('WAIT_DI', None),\n",
       " ('WAIT_DI', None),\n",
       " ('WAIT_DI', None),\n",
       " ('DI', ('HI', 'img/query'))]"
      ]
     },
     "execution_count": 587,
     "metadata": {},
     "output_type": "execute_result"
    }
   ],
   "source": [
    "opt_state_list[:20]"
   ]
  },
  {
   "cell_type": "code",
   "execution_count": 575,
   "id": "dc3d828b-9f30-481e-ab71-32df7dc4e1a6",
   "metadata": {},
   "outputs": [
    {
     "data": {
      "text/plain": [
       "<module 'apt_helper' from '/home/fyqiu/Projects/conin/conin/mediation_variables/apt_helper.py'>"
      ]
     },
     "execution_count": 575,
     "metadata": {},
     "output_type": "execute_result"
    }
   ],
   "source": [
    "importlib.reload(ahlp)"
   ]
  },
  {
   "cell_type": "code",
   "execution_count": 576,
   "id": "5b7a1141-9dd1-4d39-b2c1-43d2cdf6c366",
   "metadata": {},
   "outputs": [],
   "source": [
    "apt_truth, combined_emits = ahlp.combined_simulation(apt_hmm, user_list, cst_list)\n",
    "apt_truth_states, apt_truth_emits = apt_truth"
   ]
  },
  {
   "cell_type": "code",
   "execution_count": 577,
   "id": "adf18f93-6cd0-4caa-bb77-e3c9dfae4259",
   "metadata": {},
   "outputs": [],
   "source": [
    "opt_state_list, _, val, ix_tracker = ahlp.Viterbi_torch_list(tier_apt, dummy_cst_list, apt_truth_emits, dummy_sat, time_hom = True, dtype = torch.float32, device = 'cuda:0', debug=True)"
   ]
  },
  {
   "cell_type": "code",
   "execution_count": 578,
   "id": "2281ac80-c64b-4f31-9958-b08396d5f9b1",
   "metadata": {},
   "outputs": [],
   "source": [
    "# for t in range(val.shape[0]):\n",
    "#     print(val[t].max())"
   ]
  },
  {
   "cell_type": "code",
   "execution_count": 579,
   "id": "39214a45-a882-438e-9222-063461fa8d53",
   "metadata": {},
   "outputs": [
    {
     "data": {
      "text/plain": [
       "[('PRE', None),\n",
       " ('PRE', None),\n",
       " ('IA', ('S', 'postfix/local')),\n",
       " ('WAIT_IA', None),\n",
       " ('WAIT_IA', None),\n",
       " ('WAIT_IA', None),\n",
       " ('EX', ('HE', 'img/post')),\n",
       " ('WAIT_EX', None),\n",
       " ('WAIT_EX', None),\n",
       " ('EX', ('HE', 'img/post')),\n",
       " ('WAIT_EX', None),\n",
       " ('EX', ('HE', 'img/post')),\n",
       " ('EX', ('HI', 'img/post')),\n",
       " ('WAIT_EX', None),\n",
       " ('WAIT_EX', None),\n",
       " ('WAIT_EX', None),\n",
       " ('WAIT_EX', None),\n",
       " ('WAIT_EX', None),\n",
       " ('WAIT_EX', None),\n",
       " ('WAIT_EX', None)]"
      ]
     },
     "execution_count": 579,
     "metadata": {},
     "output_type": "execute_result"
    }
   ],
   "source": [
    "opt_state_list[:20]"
   ]
  },
  {
   "cell_type": "code",
   "execution_count": 580,
   "id": "6cef16b6-cd7b-46be-aa49-45068b829e7f",
   "metadata": {},
   "outputs": [],
   "source": [
    "opt_state_list = mv.mv_Viterbi(apt_truth_emits, tier_apt)"
   ]
  },
  {
   "cell_type": "code",
   "execution_count": 581,
   "id": "979bc675-a08e-4cd4-a9b5-840235bdce59",
   "metadata": {},
   "outputs": [
    {
     "data": {
      "text/plain": [
       "[('PRE', None),\n",
       " ('PRE', None),\n",
       " ('IA', ('S', 'postfix/local')),\n",
       " ('WAIT_IA', None),\n",
       " ('WAIT_IA', None),\n",
       " ('WAIT_IA', None),\n",
       " ('EX', ('HE', 'img/post')),\n",
       " ('WAIT_EX', None),\n",
       " ('WAIT_EX', None),\n",
       " ('EX', ('HE', 'img/post'))]"
      ]
     },
     "execution_count": 581,
     "metadata": {},
     "output_type": "execute_result"
    }
   ],
   "source": [
    "opt_state_list[:10]"
   ]
  },
  {
   "cell_type": "code",
   "execution_count": 390,
   "id": "e24ec046-770b-4c3b-864f-8999470ba7a6",
   "metadata": {},
   "outputs": [],
   "source": [
    "pure_hidden, pure_emission = ahlp.simulation_apt(apt_hmm, ix_list = None, emit_inhom = False)"
   ]
  },
  {
   "cell_type": "code",
   "execution_count": 391,
   "id": "1a84c9dc-73a2-4d13-94fe-a62ff34ae345",
   "metadata": {},
   "outputs": [],
   "source": [
    "opt_state_list, opt_augstateix_list = ahlp.Viterbi_torch_list(tier_apt, cst_list, pure_emission, sat, time_hom = True, dtype = torch.float16, device = 'cuda:0')"
   ]
  },
  {
   "cell_type": "code",
   "execution_count": 392,
   "id": "411e732c-8bb4-41f8-82ee-624d0d8e4e84",
   "metadata": {},
   "outputs": [
    {
     "data": {
      "text/plain": [
       "[('PRE', None),\n",
       " ('PRE', None),\n",
       " ('PRE', None),\n",
       " ('PRE', None),\n",
       " ('IA', ('S', 'postfix/local')),\n",
       " ('WAIT_IA', None),\n",
       " ('WAIT_IA', None),\n",
       " ('WAIT_IA', None),\n",
       " ('WAIT_IA', None),\n",
       " ('WAIT_IA', None)]"
      ]
     },
     "execution_count": 392,
     "metadata": {},
     "output_type": "execute_result"
    }
   ],
   "source": [
    "opt_state_list[:10]"
   ]
  },
  {
   "cell_type": "code",
   "execution_count": 359,
   "id": "d35aaa73-11b9-4915-89dd-79d2bbe0c74d",
   "metadata": {},
   "outputs": [],
   "source": [
    "noisy_apt = ahlp.create_noisy_apt(tier_apt, 1/3)"
   ]
  },
  {
   "cell_type": "code",
   "execution_count": 305,
   "id": "82a06038-475c-4b85-b500-039791c67737",
   "metadata": {},
   "outputs": [],
   "source": [
    "opt_state_list, opt_augstateix_list = ahlp.Viterbi_torch_list(apt_hmm, dummy_cst_list, combined_emits, dummy_sat, time_hom = True, dtype = torch.float16, device = 'cuda:0')"
   ]
  },
  {
   "cell_type": "code",
   "execution_count": 310,
   "id": "c9cbdf3f-0062-418e-9995-7f729fb9a75b",
   "metadata": {},
   "outputs": [
    {
     "data": {
      "text/plain": [
       "<module 'apt_helper' from '/home/fyqiu/Projects/conin/conin/mediation_variables/apt_helper.py'>"
      ]
     },
     "execution_count": 310,
     "metadata": {},
     "output_type": "execute_result"
    }
   ],
   "source": [
    "importlib.reload(ahlp)"
   ]
  },
  {
   "cell_type": "code",
   "execution_count": 313,
   "id": "4db9dbe5-bd1e-4cc8-bd86-55b95a822589",
   "metadata": {},
   "outputs": [],
   "source": [
    "hmm_params, cst_params = ahlp.convertTensor_list(noisy_apt, dummy_cst_list, dummy_sat, dtype = torch.float16, device = 'cpu', return_ix = False)"
   ]
  },
  {
   "cell_type": "code",
   "execution_count": 324,
   "id": "0df643b5-e91a-41f9-bc35-58bd25c256df",
   "metadata": {},
   "outputs": [
    {
     "data": {
      "text/plain": [
       "[0, 1, 2, 3]"
      ]
     },
     "execution_count": 324,
     "metadata": {},
     "output_type": "execute_result"
    }
   ],
   "source": [
    "cst_params[3][1]#.shape"
   ]
  },
  {
   "cell_type": "code",
   "execution_count": 343,
   "id": "61ee1457-9eca-4826-b020-7258621ed956",
   "metadata": {},
   "outputs": [
    {
     "data": {
      "text/plain": [
       "<module 'apt_helper' from '/home/fyqiu/Projects/conin/conin/mediation_variables/apt_helper.py'>"
      ]
     },
     "execution_count": 343,
     "metadata": {},
     "output_type": "execute_result"
    }
   ],
   "source": [
    "importlib.reload(ahlp)"
   ]
  },
  {
   "cell_type": "code",
   "execution_count": 339,
   "id": "8d5480d2-88fd-497c-b760-3e0b960482d4",
   "metadata": {},
   "outputs": [],
   "source": [
    "obs = pure_emission\n",
    "hmm = tier_apt\n",
    "time_hom = True\n",
    "device = 'cuda:0'\n",
    "dtype = torch.float32"
   ]
  },
  {
   "cell_type": "code",
   "execution_count": 340,
   "id": "577312a2-6930-4c43-8b16-693489b976c7",
   "metadata": {},
   "outputs": [],
   "source": [
    "    emit_weights = ahlp.compute_emitweights(obs, hmm, time_hom)\n",
    "    emit_weights = torch.from_numpy(emit_weights).type(torch.float16).to(device)\n",
    "\n",
    "    #Generate hmm,cst params:\n",
    "    hmm_params, cst_params_list, state_ix = ahlp.convertTensor_list(hmm,cst_list, sat, dtype = dtype, \\\n",
    "                                                               device = device, return_ix = True)   \n",
    "    tmat, init_prob = hmm_params\n",
    "    dims_list, init_ind_list,final_ind_list,ind_list = cst_params_list\n",
    "\n",
    "    \n",
    "    #Viterbi\n",
    "    T = emit_weights.shape[0]\n",
    "    K = tmat.shape[0]\n",
    "    C = len(dims_list)\n",
    "    \n",
    "    val = torch.empty((T,K) + tuple(dims_list), device = 'cpu')\n",
    "    ix_tracker = torch.empty((T,K) + tuple(dims_list), device = 'cpu') #will store flattened indices\n",
    "    \n",
    "    kr_indices = list(range(C+1))\n",
    "    kr_shape = (K,) + tuple(dims_list)\n",
    "    js_indices = [k + C + 1 for k in kr_indices]\n"
   ]
  },
  {
   "cell_type": "code",
   "execution_count": 341,
   "id": "bc013dc7-9691-42a1-afcb-ae944d182fa1",
   "metadata": {},
   "outputs": [],
   "source": [
    "    V = torch.einsum(emit_weights[0], [0], init_prob, [0], *init_ind_list, kr_indices)\n",
    "    V = V/V.max() #normalize for numerical stability\n",
    "    val[0] = V.cpu()\n",
    "    for t in range(1,T):\n",
    "        # V = torch.einsum('js,jk,krjs -> krjs',val[t-1],tmat,ind)\n",
    "        V = torch.einsum(val[t-1].to(device), js_indices, tmat, [C+1,0], *ind_list, list(range(2*C + 2)))\n",
    "        V = V.reshape(tuple(kr_shape) + (-1,))\n",
    "        # V = V/V.max()\n",
    "        max_ix = torch.argmax(V, axis = -1, keepdims = True)\n",
    "        ix_tracker[t-1] = max_ix.squeeze()\n",
    "        V = torch.take_along_dim(V, max_ix, axis=-1).squeeze()\n",
    "        if t == T:\n",
    "            # val[t] = torch.einsum('k,kr,kr -> kr',emit_weights[t],final_ind,V)\n",
    "            val[t] = torch.einsum(emit_weights[t],[0], V, kr_indices,*final_ind_list, kr_indices).cpu()\n",
    "        else:\n",
    "            # val[t] = torch.einsum('k,kr -> kr', emit_weights[t],V)\n",
    "            val[t] = torch.einsum(emit_weights[t],[0], V, kr_indices, kr_indices).cpu()\n",
    "        \n",
    "    state_ix = {v:k for k,v in state_ix.items()}\n",
    "    #Backward pass\n",
    "    opt_augstateix_list = []\n",
    "    max_ix = int(torch.argmax(val[T-1]).item())\n",
    "    unravel_max_ix = np.unravel_index(max_ix, kr_shape)\n",
    "    opt_augstateix_list =  [np.array(unravel_max_ix).tolist()] + opt_augstateix_list\n",
    "    \n",
    "    ix_tracker = ix_tracker.reshape(T,-1) #flatten again for easier indexing    \n",
    "    \n",
    "    for t in range(T-1):\n",
    "        max_ix =  int(ix_tracker[T-2-t,max_ix].item())\n",
    "        unravel_max_ix = np.unravel_index(max_ix, kr_shape)\n",
    "        opt_augstateix_list =  [np.array(unravel_max_ix).tolist()] + opt_augstateix_list\n",
    "\n",
    "    opt_state_list = [state_ix[k[0]] for k in opt_augstateix_list]\n"
   ]
  },
  {
   "cell_type": "code",
   "execution_count": 342,
   "id": "57c8ecbc-8ee1-4a24-a57b-e145130ae99c",
   "metadata": {},
   "outputs": [
    {
     "data": {
      "text/plain": [
       "[('PRE', None),\n",
       " ('PRE', None),\n",
       " ('IA', ('S', 'postfix/local')),\n",
       " ('WAIT_IA', None),\n",
       " ('EX', ('HE', 'img/post')),\n",
       " ('WAIT_EX', None),\n",
       " ('WAIT_EX', None),\n",
       " ('WAIT_EX', None),\n",
       " ('WAIT_EX', None),\n",
       " ('EX', ('S', 'postfix/local')),\n",
       " ('EX', ('HE', 'img/post')),\n",
       " ('WAIT_EX', None),\n",
       " ('WAIT_EX', None),\n",
       " ('WAIT_EX', None),\n",
       " ('WAIT_EX', None),\n",
       " ('WAIT_EX', None),\n",
       " ('WAIT_EX', None),\n",
       " ('WAIT_EX', None),\n",
       " ('WAIT_EX', None),\n",
       " ('WAIT_EX', None),\n",
       " ('WAIT_EX', None),\n",
       " ('WAIT_EX', None),\n",
       " ('CA', ('HI', 'usr/query')),\n",
       " ('WAIT_CA', None),\n",
       " ('WAIT_CA', None),\n",
       " ('WAIT_CA', None),\n",
       " ('DI', ('DS', 'syslog/ls')),\n",
       " ('WAIT_DI', None),\n",
       " ('WAIT_DI', None),\n",
       " ('WAIT_DI', None),\n",
       " ('CA', ('HI', 'usr/query')),\n",
       " ('WAIT_CA', None),\n",
       " ('WAIT_CA', None),\n",
       " ('EX', ('DS', 'syslog/nano')),\n",
       " ('WAIT_EX', None),\n",
       " ('WAIT_EX', None),\n",
       " ('WAIT_EX', None),\n",
       " ('WAIT_EX', None),\n",
       " ('CA', ('HI', 'usr/query')),\n",
       " ('WAIT_CA', None),\n",
       " ('WAIT_CA', None),\n",
       " ('WAIT_CA', None),\n",
       " ('WAIT_CA', None),\n",
       " ('WAIT_CA', None),\n",
       " ('WAIT_CA', None),\n",
       " ('WAIT_CA', None),\n",
       " ('WAIT_CA', None),\n",
       " ('WAIT_CA', None),\n",
       " ('WAIT_CA', None),\n",
       " ('DI', ('HI', 'usr/query')),\n",
       " ('WAIT_DI', None),\n",
       " ('WAIT_DI', None),\n",
       " ('EX', ('HE', 'img/post')),\n",
       " ('WAIT_EX', None),\n",
       " ('WAIT_EX', None),\n",
       " ('WAIT_EX', None),\n",
       " ('WAIT_EX', None),\n",
       " ('WAIT_EX', None),\n",
       " ('WAIT_EX', None),\n",
       " ('WAIT_EX', None),\n",
       " ('WAIT_EX', None),\n",
       " ('WAIT_EX', None),\n",
       " ('WAIT_EX', None),\n",
       " ('EX', ('HE', 'img/post')),\n",
       " ('WAIT_EX', None),\n",
       " ('WAIT_EX', None),\n",
       " ('EX', ('HE', 'img/post')),\n",
       " ('WAIT_EX', None),\n",
       " ('WAIT_EX', None),\n",
       " ('EX', ('DS', 'syslog/nano')),\n",
       " ('WAIT_EX', None),\n",
       " ('WAIT_EX', None),\n",
       " ('WAIT_EX', None),\n",
       " ('WAIT_EX', None),\n",
       " ('EX', ('HE', 'img/post')),\n",
       " ('WAIT_EX', None),\n",
       " ('WAIT_EX', None),\n",
       " ('WAIT_EX', None),\n",
       " ('WAIT_EX', None),\n",
       " ('WAIT_EX', None),\n",
       " ('WAIT_EX', None),\n",
       " ('WAIT_EX', None),\n",
       " ('EX', ('HI', 'img/post')),\n",
       " ('WAIT_EX', None),\n",
       " ('WAIT_EX', None),\n",
       " ('WAIT_EX', None),\n",
       " ('WAIT_EX', None),\n",
       " ('WAIT_EX', None),\n",
       " ('WAIT_EX', None),\n",
       " ('EX', ('HE', 'img/post')),\n",
       " ('EX', ('HE', 'img/post')),\n",
       " ('WAIT_EX', None),\n",
       " ('WAIT_EX', None),\n",
       " ('WAIT_EX', None),\n",
       " ('WAIT_EX', None),\n",
       " ('WAIT_EX', None),\n",
       " ('WAIT_EX', None),\n",
       " ('WAIT_EX', None),\n",
       " ('WAIT_EX', None),\n",
       " ('WAIT_EX', None),\n",
       " ('WAIT_EX', None),\n",
       " ('EX', ('HE', 'img/post')),\n",
       " ('WAIT_EX', None),\n",
       " ('WAIT_EX', None),\n",
       " ('WAIT_EX', None),\n",
       " ('WAIT_EX', None),\n",
       " ('WAIT_EX', None),\n",
       " ('WAIT_EX', None),\n",
       " ('WAIT_EX', None),\n",
       " ('WAIT_EX', None),\n",
       " ('WAIT_EX', None),\n",
       " ('WAIT_EX', None),\n",
       " ('WAIT_EX', None),\n",
       " ('DI', ('HE', 'img/query')),\n",
       " ('WAIT_DI', None),\n",
       " ('WAIT_DI', None),\n",
       " ('WAIT_DI', None),\n",
       " ('WAIT_DI', None),\n",
       " ('WAIT_DI', None),\n",
       " ('WAIT_DI', None),\n",
       " ('WAIT_DI', None),\n",
       " ('WAIT_DI', None),\n",
       " ('WAIT_DI', None),\n",
       " ('WAIT_DI', None),\n",
       " ('WAIT_DI', None),\n",
       " ('WAIT_DI', None),\n",
       " ('WAIT_DI', None),\n",
       " ('WAIT_DI', None),\n",
       " ('WAIT_DI', None),\n",
       " ('WAIT_DI', None),\n",
       " ('WAIT_DI', None),\n",
       " ('WAIT_DI', None),\n",
       " ('WAIT_DI', None),\n",
       " ('WAIT_DI', None),\n",
       " ('WAIT_DI', None),\n",
       " ('WAIT_DI', None),\n",
       " ('WAIT_DI', None),\n",
       " ('WAIT_DI', None),\n",
       " ('WAIT_DI', None)]"
      ]
     },
     "execution_count": 342,
     "metadata": {},
     "output_type": "execute_result"
    }
   ],
   "source": [
    "opt_state_list"
   ]
  },
  {
   "cell_type": "code",
   "execution_count": 83,
   "id": "77fc540f-dd2e-4295-93d7-462e9e75a009",
   "metadata": {},
   "outputs": [],
   "source": [
    "t= 1\n",
    "V = torch.einsum(val[t-1].to(device), js_indices, tmat, [C+1,0], *ind_list, list(range(2*C + 2)))\n",
    "V = V.reshape(kr_shape + (-1,))\n",
    "max_ix = torch.argmax(V, axis = -1, keepdims = True)\n",
    "ix_tracker[t-1] = max_ix.squeeze()\n",
    "V_reduce = torch.take_along_dim(V, max_ix, axis=-1).squeeze()\n"
   ]
  },
  {
   "cell_type": "code",
   "execution_count": 187,
   "id": "5eeff0ac-bba1-4205-a620-a983f41cc775",
   "metadata": {},
   "outputs": [],
   "source": [
    "t = 1\n",
    "V2 = torch.einsum('js,jk,krjs -> krjs',val[t-1].to(device),tmat, ind_list[0])"
   ]
  },
  {
   "cell_type": "code",
   "execution_count": 190,
   "id": "ee7154b5-d63c-404e-a451-8fc6ce1c2371",
   "metadata": {},
   "outputs": [
    {
     "data": {
      "text/plain": [
       "[0, 1, 2, 3]"
      ]
     },
     "execution_count": 190,
     "metadata": {},
     "output_type": "execute_result"
    }
   ],
   "source": [
    "ind_list[1]"
   ]
  },
  {
   "cell_type": "code",
   "execution_count": 195,
   "id": "aae9d3a5-42b8-42ce-9411-abbe7133b438",
   "metadata": {},
   "outputs": [
    {
     "data": {
      "text/plain": [
       "(14, 2)"
      ]
     },
     "execution_count": 195,
     "metadata": {},
     "output_type": "execute_result"
    }
   ],
   "source": [
    "kr_shape"
   ]
  },
  {
   "cell_type": "code",
   "execution_count": 198,
   "id": "7d6c6633-a37b-46ba-87e2-192227d35013",
   "metadata": {},
   "outputs": [
    {
     "data": {
      "text/plain": [
       "[2, 3]"
      ]
     },
     "execution_count": 198,
     "metadata": {},
     "output_type": "execute_result"
    }
   ],
   "source": [
    "[k + C + 1 for k in kr_indices]"
   ]
  },
  {
   "cell_type": "code",
   "execution_count": null,
   "id": "669a54ff-68e5-4896-80a1-3c36dd9bfb24",
   "metadata": {},
   "outputs": [],
   "source": [
    "def convertTensor_list(hmm, cst_list, sat, dtype = torch.float16, device = 'cpu'):\n",
    "    '''\n",
    "    cst_list is a list of the individual csts.\n",
    "    '''\n",
    "    #Initialize and convert all quantities  to np.arrays\n",
    "    K = len(hmm.states)\n",
    "    assert len(cst_list) == len(sat)\n",
    "    \n",
    "    state_ix = {s: i for i, s in enumerate(hmm.states)}\n",
    "\n",
    "    #Compute the hmm parameters\n",
    "    tmat = torch.zeros((K,K), dtype=dtype ).to(device)\n",
    "    init_prob = torch.zeros(K, dtype=dtype ).to(device)\n",
    "\n",
    "    for i in hmm.states:\n",
    "        init_prob[state_ix[i]] = hmm.initprob[i]\n",
    "        for j in hmm.states:\n",
    "            tmat[state_ix[i],state_ix[j]] = hmm.tprob[i,j]\n",
    "\n",
    "    hmm_params = [tmat, init_prob]\n",
    "    \n",
    "    #Compute the cst parameters \n",
    "    init_ind_list = []\n",
    "    final_ind_list = []\n",
    "    ind_list = []\n",
    "    dims_list = []\n",
    "    cst_dict = {cst.name,i for i,cst in cst_list}\n",
    "    C = len(cst_list)\n",
    "    cst_ix = 0\n",
    "    for cst in cst_list:\n",
    "        \n",
    "        aux_space = list(itertools.product([True, False], repeat=cst.aux_size))\n",
    "        aux_ix = {s: i for i, s in enumerate(aux_space)}\n",
    "        M = len(aux_space)\n",
    "        ind = torch.zeros((K,M,K,M),dtype=dtype ).to(device)\n",
    "        init_ind = torch.zeros((K,M),dtype=dtype ).to(device)\n",
    "        final_ind = torch.zeros((K,M),dtype=dtype ).to(device)\n",
    "    \n",
    "        for r in aux_space:\n",
    "            for k in hmm.states:\n",
    "                final_ind[state_ix[k], aux_ix[r]] = cst.cst_fun(k,r,sat)\n",
    "                init_ind[state_ix[k],aux_ix[r]] = cst.init_fun(k,r)\n",
    "                for s in aux_space:\n",
    "                    for j in hmm.states:\n",
    "                        ind[state_ix[k],aux_ix[r],state_ix[j],aux_ix[s]] = cst.update_fun(k,r,j,s)\n",
    "\n",
    "        #indices are [0 = k,  (1 dim for each cst r_i = i + 1)  0 <= i <= n - 1 \n",
    "        # init_ind_list.append((init_ind,[0,cst_ix + 1]))\n",
    "        # final_ind_list.append((final_ind, [0, cst_ix + 1]))\n",
    "        # #indices are [0 = k,(1 dim for each cst r_i = i + 1), n + 1 = j, (1 dim for s_i = i+n+2)] \n",
    "        # ind_list.append((ind, [0, cst_ix + 1, C + 1, cst_ix + C + 2]))\n",
    "        # dims_list.append(M)\n",
    "\n",
    "        init_ind_list += [init_ind,[0,cst_ix + 1]]\n",
    "        final_ind_list += [final_ind, [0, cst_ix + 1]]\n",
    "        #indices are [0 = k,(1 dim for each cst r_i = i + 1), n + 1 = j, (1 dim for s_i = i+n+2)] \n",
    "        ind_list += [ind, [0, cst_ix + 1, C + 1, cst_ix + C + 2]]\n",
    "        dims_list.append(M)\n",
    "        cst_ix += 1\n",
    "                \n",
    "    cst_params = [dims_list, init_ind_list,final_ind_list,ind_list]\n",
    "    \n",
    "    return hmm_params, cst_params \n"
   ]
  },
  {
   "cell_type": "code",
   "execution_count": 200,
   "id": "2bd58d61-4bcd-461a-b919-ac6a290ef19a",
   "metadata": {},
   "outputs": [],
   "source": [
    "    for t in range(1,T):\n",
    "        # V = torch.einsum('js,jk,krjs -> krjs',val[t-1],tmat,ind)\n",
    "        V = torch.einsum(val[t-1].to(device), [k + C + 1 for k in kr_indices], tmat, [0,C+1], *ind_list, list(range(2*C + 2)))\n",
    "        V = V.reshape((K,) + tuple(dims_list) + (-1,))\n",
    "        V = V/V.max()\n",
    "        max_ix = torch.argmax(V, axis = -1, keepdims = True)\n",
    "        ix_tracker[t-1] = max_ix.squeeze()\n",
    "        V = torch.take_along_dim(V, max_ix, axis=-1).squeeze()\n",
    "        if t == T:\n",
    "            # val[t] = torch.einsum('k,kr,kr -> kr',emit_weights[t],final_ind,V)\n",
    "            val[t] = torch.einsum(emit_weights[t],[0], V, kr_indices,*final_ind_list, kr_indices).cpu()\n",
    "        else:\n",
    "            # val[t] = torch.einsum('k,kr -> kr', emit_weights[t],V)\n",
    "            val[t] = torch.einsum(emit_weights[t],[0], V, kr_indices, kr_indices).cpu()\n"
   ]
  },
  {
   "cell_type": "code",
   "execution_count": null,
   "id": "0a4c1ab3-5879-4ec3-a129-98b40ca9901e",
   "metadata": {},
   "outputs": [],
   "source": [
    "def Viterbi_torch_list(hmm, cst_list, obs, sat,  time_hom = True, dtype = torch.float16,  device = 'cpu'):\n",
    "    '''\n",
    "    \n",
    "    '''\n",
    "    hmm = copy.deepcopy(hmm) #protect again in place modification\n",
    "    #Generate emit_weights:\n",
    "    emit_weights = compute_emitweights(obs, hmm, time_hom)\n",
    "    emit_weights = torch.from_numpy(emit_weights).type(torch.float16).to(device)\n",
    "\n",
    "    #Generate hmm,cst params:\n",
    "    hmm_params, cst_params_list, state_ix = convertTensor_list(hmm,cst_list, sat, dtype = dtype, \\\n",
    "                                                               device = device, return_ix = True)   \n",
    "    tmat, init_prob = hmm_params\n",
    "    dims_list, init_ind_list,final_ind_list,ind_list = cst_params_list\n",
    "\n",
    "    \n",
    "    #Viterbi\n",
    "    T = emit_weights.shape[0]\n",
    "    K = tmat.shape[0]\n",
    "    C = len(dims_list)\n",
    "    \n",
    "    val = torch.empty((T,K) + tuple(dims_list), device = 'cpu')\n",
    "    ix_tracker = torch.empty((T,K) + tuple(dims_list), device = 'cpu') #will store flattened indices\n",
    "    \n",
    "    kr_indices = list(range(C+1))\n",
    "    kr_shape = (K,) + tuple(dims_list)\n",
    "    js_indices = [k + C + 1 for k in kr_indices]\n",
    "\n",
    "    #Forward pass\n",
    "    # V = torch.einsum('k,k,kr -> kr', init_prob, emit_weights[0], init_ind)\n",
    "    V = torch.einsum(emit_weights[0], [0], init_prob, [0], *init_ind_list, kr_indices)\n",
    "    V = V/V.max() #normalize for numerical stability\n",
    "    val[0] = V.cpu()\n",
    "    for t in range(1,T):\n",
    "        # V = torch.einsum('js,jk,krjs -> krjs',val[t-1],tmat,ind)\n",
    "        V = torch.einsum(val[t-1].to(device), js_indices, tmat, [C+1,0], *ind_list, list(range(2*C + 2)))\n",
    "        V = V.reshape(tuple(kr_shape) + (-1,))\n",
    "        # V = V/V.max()\n",
    "        max_ix = torch.argmax(V, axis = -1, keepdims = True)\n",
    "        ix_tracker[t-1] = max_ix.squeeze()\n",
    "        V = torch.take_along_dim(V, max_ix, axis=-1).squeeze()\n",
    "        if t == T:\n",
    "            # val[t] = torch.einsum('k,kr,kr -> kr',emit_weights[t],final_ind,V)\n",
    "            val[t] = torch.einsum(emit_weights[t],[0], V, kr_indices,*final_ind_list, kr_indices).cpu()\n",
    "        else:\n",
    "            # val[t] = torch.einsum('k,kr -> kr', emit_weights[t],V)\n",
    "            val[t] = torch.einsum(emit_weights[t],[0], V, kr_indices, kr_indices).cpu()\n",
    "        \n",
    "    state_ix = {v:k for k,v in state_ix.items()}\n",
    "    #Backward pass\n",
    "    opt_augstateix_list = []\n",
    "    max_ix = int(torch.argmax(val[T-1]).item())\n",
    "    unravel_max_ix = np.unravel_index(max_ix, kr_shape)\n",
    "    opt_augstateix_list =  [np.array(unravel_max_ix).tolist()] + opt_augstateix_list\n",
    "    \n",
    "    ix_tracker = ix_tracker.reshape(T,-1) #flatten again for easier indexing    \n",
    "    \n",
    "    for t in range(T-1):\n",
    "        max_ix =  int(ix_tracker[T-2-t,max_ix].item())\n",
    "        unravel_max_ix = np.unravel_index(max_ix, kr_shape)\n",
    "        opt_augstateix_list =  [np.array(unravel_max_ix).tolist()] + opt_augstateix_list\n",
    "\n",
    "    opt_state_list = [state_ix[k[0]] for k in opt_augstateix_list]\n",
    "    return opt_state_list, opt_augstateix_list\n"
   ]
  },
  {
   "cell_type": "code",
   "execution_count": null,
   "id": "2b19460a-41fa-49f5-98b2-0abee217cb62",
   "metadata": {},
   "outputs": [],
   "source": [
    "def mv_Viterbi_numpy(hmm_params, emit_weights, cst_params = None):\n",
    "    '''\n",
    "    numpy version. hmm_params, cst_params are list of numpy arrays\n",
    "    '''\n",
    "    if cst_params is None:\n",
    "        return Viterbi_numpy(hmm_params, emit_weights)\n",
    "    \n",
    "    opt_augstateix_list = []\n",
    "    \n",
    "    tmat, init_prob = hmm_params\n",
    "    init_ind,final_ind,ind = cst_params\n",
    "    \n",
    "    T = emit_weights.shape[0]\n",
    "    K, M = init_ind.shape\n",
    "\n",
    "    val = np.empty((T,K,M))\n",
    "    ix_tracker = np.empty((T,K,M)) #will store flattened indices\n",
    "\n",
    "    #Forward pass\n",
    "    V = np.einsum('k,k,kr -> kr', init_prob, emit_weights[0], init_ind)\n",
    "    val[0] = V\n",
    "    for t in range(1,T):\n",
    "        V = np.einsum('js,jk,krjs -> krjs',val[t-1],tmat,ind)\n",
    "        V = V.reshape((K,M,-1))\n",
    "        max_ix = np.argmax(V, axis = -1, keepdims = True)\n",
    "        ix_tracker[t-1] = max_ix.squeeze()\n",
    "        V = np.take_along_axis(V, max_ix, axis=-1).squeeze()\n",
    "        if t == T:\n",
    "            val[t] = np.einsum('k,kr,kr -> kr',emit_weights[t],final_ind,V)\n",
    "        else:\n",
    "            val[t] = np.einsum('k,kr -> kr', emit_weights[t],V)\n",
    "        \n",
    "\n",
    "    #Backward pass\n",
    "\n",
    "    #Initialize the last index\n",
    "    max_ix = int(np.argmax(val[T-1]).item())\n",
    "    max_k, max_r =divmod(max_ix, M)\n",
    "    opt_augstateix_list = [(max_k,max_r)] + opt_augstateix_list\n",
    "\n",
    "    ix_tracker = ix_tracker.reshape(T,-1) #flatten again for easier indexing    \n",
    "    \n",
    "    for t in range(T-1):\n",
    "        max_ix =  int(ix_tracker[T-2-t,max_ix].item())\n",
    "        max_k, max_r = divmod(max_ix, M)\n",
    "        opt_augstateix_list = [(max_k,max_r)] + opt_augstateix_list\n",
    "\n",
    "    return opt_augstateix_list\n"
   ]
  },
  {
   "cell_type": "code",
   "execution_count": 129,
   "id": "67296356-0e13-4054-b0d0-66b90562ba3d",
   "metadata": {},
   "outputs": [],
   "source": [
    "def create_noisy_apt(apt_hmm, mix_param, tol = 1e-7):\n",
    "    '''\n",
    "    Original APT: X -> Y\n",
    "\n",
    "    Tiered APT: (X,Y) -> hat{Y}\n",
    "\n",
    "    \n",
    "    '''\n",
    "    apt = copy.deepcopy(apt_hmm) #deepcopy since there's still some funkiness going on.\n",
    "    M = len(apt.emits) #number of hidden states\n",
    "    \n",
    "    #Creat noisy emissions matrix\n",
    "    eprob = defaultdict(int)\n",
    "    #For now, create a noiseless emission, where the emission of the APT is the observed emission\n",
    "    for k in apt.states:\n",
    "        for e in apt.emits:\n",
    "            eprob[k,e] = mix_param*apt.eprob[k,e] + (1- mix_param)/M \n",
    "        \n",
    "    new_apt = Munch(name = apt.name, states = apt.states, emits = apt.emits, tprob = apt.tprob, \\\n",
    "                       eprob = eprob, initprob = apt.initprob)\n",
    "    \n",
    "    if apt.mu:\n",
    "        new_apt.mu = apt.mu\n",
    "\n",
    "    return new_apt\n"
   ]
  },
  {
   "cell_type": "code",
   "execution_count": 95,
   "id": "90469a7f-46cd-4a6f-aed6-070eacff429e",
   "metadata": {},
   "outputs": [
    {
     "data": {
      "text/plain": [
       "[None,\n",
       " ('V', 'access/bob'),\n",
       " None,\n",
       " None,\n",
       " None,\n",
       " ('S', 'postfix/local'),\n",
       " ('HE', 'img/post'),\n",
       " None,\n",
       " ('DS', 'syslog/ls'),\n",
       " None]"
      ]
     },
     "execution_count": 95,
     "metadata": {},
     "output_type": "execute_result"
    }
   ],
   "source": [
    "combined_emits[:10]"
   ]
  },
  {
   "cell_type": "code",
   "execution_count": 96,
   "id": "22d550d8-4ba2-4a82-8412-ad5be289b64b",
   "metadata": {},
   "outputs": [
    {
     "data": {
      "text/plain": [
       "0"
      ]
     },
     "execution_count": 96,
     "metadata": {},
     "output_type": "execute_result"
    }
   ],
   "source": [
    "apt_hmm.initprob['CA']"
   ]
  },
  {
   "cell_type": "code",
   "execution_count": 98,
   "id": "cb9c01dc-91aa-44ac-87f1-50f9b9f8e4fe",
   "metadata": {},
   "outputs": [],
   "source": [
    "hmm = apt_hmm\n",
    "obs = combined_emits[:10]"
   ]
  },
  {
   "cell_type": "code",
   "execution_count": null,
   "id": "b311ec8f-c830-4385-b967-3bf3fb81fc2a",
   "metadata": {},
   "outputs": [],
   "source": [
    "    val = {} #initialize value dictionary\n",
    "\n",
    "    for k in hmm.states:\n",
    "            val[0,k] = hmm.initprob[k]*hmm.eprob[k,obs[0]]\n",
    "            \n",
    "    ix_tracker = {} #this is used in the backwards step to identify the optimal sequence\n",
    "    \n",
    "    #Forward: compute value function and generate index\n",
    "    for t in range(1,len(obs)):\n",
    "        for k in hmm.states:\n",
    "            max_val = -1 # set to dummy variable. will do brute-force search for max\n",
    "            argmax = None #initialize argmax for ix_tracker\n",
    "            for j in hmm.states:\n",
    "                curr_val = val[t-1,j]*hmm.tprob[j,k]\n",
    "                if curr_val > max_val:\n",
    "                    max_val = curr_val\n",
    "                    argmax = j\n",
    "                    print(j)\n",
    "            val[t,k] = max_val*hmm.eprob[k,obs[t]]\n",
    "            ix_tracker[t-1,k] = argmax\n"
   ]
  },
  {
   "cell_type": "code",
   "execution_count": 100,
   "id": "6da426af-6e90-41fe-a8c0-2bc8e7fd947b",
   "metadata": {},
   "outputs": [
    {
     "ename": "KeyError",
     "evalue": "(0, 'Pre')",
     "output_type": "error",
     "traceback": [
      "\u001b[31m---------------------------------------------------------------------------\u001b[39m",
      "\u001b[31mKeyError\u001b[39m                                  Traceback (most recent call last)",
      "\u001b[36mCell\u001b[39m\u001b[36m \u001b[39m\u001b[32mIn[100]\u001b[39m\u001b[32m, line 1\u001b[39m\n\u001b[32m----> \u001b[39m\u001b[32m1\u001b[39m \u001b[43mval\u001b[49m\u001b[43m[\u001b[49m\u001b[32;43m0\u001b[39;49m\u001b[43m,\u001b[49m\u001b[33;43m'\u001b[39;49m\u001b[33;43mPre\u001b[39;49m\u001b[33;43m'\u001b[39;49m\u001b[43m]\u001b[49m\n",
      "\u001b[31mKeyError\u001b[39m: (0, 'Pre')"
     ]
    }
   ],
   "source": [
    "val[0,'Pre']"
   ]
  },
  {
   "cell_type": "code",
   "execution_count": null,
   "id": "9e5f2261-56bc-47d2-b4d1-d82c3e6d48bb",
   "metadata": {},
   "outputs": [],
   "source": [
    "    val = {} #initialize value dictionary\n",
    "\n",
    "    for k in hmm.states:\n",
    "            val[0,k] = hmm.initprob[k]*hmm.eprob[k,obs[0]]\n",
    "            \n",
    "    ix_tracker = {} #this is used in the backwards step to identify the optimal sequence\n",
    "    \n",
    "    #Forward: compute value function and generate index\n",
    "    for t in range(1,len(obs)):\n",
    "        for k in hmm.states:\n",
    "            max_val = -1 # set to dummy variable. will do brute-force search for max\n",
    "            argmax = None #initialize argmax for ix_tracker\n",
    "            for j in hmm.states:\n",
    "                curr_val = val[t-1,j]*hmm.tprob[j,k]\n",
    "                if curr_val > max_val:\n",
    "                    max_val = curr_val\n",
    "                    argmax = j\n",
    "            val[t,k] = max_val*hmm.eprob[k,obs[t]]\n",
    "            ix_tracker[t-1,k] = argmax\n",
    "    \n",
    "    #Backward: compute the values of the optimal sequence\n",
    "    max_val = -1\n",
    "    best_state = None\n",
    "    for k in hmm.states:\n",
    "        curr_val = val[len(obs) - 1,k]\n",
    "        if curr_val > max_val:\n",
    "            max_val = curr_val\n",
    "            best_state = k\n",
    "    opt_state = [best_state]\n",
    "    \n",
    "    for t in range(len(obs) -1):\n",
    "        best_state = ix_tracker[len(obs) - 2 -t,best_state]\n",
    "        opt_state = [best_state] + opt_state\n",
    "\n",
    "    return opt_state\n"
   ]
  },
  {
   "cell_type": "code",
   "execution_count": null,
   "id": "54b59b64-8fd1-4a3a-b04e-f3794d562dee",
   "metadata": {},
   "outputs": [],
   "source": [
    "apt_hmm_mix.eprob"
   ]
  },
  {
   "cell_type": "code",
   "execution_count": 81,
   "id": "99e21399-0022-4118-864f-0faf73de32e9",
   "metadata": {},
   "outputs": [
    {
     "data": {
      "text/plain": [
       "['PRE',\n",
       " 'PRE',\n",
       " 'PRE',\n",
       " 'PRE',\n",
       " 'PRE',\n",
       " 'IA',\n",
       " 'EX',\n",
       " 'WAIT_EX',\n",
       " 'DI',\n",
       " 'WAIT_DI',\n",
       " 'WAIT_DI',\n",
       " 'WAIT_DI',\n",
       " 'WAIT_DI',\n",
       " 'WAIT_DI',\n",
       " 'WAIT_DI',\n",
       " 'DI',\n",
       " 'WAIT_DI',\n",
       " 'WAIT_DI',\n",
       " 'WAIT_DI',\n",
       " 'COL',\n",
       " 'WAIT_COL',\n",
       " 'WAIT_COL',\n",
       " 'WAIT_COL',\n",
       " 'WAIT_COL',\n",
       " 'WAIT_COL',\n",
       " 'WAIT_COL',\n",
       " 'WAIT_COL',\n",
       " 'WAIT_COL',\n",
       " 'WAIT_COL',\n",
       " 'WAIT_COL',\n",
       " 'WAIT_COL',\n",
       " 'WAIT_COL',\n",
       " 'WAIT_COL',\n",
       " 'WAIT_COL',\n",
       " 'COL',\n",
       " 'WAIT_COL',\n",
       " 'WAIT_COL',\n",
       " 'WAIT_COL',\n",
       " 'WAIT_COL',\n",
       " 'WAIT_COL',\n",
       " 'WAIT_COL',\n",
       " 'WAIT_COL',\n",
       " 'WAIT_COL',\n",
       " 'COL',\n",
       " 'WAIT_COL',\n",
       " 'COL',\n",
       " 'COL',\n",
       " 'WAIT_COL',\n",
       " 'WAIT_COL',\n",
       " 'WAIT_COL',\n",
       " 'WAIT_COL',\n",
       " 'WAIT_COL',\n",
       " 'WAIT_COL',\n",
       " 'WAIT_COL',\n",
       " 'WAIT_COL',\n",
       " 'WAIT_COL',\n",
       " 'WAIT_COL',\n",
       " 'WAIT_COL',\n",
       " 'WAIT_COL',\n",
       " 'WAIT_COL',\n",
       " 'COL',\n",
       " 'WAIT_COL',\n",
       " 'COL',\n",
       " 'WAIT_COL',\n",
       " 'WAIT_COL',\n",
       " 'COL',\n",
       " 'WAIT_COL',\n",
       " 'WAIT_COL',\n",
       " 'WAIT_COL',\n",
       " 'WAIT_COL',\n",
       " 'WAIT_COL',\n",
       " 'WAIT_COL',\n",
       " 'COL',\n",
       " 'WAIT_COL',\n",
       " 'WAIT_COL',\n",
       " 'WAIT_COL',\n",
       " 'WAIT_COL',\n",
       " 'WAIT_COL',\n",
       " 'WAIT_COL',\n",
       " 'WAIT_COL',\n",
       " 'WAIT_COL',\n",
       " 'WAIT_COL',\n",
       " 'EXF',\n",
       " 'WAIT_EXF',\n",
       " 'WAIT_EXF',\n",
       " 'WAIT_EXF',\n",
       " 'WAIT_EXF',\n",
       " 'WAIT_EXF',\n",
       " 'WAIT_EXF',\n",
       " 'WAIT_EXF',\n",
       " 'WAIT_EXF',\n",
       " 'WAIT_EXF',\n",
       " 'WAIT_EXF',\n",
       " 'WAIT_EXF',\n",
       " 'WAIT_EXF',\n",
       " 'WAIT_EXF',\n",
       " 'WAIT_EXF',\n",
       " 'WAIT_EXF',\n",
       " 'WAIT_EXF',\n",
       " 'WAIT_EXF',\n",
       " 'WAIT_EXF',\n",
       " 'WAIT_EXF',\n",
       " 'POST']"
      ]
     },
     "execution_count": 81,
     "metadata": {},
     "output_type": "execute_result"
    }
   ],
   "source": [
    "apt_truth[0]"
   ]
  },
  {
   "cell_type": "code",
   "execution_count": 80,
   "id": "a8cd5345-a532-4a2b-95f7-b7b467d387ff",
   "metadata": {},
   "outputs": [
    {
     "data": {
      "text/plain": [
       "[('PRE', None),\n",
       " ('IA', ('S', 'postfix/local')),\n",
       " ('EX', ('S', 'postfix/local')),\n",
       " ('DI', ('DS', 'syslog/ls')),\n",
       " ('COL', ('HE', 'img/post')),\n",
       " ('EXF', ('HE', 'img/query')),\n",
       " ('POST', None),\n",
       " ('POST', None),\n",
       " ('POST', None),\n",
       " ('POST', None),\n",
       " ('POST', None),\n",
       " ('POST', None),\n",
       " ('POST', None),\n",
       " ('POST', None),\n",
       " ('POST', None),\n",
       " ('POST', None),\n",
       " ('POST', None),\n",
       " ('POST', None),\n",
       " ('POST', None),\n",
       " ('POST', None),\n",
       " ('POST', None),\n",
       " ('POST', None),\n",
       " ('POST', None),\n",
       " ('POST', None),\n",
       " ('POST', None),\n",
       " ('POST', None),\n",
       " ('POST', None),\n",
       " ('POST', None),\n",
       " ('POST', None),\n",
       " ('POST', None),\n",
       " ('POST', None),\n",
       " ('POST', None),\n",
       " ('POST', None),\n",
       " ('POST', None),\n",
       " ('POST', None),\n",
       " ('POST', None),\n",
       " ('POST', None),\n",
       " ('POST', None),\n",
       " ('POST', None),\n",
       " ('POST', None),\n",
       " ('POST', None),\n",
       " ('POST', None),\n",
       " ('POST', None),\n",
       " ('POST', None),\n",
       " ('POST', None),\n",
       " ('POST', None),\n",
       " ('POST', None),\n",
       " ('POST', None),\n",
       " ('POST', None),\n",
       " ('POST', None),\n",
       " ('POST', None),\n",
       " ('POST', None),\n",
       " ('POST', None),\n",
       " ('POST', None),\n",
       " ('POST', None),\n",
       " ('POST', None),\n",
       " ('POST', None),\n",
       " ('POST', None),\n",
       " ('POST', None),\n",
       " ('POST', None),\n",
       " ('POST', None),\n",
       " ('POST', None),\n",
       " ('POST', None),\n",
       " ('POST', None),\n",
       " ('POST', None),\n",
       " ('POST', None),\n",
       " ('POST', None),\n",
       " ('POST', None),\n",
       " ('POST', None),\n",
       " ('POST', None),\n",
       " ('POST', None),\n",
       " ('POST', None),\n",
       " ('POST', None),\n",
       " ('POST', None),\n",
       " ('POST', None),\n",
       " ('POST', None),\n",
       " ('POST', None),\n",
       " ('POST', None),\n",
       " ('POST', None),\n",
       " ('POST', None),\n",
       " ('POST', None),\n",
       " ('POST', None),\n",
       " ('POST', None),\n",
       " ('POST', None),\n",
       " ('POST', None),\n",
       " ('POST', None),\n",
       " ('POST', None),\n",
       " ('POST', None),\n",
       " ('POST', None),\n",
       " ('POST', None),\n",
       " ('POST', None),\n",
       " ('POST', None),\n",
       " ('POST', None),\n",
       " ('POST', None),\n",
       " ('POST', None),\n",
       " ('POST', None),\n",
       " ('POST', None),\n",
       " ('POST', None),\n",
       " ('POST', None),\n",
       " ('POST', None),\n",
       " ('POST', None),\n",
       " ('POST', None),\n",
       " ('POST', None)]"
      ]
     },
     "execution_count": 80,
     "metadata": {},
     "output_type": "execute_result"
    }
   ],
   "source": [
    "opt_state"
   ]
  },
  {
   "cell_type": "code",
   "execution_count": null,
   "id": "a24fab38-3257-40a9-b308-a51c92faf4bb",
   "metadata": {},
   "outputs": [],
   "source": [
    "len(tier_apt.hmm)"
   ]
  },
  {
   "cell_type": "code",
   "execution_count": 122,
   "id": "32a81a99-e5db-4ea4-ac09-2402fc45908c",
   "metadata": {},
   "outputs": [
    {
     "name": "stdout",
     "output_type": "stream",
     "text": [
      "1\n",
      "2\n",
      "3\n"
     ]
    },
    {
     "ename": "KeyboardInterrupt",
     "evalue": "",
     "output_type": "error",
     "traceback": [
      "\u001b[31m---------------------------------------------------------------------------\u001b[39m",
      "\u001b[31mKeyboardInterrupt\u001b[39m                         Traceback (most recent call last)",
      "\u001b[36mCell\u001b[39m\u001b[36m \u001b[39m\u001b[32mIn[122]\u001b[39m\u001b[32m, line 2\u001b[39m\n\u001b[32m      1\u001b[39m sat = (\u001b[38;5;28;01mTrue\u001b[39;00m,) * \u001b[32m3\u001b[39m\n\u001b[32m----> \u001b[39m\u001b[32m2\u001b[39m opt_aug, opt_state =  \u001b[43mmv\u001b[49m\u001b[43m.\u001b[49m\u001b[43mmv_Viterbi_v2\u001b[49m\u001b[43m(\u001b[49m\u001b[43mobs\u001b[49m\u001b[43m \u001b[49m\u001b[43m=\u001b[49m\u001b[43m \u001b[49m\u001b[43mcombined_emits\u001b[49m\u001b[43m,\u001b[49m\u001b[43m \u001b[49m\u001b[43mhmm\u001b[49m\u001b[43m \u001b[49m\u001b[43m=\u001b[49m\u001b[43m \u001b[49m\u001b[43mtier_apt\u001b[49m\u001b[43m,\u001b[49m\u001b[43m \u001b[49m\u001b[43mcst\u001b[49m\u001b[43m=\u001b[49m\u001b[43m \u001b[49m\u001b[43magg_cst\u001b[49m\u001b[43m,\u001b[49m\u001b[43msat\u001b[49m\u001b[43m \u001b[49m\u001b[43m=\u001b[49m\u001b[43m \u001b[49m\u001b[43msat\u001b[49m\u001b[43m)\u001b[49m\n",
      "\u001b[36mFile \u001b[39m\u001b[32m~/Projects/conin/conin/mediation_variables/mv_Viterbi.py:139\u001b[39m, in \u001b[36mmv_Viterbi_v2\u001b[39m\u001b[34m(obs, hmm, cst, sat)\u001b[39m\n\u001b[32m    137\u001b[39m \u001b[38;5;28;01mfor\u001b[39;00m j \u001b[38;5;129;01min\u001b[39;00m hmm.states:\n\u001b[32m    138\u001b[39m     \u001b[38;5;28;01mfor\u001b[39;00m s \u001b[38;5;129;01min\u001b[39;00m aux_space:\n\u001b[32m--> \u001b[39m\u001b[32m139\u001b[39m         curr_val = val[t-\u001b[32m1\u001b[39m,j,s]*hmm.tprob[j,k]*\u001b[43mcst\u001b[49m\u001b[43m.\u001b[49m\u001b[43mupdate_fun\u001b[49m\u001b[43m(\u001b[49m\u001b[43mk\u001b[49m\u001b[43m,\u001b[49m\u001b[43mr\u001b[49m\u001b[43m,\u001b[49m\u001b[43mj\u001b[49m\u001b[43m,\u001b[49m\u001b[43ms\u001b[49m\u001b[43m)\u001b[49m\n\u001b[32m    140\u001b[39m         \u001b[38;5;28;01mif\u001b[39;00m curr_val > max_val:\n\u001b[32m    141\u001b[39m             max_val = curr_val\n",
      "\u001b[36mFile \u001b[39m\u001b[32m~/Projects/conin/conin/mediation_variables/apt_cst_aggregate.py:7\u001b[39m, in \u001b[36mcreate_updatefun.<locals>.update_fun_agg\u001b[39m\u001b[34m(k, r, k_past, r_past)\u001b[39m\n\u001b[32m      5\u001b[39m val = \u001b[32m1\u001b[39m\n\u001b[32m      6\u001b[39m \u001b[38;5;28;01mfor\u001b[39;00m cst, ix, depend \u001b[38;5;129;01min\u001b[39;00m zip_list:\n\u001b[32m----> \u001b[39m\u001b[32m7\u001b[39m     val *= cst.update_fun(k,\u001b[38;5;28;43mtuple\u001b[39;49m\u001b[43m(\u001b[49m\u001b[43mr\u001b[49m\u001b[43m[\u001b[49m\u001b[43mix\u001b[49m\u001b[43m[\u001b[49m\u001b[32;43m0\u001b[39;49m\u001b[43m]\u001b[49m\u001b[43m:\u001b[49m\u001b[43mix\u001b[49m\u001b[43m[\u001b[49m\u001b[32;43m1\u001b[39;49m\u001b[43m]\u001b[49m\u001b[43m]\u001b[49m\u001b[43m)\u001b[49m,k_past,\u001b[38;5;28mtuple\u001b[39m(r_past[ix[\u001b[32m0\u001b[39m]:ix[\u001b[32m1\u001b[39m]]))\n\u001b[32m      8\u001b[39m     \u001b[38;5;28;01mif\u001b[39;00m depend:\n\u001b[32m      9\u001b[39m         val *= \u001b[38;5;28mint\u001b[39m(r[cst_ix[depend]] \u001b[38;5;129;01mor\u001b[39;00m (\u001b[38;5;129;01mnot\u001b[39;00m r[cst_ix[cst.name]])) \u001b[38;5;66;03m#either the dependcy is satisifed or the current knowledge hasn't been attained.\u001b[39;00m\n",
      "\u001b[31mKeyboardInterrupt\u001b[39m: "
     ]
    }
   ],
   "source": [
    "sat = (True,) * 3\n",
    "opt_aug, opt_state =  mv.mv_Viterbi_v2(obs = combined_emits, hmm = tier_apt, cst= agg_cst,sat = sat)"
   ]
  },
  {
   "cell_type": "code",
   "execution_count": null,
   "id": "aabfdcf6-8c2a-4d64-b255-45018c25375e",
   "metadata": {},
   "outputs": [],
   "source": [
    "mv_Viterbi(obs, hmm, combined_cst, sat = (True,True))"
   ]
  },
  {
   "cell_type": "code",
   "execution_count": null,
   "id": "0bc1a7e5-1955-4acb-ae02-5e50309d28ae",
   "metadata": {},
   "outputs": [],
   "source": []
  }
 ],
 "metadata": {
  "kernelspec": {
   "display_name": "Python 3 (ipykernel)",
   "language": "python",
   "name": "python3"
  },
  "language_info": {
   "codemirror_mode": {
    "name": "ipython",
    "version": 3
   },
   "file_extension": ".py",
   "mimetype": "text/x-python",
   "name": "python",
   "nbconvert_exporter": "python",
   "pygments_lexer": "ipython3",
   "version": "3.12.5"
  }
 },
 "nbformat": 4,
 "nbformat_minor": 5
}
