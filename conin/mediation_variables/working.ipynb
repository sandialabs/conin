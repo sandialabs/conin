{
 "cells": [
  {
   "cell_type": "code",
   "execution_count": 1,
   "id": "c5a243af-db56-44e7-af89-1782eec95667",
   "metadata": {},
   "outputs": [],
   "source": [
    "import numpy as np\n",
    "import warnings\n",
    "from munch import Munch\n",
    "import itertools"
   ]
  },
  {
   "cell_type": "code",
   "execution_count": 2,
   "id": "9c49caa1-f703-4878-9114-fc57cb03ab53",
   "metadata": {},
   "outputs": [],
   "source": [
    "hidden_states = ['a','b','c']\n",
    "emit_states = ['A','C']\n",
    "hmm_transition = {}\n",
    "for i in hidden_states:\n",
    "    for j in hidden_states:\n",
    "        hmm_transition[i,j] = 1/3\n",
    "\n",
    "emit_mat = np.array([\n",
    "    [.8,.2],\n",
    "    [.5,.5],\n",
    "    [.2,.8]\n",
    "])\n",
    "hmm_emit = {}\n",
    "for i in range(3):\n",
    "    for j in range(2):\n",
    "        hmm_emit[hidden_states[i],emit_states[j]] = emit_mat[i,j].item()\n",
    "        \n",
    "hmm_startprob = {}\n",
    "for i in hidden_states:\n",
    "    hmm_startprob[i] = 1/3\n",
    "\n",
    "hmm = Munch(states = hidden_states, emits = emit_states, tprob = hmm_transition, eprob = hmm_emit, initprob = hmm_startprob)"
   ]
  },
  {
   "cell_type": "code",
   "execution_count": 3,
   "id": "cefac4ef-bb55-41a3-bb1d-748192162043",
   "metadata": {},
   "outputs": [],
   "source": [
    "def update_fun(r,k , r_past):\n",
    "    '''\n",
    "    m1^t = tau^t_a = a OR tau^{t-1}_a #tracks if state a has happend yet \n",
    "    m2^t = [1- (1 - tau^t_a) AND c)] AND m2^{t-1} = [tau^t_a or (1 - c)] AND m2^{t-1} #tracks if the arrival time of a is before c\n",
    "    k is the current state\n",
    "    r is the auxillary state. a 2-tuple. r = (m1,m2)\n",
    "    '''\n",
    "    m1 = (k == 'a') or r_past[0]\n",
    "    m2 = (m1 or (not k == 'c')) and r_past[1]\n",
    "\n",
    "    return int(r == (m1,m2))\n",
    "\n",
    "def init_fun(k, r):\n",
    "    '''\n",
    "    initial \"prob\" of r = (m1,m2) from k. is just indicator\n",
    "    '''\n",
    "    m1 = k == 'a'\n",
    "    m2 = not k == 'c'\n",
    "\n",
    "    return int(r == (m1,m2))\n",
    "    \n",
    "def cst_fun(r, sat):\n",
    "    '''\n",
    "    Constraint is a boolean emissions of the final auxillary state. In this case, is just m1^T: ie. tau_a >= tau_b for all time.\n",
    "    '''\n",
    "    return int(r[1] == sat) "
   ]
  },
  {
   "cell_type": "code",
   "execution_count": 4,
   "id": "182cffcc-729b-4c0d-babe-5050c249622a",
   "metadata": {},
   "outputs": [],
   "source": [
    "cst = Munch(aux_size = 2, update_fun = update_fun, init_fun = init_fun, cst_fun = cst_fun)"
   ]
  },
  {
   "cell_type": "code",
   "execution_count": 5,
   "id": "25a0b07c-79f9-4204-974b-8cdcf175bfb6",
   "metadata": {},
   "outputs": [],
   "source": [
    "def mv_Viterbi(obs, hmm, cst, sat = True):\n",
    "    '''\n",
    "    Does Viterbii with intermediate variables. In this version, the constraint is included as an binary emission at the last time. \n",
    "    This formulation allows us to easily with inference in the case where the constraint is satisfied or not.\n",
    "    \n",
    "    obs: list of observed emissions\n",
    "    hmm: Munch object containig our hmm object\n",
    "    cast: Munch object containing our constraint (cst) object\n",
    "    sat. Boolean determining whether the constraint is ture or not\n",
    "    \n",
    "    '''\n",
    "    aux_space = list(itertools.product([True, False], repeat=cst.aux_size)) #constraint.aux_size\n",
    "    val = {}\n",
    "\n",
    "    for k in hmm.states:\n",
    "        for r in aux_space:\n",
    "            val[0,k,r] = cst.init_fun(k,r)*hmm.initprob[k]*hmm.eprob[k,obs[0]]\n",
    "            \n",
    "    ix_tracker = {}\n",
    "    \n",
    "    #Forward: compute value function and generate index\n",
    "    for t in range(1,len(obs)):\n",
    "        for k in hmm.states:\n",
    "            for r in aux_space:\n",
    "                max_val = -1 # set to dummy variable. will do brute-force search for max\n",
    "                argmax = None #initialize argmax for ix_tracker\n",
    "                for j in hmm.states:\n",
    "                    for s in aux_space:\n",
    "                        curr_val = val[t-1,j,s]*hmm.tprob[j,k]*cst.update_fun(r,j,s)\n",
    "                        if curr_val > max_val:\n",
    "                            max_val = curr_val\n",
    "                            argmax = (j,s)\n",
    "                if t == (len(obs)-1): #ie. at the last time we add in the constraint\n",
    "                    val[t,k,r] = max_val*hmm.eprob[k,obs[t]]*cst.cst_fun(r,sat)\n",
    "                else:\n",
    "                    val[t,k,r] = max_val*hmm.eprob[k,obs[t]]\n",
    "                ix_tracker[t-1,k,r] = argmax\n",
    "    \n",
    "    #Backward: compute the values of the optimal sequence\n",
    "    max_val = -1\n",
    "    best_state = None\n",
    "    for k in hmm.states:\n",
    "        for r in aux_space:\n",
    "            curr_val = val[len(obs) - 1,k,r]\n",
    "            if curr_val > max_val:\n",
    "                max_val = curr_val\n",
    "                best_state = (k,r)\n",
    "    opt_augstate = [best_state]            \n",
    "    opt_state = [best_state[0]]\n",
    "    \n",
    "    for t in range(len(obs) -1):\n",
    "        best_state = ix_tracker[len(obs) - 2 -t,best_state[0], best_state[1]]\n",
    "        opt_augstate = [best_state] + opt_augstate #append at the front\n",
    "        opt_state = [best_state[0]] + opt_state\n",
    "\n",
    "    return(opt_augstate, opt_state)"
   ]
  },
  {
   "cell_type": "code",
   "execution_count": 6,
   "id": "538fb16b-9480-47f3-a9a8-3b41238063ea",
   "metadata": {},
   "outputs": [],
   "source": [
    "obs = ['C','C','A','C','A','C']"
   ]
  },
  {
   "cell_type": "code",
   "execution_count": 7,
   "id": "1c833975-3d43-4d05-954e-68683594ca69",
   "metadata": {},
   "outputs": [],
   "source": [
    "opt_aug, opt_state = mv_Viterbi(obs, hmm, cst, sat = True)"
   ]
  },
  {
   "cell_type": "code",
   "execution_count": 8,
   "id": "8bd53c06-f075-4613-9db1-eaaa54154ecf",
   "metadata": {},
   "outputs": [
    {
     "data": {
      "text/plain": [
       "['b', 'b', 'a', 'c', 'a', 'c']"
      ]
     },
     "execution_count": 8,
     "metadata": {},
     "output_type": "execute_result"
    }
   ],
   "source": [
    "opt_state"
   ]
  },
  {
   "cell_type": "code",
   "execution_count": 76,
   "id": "89542b63-171b-4274-942a-880a68241bb7",
   "metadata": {},
   "outputs": [],
   "source": [
    "obs = ['A','C','A','C']\n",
    "aux_space = list(itertools.product([True, False], repeat=2)) #constraint.aux_size\n",
    "val = {}\n",
    "for k in hmm.states:\n",
    "    for r in aux_space:\n",
    "        val[0,k,r] = cst.init_fun(k,r)*hmm.initprob[k]*hmm.eprob[k,obs[0]]\n",
    "        \n",
    "ix_tracker = {}\n",
    "\n",
    "#Forward: compute value function and generate index\n",
    "for t in range(1,len(obs)):\n",
    "    for k in hmm.states:\n",
    "        for r in aux_space:\n",
    "            max_val = -1 # set to dummy variable. will do brute-force search for max\n",
    "            argmax = None #initialize argmax for ix_tracker\n",
    "            for j in hmm.states:\n",
    "                for s in aux_space:\n",
    "                    curr_val = val[t-1,j,s]*hmm.tprob[j,k]*cst.update_fun(r,j,s)\n",
    "                    if curr_val > max_val:\n",
    "                        max_val = curr_val\n",
    "                        argmax = (j,s)\n",
    "            if t == (len(obs)-1): #ie. at the last time we add in the constraint\n",
    "                val[t,k,r] = max_val*hmm.eprob[k,obs[t]]*cst.cst_fun(r,True)\n",
    "            else:\n",
    "                val[t,k,r] = max_val*hmm.eprob[k,obs[t]]\n",
    "            ix_tracker[t-1,k,r] = argmax\n",
    "\n",
    "#Backward: compute the values of the optimal sequence\n",
    "max_val = -1\n",
    "best_state = None\n",
    "for k in hmm.states:\n",
    "    for r in aux_space:\n",
    "        curr_val = val[len(obs) - 1,k,r]\n",
    "        if curr_val > max_val:\n",
    "            max_val = curr_val\n",
    "            best_state = (k,r)\n",
    "opt_augstate = [best_state]            \n",
    "opt_state = [best_state[0]]\n",
    "\n",
    "for t in range(len(obs) -1):\n",
    "    best_state = ix_tracker[len(obs) - 2 -t,best_state[0], best_state[1]]\n",
    "    opt_augstate = [best_state] + opt_augstate #append at the front\n",
    "    opt_state = [best_state[0]] + opt_state"
   ]
  },
  {
   "cell_type": "code",
   "execution_count": 36,
   "id": "108138bf-050e-4b41-8e92-b7057de702fd",
   "metadata": {},
   "outputs": [
    {
     "data": {
      "text/plain": [
       "0.0"
      ]
     },
     "execution_count": 36,
     "metadata": {},
     "output_type": "execute_result"
    }
   ],
   "source": [
    "val[0,'a',(True,False)]"
   ]
  },
  {
   "cell_type": "code",
   "execution_count": null,
   "id": "e14417d0-7ee3-4ecf-9f38-1673653c0c2c",
   "metadata": {},
   "outputs": [],
   "source": [
    "def viterbi(obs, hmm,  cst, satisfied = True)\n",
    "    T = len(obs)\n",
    "    \n",
    "    V = {}\n",
    "    for k in hmm.states:\n",
    "        for \n",
    "    "
   ]
  }
 ],
 "metadata": {
  "kernelspec": {
   "display_name": "conin",
   "language": "python",
   "name": "conin"
  },
  "language_info": {
   "codemirror_mode": {
    "name": "ipython",
    "version": 3
   },
   "file_extension": ".py",
   "mimetype": "text/x-python",
   "name": "python",
   "nbconvert_exporter": "python",
   "pygments_lexer": "ipython3",
   "version": "3.10.15"
  }
 },
 "nbformat": 4,
 "nbformat_minor": 5
}
