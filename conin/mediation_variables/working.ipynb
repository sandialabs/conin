{
 "cells": [
  {
   "cell_type": "code",
   "execution_count": 1,
   "id": "c5a243af-db56-44e7-af89-1782eec95667",
   "metadata": {},
   "outputs": [],
   "source": [
    "import numpy as np\n",
    "import warnings\n",
    "from munch import Munch\n",
    "import itertools"
   ]
  },
  {
   "cell_type": "code",
   "execution_count": 2,
   "id": "9c49caa1-f703-4878-9114-fc57cb03ab53",
   "metadata": {},
   "outputs": [],
   "source": [
    "hidden_states = ['a','b','c']\n",
    "emit_states = ['A','C']\n",
    "hmm_transition = {}\n",
    "for i in hidden_states:\n",
    "    for j in hidden_states:\n",
    "        hmm_transition[i,j] = 1/3\n",
    "\n",
    "emit_mat = np.array([\n",
    "    [.8,.2],\n",
    "    [.5,.5],\n",
    "    [.2,.8]\n",
    "])\n",
    "hmm_emit = {}\n",
    "for i in range(3):\n",
    "    for j in range(2):\n",
    "        hmm_emit[hidden_states[i],emit_states[j]] = emit_mat[i,j].item()\n",
    "        \n",
    "hmm_startprob = {}\n",
    "for i in hidden_states:\n",
    "    hmm_startprob[i] = 1/3\n",
    "\n",
    "hmm = Munch(states = hidden_states, emits = emit_states, tprob = hmm_transition, eprob = hmm_emit, initprob = hmm_startprob)"
   ]
  },
  {
   "cell_type": "code",
   "execution_count": 3,
   "id": "25a0b07c-79f9-4204-974b-8cdcf175bfb6",
   "metadata": {},
   "outputs": [],
   "source": [
    "def mv_Viterbi(obs, hmm, cst, sat = True):\n",
    "    '''\n",
    "    Does Viterbii with intermediate variables. In this version, the constraint is included as an binary emission at the last time. \n",
    "    This formulation allows us to easily with inference in the case where the constraint is satisfied or not.\n",
    "    \n",
    "    obs: list of observed emissions\n",
    "    hmm: Munch object containig our hmm object\n",
    "    cast: Munch object containing our constraint (cst) object\n",
    "    sat. Boolean determining whether the constraint is ture or not\n",
    "    \n",
    "    '''\n",
    "    # if cst.aux_size == 1:\n",
    "    #     aux_space = list([(True),(False)])\n",
    "    # else:\n",
    "    aux_space = list(itertools.product([True, False], repeat=cst.aux_size)) #constraint.aux_size\n",
    "    val = {}\n",
    "\n",
    "    for k in hmm.states:\n",
    "        for r in aux_space:\n",
    "            val[0,k,r] = cst.init_fun(k,r)*hmm.initprob[k]*hmm.eprob[k,obs[0]]\n",
    "            \n",
    "    ix_tracker = {}\n",
    "    \n",
    "    #Forward: compute value function and generate index\n",
    "    for t in range(1,len(obs)):\n",
    "        for k in hmm.states:\n",
    "            for r in aux_space:\n",
    "                max_val = -1 # set to dummy variable. will do brute-force search for max\n",
    "                argmax = None #initialize argmax for ix_tracker\n",
    "                for j in hmm.states:\n",
    "                    for s in aux_space:\n",
    "                        curr_val = val[t-1,j,s]*hmm.tprob[j,k]*cst.update_fun(r,j,s)\n",
    "                        if curr_val > max_val:\n",
    "                            max_val = curr_val\n",
    "                            argmax = (j,s)\n",
    "                if t == (len(obs)-1): #ie. at the last time we add in the constraint\n",
    "                    val[t,k,r] = max_val*hmm.eprob[k,obs[t]]*cst.cst_fun(r,sat)\n",
    "                else:\n",
    "                    val[t,k,r] = max_val*hmm.eprob[k,obs[t]]\n",
    "                ix_tracker[t-1,k,r] = argmax\n",
    "    \n",
    "    #Backward: compute the values of the optimal sequence\n",
    "    max_val = -1\n",
    "    best_state = None\n",
    "    for k in hmm.states:\n",
    "        for r in aux_space:\n",
    "            curr_val = val[len(obs) - 1,k,r]\n",
    "            if curr_val > max_val:\n",
    "                max_val = curr_val\n",
    "                best_state = (k,r)\n",
    "    opt_augstate = [best_state]            \n",
    "    opt_state = [best_state[0]]\n",
    "    \n",
    "    for t in range(len(obs) -1):\n",
    "        best_state = ix_tracker[len(obs) - 2 -t,best_state[0], best_state[1]]\n",
    "        opt_augstate = [best_state] + opt_augstate #append at the front\n",
    "        opt_state = [best_state[0]] + opt_state\n",
    "\n",
    "    return(opt_augstate, opt_state)"
   ]
  },
  {
   "cell_type": "code",
   "execution_count": 4,
   "id": "cefac4ef-bb55-41a3-bb1d-748192162043",
   "metadata": {},
   "outputs": [],
   "source": [
    "def update_fun(r,k , r_past):\n",
    "    '''\n",
    "    m1^t = tau^t_a = a OR tau^{t-1}_a #tracks if state a has happend yet \n",
    "    m2^t = [1- (1 - tau^t_a) AND c)] AND m2^{t-1} = [tau^t_a or (1 - c)] AND m2^{t-1} #tracks if the arrival time of a is before c\n",
    "    k is the current state\n",
    "    r is the auxillary state. a 2-tuple. r = (m1,m2)\n",
    "    '''\n",
    "    m1 = (k == 'a') or r_past[0]\n",
    "    m2 = (m1 or (not k == 'c')) and r_past[1]\n",
    "\n",
    "    return int(r == (m1,m2))\n",
    "\n",
    "def init_fun(k, r):\n",
    "    '''\n",
    "    initial \"prob\" of r = (m1,m2) from k. is just indicator\n",
    "    '''\n",
    "    m1 = k == 'a'\n",
    "    m2 = not k == 'c'\n",
    "\n",
    "    return int(r == (m1,m2))\n",
    "    \n",
    "def cst_fun(r, sat):\n",
    "    '''\n",
    "    Constraint is a boolean emissions of the final auxillary state. In this case, is just m1^T: ie. tau_a >= tau_b for all time.\n",
    "    '''\n",
    "    return int(r[1] == sat) "
   ]
  },
  {
   "cell_type": "code",
   "execution_count": 18,
   "id": "182cffcc-729b-4c0d-babe-5050c249622a",
   "metadata": {},
   "outputs": [],
   "source": [
    "prec_cst = Munch(name = 'a occurs before c', aux_size = 2, update_fun = update_fun, init_fun = init_fun, cst_fun = cst_fun)\n",
    "cst = prec_cst"
   ]
  },
  {
   "cell_type": "code",
   "execution_count": 5,
   "id": "506255eb-7295-47e3-9b68-11739ab2c04f",
   "metadata": {},
   "outputs": [],
   "source": [
    "def update_fun2(r,k , r_past):\n",
    "    '''\n",
    "    m1 = = tau_b or b . tracks if b has occured\n",
    "    '''\n",
    "    m1 = (k == 'b') or r_past[0]\n",
    "\n",
    "    return int(r == (m1,))\n",
    "\n",
    "def init_fun2(k, r):\n",
    "    '''\n",
    "    initial \"prob\" of r = m1,m2 from k. is just indicator\n",
    "    '''\n",
    "    m1 = k == 'b'\n",
    "\n",
    "    return int(r == (m1,))\n",
    "    \n",
    "def cst_fun2(r, sat):\n",
    "    '''\n",
    "    Constraint is a boolean emissions of the final auxillary state. In this case\n",
    "    '''\n",
    "    \n",
    "    return int(r[0]  == sat) "
   ]
  },
  {
   "cell_type": "code",
   "execution_count": 7,
   "id": "30ee9e8c-8aab-421e-bea7-65415e474c7e",
   "metadata": {},
   "outputs": [],
   "source": [
    "occur_cst = Munch(name = 'b must occur', aux_size = 1, update_fun = update_fun2, init_fun = init_fun2, cst_fun = cst_fun2)\n",
    "cst= occur_cst"
   ]
  },
  {
   "cell_type": "code",
   "execution_count": 117,
   "id": "0fe9327c-662d-4200-b86b-6257280910fc",
   "metadata": {},
   "outputs": [],
   "source": [
    "from mv_Viterbi import mv_Viterbi"
   ]
  },
  {
   "cell_type": "code",
   "execution_count": 118,
   "id": "ba9a773b-ecd3-4aea-9771-5d27ba31fa46",
   "metadata": {},
   "outputs": [],
   "source": [
    "obs = ['A','A','C','A','A']"
   ]
  },
  {
   "cell_type": "code",
   "execution_count": 119,
   "id": "66897f42-4764-4a00-b319-b7aba2b6744c",
   "metadata": {},
   "outputs": [],
   "source": [
    "opt_aug, opt_state = mv_Viterbi(obs, hmm, occur_cst, sat = True)"
   ]
  },
  {
   "cell_type": "code",
   "execution_count": 120,
   "id": "957c7e6a-fe3d-46e9-a70c-edfa0ea48a33",
   "metadata": {},
   "outputs": [
    {
     "data": {
      "text/plain": [
       "['b', 'a', 'c', 'a', 'a']"
      ]
     },
     "execution_count": 120,
     "metadata": {},
     "output_type": "execute_result"
    }
   ],
   "source": [
    "opt_state"
   ]
  },
  {
   "cell_type": "code",
   "execution_count": 121,
   "id": "4894c09c-66b7-4106-8e14-9696a84394bb",
   "metadata": {},
   "outputs": [],
   "source": [
    "def create_updatefun(zip_list):\n",
    "    def update_fun_agg(r,k,r_past):\n",
    "        val = 1\n",
    "        for cst, ix in zip_list:\n",
    "            val *= cst.update_fun(tuple(r[ix[0]:ix[1]]),k,tuple(r_past[ix[0]:ix[1]]))\n",
    "        return val\n",
    "    return update_fun_agg\n",
    "\n",
    "def create_initfun(zip_list):\n",
    "    def init_fun_agg(k,r):\n",
    "        val = 1\n",
    "        for cst,ix in zip_list:\n",
    "            val *= cst.init_fun(k,tuple(r[ix[0]:ix[1]]))\n",
    "        return val\n",
    "    return init_fun_agg\n",
    "\n",
    "def create_cstfun(zip_list):\n",
    "    def cst_fun_agg(r,sat):\n",
    "        val = 1\n",
    "        it = 0\n",
    "        for cst,ix in zip_list:\n",
    "            val*= cst.cst_fun(tuple(r[ix[0]:ix[1]]),sat[it])\n",
    "            it += 1\n",
    "        return val\n",
    "    return cst_fun_agg"
   ]
  },
  {
   "cell_type": "code",
   "execution_count": 165,
   "id": "89542b63-171b-4274-942a-880a68241bb7",
   "metadata": {},
   "outputs": [],
   "source": [
    "def cst_aggregate(cst_list):\n",
    "    l_ix = 0\n",
    "    r_ix = 0\n",
    "    ix_list = []\n",
    "    name_list = []\n",
    "    for cst in cst_list:\n",
    "        r_ix = l_ix + cst.aux_size\n",
    "        ix_list.append((l_ix,r_ix)) #tuple of indices of the aux stats that correspond to each state\n",
    "        l_ix = r_ix\n",
    "        name_list.append(cst.name)\n",
    "    zip_list = list(zip(cst_list,ix_list))\n",
    "\n",
    "    cst_combined = Munch(name = name_list, aux_size = r_ix, update_fun = create_updatefun(zip_list), \\\n",
    "                         init_fun = create_initfun(zip_list), cst_fun = create_cstfun(zip_list))\n",
    "    return cst_combined"
   ]
  },
  {
   "cell_type": "code",
   "execution_count": 153,
   "id": "108138bf-050e-4b41-8e92-b7057de702fd",
   "metadata": {},
   "outputs": [],
   "source": [
    "cst_combined, ix_list = cst_aggregate([prec_cst, occur_cst])"
   ]
  },
  {
   "cell_type": "code",
   "execution_count": 154,
   "id": "dddee7be-8209-4105-bb1d-ca2051ab2b51",
   "metadata": {},
   "outputs": [],
   "source": [
    "obs = ['A','A','C','A','A']"
   ]
  },
  {
   "cell_type": "code",
   "execution_count": 163,
   "id": "cdcd1d52-0239-4eea-88ba-3b8639fac2af",
   "metadata": {},
   "outputs": [],
   "source": [
    "opt_aug, opt_state = mv_Viterbi(obs, hmm, cst_combined, sat = [False,False])"
   ]
  },
  {
   "cell_type": "code",
   "execution_count": 164,
   "id": "36598068-14a3-40c1-8ee0-45303a1fde79",
   "metadata": {},
   "outputs": [
    {
     "data": {
      "text/plain": [
       "['c', 'a', 'c', 'a', 'a']"
      ]
     },
     "execution_count": 164,
     "metadata": {},
     "output_type": "execute_result"
    }
   ],
   "source": [
    "opt_state"
   ]
  },
  {
   "cell_type": "code",
   "execution_count": 133,
   "id": "eb5e3bd3-c09e-4804-ad88-5a1bb48052d2",
   "metadata": {},
   "outputs": [
    {
     "data": {
      "text/plain": [
       "['a occurs before c', 'b must occur']"
      ]
     },
     "execution_count": 133,
     "metadata": {},
     "output_type": "execute_result"
    }
   ],
   "source": [
    "def mv_Viterbi(obs, hmm, cst, sat = True):\n",
    "    '''\n",
    "    Does Viterbii with intermediate variables. In this version, the constraint is included as an binary emission at the last time. \n",
    "    This formulation allows us to easily with inference in the case where the constraint is satisfied or not.\n",
    "    \n",
    "    obs: list of observed emissions\n",
    "    hmm: Munch object containig our hmm object\n",
    "    cast: Munch object containing our constraint (cst) object\n",
    "    sat. Boolean determining whether the constraint is ture or not\n",
    "    \n",
    "    '''\n",
    "    # if cst.aux_size == 1:\n",
    "    #     aux_space = list([(True),(False)])\n",
    "    # else:\n",
    "    aux_space = list(itertools.product([True, False], repeat=cst.aux_size)) #constraint.aux_size\n",
    "    val = {}\n",
    "\n",
    "    for k in hmm.states:\n",
    "        for r in aux_space:\n",
    "            val[0,k,r] = cst.init_fun(k,r)*hmm.initprob[k]*hmm.eprob[k,obs[0]]\n",
    "            \n",
    "    ix_tracker = {}\n",
    "    \n",
    "    #Forward: compute value function and generate index\n",
    "    for t in range(1,len(obs)):\n",
    "        for k in hmm.states:\n",
    "            for r in aux_space:\n",
    "                max_val = -1 # set to dummy variable. will do brute-force search for max\n",
    "                argmax = None #initialize argmax for ix_tracker\n",
    "                for j in hmm.states:\n",
    "                    for s in aux_space:\n",
    "                        curr_val = val[t-1,j,s]*hmm.tprob[j,k]*cst.update_fun(r,j,s)\n",
    "                        if curr_val > max_val:\n",
    "                            max_val = curr_val\n",
    "                            argmax = (j,s)\n",
    "                if t == (len(obs)-1): #ie. at the last time we add in the constraint\n",
    "                    val[t,k,r] = max_val*hmm.eprob[k,obs[t]]*cst.cst_fun(r,sat)\n",
    "                else:\n",
    "                    val[t,k,r] = max_val*hmm.eprob[k,obs[t]]\n",
    "                ix_tracker[t-1,k,r] = argmax\n",
    "    \n",
    "    #Backward: compute the values of the optimal sequence\n",
    "    max_val = -1\n",
    "    best_state = None\n",
    "    for k in hmm.states:\n",
    "        for r in aux_space:\n",
    "            curr_val = val[len(obs) - 1,k,r]\n",
    "            if curr_val > max_val:\n",
    "                max_val = curr_val\n",
    "                best_state = (k,r)\n",
    "    opt_augstate = [best_state]            \n",
    "    opt_state = [best_state[0]]\n",
    "    \n",
    "    for t in range(len(obs) -1):\n",
    "        best_state = ix_tracker[len(obs) - 2 -t,best_state[0], best_state[1]]\n",
    "        opt_augstate = [best_state] + opt_augstate #append at the front\n",
    "        opt_state = [best_state[0]] + opt_state\n",
    "\n",
    "    return(opt_augstate, opt_state)"
   ]
  },
  {
   "cell_type": "code",
   "execution_count": 5,
   "id": "1532f87d-d818-4cfe-a5fe-cd7828770607",
   "metadata": {},
   "outputs": [],
   "source": [
    "hmm = Munch(states = hidden_states, emits = emit_states, tprob = hmm_transition, eprob = hmm_emit, initprob = hmm_startprob)"
   ]
  },
  {
   "cell_type": "code",
   "execution_count": 6,
   "id": "5fa81761-167e-4198-b010-49a8b9af5877",
   "metadata": {},
   "outputs": [],
   "source": [
    "cst = Munch(name = 'a occurs before c', aux_size = 2, update_fun = update_fun, init_fun = init_fun, cst_fun = cst_fun)"
   ]
  },
  {
   "cell_type": "code",
   "execution_count": 53,
   "id": "c82b79e7-b0f4-4119-a355-7a79d12bfcd0",
   "metadata": {},
   "outputs": [],
   "source": [
    "obs = ['A','A','C','A','A', 'C','C']"
   ]
  },
  {
   "cell_type": "code",
   "execution_count": 54,
   "id": "8786c34a-a8a6-420d-aab2-65c2cdd15ad5",
   "metadata": {},
   "outputs": [
    {
     "data": {
      "text/plain": [
       "{'a': 0, 'b': 1, 'c': 2}"
      ]
     },
     "execution_count": 54,
     "metadata": {},
     "output_type": "execute_result"
    }
   ],
   "source": [
    "state_index"
   ]
  },
  {
   "cell_type": "code",
   "execution_count": 63,
   "id": "57d8b19e-2220-4298-988e-5081b066c8d2",
   "metadata": {},
   "outputs": [],
   "source": [
    "aux_space = list(itertools.product([True, False], repeat=cst.aux_size))\n",
    "T = len(obs)\n",
    "K = len(hmm.states)\n",
    "M = len(aux_space)\n",
    "sat = True\n",
    "\n",
    "state_ix = {s: i for i, s in enumerate(hmm.states)}\n",
    "aux_ix = {s: i for i, s in enumerate(aux_space)}\n",
    "\n",
    "tmat = np.zeros((K,K))\n",
    "initprob_vec = np.zeros(K)\n",
    "\n",
    "for i in hmm.states:\n",
    "    initprob_vec[state_ix[i]] = hmm.initprob[i]\n",
    "    for j in hmm.states:\n",
    "        tmat[state_ix[i],state_ix[j]] = hmm.tprob[i,j]\n",
    "\n",
    "ind = np.zeros((M,K,M))\n",
    "init_ind = np.zeros((M,K))\n",
    "final_ind = np.zeros(M)\n",
    "\n",
    "for r in aux_space:\n",
    "    final_ind[aux_ix[r]] = cst.cst_fun(r,sat)\n",
    "    for i in hmm.states:\n",
    "        init_ind[aux_ix[r],state_ix[i]] = cst.init_fun(i,r)\n",
    "        for s in aux_space:\n",
    "            ind[aux_ix[r],state_ix[i],aux_ix[s]] = cst.update_fun(r,i,s)\n",
    "\n",
    "emit_weights = np.zeros((T,K))\n",
    "for t in range(T):\n",
    "    emit_weights[t] = np.array([hmm.eprob[k,obs[t]] for k in hmm.states])"
   ]
  },
  {
   "cell_type": "code",
   "execution_count": 64,
   "id": "cefbc228-5379-4cb4-8507-53ab2aefc503",
   "metadata": {},
   "outputs": [],
   "source": [
    "alpha = np.empty((T,K,M))\n",
    "beta = np.empty(alpha.shape)\n",
    "\n",
    "curr_emits = np.array([hmm.eprob[k,obs[1]] for k in hmm.states])\n",
    "alpha[0] = np.einsum('i,i,ri -> ir',curr_emits, initprob_vec,init_ind)\n",
    "beta[-1] = 1"
   ]
  },
  {
   "cell_type": "code",
   "execution_count": 65,
   "id": "93f81356-d994-4caa-9463-d72fe2f7bbea",
   "metadata": {},
   "outputs": [],
   "source": [
    "#Compute the forward pass\n",
    "for t in range(1,T):\n",
    "    if t == (T-1):\n",
    "        alpha[t] = np.einsum('i,ji,ris,js,r->ir', emit_weights[t], tmat, ind, alpha[t-1], final_ind)\n",
    "    else:\n",
    "        alpha[t] = np.einsum('i,ji,ris,js->ir', emit_weights[t], tmat, ind, alpha[t-1])\n",
    "\n",
    "#Compute the backward pass\n",
    "for t in range(1,T):\n",
    "    if t == 1:\n",
    "        beta[T-1-t] = np.einsum('js,j,ij,sjr,s->ir', beta[T-t],emit_weights[T-t],tmat,ind, final_ind)\n",
    "    else:\n",
    "        beta[T-1-t] = np.einsum('js,j,ij,sjr->ir', beta[T-t],emit_weights[T-t],tmat,ind)"
   ]
  },
  {
   "cell_type": "code",
   "execution_count": 66,
   "id": "f848f808-e2c0-456b-bdde-ac80850c4209",
   "metadata": {},
   "outputs": [
    {
     "name": "stdout",
     "output_type": "stream",
     "text": [
      "0.00588634545038866\n",
      "0.00588634545038866\n",
      "0.00588634545038866\n",
      "0.005886345450388658\n",
      "0.005886345450388659\n",
      "0.005886345450388658\n",
      "0.005886345450388658\n"
     ]
    }
   ],
   "source": [
    "for t in range(T):\n",
    "    print(np.einsum('ir,ir->',alpha[t],beta[t]))"
   ]
  },
  {
   "cell_type": "code",
   "execution_count": 71,
   "id": "c469b4be-f648-414b-bbfa-7a3e159a2a3e",
   "metadata": {},
   "outputs": [
    {
     "data": {
      "text/plain": [
       "(6, 3)"
      ]
     },
     "execution_count": 71,
     "metadata": {},
     "output_type": "execute_result"
    }
   ],
   "source": [
    "emit_weights[1:].shape"
   ]
  },
  {
   "cell_type": "code",
   "execution_count": 69,
   "id": "a7a8c049-2396-4d31-aa7a-0226ed699f08",
   "metadata": {},
   "outputs": [
    {
     "data": {
      "text/plain": [
       "(6, 3, 4)"
      ]
     },
     "execution_count": 69,
     "metadata": {},
     "output_type": "execute_result"
    }
   ],
   "source": [
    "alpha[:(T-1)].shape"
   ]
  },
  {
   "cell_type": "code",
   "execution_count": 73,
   "id": "8d9d0fed-480b-4909-b959-89255ac03879",
   "metadata": {},
   "outputs": [],
   "source": [
    "prob_data  = np.einsum('ir,ir->',alpha[0],beta[0]) #doesn't matter which time index. all give same\n",
    "gamma = 1/prob_data*np.einsum('tir,tir->ti',alpha,beta)\n",
    "xi = 1/prob_data*np.einsum('tjr,tk,jk,skr,tks->tjk',alpha[:(T-1)],emit_weights[1:],tmat,ind,beta[1:])"
   ]
  },
  {
   "cell_type": "code",
   "execution_count": 77,
   "id": "68eb5ab6-03f3-4583-a425-cb2c2f88e551",
   "metadata": {},
   "outputs": [
    {
     "data": {
      "text/plain": [
       "(3, 3)"
      ]
     },
     "execution_count": 77,
     "metadata": {},
     "output_type": "execute_result"
    }
   ],
   "source": [
    "xi.sum(axis = 0).shape"
   ]
  },
  {
   "cell_type": "code",
   "execution_count": 83,
   "id": "ac0cf96e-9638-4b60-8fec-d09352f78ebe",
   "metadata": {},
   "outputs": [],
   "source": [
    "pi_opt = gamma[0]/gamma[0].sum()\n",
    "tmat_opt = xi.sum(axis = 0)/xi.sum(axis = (0,2))[:,np.newaxis]"
   ]
  },
  {
   "cell_type": "code",
   "execution_count": 89,
   "id": "b3ac1c1b-5dc8-4259-9780-80b764664cf5",
   "metadata": {},
   "outputs": [],
   "source": [
    "def compute_emitweights(obs,hmm):\n",
    "    '''\n",
    "    Separately handles the computation of the \n",
    "    '''\n",
    "    T = len(obs)\n",
    "    K = len(hmm.states)\n",
    "    #Compute emissions weights for easier access\n",
    "    emit_weights = np.zeros((T,K))\n",
    "    for t in range(T):\n",
    "        emit_weights[t] = np.array([hmm.eprob[k,obs[t]] for k in hmm.states])\n",
    "\n",
    "    return emit_weights"
   ]
  },
  {
   "cell_type": "code",
   "execution_count": 94,
   "id": "443ddb65-d624-4ee1-b121-07409bd86df6",
   "metadata": {},
   "outputs": [],
   "source": [
    "def arrayConvert(obs, hmm, cst, sat):\n",
    "    '''\n",
    "    Converts/generates relevant parameters/weights into numpy arrays for Baum-Welch.\n",
    "    By assumption, the update/emission parameters associated with the constraint are static.\n",
    "    For now, fix the emission probabilities.\n",
    "    Only the hmm paramters are being optimized.\n",
    "    '''\n",
    "    #Initialize and convert all quantities  to np.arrays\n",
    "    aux_space = list(itertools.product([True, False], repeat=cst.aux_size))\n",
    "    T = len(obs)\n",
    "    K = len(hmm.states)\n",
    "    M = len(aux_space)\n",
    "    \n",
    "    state_ix = {s: i for i, s in enumerate(hmm.states)}\n",
    "    aux_ix = {s: i for i, s in enumerate(aux_space)}\n",
    "\n",
    "    #Compute the hmm parameters\n",
    "    tmat = np.zeros((K,K))\n",
    "    init_prob = np.zeros(K)\n",
    "\n",
    "    for i in hmm.states:\n",
    "        init_prob[state_ix[i]] = hmm.initprob[i]\n",
    "        for j in hmm.states:\n",
    "            tmat[state_ix[i],state_ix[j]] = hmm.tprob[i,j]\n",
    "\n",
    "    hmm_params = [tmat, init_prob]\n",
    "    \n",
    "    #Compute the cst parameters    \n",
    "    ind = np.zeros((M,K,M))\n",
    "    init_ind = np.zeros((M,K))\n",
    "    final_ind = np.zeros(M)\n",
    "\n",
    "    for r in aux_space:\n",
    "        final_ind[aux_ix[r]] = cst.cst_fun(r,sat)\n",
    "        for i in hmm.states:\n",
    "            init_ind[aux_ix[r],state_ix[i]] = cst.init_fun(i,r)\n",
    "            for s in aux_space:\n",
    "                ind[aux_ix[r],state_ix[i],aux_ix[s]] = cst.update_fun(r,i,s)\n",
    "                \n",
    "    cst_params = [init_ind,final_ind,ind]\n",
    "    \n",
    "    return hmm_params, cst_params "
   ]
  },
  {
   "cell_type": "code",
   "execution_count": 85,
   "id": "17ff2909-ae41-4c13-a9f2-f7284b72e74c",
   "metadata": {},
   "outputs": [],
   "source": [
    "def mv_BaumWelch(hmm_params, emit_weights, cst_params):\n",
    "    '''\n",
    "    Baum-Welch algorithm that computes the moments in the M-step and returns the optimal init,tmat.\n",
    "    Optimiziation of emissions will be handled separately since it's disribution-dependent. \n",
    "    Maybe can add functionality if it needs the posterior moments.\n",
    "    \n",
    "    IN\n",
    "    hmm_params (list) = [tmat,init_prob]. list of np.arrays. note that the emit_weights need to be computed beforehand\n",
    "        tmat: (K,K) init_prob: (K) \n",
    "    \n",
    "    emit_weights. np.array of shape (T,K). the emission weights for each state. if updating emissions, need to recompute at every step too.\n",
    "    \n",
    "    cst_params (list) = [init_ind, final_ind, ind]. list of np.arrays. init/final_ind are handling first aux/final constraint emissions. ind is update.\n",
    "        init_ind: (M,K) final_ind: (K) ind:(M,K,M)\n",
    "\n",
    "    OUT\n",
    "\n",
    "    the updated tmat, init_prob\n",
    "    '''\n",
    "    #Initialize and convert all quantities  to np.arrays\n",
    "    tmat, init_prob = hmm_params\n",
    "    init_ind, final_ind, ind = cst_params\n",
    "    T = emit_weights.shape[0]\n",
    "    K = emit_weights.shape[1]\n",
    "    M = init_ind.shape[0]\n",
    "    \n",
    "    #Initialize first \n",
    "    alpha = np.empty((T,K,M))\n",
    "    beta = np.empty(alpha.shape)\n",
    "    \n",
    "    alpha[0] = np.einsum('i,i,ri -> ir',emit_weights[0], init_prob,init_ind)\n",
    "    beta[-1] = 1\n",
    "\n",
    "    #Compute the forward pass\n",
    "    for t in range(1,T):\n",
    "        if t == (T-1):\n",
    "            alpha[t] = np.einsum('i,ji,ris,js,r->ir', emit_weights[t], tmat, ind, alpha[t-1], final_ind)\n",
    "        else:\n",
    "            alpha[t] = np.einsum('i,ji,ris,js->ir', emit_weights[t], tmat, ind, alpha[t-1])\n",
    "    \n",
    "    #Compute the backward pass\n",
    "    for t in range(1,T):\n",
    "        if t == 1:\n",
    "            beta[T-1-t] = np.einsum('js,j,ij,sjr,s->ir', beta[T-t],emit_weights[T-t],tmat,ind, final_ind)\n",
    "        else:\n",
    "            beta[T-1-t] = np.einsum('js,j,ij,sjr->ir', beta[T-t],emit_weights[T-t],tmat,ind)\n",
    "    \n",
    "    #Compute P(Y,C=c), probability of observing emissions AND the constraint in the specified truth configuration \n",
    "    prob_data  = np.einsum('ir,ir->',alpha[0],beta[0]) #doesn't matter which time index. all give same\n",
    "\n",
    "    #Compute first/second moments in M step\n",
    "    gamma = 1/prob_data*np.einsum('tir,tir->ti',alpha,beta)\n",
    "    xi = 1/prob_data*np.einsum('tjr,tk,jk,skr,tks->tjk',alpha[:(T-1)],emit_weights[1:],tmat,ind,beta[1:])\n",
    "\n",
    "    #Compute the optimal estimates\n",
    "    pi_opt = gamma[0]/gamma[0].sum()\n",
    "    tmat_opt = xi.sum(axis = 0)/xi.sum(axis = (0,2))[:,np.newaxis]\n",
    "\n",
    "    return [tmat_opt,pi_opt], prob_data"
   ]
  },
  {
   "cell_type": "code",
   "execution_count": 97,
   "id": "c45ec1d5-f157-4fb4-b430-e5aad6566342",
   "metadata": {},
   "outputs": [],
   "source": [
    "def mv_EM(obs,hmm,cst,sat=True, conv_tol = 1e-10, max_iter = 1000, emit_opt = None):\n",
    "\n",
    "    #Convert everything into numpy arrays\n",
    "    old_hmm_params, old_cst_params = arrayConvert(obs, hmm, cst, sat)\n",
    "    emit_weights = compute_emitweights(obs,hmm)\n",
    "    conv  = 999\n",
    "    it = 0\n",
    "    while (conv > conv_tol) and (it <= max_iter):\n",
    "        it += 1\n",
    "        new_hmm_params, dat_prob = mv_BaumWelch(old_hmm_params, emit_weights, old_cst_params)\n",
    "        if emit_opt:\n",
    "            emit_opt(*args) #args to be passed in and defined later.\n",
    "        conv = np.linalg.norm(new_hmm_params[0] - old_hmm_params[0]) #stopping criterion based on just transition matrix\n",
    "        old_hmm_params = new_hmm_params\n",
    "        \n",
    "    return new_hmm_params"
   ]
  },
  {
   "cell_type": "code",
   "execution_count": 81,
   "id": "c511919b-c96e-4967-88ca-6d4319a3d02f",
   "metadata": {},
   "outputs": [],
   "source": [
    "def mv_BaumWelch(obs, hmm, cst, sat = True, emit_opt = None):\n",
    "    '''\n",
    "    Baum-Welch algorithm that computes the moments in the M-step and returns the optimal init,tmat.\n",
    "    If emissions also need to be optimized, then need to pass a optimizing function to emit_opt\n",
    "    '''\n",
    "    #Initialize and convert all quantities  to np.arrays\n",
    "    aux_space = list(itertools.product([True, False], repeat=cst.aux_size))\n",
    "    T = len(obs)\n",
    "    K = len(hmm.states)\n",
    "    M = len(aux_space)\n",
    "    sat = True\n",
    "    \n",
    "    state_ix = {s: i for i, s in enumerate(hmm.states)}\n",
    "    aux_ix = {s: i for i, s in enumerate(aux_space)}\n",
    "    \n",
    "    tmat = np.zeros((K,K))\n",
    "    initprob_vec = np.zeros(K)\n",
    "    \n",
    "    for i in hmm.states:\n",
    "        initprob_vec[state_ix[i]] = hmm.initprob[i]\n",
    "        for j in hmm.states:\n",
    "            tmat[state_ix[i],state_ix[j]] = hmm.tprob[i,j]\n",
    "    \n",
    "    ind = np.zeros((M,K,M))\n",
    "    init_ind = np.zeros((M,K))\n",
    "    final_ind = np.zeros(M)\n",
    "    \n",
    "    for r in aux_space:\n",
    "        final_ind[aux_ix[r]] = cst.cst_fun(r,sat)\n",
    "        for i in hmm.states:\n",
    "            init_ind[aux_ix[r],state_ix[i]] = cst.init_fun(i,r)\n",
    "            for s in aux_space:\n",
    "                ind[aux_ix[r],state_ix[i],aux_ix[s]] = cst.update_fun(r,i,s)\n",
    "\n",
    "    #Compute emissions weights for easier access\n",
    "    emit_weights = np.zeros((T,K))\n",
    "    for t in range(T):\n",
    "        emit_weights[t] = np.array([hmm.eprob[k,obs[t]] for k in hmm.states])\n",
    "\n",
    "    #Initialize first \n",
    "    alpha = np.empty((T,K,M))\n",
    "    beta = np.empty(alpha.shape)\n",
    "    \n",
    "    curr_emits = np.array([hmm.eprob[k,obs[1]] for k in hmm.states])\n",
    "    alpha[0] = np.einsum('i,i,ri -> ir',curr_emits, initprob_vec,init_ind)\n",
    "    beta[-1] = 1\n",
    "\n",
    "    #Compute the forward pass\n",
    "    for t in range(1,T):\n",
    "        if t == (T-1):\n",
    "            alpha[t] = np.einsum('i,ji,ris,js,r->ir', emit_weights[t], tmat, ind, alpha[t-1], final_ind)\n",
    "        else:\n",
    "            alpha[t] = np.einsum('i,ji,ris,js->ir', emit_weights[t], tmat, ind, alpha[t-1])\n",
    "    \n",
    "    #Compute the backward pass\n",
    "    for t in range(1,T):\n",
    "        if t == 1:\n",
    "            beta[T-1-t] = np.einsum('js,j,ij,sjr,s->ir', beta[T-t],emit_weights[T-t],tmat,ind, final_ind)\n",
    "        else:\n",
    "            beta[T-1-t] = np.einsum('js,j,ij,sjr->ir', beta[T-t],emit_weights[T-t],tmat,ind)\n",
    "    \n",
    "    #Compute P(Y,C=c), probability of observing emissions AND the constraint in the specified truth configuration \n",
    "    prob_data  = np.einsum('ir,ir->',alpha[0],beta[0]) #doesn't matter which time index. all give same\n",
    "\n",
    "    #Compute first/second moments in M step\n",
    "    gamma = 1/prob_data*np.einsum('tir,tir->ti',alpha,beta)\n",
    "    xi = 1/prob_data*np.einsum('tjr,tk,jk,skr,tks->tjk',alpha[:(T-1)],emit_weights[1:],tmat,ind,beta[1:])\n",
    "\n",
    "    #Compute the optimal estimates\n",
    "    pi_opt = gamma[0]/gamma[0].sum()\n",
    "    tmat_opt = xi.sum(axis = 0)/xi.sum(axis = (0,2))[:,np.newaxis]\n",
    "\n",
    "    return pi_opt,tmat_opt,prob_data"
   ]
  },
  {
   "cell_type": "code",
   "execution_count": null,
   "id": "69a5383b-f96b-45d9-95f7-0b27bf0424f1",
   "metadata": {},
   "outputs": [],
   "source": [
    "def baum_welch(obs, hmm, cst, sat = True):\n",
    "    '''\n",
    "    Impelemnts Baum-Welch to compute the first/second moments in the E-step\n",
    "    '''\n",
    "    alpha = np.empty((len(obs), len(hmm.states), ))"
   ]
  }
 ],
 "metadata": {
  "kernelspec": {
   "display_name": "conin",
   "language": "python",
   "name": "conin"
  },
  "language_info": {
   "codemirror_mode": {
    "name": "ipython",
    "version": 3
   },
   "file_extension": ".py",
   "mimetype": "text/x-python",
   "name": "python",
   "nbconvert_exporter": "python",
   "pygments_lexer": "ipython3",
   "version": "3.10.15"
  }
 },
 "nbformat": 4,
 "nbformat_minor": 5
}
