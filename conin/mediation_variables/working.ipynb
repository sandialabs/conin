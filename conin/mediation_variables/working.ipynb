{
 "cells": [
  {
   "cell_type": "code",
   "execution_count": 9,
   "id": "c5a243af-db56-44e7-af89-1782eec95667",
   "metadata": {},
   "outputs": [],
   "source": [
    "import numpy as np\n",
    "import warnings\n",
    "from munch import Munch\n",
    "import itertools"
   ]
  },
  {
   "cell_type": "code",
   "execution_count": 87,
   "id": "9c49caa1-f703-4878-9114-fc57cb03ab53",
   "metadata": {},
   "outputs": [],
   "source": [
    "hidden_states = ['a','b','c']\n",
    "emit_states = ['A','C']\n",
    "hmm_transition = {}\n",
    "for i in hidden_states:\n",
    "    for j in hidden_states:\n",
    "        hmm_transition[i,j] = 1/3\n",
    "\n",
    "emit_mat = np.array([\n",
    "    [.8,.2],\n",
    "    [.5,.5],\n",
    "    [.2,.8]\n",
    "])\n",
    "hmm_emit = {}\n",
    "for i in range(3):\n",
    "    for j in range(2):\n",
    "        hmm_emit[hidden_states[i],emit_states[j]] = emit_mat[i,j].item()\n",
    "        \n",
    "hmm_startprob = {}\n",
    "for i in hidden_states:\n",
    "    hmm_startprob[i] = 1/3\n",
    "\n",
    "hmm = Munch(states = hidden_states, emits = emit_states, tprob = hmm_transition, eprob = hmm_emit, initprob = hmm_startprob)"
   ]
  },
  {
   "cell_type": "code",
   "execution_count": 88,
   "id": "25a0b07c-79f9-4204-974b-8cdcf175bfb6",
   "metadata": {},
   "outputs": [],
   "source": [
    "def mv_Viterbi(obs, hmm, cst, sat = True):\n",
    "    '''\n",
    "    Does Viterbii with intermediate variables. In this version, the constraint is included as an binary emission at the last time. \n",
    "    This formulation allows us to easily with inference in the case where the constraint is satisfied or not.\n",
    "    \n",
    "    obs: list of observed emissions\n",
    "    hmm: Munch object containig our hmm object\n",
    "    cast: Munch object containing our constraint (cst) object\n",
    "    sat. Boolean determining whether the constraint is ture or not\n",
    "    \n",
    "    '''\n",
    "    # if cst.aux_size == 1:\n",
    "    #     aux_space = list([(True),(False)])\n",
    "    # else:\n",
    "    aux_space = list(itertools.product([True, False], repeat=cst.aux_size)) #constraint.aux_size\n",
    "    val = {}\n",
    "\n",
    "    for k in hmm.states:\n",
    "        for r in aux_space:\n",
    "            val[0,k,r] = cst.init_fun(k,r)*hmm.initprob[k]*hmm.eprob[k,obs[0]]\n",
    "            \n",
    "    ix_tracker = {}\n",
    "    \n",
    "    #Forward: compute value function and generate index\n",
    "    for t in range(1,len(obs)):\n",
    "        for k in hmm.states:\n",
    "            for r in aux_space:\n",
    "                max_val = -1 # set to dummy variable. will do brute-force search for max\n",
    "                argmax = None #initialize argmax for ix_tracker\n",
    "                for j in hmm.states:\n",
    "                    for s in aux_space:\n",
    "                        curr_val = val[t-1,j,s]*hmm.tprob[j,k]*cst.update_fun(r,j,s)\n",
    "                        if curr_val > max_val:\n",
    "                            max_val = curr_val\n",
    "                            argmax = (j,s)\n",
    "                if t == (len(obs)-1): #ie. at the last time we add in the constraint\n",
    "                    val[t,k,r] = max_val*hmm.eprob[k,obs[t]]*cst.cst_fun(r,sat)\n",
    "                else:\n",
    "                    val[t,k,r] = max_val*hmm.eprob[k,obs[t]]\n",
    "                ix_tracker[t-1,k,r] = argmax\n",
    "    \n",
    "    #Backward: compute the values of the optimal sequence\n",
    "    max_val = -1\n",
    "    best_state = None\n",
    "    for k in hmm.states:\n",
    "        for r in aux_space:\n",
    "            curr_val = val[len(obs) - 1,k,r]\n",
    "            if curr_val > max_val:\n",
    "                max_val = curr_val\n",
    "                best_state = (k,r)\n",
    "    opt_augstate = [best_state]            \n",
    "    opt_state = [best_state[0]]\n",
    "    \n",
    "    for t in range(len(obs) -1):\n",
    "        best_state = ix_tracker[len(obs) - 2 -t,best_state[0], best_state[1]]\n",
    "        opt_augstate = [best_state] + opt_augstate #append at the front\n",
    "        opt_state = [best_state[0]] + opt_state\n",
    "\n",
    "    return(opt_augstate, opt_state)"
   ]
  },
  {
   "cell_type": "code",
   "execution_count": 94,
   "id": "cefac4ef-bb55-41a3-bb1d-748192162043",
   "metadata": {},
   "outputs": [],
   "source": [
    "def update_fun(r,k , r_past):\n",
    "    '''\n",
    "    m1^t = tau^t_a = a OR tau^{t-1}_a #tracks if state a has happend yet \n",
    "    m2^t = [1- (1 - tau^t_a) AND c)] AND m2^{t-1} = [tau^t_a or (1 - c)] AND m2^{t-1} #tracks if the arrival time of a is before c\n",
    "    k is the current state\n",
    "    r is the auxillary state. a 2-tuple. r = (m1,m2)\n",
    "    '''\n",
    "    m1 = (k == 'a') or r_past[0]\n",
    "    m2 = (m1 or (not k == 'c')) and r_past[1]\n",
    "\n",
    "    return int(r == (m1,m2))\n",
    "\n",
    "def init_fun(k, r):\n",
    "    '''\n",
    "    initial \"prob\" of r = (m1,m2) from k. is just indicator\n",
    "    '''\n",
    "    m1 = k == 'a'\n",
    "    m2 = not k == 'c'\n",
    "\n",
    "    return int(r == (m1,m2))\n",
    "    \n",
    "def cst_fun(r, sat):\n",
    "    '''\n",
    "    Constraint is a boolean emissions of the final auxillary state. In this case, is just m1^T: ie. tau_a >= tau_b for all time.\n",
    "    '''\n",
    "    return int(r[1] == sat) "
   ]
  },
  {
   "cell_type": "code",
   "execution_count": 95,
   "id": "182cffcc-729b-4c0d-babe-5050c249622a",
   "metadata": {},
   "outputs": [],
   "source": [
    "prec_cst = Munch(name = 'a occurs before c', aux_size = 2, update_fun = update_fun, init_fun = init_fun, cst_fun = cst_fun)"
   ]
  },
  {
   "cell_type": "code",
   "execution_count": 115,
   "id": "506255eb-7295-47e3-9b68-11739ab2c04f",
   "metadata": {},
   "outputs": [],
   "source": [
    "def update_fun2(r,k , r_past):\n",
    "    '''\n",
    "    m1 = = tau_b or b . tracks if b has occured\n",
    "    '''\n",
    "    m1 = (k == 'b') or r_past[0]\n",
    "\n",
    "    return int(r == (m1,))\n",
    "\n",
    "def init_fun2(k, r):\n",
    "    '''\n",
    "    initial \"prob\" of r = m1,m2 from k. is just indicator\n",
    "    '''\n",
    "    m1 = k == 'b'\n",
    "\n",
    "    return int(r == (m1,))\n",
    "    \n",
    "def cst_fun2(r, sat):\n",
    "    '''\n",
    "    Constraint is a boolean emissions of the final auxillary state. In this case\n",
    "    '''\n",
    "    \n",
    "    return int(r[0]  == sat) "
   ]
  },
  {
   "cell_type": "code",
   "execution_count": 116,
   "id": "30ee9e8c-8aab-421e-bea7-65415e474c7e",
   "metadata": {},
   "outputs": [],
   "source": [
    "occur_cst = Munch(name = 'b must occur', aux_size = 1, update_fun = update_fun2, init_fun = init_fun2, cst_fun = cst_fun2)"
   ]
  },
  {
   "cell_type": "code",
   "execution_count": 117,
   "id": "0fe9327c-662d-4200-b86b-6257280910fc",
   "metadata": {},
   "outputs": [],
   "source": [
    "from mv_Viterbi import mv_Viterbi"
   ]
  },
  {
   "cell_type": "code",
   "execution_count": 118,
   "id": "ba9a773b-ecd3-4aea-9771-5d27ba31fa46",
   "metadata": {},
   "outputs": [],
   "source": [
    "obs = ['A','A','C','A','A']"
   ]
  },
  {
   "cell_type": "code",
   "execution_count": 119,
   "id": "66897f42-4764-4a00-b319-b7aba2b6744c",
   "metadata": {},
   "outputs": [],
   "source": [
    "opt_aug, opt_state = mv_Viterbi(obs, hmm, occur_cst, sat = True)"
   ]
  },
  {
   "cell_type": "code",
   "execution_count": 120,
   "id": "957c7e6a-fe3d-46e9-a70c-edfa0ea48a33",
   "metadata": {},
   "outputs": [
    {
     "data": {
      "text/plain": [
       "['b', 'a', 'c', 'a', 'a']"
      ]
     },
     "execution_count": 120,
     "metadata": {},
     "output_type": "execute_result"
    }
   ],
   "source": [
    "opt_state"
   ]
  },
  {
   "cell_type": "code",
   "execution_count": 121,
   "id": "4894c09c-66b7-4106-8e14-9696a84394bb",
   "metadata": {},
   "outputs": [],
   "source": [
    "def create_updatefun(zip_list):\n",
    "    def update_fun_agg(r,k,r_past):\n",
    "        val = 1\n",
    "        for cst, ix in zip_list:\n",
    "            val *= cst.update_fun(tuple(r[ix[0]:ix[1]]),k,tuple(r_past[ix[0]:ix[1]]))\n",
    "        return val\n",
    "    return update_fun_agg\n",
    "\n",
    "def create_initfun(zip_list):\n",
    "    def init_fun_agg(k,r):\n",
    "        val = 1\n",
    "        for cst,ix in zip_list:\n",
    "            val *= cst.init_fun(k,tuple(r[ix[0]:ix[1]]))\n",
    "        return val\n",
    "    return init_fun_agg\n",
    "\n",
    "def create_cstfun(zip_list):\n",
    "    def cst_fun_agg(r,sat):\n",
    "        val = 1\n",
    "        it = 0\n",
    "        for cst,ix in zip_list:\n",
    "            val*= cst.cst_fun(tuple(r[ix[0]:ix[1]]),sat[it])\n",
    "            it += 1\n",
    "        return val\n",
    "    return cst_fun_agg"
   ]
  },
  {
   "cell_type": "code",
   "execution_count": 165,
   "id": "89542b63-171b-4274-942a-880a68241bb7",
   "metadata": {},
   "outputs": [],
   "source": [
    "def cst_aggregate(cst_list):\n",
    "    l_ix = 0\n",
    "    r_ix = 0\n",
    "    ix_list = []\n",
    "    name_list = []\n",
    "    for cst in cst_list:\n",
    "        r_ix = l_ix + cst.aux_size\n",
    "        ix_list.append((l_ix,r_ix)) #tuple of indices of the aux stats that correspond to each state\n",
    "        l_ix = r_ix\n",
    "        name_list.append(cst.name)\n",
    "    zip_list = list(zip(cst_list,ix_list))\n",
    "\n",
    "    cst_combined = Munch(name = name_list, aux_size = r_ix, update_fun = create_updatefun(zip_list), \\\n",
    "                         init_fun = create_initfun(zip_list), cst_fun = create_cstfun(zip_list))\n",
    "    return cst_combined"
   ]
  },
  {
   "cell_type": "code",
   "execution_count": 153,
   "id": "108138bf-050e-4b41-8e92-b7057de702fd",
   "metadata": {},
   "outputs": [],
   "source": [
    "cst_combined, ix_list = cst_aggregate([prec_cst, occur_cst])"
   ]
  },
  {
   "cell_type": "code",
   "execution_count": 154,
   "id": "dddee7be-8209-4105-bb1d-ca2051ab2b51",
   "metadata": {},
   "outputs": [],
   "source": [
    "obs = ['A','A','C','A','A']"
   ]
  },
  {
   "cell_type": "code",
   "execution_count": 163,
   "id": "cdcd1d52-0239-4eea-88ba-3b8639fac2af",
   "metadata": {},
   "outputs": [],
   "source": [
    "opt_aug, opt_state = mv_Viterbi(obs, hmm, cst_combined, sat = [False,False])"
   ]
  },
  {
   "cell_type": "code",
   "execution_count": 164,
   "id": "36598068-14a3-40c1-8ee0-45303a1fde79",
   "metadata": {},
   "outputs": [
    {
     "data": {
      "text/plain": [
       "['c', 'a', 'c', 'a', 'a']"
      ]
     },
     "execution_count": 164,
     "metadata": {},
     "output_type": "execute_result"
    }
   ],
   "source": [
    "opt_state"
   ]
  },
  {
   "cell_type": "code",
   "execution_count": 133,
   "id": "eb5e3bd3-c09e-4804-ad88-5a1bb48052d2",
   "metadata": {},
   "outputs": [
    {
     "data": {
      "text/plain": [
       "['a occurs before c', 'b must occur']"
      ]
     },
     "execution_count": 133,
     "metadata": {},
     "output_type": "execute_result"
    }
   ],
   "source": []
  },
  {
   "cell_type": "code",
   "execution_count": null,
   "id": "69a5383b-f96b-45d9-95f7-0b27bf0424f1",
   "metadata": {},
   "outputs": [],
   "source": []
  }
 ],
 "metadata": {
  "kernelspec": {
   "display_name": "conin",
   "language": "python",
   "name": "conin"
  },
  "language_info": {
   "codemirror_mode": {
    "name": "ipython",
    "version": 3
   },
   "file_extension": ".py",
   "mimetype": "text/x-python",
   "name": "python",
   "nbconvert_exporter": "python",
   "pygments_lexer": "ipython3",
   "version": "3.10.15"
  }
 },
 "nbformat": 4,
 "nbformat_minor": 5
}
